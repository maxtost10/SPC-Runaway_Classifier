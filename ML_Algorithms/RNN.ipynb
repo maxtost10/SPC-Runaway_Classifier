{
 "cells": [
  {
   "cell_type": "code",
   "execution_count": 3,
   "metadata": {},
   "outputs": [
    {
     "data": {
      "text/plain": [
       "<torch._C.Generator at 0x22a39048870>"
      ]
     },
     "execution_count": 3,
     "metadata": {},
     "output_type": "execute_result"
    }
   ],
   "source": [
    "import torch\n",
    "import torch.nn as nn\n",
    "torch.manual_seed(0)"
   ]
  },
  {
   "cell_type": "code",
   "execution_count": 4,
   "metadata": {},
   "outputs": [
    {
     "name": "stdout",
     "output_type": "stream",
     "text": [
      "w_xh shape:  torch.Size([2, 5])\n",
      "w_hh shape:  torch.Size([2, 2])\n",
      "b_xh shape:  torch.Size([2])\n",
      "b_hh shape:  torch.Size([2])\n"
     ]
    }
   ],
   "source": [
    "rnn_layer = nn.RNN(input_size=5, hidden_size=2, num_layers=1, batch_first=True)\n",
    "w_xh = rnn_layer.weight_ih_l0\n",
    "w_hh = rnn_layer.weight_hh_l0\n",
    "b_xh = rnn_layer.bias_ih_l0\n",
    "b_hh = rnn_layer.bias_hh_l0\n",
    "print('w_xh shape: ', w_xh.shape)\n",
    "print('w_hh shape: ', w_hh.shape)\n",
    "print('b_xh shape: ', b_xh.shape)\n",
    "print('b_hh shape: ', b_hh.shape)"
   ]
  },
  {
   "cell_type": "code",
   "execution_count": 23,
   "metadata": {},
   "outputs": [
    {
     "name": "stdout",
     "output_type": "stream",
     "text": [
      "t = 0\n",
      "Input: tensor([[1., 1., 1., 1., 1.]])\n",
      "Hidden: [[-1.2921703  0.886815 ]]\n",
      "Output manual:  [[-0.76684606  0.86455226]]\n",
      "RNN output:  [[-0.76684606  0.86455226]]\n",
      "\n",
      "t = 1\n",
      "Input: tensor([[2., 2., 2., 2., 2.]])\n",
      "Hidden: [[-2.2928548  1.7474363]]\n",
      "Output manual:  [[-0.961816   0.9794913]]\n",
      "RNN output:  [[-0.961816   0.9794913]]\n",
      "\n",
      "t = 2\n",
      "Input: tensor([[3., 3., 3., 3., 3.]])\n",
      "Hidden: [[-3.2935395  2.6080575]]\n",
      "Output manual:  [[-0.9944769  0.9968337]]\n",
      "RNN output:  [[-0.9944769  0.9968337]]\n",
      "\n"
     ]
    }
   ],
   "source": [
    "x_seq = torch.tensor([[1.0]*5, [2.0]*5, [3.0]*5]).view(1, 3, 5) # (batch_size, seq_len, input_size)\n",
    "output, hn = rnn_layer(x_seq)\n",
    "## Manually computing output\n",
    "out_man = []\n",
    "\n",
    "for t in range(3):\n",
    "    x_t = x_seq[:, t, :]\n",
    "    print('t =', t)\n",
    "    print('Input:', x_t)\n",
    "\n",
    "    ht = x_t @ w_xh.T + b_xh\n",
    "    print('Hidden:', ht.detach().numpy())\n",
    "    \n",
    "    if t>0:\n",
    "        prev_h = out_man[t-1]\n",
    "    else:\n",
    "        prev_h = torch.zeros((ht.shape))\n",
    "    \n",
    "    ot = ht + prev_h @ w_hh.T + b_hh\n",
    "    ot = torch.tanh(ot)\n",
    "    out_man.append(ot)\n",
    "    print('Output manual: ', ot.detach().numpy())\n",
    "    print('RNN output: ', output[:, t].detach().numpy())\n",
    "    print()\n"
   ]
  }
 ],
 "metadata": {
  "kernelspec": {
   "display_name": "Python 3 (ipykernel)",
   "language": "python",
   "name": "python3"
  },
  "language_info": {
   "codemirror_mode": {
    "name": "ipython",
    "version": 3
   },
   "file_extension": ".py",
   "mimetype": "text/x-python",
   "name": "python",
   "nbconvert_exporter": "python",
   "pygments_lexer": "ipython3",
   "version": "3.11.5"
  }
 },
 "nbformat": 4,
 "nbformat_minor": 2
}
