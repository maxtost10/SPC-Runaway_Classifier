{
 "cells": [
  {
   "cell_type": "code",
   "execution_count": 1,
   "metadata": {},
   "outputs": [
    {
     "name": "stderr",
     "output_type": "stream",
     "text": [
      "C:\\Users\\Max Tost\\anaconda3\\Lib\\site-packages\\paramiko\\transport.py:219: CryptographyDeprecationWarning: Blowfish has been deprecated\n",
      "  \"class\": algorithms.Blowfish,\n"
     ]
    }
   ],
   "source": [
    "import paramiko\n",
    "import sys\n",
    "import os\n",
    "import pickle\n",
    "import numpy as np\n",
    "sys.path.append(r'C:\\Users\\Max Tost\\Desktop\\Notebooks\\SPC Neural Network Project')\n",
    "\n",
    "from execute_remote_scripts import *\n",
    "\n",
    "%load_ext autoreload\n",
    "%autoreload 2"
   ]
  },
  {
   "cell_type": "markdown",
   "metadata": {},
   "source": [
    "## Downloading tailored data from server"
   ]
  },
  {
   "cell_type": "code",
   "execution_count": 99,
   "metadata": {},
   "outputs": [
    {
     "name": "stdout",
     "output_type": "stream",
     "text": [
      "SFTP session established!\n",
      "Uploaded C:\\Users\\Max Tost\\Desktop\\Notebooks\\SPC Neural Network Project\\Server_Scripts/remote_processing.py to /home/tost/remote_processing.py\n",
      "Processing file: /Lac8_D/DEFUSE/DEFUSE_DB/DB_mat/JETno96374.mat\n",
      "Data saved to all_JET_data.pkl\n",
      "Processing file: /Lac8_D/DEFUSE/DEFUSE_DB/DB_mat/JETno92234.mat\n",
      "Data saved to all_JET_data.pkl\n",
      "Processing file: /Lac8_D/DEFUSE/DEFUSE_DB/DB_mat/JETno94042.mat\n",
      "Data saved to all_JET_data.pkl\n",
      "Processing file: /Lac8_D/DEFUSE/DEFUSE_DB/DB_mat/JETno96730.mat\n",
      "Data saved to all_JET_data.pkl\n",
      "Processing file: /Lac8_D/DEFUSE/DEFUSE_DB/DB_mat/JETno96832.mat\n",
      "Data saved to all_JET_data.pkl\n",
      "Processing file: /Lac8_D/DEFUSE/DEFUSE_DB/DB_mat/JETno95607.mat\n",
      "Data saved to all_JET_data.pkl\n",
      "Processing file: /Lac8_D/DEFUSE/DEFUSE_DB/DB_mat/JETno100228.mat\n",
      "Data saved to all_JET_data.pkl\n",
      "Processing file: /Lac8_D/DEFUSE/DEFUSE_DB/DB_mat/JETno84079.mat\n",
      "Could not process key Flat_top: index 0 is out of bounds for axis 0 with size 0\n",
      "Data saved to all_JET_data.pkl\n",
      "Processing file: /Lac8_D/DEFUSE/DEFUSE_DB/DB_mat/JETno101854.mat\n",
      "Data saved to all_JET_data.pkl\n",
      "Processing file: /Lac8_D/DEFUSE/DEFUSE_DB/DB_mat/JETno95033.mat\n",
      "Data saved to all_JET_data.pkl\n",
      "Processing file: /Lac8_D/DEFUSE/DEFUSE_DB/DB_mat/JETno96835.mat\n",
      "Data saved to all_JET_data.pkl\n",
      "Processing file: /Lac8_D/DEFUSE/DEFUSE_DB/DB_mat/JETno97473.h5\n",
      "Data saved to all_JET_data.pkl\n",
      "Processing file: /Lac8_D/DEFUSE/DEFUSE_DB/DB_mat/JETno94614.mat\n",
      "Data saved to all_JET_data.pkl\n",
      "Processing file: /Lac8_D/DEFUSE/DEFUSE_DB/DB_mat/JETno91103.mat\n",
      "Data saved to all_JET_data.pkl\n",
      "Processing file: /Lac8_D/DEFUSE/DEFUSE_DB/DB_mat/JETno81239.h5\n",
      "Data saved to all_JET_data.pkl\n",
      "Processing file: /Lac8_D/DEFUSE/DEFUSE_DB/DB_mat/JETno90694.mat\n",
      "Data saved to all_JET_data.pkl\n",
      "Processing file: /Lac8_D/DEFUSE/DEFUSE_DB/DB_mat/JETno83668.h5\n",
      "Data saved to all_JET_data.pkl\n",
      "Processing file: /Lac8_D/DEFUSE/DEFUSE_DB/DB_mat/JETno95365.mat\n",
      "Data saved to all_JET_data.pkl\n",
      "Processing file: /Lac8_D/DEFUSE/DEFUSE_DB/DB_mat/JETno94208.mat\n",
      "Data saved to all_JET_data.pkl\n",
      "Processing file: /Lac8_D/DEFUSE/DEFUSE_DB/DB_mat/JETno90513.mat\n",
      "Data saved to all_JET_data.pkl\n",
      "Processing file: /Lac8_D/DEFUSE/DEFUSE_DB/DB_mat/JETno96399.mat\n",
      "Data saved to all_JET_data.pkl\n",
      "Processing file: /Lac8_D/DEFUSE/DEFUSE_DB/DB_mat/JETno98401.mat\n",
      "Data saved to all_JET_data.pkl\n",
      "Processing file: /Lac8_D/DEFUSE/DEFUSE_DB/DB_mat/JETno86524.mat\n",
      "Data saved to all_JET_data.pkl\n",
      "Processing file: /Lac8_D/DEFUSE/DEFUSE_DB/DB_mat/JETno95057.mat\n",
      "Data saved to all_JET_data.pkl\n",
      "Processing file: /Lac8_D/DEFUSE/DEFUSE_DB/DB_mat/JETno92211.mat\n",
      "Data saved to all_JET_data.pkl\n",
      "Processing file: /Lac8_D/DEFUSE/DEFUSE_DB/DB_mat/JETno83037.mat\n",
      "Data saved to all_JET_data.pkl\n",
      "Processing file: /Lac8_D/DEFUSE/DEFUSE_DB/DB_mat/JETno91963.mat\n",
      "Data saved to all_JET_data.pkl\n",
      "Processing file: /Lac8_D/DEFUSE/DEFUSE_DB/DB_mat/JETno83698.h5\n",
      "Data saved to all_JET_data.pkl\n",
      "Processing file: /Lac8_D/DEFUSE/DEFUSE_DB/DB_mat/JETno81788.mat\n",
      "Data saved to all_JET_data.pkl\n",
      "Processing file: /Lac8_D/DEFUSE/DEFUSE_DB/DB_mat/JETno83639.mat\n",
      "Could not process key Flat_top: index 0 is out of bounds for axis 0 with size 0\n",
      "Data saved to all_JET_data.pkl\n",
      "Processing file: /Lac8_D/DEFUSE/DEFUSE_DB/DB_mat/JETno83313.mat\n",
      "Data saved to all_JET_data.pkl\n",
      "Processing file: /Lac8_D/DEFUSE/DEFUSE_DB/DB_mat/JETno96066.mat\n",
      "Data saved to all_JET_data.pkl\n",
      "Processing file: /Lac8_D/DEFUSE/DEFUSE_DB/DB_mat/JETno92389.mat\n",
      "Data saved to all_JET_data.pkl\n",
      "Processing file: /Lac8_D/DEFUSE/DEFUSE_DB/DB_mat/JETno94655.mat\n",
      "Data saved to all_JET_data.pkl\n",
      "Processing file: /Lac8_D/DEFUSE/DEFUSE_DB/DB_mat/JETno87812.mat\n",
      "Data saved to all_JET_data.pkl\n",
      "Processing file: /Lac8_D/DEFUSE/DEFUSE_DB/DB_mat/JETno96820.mat\n",
      "Data saved to all_JET_data.pkl\n",
      "Processing file: /Lac8_D/DEFUSE/DEFUSE_DB/DB_mat/JETno99306.mat\n",
      "Data saved to all_JET_data.pkl\n",
      "Processing file: /Lac8_D/DEFUSE/DEFUSE_DB/DB_mat/JETno86550.mat\n",
      "Data saved to all_JET_data.pkl\n",
      "Processing file: /Lac8_D/DEFUSE/DEFUSE_DB/DB_mat/JETno91677.mat\n",
      "Data saved to all_JET_data.pkl\n",
      "Processing file: /Lac8_D/DEFUSE/DEFUSE_DB/DB_mat/JETno98412.mat\n",
      "Data saved to all_JET_data.pkl\n",
      "Aggregated Pickle file created: all_JET_data.pkl\n",
      "\n",
      "/usr/lib64/python2.7/site-packages/scipy/io/matlab/mio.py:132: MatReadWarning: Duplicate variable name \"shot\" in stream - replacing previous with new\n",
      "Consider mio5.varmats_from_mat to split file into single variable files\n",
      "  matfile_dict = MR.get_variables(variable_names)\n",
      "/usr/lib64/python2.7/site-packages/scipy/io/matlab/mio.py:132: MatReadWarning: Duplicate variable name \"objDIS\" in stream - replacing previous with new\n",
      "Consider mio5.varmats_from_mat to split file into single variable files\n",
      "  matfile_dict = MR.get_variables(variable_names)\n",
      "\n",
      "Attempting to download /home/tost/all_JET_data.pkl to C:\\Users\\Max Tost\\Desktop\\Notebooks\\SPC Neural Network Project\\Server_Scripts\\all_JET_data.pkl\n",
      "File size: 317.904541 MB\n",
      "Downloaded /home/tost/all_JET_data.pkl to C:\\Users\\Max Tost\\Desktop\\Notebooks\\SPC Neural Network Project\\Server_Scripts\\all_JET_data.pkl\n",
      "SFTP session closed.\n",
      "{'JETno83037': {'SSXcore': {'signal': array([0.00099182, 0.00099182, 0.00099182, ..., 0.00083923, 0.00091553,\n",
      "       0.00053406]), 'time': array([39.4224, 39.4234, 39.4244, ..., 65.4524, 65.4534, 65.4544])}, 'IP': {'signal': array([-0.01264191, -0.01264191, -0.01264191, ..., -0.01264191,\n",
      "       -0.01264191, -0.01264191]), 'time': array([39.4224, 39.4234, 39.4244, ..., 65.4524, 65.4534, 65.4544])}, 'DAO_EDG7': {'signal': array([ 1.34149539e+12,  1.34436553e+12,  1.34723566e+12, ...,\n",
      "       -1.09202446e+13, -8.53794746e+12, -6.15565035e+12]), 'time': array([39.4224, 39.4234, 39.4244, ..., 65.4524, 65.4534, 65.4544])}, 'WMHD': {'signal': array([-1., -1., -1., ..., -1., -1., -1.]), 'time': array([39.4224, 39.4234, 39.4244, ..., 65.4524, 65.4534, 65.4544])}, 'Flat_top': array([45.1521, 63.9441]), 'Ramp_down': array([63.9441, 63.9549]), 'disr_ipla_td': 63.90440000000001, 'Ramp_up': array([40.9224, 45.1521]), 'RNT': {'signal': array([0., 0., 0., ..., 0., 0., 0.]), 'time': array([39.4224, 39.4234, 39.4244, ..., 65.4524, 65.4534, 65.4544])}}, 'JETno91677': {'SSXcore': {'signal': array([0.00110631, 0.00110631, 0.00110631, ..., 0.00099187, 0.00148778,\n",
      "       0.00129703]), 'time': array([39.9467, 39.9477, 39.9487, ..., 62.0237, 62.0247, 62.0257])}, 'IP': {'signal': array([0.0143652, 0.0143652, 0.0143652, ..., 0.0143652, 0.0143652,\n",
      "       0.0143652]), 'time': array([39.9467, 39.9477, 39.9487, ..., 62.0237, 62.0247, 62.0257])}, 'DAO_EDG7': {'signal': array([ 1.41681387e+12,  1.41445230e+12,  1.41209073e+12, ...,\n",
      "       -2.40347985e+12,  5.25928504e+12, -6.20095655e+12]), 'time': array([39.9467, 39.9477, 39.9487, ..., 62.0237, 62.0247, 62.0257])}, 'WMHD': {'signal': array([-1., -1., -1., ..., -1., -1., -1.]), 'time': array([39.9467, 39.9477, 39.9487, ..., 62.0237, 62.0247, 62.0257])}, 'Flat_top': array([42.3041, 57.026 ]), 'Ramp_down': array([57.026 , 57.0265]), 'disr_ipla_td': 56.99550000000001, 'Ramp_up': array([41.4467, 42.3041]), 'RNT': {'signal': array([nan, nan, nan, ...,  0.,  0.,  0.]), 'time': array([39.9467, 39.9477, 39.9487, ..., 62.0237, 62.0247, 62.0257])}}, 'JETno99306': {'SSXcore': {'signal': array([0.00137337, 0.00137337, 0.00137337, ..., 0.00137336, 0.00106819,\n",
      "       0.00152597]), 'time': array([39.6976, 39.6986, 39.6996, ..., 69.2786, 69.2796, 69.2806])}, 'IP': {'signal': array([0.03634262, 0.03634262, 0.03634262, ...,        nan,        nan,\n",
      "              nan]), 'time': array([39.6976, 39.6986, 39.6996, ..., 69.2786, 69.2796, 69.2806])}, 'DAO_EDG7': {'signal': array([4.08975966e-03, 4.08975966e-03, 4.08975966e-03, ...,\n",
      "       1.33141600e+12, 7.36377176e+11, 7.36377176e+11]), 'time': array([39.6976, 39.6986, 39.6996, ..., 69.2786, 69.2796, 69.2806])}, 'WMHD': {'signal': array([-1., -1., -1., ..., nan, nan, nan]), 'time': array([39.6976, 39.6986, 39.6996, ..., 69.2786, 69.2796, 69.2806])}, 'Flat_top': array([46.008, 59.   ]), 'Ramp_down': array([59.    , 64.2807]), 'disr_ipla_td': 64.5243, 'Ramp_up': array([41.1976, 46.008 ]), 'RNT': {'signal': array([nan, nan, nan, ...,  0.,  0.,  0.]), 'time': array([39.6976, 39.6986, 39.6996, ..., 69.2786, 69.2796, 69.2806])}}, 'JETno94208': {'SSXcore': {'signal': array([0.00175483, 0.00175483, 0.00175483, ..., 0.00160224, 0.00160223,\n",
      "       0.00175483]), 'time': array([39.3891, 39.3901, 39.3911, ..., 56.7991, 56.8001, 56.8011])}, 'IP': {'signal': array([0.03126526, 0.03126526, 0.03126526, ..., 0.03126526, 0.03126526,\n",
      "       0.03126526]), 'time': array([39.3891, 39.3901, 39.3911, ..., 56.7991, 56.8001, 56.8011])}, 'DAO_EDG7': {'signal': array([ 4.40751575e-03,  4.40751575e-03,  4.40751575e-03, ...,\n",
      "       -4.96749176e+12, -4.76686715e+12, -4.75799805e+12]), 'time': array([39.3891, 39.3901, 39.3911, ..., 56.7991, 56.8001, 56.8011])}, 'WMHD': {'signal': array([-1., -1., -1., ..., -1., -1., -1.]), 'time': array([39.3891, 39.3901, 39.3911, ..., 56.7991, 56.8001, 56.8011])}, 'Flat_top': array([45.0241, 51.5   ]), 'Ramp_down': array([51.5   , 51.8012]), 'disr_ipla_td': 52.33710000000001, 'Ramp_up': array([40.8891, 45.0241]), 'RNT': {'signal': array([           nan,            nan,            nan, ...,\n",
      "       3.64148980e+10, 4.81670712e+10, 5.99192444e+10]), 'time': array([39.3891, 39.3901, 39.3911, ..., 56.7991, 56.8001, 56.8011])}}, 'JETno96820': {'SSXcore': {'signal': array([0.00289924, 0.00259405, 0.00259405, ..., 0.00244148, 0.00198369,\n",
      "       0.00244148]), 'time': array([40.012, 40.013, 40.014, ..., 58.179, 58.18 , 58.181])}, 'IP': {'signal': array([0.01345444, 0.01345444, 0.01345444, ..., 0.01345444, 0.01345444,\n",
      "       0.01345444]), 'time': array([40.012, 40.013, 40.014, ..., 58.179, 58.18 , 58.181])}, 'DAO_EDG7': {'signal': array([ 1.01062206e+13,  1.00556483e+13,  3.01681952e+13, ...,\n",
      "        1.01062206e+13, -1.00248960e+13,  7.54998445e+10]), 'time': array([40.012, 40.013, 40.014, ..., 58.179, 58.18 , 58.181])}, 'WMHD': {'signal': array([-1., -1., -1., ..., -1., -1., -1.]), 'time': array([40.012, 40.013, 40.014, ..., 58.179, 58.18 , 58.181])}, 'Flat_top': array([46.0001, 53.0279]), 'Ramp_down': array([53.0279, 53.1811]), 'disr_ipla_td': 53.005100000000006, 'Ramp_up': array([41.512 , 46.0001]), 'RNT': {'signal': array([0.00000000e+00, 0.00000000e+00, 0.00000000e+00, ...,\n",
      "       1.23236094e+10, 1.64296810e+10, 2.05357527e+10]), 'time': array([40.012, 40.013, 40.014, ..., 58.179, 58.18 , 58.181])}}, 'JETno97473': {'SSXcore': {'signal': array([0.00244148, 0.00350964, 0.00289926, ..., 0.0024415 , 0.00244148,\n",
      "       0.00335704], dtype=float32), 'time': array([40.     , 40.00004, 40.00008, ..., 72.89992, 72.89996, 72.9    ],\n",
      "      dtype=float32)}, 'IP': {'signal': array([-0.03076553, -0.03076553, -0.03076553, ..., -0.03076553,\n",
      "       -0.03076553, -0.03076553], dtype=float32), 'time': array([ 0.1  ,  0.2  ,  0.3  , ..., 65.492, 65.494, 65.496], dtype=float32)}, 'DAO_EDG7': {'signal': array([8.8502327e-03, 9.3080029e-03, 9.0028234e-03, ..., 5.0879167e+12,\n",
      "       5.0369722e+12, 5.0879167e+12], dtype=float32), 'time': array([30.01 , 30.02 , 30.03 , ..., 79.998, 79.999, 80.   ], dtype=float32)}, 'WMHD': {'signal': array([-1., -1., -1., ..., -1., -1., -1.], dtype=float32), 'time': array([39.   , 39.002, 39.004, ..., 68.206, 68.208, 68.21 ], dtype=float32)}, 'Flat_top': array([47.5021, 52.55  ]), 'Ramp_down': array([52.55  , 60.8828]), 'disr_ipla_td': 0.5998800239952009, 'Ramp_up': array([40.9496, 47.5021]), 'RNT': {'signal': array([0., 0., 0., ..., 0., 0., 0.], dtype=float32), 'time': array([39.996, 40.002, 40.008, ..., 83.178, 83.184, 83.19 ], dtype=float32)}}, 'JETno83639': {'SSXcore': {'signal': array([0.00061034, 0.00061034, 0.00061034, ..., 0.00091552, 0.00091553,\n",
      "       0.00061035]), 'time': array([39.4372, 39.4382, 39.4392, ..., 43.8042, 43.8052, 43.8062])}, 'IP': {'signal': array([0.02751732, 0.02751732, 0.02751732, ..., 0.02751732, 0.02751732,\n",
      "       0.02751732]), 'time': array([39.4372, 39.4382, 39.4392, ..., 43.8042, 43.8052, 43.8062])}, 'DAO_EDG7': {'signal': array([], dtype=uint8), 'time': array(['%', 'T', 'D', 'I', '-', 'E', '-', 'T', 'd', 'i', 'I', 'N', 'V',\n",
      "       'C', 'L', 'A', 'D', 'S', 'C', ',', ' ', 'S', 't', 'o', 'r', 'a',\n",
      "       'g', 'e', ' ', 'c', 'l', 'a', 's', 's', ' ', 'n', 'o', 't', ' ',\n",
      "       'v', 'a', 'l', 'i', 'd', ',', ' ', 'm', 'u', 's', 't', ' ', 'b',\n",
      "       'e', ' ', 's', 'c', 'a', 'l', 'a', 'r', ' ', 'o', 'r', ' ', 'a',\n",
      "       'r', 'r', 'a', 'y'], dtype='<U1')}, 'WMHD': {'signal': array([-1., -1., -1., ..., -1., -1., -1.]), 'time': array([39.4372, 39.4382, 39.4392, ..., 43.8042, 43.8052, 43.8062])}, 'Ramp_down': array([42.3059, 42.3067]), 'disr_ipla_td': 42.432900000000004, 'Ramp_up': array([40.9372, 42.3059]), 'RNT': {'signal': array([0., 0., 0., ..., 0., 0., 0.]), 'time': array([39.4372, 39.4382, 39.4392, ..., 43.8042, 43.8052, 43.8062])}}, 'JETno81239': {'SSXcore': {'signal': array([0.00083923, 0.00068665, 0.00076294, ..., 0.00045776, 0.00045776,\n",
      "       0.00053406], dtype=float32), 'time': array([40.    , 40.0001, 40.0002, ..., 74.9998, 74.9999, 75.    ],\n",
      "      dtype=float32)}, 'IP': {'signal': array([-0.01087952, -0.01087952, -0.01087952, ..., -0.01087952,\n",
      "       -0.01087952, -0.01087952], dtype=float32), 'time': array([1.00000e-01, 2.00000e-01, 3.00000e-01, ..., 1.00402e+02,\n",
      "       1.00500e+02, 1.00602e+02], dtype=float32)}, 'DAO_EDG7': {'signal': array([ 1.2207000e-02,  1.2207000e-02,  1.4648400e-02, ...,\n",
      "       -2.6091384e+12, -2.6091384e+12, -2.6711915e+12], dtype=float32), 'time': array([30.005   , 30.01    , 30.015   , ..., 74.623   , 74.648   ,\n",
      "       74.673004], dtype=float32)}, 'WMHD': {'signal': array([-1., -1., -1., ..., -1., -1., -1.], dtype=float32), 'time': array([39.   , 39.002, 39.004, ..., 77.79 , 77.792, 77.794], dtype=float32)}, 'Flat_top': array([45.2521, 67.5   ]), 'Ramp_down': array([67.5 , 71.25]), 'disr_ipla_td': 0.7501875468867217, 'Ramp_up': array([40.9372, 45.2521]), 'RNT': {'signal': array([0., 0., 0., ..., 0., 0., 0.], dtype=float32), 'time': array([39.996, 40.002, 40.008, ..., 83.178, 83.184, 83.19 ], dtype=float32)}}, 'JETno83698': {'SSXcore': {'signal': array([0.00061035, 0.00038147, 0.00091553, ..., 0.00099182, 0.00083923,\n",
      "       0.00099182], dtype=float32), 'time': array([40.     , 40.00004, 40.00008, ..., 59.99992, 59.99996, 60.     ],\n",
      "      dtype=float32)}, 'IP': {'signal': array([-0.01087952, -0.01087952, -0.01087952, ..., -0.01087952,\n",
      "       -0.01087952, -0.01087952], dtype=float32), 'time': array([ 0.1  ,  0.2  ,  0.3  , ..., 80.586, 80.684, 80.786], dtype=float32)}, 'DAO_EDG7': {'signal': array([ 1.2207000e-02,  1.2207000e-02,  1.2207000e-02, ...,\n",
      "        2.1051069e+13, -2.6605062e+13, -2.7770012e+12], dtype=float32), 'time': array([30.005, 30.01 , 30.015, ..., 74.45 , 74.475, 74.5  ], dtype=float32)}, 'WMHD': {'signal': array([-1., -1., -1., ..., -1., -1., -1.], dtype=float32), 'time': array([39.   , 39.002, 39.004, ..., 62.632, 62.634, 62.636], dtype=float32)}, 'Flat_top': array([45.0021, 45.178 ]), 'Ramp_down': array([45.178 , 45.1792]), 'disr_ipla_td': 45.1328, 'Ramp_up': array([40.9372, 45.0021]), 'RNT': {'signal': array([0., 0., 0., ..., 0., 0., 0.], dtype=float32), 'time': array([39.996, 40.002, 40.008, ..., 83.178, 83.184, 83.19 ], dtype=float32)}}, 'JETno100228': {'SSXcore': {'signal': array([0.0021363 , 0.00091557, 0.00137334, ..., 0.0019837 , 0.00122075,\n",
      "       0.00183113]), 'time': array([40.     , 40.00004, 40.00008, ..., 72.89992, 72.89996, 72.9    ])}, 'IP': {'signal': array([-0.04443359, -0.04443359, -0.04443359, ..., -0.04443359,\n",
      "       -0.04443359, -0.04443359]), 'time': array([39.6497, 39.6507, 39.6517, ..., 61.6607, 61.6617, 61.6627])}, 'DAO_EDG7': {'signal': array([3.96232260e-03, 3.96232260e-03, 3.96232260e-03, ...,\n",
      "       7.36666971e+11, 7.53943229e+11, 2.22261603e+12]), 'time': array([39.6497, 39.6507, 39.6517, ..., 61.6607, 61.6617, 61.6627])}, 'WMHD': {'signal': array([-1., -1., -1., ..., -1., -1., -1.]), 'time': array([39.6497, 39.6507, 39.6517, ..., 61.6607, 61.6617, 61.6627])}, 'Flat_top': array([46.0001, 56.    ]), 'Ramp_down': array([56.    , 56.6631]), 'disr_ipla_td': 56.87140000000001, 'Ramp_up': array([41.1497, 46.0001]), 'RNT': {'signal': array([], dtype=uint8), 'time': array([39.6497, 39.6507, 39.6517, ..., 61.6607, 61.6617, 61.6627])}}, 'JETno98401': {'SSXcore': {'signal': array([       nan,        nan,        nan, ..., 0.00305184, 0.00205997,\n",
      "       0.00221256]), 'time': array([39.5625, 39.5645, 39.5665, ..., 66.8485, 66.8505, 66.8525])}, 'IP': {'signal': array([ 2.80075073e-02,  2.80075073e-02,  2.80075073e-02, ...,\n",
      "       -3.68823633e+05, -3.68409478e+05, -3.67995459e+05]), 'time': array([39.5625, 39.5645, 39.5665, ..., 66.8485, 66.8505, 66.8525])}, 'DAO_EDG7': {'signal': array([4.09249828e-03, 4.06449076e-03, 4.03648324e-03, ...,\n",
      "       1.20442955e+15, 1.20226116e+15, 1.18900146e+15]), 'time': array([39.5625, 39.5645, 39.5665, ..., 66.8485, 66.8505, 66.8525])}, 'WMHD': {'signal': array([-1.00000000e+00, -1.00000000e+00, -1.00000000e+00, ...,\n",
      "        6.42689960e+04,  6.44848929e+04,  6.40070511e+04]), 'time': array([39.5625, 39.5645, 39.5665, ..., 66.8485, 66.8505, 66.8525])}, 'Flat_top': array([44.4001, 62.    ]), 'Ramp_down': array([62.    , 65.3526]), 'disr_ipla_td': 0.8110300081103001, 'Ramp_up': array([41.0625, 44.4001]), 'RNT': {'signal': array([nan, nan, nan, ...,  0.,  0.,  0.]), 'time': array([39.5625, 39.5645, 39.5665, ..., 66.8485, 66.8505, 66.8525])}}, 'JETno101854': {'SSXcore': {'signal': array([0.00228888, 0.00198369, 0.00289924, ..., 0.00137332, 0.00106815,\n",
      "       0.00152591]), 'time': array([40.     , 40.00004, 40.00008, ..., 72.89992, 72.89996, 72.9    ])}, 'IP': {'signal': array([-0.00021362, -0.00021362, -0.00021362, ..., -0.00021362,\n",
      "       -0.00021362, -0.00021362]), 'time': array([39.4224, 39.4234, 39.4244, ..., 54.7784, 54.7794, 54.7804])}, 'DAO_EDG7': {'signal': array([8.54505226e-03, 9.00282338e-03, 8.85023270e-03, ...,\n",
      "       3.72323516e+11, 3.72323516e+11, 3.72323516e+11]), 'time': array([30.01000023, 30.02000046, 30.03000069, ..., 79.98000336,\n",
      "       79.98999786, 80.        ])}, 'WMHD': {'signal': array([-1., -1., -1., ..., -1., -1., -1.]), 'time': array([39.4224, 39.4234, 39.4244, ..., 54.7784, 54.7794, 54.7804])}, 'Flat_top': array([44.1201, 53.1599]), 'Ramp_down': array([53.1599, 53.2811]), 'disr_ipla_td': 53.206, 'Ramp_up': array([40.9224, 44.1201]), 'RNT': {'signal': array([0., 0., 0., ..., 0., 0., 0.]), 'time': array([39.4224, 39.4234, 39.4244, ..., 54.7784, 54.7794, 54.7804])}}, 'JETno86550': {'SSXcore': {'signal': array([0.00099182, 0.00114441, 0.00091553, ..., 0.00114441, 0.001297  ,\n",
      "       0.00144958]), 'time': array([40.     , 40.00004, 40.00008, ..., 69.89992, 69.89996, 69.9    ])}, 'IP': {'signal': array([-0.01087952, -0.01087952, -0.01087952, ..., -0.01087952,\n",
      "       -0.01087952, -0.01087952]), 'time': array([39.3891, 39.3901, 39.3911, ..., 55.6241, 55.6251, 55.6261])}, 'DAO_EDG7': {'signal': array([4.35822136e-03, 4.28178444e-03, 4.50941008e-03, ...,\n",
      "       4.74753944e+11, 2.23405503e+12, 5.19524550e+11]), 'time': array([39.3891, 39.3901, 39.3911, ..., 55.6241, 55.6251, 55.6261])}, 'WMHD': {'signal': array([-1., -1., -1., ..., nan, nan, nan]), 'time': array([39.3891, 39.3901, 39.3911, ..., 55.6241, 55.6251, 55.6261])}, 'Flat_top': array([43.4081, 49.    ]), 'Ramp_down': array([49.    , 50.6268]), 'disr_ipla_td': 49.867200000000004, 'Ramp_up': array([40.8891, 43.4081]), 'RNT': {'signal': array([           nan,            nan,            nan, ...,\n",
      "       9.96481935e+09, 4.71865674e+09, 6.13284797e+08]), 'time': array([39.3891, 39.3901, 39.3911, ..., 55.6241, 55.6251, 55.6261])}}, 'JETno94614': {'SSXcore': {'signal': array([0.0019837 , 0.00213632, 0.00213632, ..., 0.00167853, 0.00183111,\n",
      "       0.00167853]), 'time': array([40.     , 40.00004, 40.00008, ..., 72.89992, 72.89996, 72.9    ])}, 'IP': {'signal': array([-0.02776337, -0.02776337, -0.02776337, ..., -0.02776337,\n",
      "       -0.02776337, -0.02776337]), 'time': array([39.3891, 39.3901, 39.3911, ..., 60.8501, 60.8511, 60.8521])}, 'DAO_EDG7': {'signal': array([ 4.11491236e-03,  4.11491236e-03,  4.11491236e-03, ...,\n",
      "       -2.16301625e+12, -2.40269722e+12, -2.54379688e+12]), 'time': array([39.3891, 39.3901, 39.3911, ..., 60.8501, 60.8511, 60.8521])}, 'WMHD': {'signal': array([-1., -1., -1., ..., nan, nan, nan]), 'time': array([39.3891, 39.3901, 39.3911, ..., 60.8501, 60.8511, 60.8521])}, 'Flat_top': array([45.4401, 52.5   ]), 'Ramp_down': array([52.5   , 55.8525]), 'disr_ipla_td': 55.819500000000005, 'Ramp_up': array([40.8891, 45.4401]), 'RNT': {'signal': array([], dtype=uint8), 'time': array([39.3891, 39.3901, 39.3911, ..., 60.8501, 60.8511, 60.8521])}}, 'JETno86524': {'SSXcore': {'signal': array([0.00091553, 0.00099182, 0.00083923, ..., 0.00137329, 0.0012207 ,\n",
      "       0.00106812]), 'time': array([40.     , 40.00004, 40.00008, ..., 69.89992, 69.89996, 69.9    ])}, 'IP': {'signal': array([-0.01087952, -0.01087952, -0.01087952, ..., -0.01087952,\n",
      "       -0.01087952, -0.01087952]), 'time': array([39.4496, 39.4506, 39.4516, ..., 54.7386, 54.7396, 54.7406])}, 'DAO_EDG7': {'signal': array([ 4.33368809e-03,  4.47881961e-03,  4.45086130e-03, ...,\n",
      "        4.42579392e+11, -1.38160519e+12,  4.01771483e+11]), 'time': array([39.4496, 39.4506, 39.4516, ..., 54.7386, 54.7396, 54.7406])}, 'WMHD': {'signal': array([-1., -1., -1., ..., -1., -1., -1.]), 'time': array([39.4496, 39.4506, 39.4516, ..., 54.7386, 54.7396, 54.7406])}, 'Flat_top': array([44.5041, 49.5   ]), 'Ramp_down': array([49.5   , 49.7411]), 'disr_ipla_td': 49.6891, 'Ramp_up': array([40.9496, 44.5041]), 'RNT': {'signal': array([nan, nan, nan, ...,  0.,  0.,  0.]), 'time': array([39.4496, 39.4506, 39.4516, ..., 54.7386, 54.7396, 54.7406])}}, 'JETno91963': {'SSXcore': {'signal': array([0.00709555, 0.00717182, 0.00724813, ..., 0.0080874 , 0.0080111 ,\n",
      "       0.00793481]), 'time': array([40.     , 40.00004, 40.00008, ..., 69.89992, 69.89996, 69.9    ])}, 'IP': {'signal': array([0.0247879, 0.0247879, 0.0247879, ..., 0.0247879, 0.0247879,\n",
      "       0.0247879]), 'time': array([39.4373, 39.4383, 39.4393, ..., 58.5713, 58.5723, 58.5733])}, 'DAO_EDG7': {'signal': array([ 4.54746094e-03,  4.54746094e-03,  4.54746094e-03, ...,\n",
      "       -2.83232426e+12, -9.60912742e+11, -2.87362644e+12]), 'time': array([39.4373, 39.4383, 39.4393, ..., 58.5713, 58.5723, 58.5733])}, 'WMHD': {'signal': array([-1., -1., -1., ..., -1., -1., -1.]), 'time': array([39.4373, 39.4383, 39.4393, ..., 58.5713, 58.5723, 58.5733])}, 'Flat_top': array([48.5001, 51.53  ]), 'Ramp_down': array([51.53  , 53.5734]), 'disr_ipla_td': 53.5401, 'Ramp_up': array([40.9373, 48.5001]), 'RNT': {'signal': array([nan, nan, nan, ...,  0.,  0.,  0.]), 'time': array([39.4373, 39.4383, 39.4393, ..., 58.5713, 58.5723, 58.5733])}}, 'JETno87812': {'SSXcore': {'signal': array([0.00083925, 0.00076295, 0.00076295, ..., 0.00106813, 0.00068666,\n",
      "       0.00083925]), 'time': array([40.     , 40.00004, 40.00008, ..., 69.89992, 69.89996, 69.9    ])}, 'IP': {'signal': array([0.0143652, 0.0143652, 0.0143652, ..., 0.0143652, 0.0143652,\n",
      "       0.0143652]), 'time': array([39.664, 39.665, 39.666, ..., 53.734, 53.735, 53.736])}, 'DAO_EDG7': {'signal': array([ 4.54766516e-03,  4.53489632e-03,  4.25496346e-03, ...,\n",
      "        8.88183506e+11, -9.28759742e+11, -9.50711622e+11]), 'time': array([39.664, 39.665, 39.666, ..., 53.734, 53.735, 53.736])}, 'WMHD': {'signal': array([-1., -1., -1., ..., -1., -1., -1.]), 'time': array([39.664, 39.665, 39.666, ..., 53.734, 53.735, 53.736])}, 'Flat_top': array([43.0001, 48.736 ]), 'Ramp_down': array([48.736 , 48.7365]), 'disr_ipla_td': 48.700100000000006, 'Ramp_up': array([41.164 , 43.0001]), 'RNT': {'signal': array([nan, nan, nan, ...,  0.,  0.,  0.]), 'time': array([39.664, 39.665, 39.666, ..., 53.734, 53.735, 53.736])}}, 'JETno94042': {'SSXcore': {'signal': array([0.00167851, 0.00175481, 0.00190741, ..., 0.0021363 , 0.00236519,\n",
      "       0.00236519]), 'time': array([40.     , 40.00004, 40.00008, ..., 72.89992, 72.89996, 72.9    ])}, 'IP': {'signal': array([-0.01849174, -0.01849174, -0.01849174, ..., -0.01849174,\n",
      "       -0.01849174, -0.01849174]), 'time': array([39.3891, 39.3901, 39.3911, ..., 55.3581, 55.3591, 55.3601])}, 'DAO_EDG7': {'signal': array([ 4.40751575e-03,  4.40751575e-03,  4.40751575e-03, ...,\n",
      "        7.49112169e+12, -2.36932289e+12, -2.37693021e+12]), 'time': array([39.3891, 39.3901, 39.3911, ..., 55.3581, 55.3591, 55.3601])}, 'WMHD': {'signal': array([-1., -1., -1., ..., -1., -1., -1.]), 'time': array([39.3891, 39.3901, 39.3911, ..., 55.3581, 55.3591, 55.3601])}, 'Flat_top': array([42.808, 49.756]), 'Ramp_down': array([49.756 , 50.3608]), 'disr_ipla_td': 50.13550000000001, 'Ramp_up': array([40.8891, 42.808 ]), 'RNT': {'signal': array([nan, nan, nan, ...,  0.,  0.,  0.]), 'time': array([39.3891, 39.3901, 39.3911, ..., 55.3581, 55.3591, 55.3601])}}, 'JETno94655': {'SSXcore': {'signal': array([       nan,        nan,        nan, ..., 0.00244141, 0.00244141,\n",
      "       0.00274658]), 'time': array([39.4496, 39.4516, 39.4536, ..., 55.9776, 55.9796, 55.9816])}, 'IP': {'signal': array([        nan,         nan,         nan, ..., -0.02776337,\n",
      "       -0.02776337, -0.02776337]), 'time': array([39.4496, 39.4516, 39.4536, ..., 55.9776, 55.9796, 55.9816])}, 'DAO_EDG7': {'signal': array([4.26138818e-03, 4.24309529e-03, 4.21257222e-03, ...,\n",
      "       1.23432850e+13, 1.23035881e+13, 2.30520332e+12]), 'time': array([39.4496, 39.4516, 39.4536, ..., 55.9776, 55.9796, 55.9816])}, 'WMHD': {'signal': array([nan, nan, nan, ..., -1., -1., -1.]), 'time': array([39.4496, 39.4516, 39.4536, ..., 55.9776, 55.9796, 55.9816])}, 'Flat_top': array([47.5501, 50.9599]), 'Ramp_down': array([50.9599, 50.9834]), 'disr_ipla_td': 51.0882, 'Ramp_up': array([40.9496, 47.5501]), 'RNT': {'signal': array([           nan,            nan,            nan, ...,\n",
      "       3.60623153e+10, 4.42457584e+10, 3.36433119e+10]), 'time': array([39.4496, 39.4516, 39.4536, ..., 55.9776, 55.9796, 55.9816])}}, 'JETno92211': {'SSXcore': {'signal': array([       nan,        nan,        nan, ..., 0.00064852, 0.00049593,\n",
      "       0.00095371]), 'time': array([39.4497, 39.4517, 39.4537, ..., 58.8877, 58.8897, 58.8917])}, 'IP': {'signal': array([       nan,        nan,        nan, ..., 0.05001068, 0.05001068,\n",
      "       0.05001068]), 'time': array([39.4497, 39.4517, 39.4537, ..., 58.8877, 58.8897, 58.8917])}, 'DAO_EDG7': {'signal': array([ 4.40744916e-03,  4.40744916e-03,  4.40744916e-03, ...,\n",
      "       -1.46890539e+12,  2.34658086e+12,  4.99701294e+11]), 'time': array([39.4497, 39.4517, 39.4537, ..., 58.8877, 58.8897, 58.8917])}, 'WMHD': {'signal': array([nan, nan, nan, ..., -1., -1., -1.]), 'time': array([39.4497, 39.4517, 39.4537, ..., 58.8877, 58.8897, 58.8917])}, 'Flat_top': array([47.5521, 51.5519]), 'Ramp_down': array([51.5519, 53.8931]), 'disr_ipla_td': 51.4551, 'Ramp_up': array([40.9497, 47.5521]), 'RNT': {'signal': array([nan, nan, nan, ...,  0.,  0.,  0.]), 'time': array([39.4497, 39.4517, 39.4537, ..., 58.8877, 58.8897, 58.8917])}}, 'JETno81788': {'SSXcore': {'signal': array([0.00091553, 0.00091553, 0.00091553, ..., 0.00061035, 0.00038147,\n",
      "       0.00045776]), 'time': array([39.4224, 39.4234, 39.4244, ..., 52.9834, 52.9844, 52.9854])}, 'IP': {'signal': array([-0.03076553, -0.03076553, -0.03076553, ..., -0.03076553,\n",
      "       -0.03076553, -0.03076553]), 'time': array([39.4224, 39.4234, 39.4244, ..., 52.9834, 52.9844, 52.9854])}, 'DAO_EDG7': {'signal': array([ 1.04261515e+13,  1.04484583e+13,  1.04707651e+13, ...,\n",
      "        4.48627957e+12, -2.65050705e+12, -2.65050705e+12]), 'time': array([39.4224, 39.4234, 39.4244, ..., 52.9834, 52.9844, 52.9854])}, 'WMHD': {'signal': array([-1., -1., -1., ..., -1., -1., -1.]), 'time': array([39.4224, 39.4234, 39.4244, ..., 52.9834, 52.9844, 52.9854])}, 'Flat_top': array([46.4521, 51.484 ]), 'Ramp_down': array([51.484 , 51.4854]), 'disr_ipla_td': 51.856100000000005, 'Ramp_up': array([40.9224, 46.4521]), 'RNT': {'signal': array([0., 0., 0., ..., 0., 0., 0.]), 'time': array([39.4224, 39.4234, 39.4244, ..., 52.9834, 52.9844, 52.9854])}}, 'JETno83668': {'SSXcore': {'signal': array([3.0517578e-04, 7.6293945e-05, 6.8664551e-04, ..., 2.4414062e-03,\n",
      "       2.2888184e-03, 2.2125244e-03], dtype=float32), 'time': array([40.     , 40.00004, 40.00008, ..., 59.99992, 59.99996, 60.     ],\n",
      "      dtype=float32)}, 'IP': {'signal': array([-0.01087952, -0.01087952, -0.01087952, ..., -0.01087952,\n",
      "       -0.01087952, -0.01087952], dtype=float32), 'time': array([ 0.1  ,  0.2  ,  0.3  , ..., 85.884, 85.984, 86.084], dtype=float32)}, 'DAO_EDG7': {'signal': array([ 1.4648400e-02,  1.4648400e-02,  1.2207000e-02, ...,\n",
      "       -3.1576616e+13,  1.6079513e+13,  1.5788290e+13], dtype=float32), 'time': array([30.005, 30.01 , 30.015, ..., 74.45 , 74.475, 74.5  ], dtype=float32)}, 'WMHD': {'signal': array([-1., -1., -1., ..., -1., -1., -1.], dtype=float32), 'time': array([39.   , 39.002, 39.004, ..., 66.502, 66.504, 66.506], dtype=float32)}, 'Flat_top': array([45.008, 57.   ]), 'Ramp_down': array([57.    , 60.5166]), 'disr_ipla_td': 60.294599999999996, 'Ramp_up': array([40.9372, 45.008 ]), 'RNT': {'signal': array([0.0000000e+00, 0.0000000e+00, 0.0000000e+00, ..., 0.0000000e+00,\n",
      "       2.0999817e+10, 0.0000000e+00], dtype=float32), 'time': array([39.996, 40.002, 40.008, ..., 83.178, 83.184, 83.19 ], dtype=float32)}}, 'JETno83313': {'SSXcore': {'signal': array([       nan,        nan,        nan, ..., 0.00114442, 0.00091554,\n",
      "       0.00076295]), 'time': array([39.4182, 39.4202, 39.4222, ..., 55.3822, 55.3842, 55.3862])}, 'IP': {'signal': array([       nan,        nan,        nan, ..., 0.00278854, 0.00278854,\n",
      "       0.00278854]), 'time': array([39.4182, 39.4202, 39.4222, ..., 55.3822, 55.3842, 55.3862])}, 'DAO_EDG7': {'signal': array([-2.65889065e+12, -2.67037122e+12, -2.68185180e+12, ...,\n",
      "       -1.84059874e+11,  4.58235429e+12,  9.34876844e+12]), 'time': array([39.4182, 39.4202, 39.4222, ..., 55.3822, 55.3842, 55.3862])}, 'WMHD': {'signal': array([nan, nan, nan, ..., -1., -1., -1.]), 'time': array([39.4182, 39.4202, 39.4222, ..., 55.3822, 55.3842, 55.3862])}, 'Flat_top': array([44.4081, 50.2879]), 'Ramp_down': array([50.2879, 50.387 ]), 'disr_ipla_td': 50.3614, 'Ramp_up': array([40.9182, 44.4081]), 'RNT': {'signal': array([           nan,            nan,            nan, ...,\n",
      "       8.94122826e+09, 1.70735659e+10, 2.35918281e+10]), 'time': array([39.4182, 39.4202, 39.4222, ..., 55.3822, 55.3842, 55.3862])}}, 'JETno91103': {'SSXcore': {'signal': array([0.00080112, 0.00080112, 0.00080112, ..., 0.00083926, 0.00095372,\n",
      "       0.00091557]), 'time': array([39.3891, 39.3901, 39.3911, ..., 52.0481, 52.0491, 52.0501])}, 'IP': {'signal': array([0.01967239, 0.01967239, 0.01967239, ..., 0.01967239, 0.01967239,\n",
      "       0.01967239]), 'time': array([39.3891, 39.3901, 39.3911, ..., 52.0481, 52.0491, 52.0501])}, 'DAO_EDG7': {'signal': array([ 4.54746094e-03,  4.54746094e-03,  4.54746094e-03, ...,\n",
      "       -9.53597952e+11,  4.74499207e+12, -2.86115455e+12]), 'time': array([39.3891, 39.3901, 39.3911, ..., 52.0481, 52.0491, 52.0501])}, 'WMHD': {'signal': array([-1., -1., -1., ..., -1., -1., -1.]), 'time': array([39.3891, 39.3901, 39.3911, ..., 52.0481, 52.0491, 52.0501])}, 'Flat_top': array([42.0081, 47.0499]), 'Ramp_down': array([47.0499, 47.0509]), 'disr_ipla_td': 47.1779, 'Ramp_up': array([40.8891, 42.0081]), 'RNT': {'signal': array([nan, nan, nan, ...,  0.,  0.,  0.]), 'time': array([39.3891, 39.3901, 39.3911, ..., 52.0481, 52.0491, 52.0501])}}, 'JETno96730': {'SSXcore': {'signal': array([       nan,        nan,        nan, ..., 0.00244148, 0.00228889,\n",
      "       0.00274667]), 'time': array([39.4496, 39.4516, 39.4536, ..., 63.4276, 63.4296, 63.4316])}, 'IP': {'signal': array([        nan,         nan,         nan, ..., -0.02776337,\n",
      "       -0.02776337, -0.02776337]), 'time': array([39.4496, 39.4516, 39.4536, ..., 63.4276, 63.4296, 63.4316])}, 'DAO_EDG7': {'signal': array([4.24931597e-03, 4.25492600e-03, 4.25492600e-03, ...,\n",
      "       5.12380550e+12, 5.07357409e+12, 5.20472839e+12]), 'time': array([39.4496, 39.4516, 39.4536, ..., 63.4276, 63.4296, 63.4316])}, 'WMHD': {'signal': array([nan, nan, nan, ..., -1., -1., -1.]), 'time': array([39.4496, 39.4516, 39.4536, ..., 63.4276, 63.4296, 63.4316])}, 'Flat_top': array([47.5501, 54.548 ]), 'Ramp_down': array([54.548, 58.433]), 'disr_ipla_td': 57.75670000000001, 'Ramp_up': array([40.9496, 47.5501]), 'RNT': {'signal': array([           nan,            nan,            nan, ...,\n",
      "       2.13380691e+10, 2.13335468e+10, 2.13290245e+10]), 'time': array([39.4496, 39.4516, 39.4536, ..., 63.4276, 63.4296, 63.4316])}}, 'JETno95057': {'SSXcore': {'signal': array([0.00152594, 0.0019837 , 0.00350964, ..., 0.00106816, 0.00137334,\n",
      "       0.00137334]), 'time': array([40.     , 40.00004, 40.00008, ..., 72.89992, 72.89996, 72.9    ])}, 'IP': {'signal': array([0.0143652, 0.0143652, 0.0143652, ..., 0.0143652, 0.0143652,\n",
      "       0.0143652]), 'time': array([39.7506, 39.7516, 39.7526, ..., 53.0616, 53.0626, 53.0636])}, 'DAO_EDG7': {'signal': array([ 4.38653782e-03,  4.37253406e-03,  4.35853030e-03, ...,\n",
      "       -6.19653410e+10,  9.91125822e+12,  1.68466001e+11]), 'time': array([39.7506, 39.7516, 39.7526, ..., 53.0616, 53.0626, 53.0636])}, 'WMHD': {'signal': array([-1., -1., -1., ..., nan, nan, nan]), 'time': array([39.7506, 39.7516, 39.7526, ..., 53.0616, 53.0626, 53.0636])}, 'Flat_top': array([42.008 , 48.0639]), 'Ramp_down': array([48.0639, 48.0644]), 'disr_ipla_td': 48.0369, 'Ramp_up': array([41.2506, 42.008 ]), 'RNT': {'signal': array([], dtype=uint8), 'time': array([39.7506, 39.7516, 39.7526, ..., 53.0616, 53.0626, 53.0636])}}, 'JETno96835': {'SSXcore': {'signal': array([0.00335704, 0.00289926, 0.00228889, ..., 0.00244148, 0.00289924,\n",
      "       0.00366221]), 'time': array([40.     , 40.00004, 40.00008, ..., 72.89992, 72.89996, 72.9    ])}, 'IP': {'signal': array([-0.01849174, -0.01849174, -0.01849174, ..., -0.01849174,\n",
      "       -0.01849174, -0.01849174]), 'time': array([39.3891, 39.3901, 39.3911, ..., 55.8141, 55.8151, 55.8161])}, 'DAO_EDG7': {'signal': array([ 4.12750713e-03,  4.11632076e-03,  4.13031913e-03, ...,\n",
      "       -4.70680260e+12,  1.49772876e+13,  4.91988660e+12]), 'time': array([39.3891, 39.3901, 39.3911, ..., 55.8141, 55.8151, 55.8161])}, 'WMHD': {'signal': array([], dtype=uint8), 'time': array([39.3891, 39.3901, 39.3911, ..., 55.8141, 55.8151, 55.8161])}, 'Flat_top': array([42.808 , 50.8159]), 'Ramp_down': array([50.8159, 50.8169]), 'disr_ipla_td': 50.1601, 'Ramp_up': array([40.8891, 42.808 ]), 'RNT': {'signal': array([nan, nan, nan, ...,  0.,  0.,  0.]), 'time': array([39.3891, 39.3901, 39.3911, ..., 55.8141, 55.8151, 55.8161])}}, 'JETno96832': {'SSXcore': {'signal': array([0.00137334, 0.00289926, 0.00259408, ..., 0.00350963, 0.00228889,\n",
      "       0.00198372]), 'time': array([40.     , 40.00004, 40.00008, ..., 72.89992, 72.89996, 72.9    ])}, 'IP': {'signal': array([-0.01849174, -0.01849174, -0.01849174, ..., -0.01849174,\n",
      "       -0.01849174, -0.01849174]), 'time': array([39.3891, 39.3901, 39.3911, ..., 52.8781, 52.8791, 52.8801])}, 'DAO_EDG7': {'signal': array([4.11606229e-03, 4.10387115e-03, 4.11912686e-03, ...,\n",
      "       2.63382637e+12, 2.63312751e+12, 1.25838686e+13]), 'time': array([39.3891, 39.3901, 39.3911, ..., 52.8781, 52.8791, 52.8801])}, 'WMHD': {'signal': array([-1., -1., -1., ..., -1., -1., -1.]), 'time': array([39.3891, 39.3901, 39.3911, ..., 52.8781, 52.8791, 52.8801])}, 'Flat_top': array([42.808, 47.88 ]), 'Ramp_down': array([47.88  , 47.8809]), 'disr_ipla_td': 48.087, 'Ramp_up': array([40.8891, 42.808 ]), 'RNT': {'signal': array([nan, nan, nan, ...,  0.,  0.,  0.]), 'time': array([39.3891, 39.3901, 39.3911, ..., 52.8781, 52.8791, 52.8801])}}, 'JETno95365': {'SSXcore': {'signal': array([0.00213629, 0.00259408, 0.00289926, ..., 0.00289926, 0.00274667,\n",
      "       0.00244148]), 'time': array([40.     , 40.00004, 40.00008, ..., 72.89992, 72.89996, 72.9    ])}, 'IP': {'signal': array([-0.01849174, -0.01849174, -0.01849174, ..., -0.01849174,\n",
      "       -0.01849174, -0.01849174]), 'time': array([39.3891, 39.3901, 39.3911, ..., 56.5001, 56.5011, 56.5021])}, 'DAO_EDG7': {'signal': array([ 4.25492600e-03,  4.25633440e-03,  4.27033282e-03, ...,\n",
      "       -4.81242736e+12, -4.92813901e+12,  4.97835444e+12]), 'time': array([39.3891, 39.3901, 39.3911, ..., 56.5001, 56.5011, 56.5021])}, 'WMHD': {'signal': array([-1., -1., -1., ..., -1., -1., -1.]), 'time': array([39.3891, 39.3901, 39.3911, ..., 56.5001, 56.5011, 56.5021])}, 'Flat_top': array([42.808 , 51.5019]), 'Ramp_down': array([51.5019, 51.5029]), 'disr_ipla_td': 51.663500000000006, 'Ramp_up': array([40.8891, 42.808 ]), 'RNT': {'signal': array([], dtype=uint8), 'time': array([39.3891, 39.3901, 39.3911, ..., 56.5001, 56.5011, 56.5021])}}, 'JETno84079': {'SSXcore': {'signal': array([0.00076294, 0.00053406, 0.00091553, ..., 0.00099182, 0.00106812,\n",
      "       0.00106813]), 'time': array([40.     , 40.00004, 40.00008, ..., 69.99992, 69.99996, 70.     ])}, 'IP': {'signal': array([0.02505493, 0.02505493, 0.02505493, ..., 0.02505493, 0.02505493,\n",
      "       0.02505493]), 'time': array([39.4224, 39.4234, 39.4244, ..., 48.3564, 48.3574, 48.3584])}, 'DAO_EDG7': {'signal': array([], dtype=uint8), 'time': array([39.4224, 39.4234, 39.4244, ..., 48.3564, 48.3574, 48.3584])}, 'WMHD': {'signal': array([-1., -1., -1., ..., -1., -1., -1.]), 'time': array([39.4224, 39.4234, 39.4244, ..., 48.3564, 48.3574, 48.3584])}, 'Ramp_down': array([43.358, 43.359]), 'disr_ipla_td': 43.2513, 'Ramp_up': array([40.9224, 43.358 ]), 'RNT': {'signal': array([nan, nan, nan, ...,  0.,  0.,  0.]), 'time': array([39.4224, 39.4234, 39.4244, ..., 48.3564, 48.3574, 48.3584])}}, 'JETno96066': {'SSXcore': {'signal': array([0.00137334, 0.00183111, 0.0018311 , ..., 0.00137334, 0.00106815,\n",
      "       0.00228888]), 'time': array([40.     , 40.00004, 40.00008, ..., 72.89992, 72.89996, 72.9    ])}, 'IP': {'signal': array([-0.03076553, -0.03076553, -0.03076553, ..., -0.03076553,\n",
      "       -0.03076553, -0.03076553]), 'time': array([39.5647, 39.5657, 39.5667, ..., 55.9987, 55.9997, 56.0007])}, 'DAO_EDG7': {'signal': array([3.96232260e-03, 3.96232260e-03, 3.96232260e-03, ...,\n",
      "       7.50825983e+12, 7.37585942e+12, 7.50784820e+12]), 'time': array([39.5647, 39.5657, 39.5667, ..., 55.9987, 55.9997, 56.0007])}, 'WMHD': {'signal': array([-1., -1., -1., ..., -1., -1., -1.]), 'time': array([39.5647, 39.5657, 39.5667, ..., 55.9987, 55.9997, 56.0007])}, 'Flat_top': array([48.0021, 50.9901]), 'Ramp_down': array([50.9901, 51.0013]), 'disr_ipla_td': 50.93430000000001, 'Ramp_up': array([41.0647, 48.0021]), 'RNT': {'signal': array([nan, nan, nan, ...,  0.,  0.,  0.]), 'time': array([39.5647, 39.5657, 39.5667, ..., 55.9987, 55.9997, 56.0007])}}, 'JETno96399': {'SSXcore': {'signal': array([0.00213629, 0.0019837 , 0.00137334, ..., 0.00213629, 0.0018311 ,\n",
      "       0.00106815]), 'time': array([40.     , 40.00004, 40.00008, ..., 72.89992, 72.89996, 72.9    ])}, 'IP': {'signal': array([-0.00021362, -0.00021362, -0.00021362, ..., -0.00021362,\n",
      "       -0.00021362, -0.00021362]), 'time': array([39.6976, 39.6986, 39.6996, ..., 59.2066, 59.2076, 59.2086])}, 'DAO_EDG7': {'signal': array([4.25492600e-03, 4.25492600e-03, 4.25492600e-03, ...,\n",
      "       1.49984340e+13, 2.50565565e+13, 1.49258966e+13]), 'time': array([39.6976, 39.6986, 39.6996, ..., 59.2066, 59.2076, 59.2086])}, 'WMHD': {'signal': array([-1., -1., -1., ..., -1., -1., -1.]), 'time': array([39.6976, 39.6986, 39.6996, ..., 59.2066, 59.2076, 59.2086])}, 'Flat_top': array([45.008 , 54.1699]), 'Ramp_down': array([54.1699, 54.2091]), 'disr_ipla_td': 54.184200000000004, 'Ramp_up': array([41.1976, 45.008 ]), 'RNT': {'signal': array([nan, nan, nan, ...,  0.,  0.,  0.]), 'time': array([39.6976, 39.6986, 39.6996, ..., 59.2066, 59.2076, 59.2086])}}, 'JETno95033': {'SSXcore': {'signal': array([0.00183111, 0.00183111, 0.00152592, ..., 0.00167851, 0.00137334,\n",
      "       0.00122073]), 'time': array([40.     , 40.00004, 40.00008, ..., 72.89992, 72.89996, 72.9    ])}, 'IP': {'signal': array([0.01967239, 0.01967239, 0.01967239, ..., 0.01967239, 0.01967239,\n",
      "       0.01967239]), 'time': array([39.3891, 39.3901, 39.3911, ..., 55.1121, 55.1131, 55.1141])}, 'DAO_EDG7': {'signal': array([ 4.25492600e-03,  4.25633440e-03,  4.27033282e-03, ...,\n",
      "       -2.49202252e+12,  7.25020073e+12,  7.29250906e+12]), 'time': array([39.3891, 39.3901, 39.3911, ..., 55.1121, 55.1131, 55.1141])}, 'WMHD': {'signal': array([-1., -1., -1., ..., -1., -1., -1.]), 'time': array([39.3891, 39.3901, 39.3911, ..., 55.1121, 55.1131, 55.1141])}, 'Flat_top': array([42.0081, 50.1139]), 'Ramp_down': array([50.1139, 50.1149]), 'disr_ipla_td': 50.25410000000001, 'Ramp_up': array([40.8891, 42.0081]), 'RNT': {'signal': array([nan, nan, nan, ...,  0.,  0.,  0.]), 'time': array([39.3891, 39.3901, 39.3911, ..., 55.1121, 55.1131, 55.1141])}}, 'JETno96374': {'SSXcore': {'signal': array([       nan,        nan,        nan, ..., 0.00091556, 0.00122075,\n",
      "       0.00137334]), 'time': array([39.4496, 39.4516, 39.4536, ..., 56.5336, 56.5356, 56.5376])}, 'IP': {'signal': array([        nan,         nan,         nan, ..., -0.02776337,\n",
      "       -0.02776337, -0.02776337]), 'time': array([39.4496, 39.4516, 39.4536, ..., 56.5336, 56.5356, 56.5376])}, 'DAO_EDG7': {'signal': array([ 3.95620863e-03,  3.96232260e-03,  3.96232260e-03, ...,\n",
      "       -1.25215937e+13,  7.58227979e+12, -2.52672772e+12]), 'time': array([39.4496, 39.4516, 39.4536, ..., 56.5336, 56.5356, 56.5376])}, 'WMHD': {'signal': array([nan, nan, nan, ..., -1., -1., -1.]), 'time': array([39.4496, 39.4516, 39.4536, ..., 56.5336, 56.5356, 56.5376])}, 'Flat_top': array([47.5501, 51.03  ]), 'Ramp_down': array([51.03  , 51.5394]), 'disr_ipla_td': 51.4153, 'Ramp_up': array([40.9496, 47.5501]), 'RNT': {'signal': array([           nan,            nan,            nan, ...,\n",
      "       4.02849913e+10, 3.31762313e+10, 2.60674713e+10]), 'time': array([39.4496, 39.4516, 39.4536, ..., 56.5336, 56.5356, 56.5376])}}, 'JETno92234': {'SSXcore': {'signal': array([0.00103   , 0.00103   , 0.00103   , ..., 0.00068667, 0.00091554,\n",
      "       0.00125887]), 'time': array([39.3891, 39.3901, 39.3911, ..., 59.6701, 59.6711, 59.6721])}, 'IP': {'signal': array([-0.01849174, -0.01849174, -0.01849174, ..., -0.01849174,\n",
      "       -0.01849174, -0.01849174]), 'time': array([39.3891, 39.3901, 39.3911, ..., 59.6701, 59.6711, 59.6721])}, 'DAO_EDG7': {'signal': array([ 4.56118681e-03,  4.54746094e-03,  4.54746094e-03, ...,\n",
      "       -3.86364820e+12,  3.83954477e+12, -1.93465876e+12]), 'time': array([39.3891, 39.3901, 39.3911, ..., 59.6701, 59.6711, 59.6721])}, 'WMHD': {'signal': array([-1., -1., -1., ..., nan, nan, nan]), 'time': array([39.3891, 39.3901, 39.3911, ..., 59.6701, 59.6711, 59.6721])}, 'Flat_top': array([42.808, 52.   ]), 'Ramp_down': array([52.    , 54.6725]), 'disr_ipla_td': nan, 'Ramp_up': array([40.8891, 42.808 ]), 'RNT': {'signal': array([nan, nan, nan, ...,  0.,  0.,  0.]), 'time': array([39.3891, 39.3901, 39.3911, ..., 59.6701, 59.6711, 59.6721])}}, 'JETno90694': {'SSXcore': {'signal': array([0.00091556, 0.00068668, 0.00137334, ..., 0.00083925, 0.00083926,\n",
      "       0.00053407]), 'time': array([40.     , 40.00004, 40.00008, ..., 69.89992, 69.89996, 69.9    ])}, 'IP': {'signal': array([-0.01388168, -0.01388168, -0.01388168, ..., -0.01388168,\n",
      "       -0.01388168, -0.01388168]), 'time': array([39.6771, 39.6781, 39.6791, ..., 57.0381, 57.0391, 57.0401])}, 'DAO_EDG7': {'signal': array([ 4.25486127e-03,  4.25486127e-03,  4.25486127e-03, ...,\n",
      "       -2.37414065e+12,  3.32520460e+12, -4.51512571e+11]), 'time': array([39.6771, 39.6781, 39.6791, ..., 57.0381, 57.0391, 57.0401])}, 'WMHD': {'signal': array([-1., -1., -1., ..., -1., -1., -1.]), 'time': array([39.6771, 39.6781, 39.6791, ..., 57.0381, 57.0391, 57.0401])}, 'Flat_top': array([44.704 , 52.0361]), 'Ramp_down': array([52.0361, 52.041 ]), 'disr_ipla_td': 51.9804, 'Ramp_up': array([41.1771, 44.704 ]), 'RNT': {'signal': array([nan, nan, nan, ...,  0.,  0.,  0.]), 'time': array([39.6771, 39.6781, 39.6791, ..., 57.0381, 57.0391, 57.0401])}}, 'JETno95607': {'SSXcore': {'signal': array([0.00259407, 0.00106815, 0.00213629, ..., 0.00198369, 0.00274666,\n",
      "       0.0019837 ]), 'time': array([40.     , 40.00004, 40.00008, ..., 72.89992, 72.89996, 72.9    ])}, 'IP': {'signal': array([0.0014534, 0.0014534, 0.0014534, ...,       nan,       nan,\n",
      "             nan]), 'time': array([39.4372, 39.4382, 39.4392, ..., 69.0872, 69.0882, 69.0892])}, 'DAO_EDG7': {'signal': array([4.15410351e-03, 4.14009979e-03, 4.12609608e-03, ...,\n",
      "       2.50742833e+12, 2.48717583e+12, 2.42781039e+12]), 'time': array([39.4372, 39.4382, 39.4392, ..., 69.0872, 69.0882, 69.0892])}, 'WMHD': {'signal': array([-1., -1., -1., ..., -1., -1., -1.]), 'time': array([39.4372, 39.4382, 39.4392, ..., 69.0872, 69.0882, 69.0892])}, 'Flat_top': array([45.0001, 64.0841]), 'Ramp_down': array([64.0841, 64.0892]), 'disr_ipla_td': 64.0677, 'Ramp_up': array([40.9372, 45.0001]), 'RNT': {'signal': array([nan, nan, nan, ...,  0.,  0.,  0.]), 'time': array([39.4372, 39.4382, 39.4392, ..., 69.0872, 69.0882, 69.0892])}}, 'JETno98412': {'SSXcore': {'signal': array([       nan,        nan,        nan, ..., 0.00213624, 0.00160219,\n",
      "       0.00206002]), 'time': array([39.5625, 39.5645, 39.5665, ..., 66.8485, 66.8505, 66.8525])}, 'IP': {'signal': array([ 2.80075073e-02,  2.80075073e-02,  2.80075073e-02, ...,\n",
      "       -3.68823633e+05, -3.68409478e+05, -3.67995459e+05]), 'time': array([39.5625, 39.5645, 39.5665, ..., 66.8485, 66.8505, 66.8525])}, 'DAO_EDG7': {'signal': array([4.14006505e-03, 4.14006505e-03, 4.14006505e-03, ...,\n",
      "       5.86949784e+14, 5.97115437e+14, 5.96456024e+14]), 'time': array([39.5625, 39.5645, 39.5665, ..., 66.8485, 66.8505, 66.8525])}, 'WMHD': {'signal': array([-1.00000000e+00, -1.00000000e+00, -1.00000000e+00, ...,\n",
      "        8.21723192e+04,  9.29143815e+04,  9.14112345e+04]), 'time': array([39.5625, 39.5645, 39.5665, ..., 66.8485, 66.8505, 66.8525])}, 'Flat_top': array([44.4001, 62.    ]), 'Ramp_down': array([62.    , 65.3526]), 'disr_ipla_td': 0.8110300081103001, 'Ramp_up': array([41.0625, 44.4001]), 'RNT': {'signal': array([nan, nan, nan, ...,  0.,  0.,  0.]), 'time': array([39.5625, 39.5645, 39.5665, ..., 66.8485, 66.8505, 66.8525])}}, 'JETno92389': {'SSXcore': {'signal': array([0.00030519, 0.00061037, 0.00099187, ..., 0.00099187, 0.00106816,\n",
      "       0.00083926]), 'time': array([40.     , 40.00004, 40.00008, ..., 69.89992, 69.89996, 69.9    ])}, 'IP': {'signal': array([0.00278854, 0.00278854, 0.00278854, ..., 0.00278854, 0.00278854,\n",
      "       0.00278854]), 'time': array([39.3891, 39.3901, 39.3911, ..., 50.0731, 50.0741, 50.0751])}, 'DAO_EDG7': {'signal': array([ 4.40859892e-03,  4.39781632e-03,  4.42707003e-03, ...,\n",
      "        1.96959903e+12, -1.90450384e+12,  5.81295469e+12]), 'time': array([39.3891, 39.3901, 39.3911, ..., 50.0731, 50.0741, 50.0751])}, 'WMHD': {'signal': array([-1., -1., -1., ..., -1., -1., -1.]), 'time': array([39.3891, 39.3901, 39.3911, ..., 50.0731, 50.0741, 50.0751])}, 'Flat_top': array([44.1981, 45.074 ]), 'Ramp_down': array([45.074 , 45.0753]), 'disr_ipla_td': 45.3751, 'Ramp_up': array([40.8891, 44.1981]), 'RNT': {'signal': array([nan, nan, nan, ...,  0.,  0.,  0.]), 'time': array([39.3891, 39.3901, 39.3911, ..., 50.0731, 50.0741, 50.0751])}}, 'JETno90513': {'SSXcore': {'signal': array([0.00068666, 0.00061038, 0.00114445, ..., 0.00122075, 0.00114444,\n",
      "       0.00106815]), 'time': array([40.     , 40.00004, 40.00008, ..., 69.89992, 69.89996, 69.9    ])}, 'IP': {'signal': array([-0.01087952, -0.01087952, -0.01087952, ..., -0.01087952,\n",
      "       -0.01087952, -0.01087952]), 'time': array([39.4372, 39.4382, 39.4392, ..., 60.0122, 60.0132, 60.0142])}, 'DAO_EDG7': {'signal': array([ 4.25486127e-03,  4.25486127e-03,  4.25486127e-03, ...,\n",
      "       -2.35303567e+12,  3.32411201e+12, -4.76500323e+11]), 'time': array([39.4372, 39.4382, 39.4392, ..., 60.0122, 60.0132, 60.0142])}, 'WMHD': {'signal': array([-1., -1., -1., ..., -1., -1., -1.]), 'time': array([39.4372, 39.4382, 39.4392, ..., 60.0122, 60.0132, 60.0142])}, 'Flat_top': array([45.008, 52.064]), 'Ramp_down': array([52.064 , 55.0146]), 'disr_ipla_td': 54.1773, 'Ramp_up': array([40.9372, 45.008 ]), 'RNT': {'signal': array([nan, nan, nan, ...,  0.,  0.,  0.]), 'time': array([39.4372, 39.4382, 39.4392, ..., 60.0122, 60.0132, 60.0142])}}}\n"
     ]
    }
   ],
   "source": [
    "remote_script_path = \"/home/tost/remote_processing.py\"\n",
    "local_script_path = r\"C:\\Users\\Max Tost\\Desktop\\Notebooks\\SPC Neural Network Project\\Server_Scripts/remote_processing.py\"\n",
    "result_file = \"all_JET_data.pkl\"\n",
    "\n",
    "# Execute the remote script and retrieve the results\n",
    "processed_data = execute_remote_script_download(local_script_path, remote_script_path, result_file)\n",
    "print(processed_data)"
   ]
  },
  {
   "cell_type": "markdown",
   "metadata": {},
   "source": [
    "## Uploading a script on the server and executing it, no download"
   ]
  },
  {
   "cell_type": "code",
   "execution_count": null,
   "metadata": {},
   "outputs": [
    {
     "name": "stdout",
     "output_type": "stream",
     "text": [
      "SFTP session established!\n",
      "Uploaded C:\\Users\\Max Tost\\Desktop\\Notebooks\\SPC Neural Network Project\\Server_Scripts/check_keys.py to /home/tost/check_keys.py\n"
     ]
    }
   ],
   "source": [
    "remote_script_path = \"/home/tost/check_keys.py\"\n",
    "local_script_path = r\"C:\\Users\\Max Tost\\Desktop\\Notebooks\\SPC Neural Network Project\\Server_Scripts/check_keys.py\"\n",
    "\n",
    "# Execute the remote script and retrieve the results\n",
    "execute_remote_script(local_script_path, remote_script_path)"
   ]
  },
  {
   "cell_type": "markdown",
   "metadata": {},
   "source": [
    "## Plotting files"
   ]
  },
  {
   "cell_type": "code",
   "execution_count": 100,
   "metadata": {},
   "outputs": [],
   "source": [
    "pickle_file_name = r\"C:\\Users\\Max Tost\\Desktop\\Notebooks\\SPC Neural Network Project\\Server_Scripts\\all_JET_data.pkl\"  # Example Pickle file name\n",
    "data = load_pickle(pickle_file_name)"
   ]
  },
  {
   "cell_type": "code",
   "execution_count": 14,
   "metadata": {},
   "outputs": [
    {
     "data": {
      "image/png": "[encoded data removed]",
      "text/plain": [
       "<Figure size 1000x500 with 1 Axes>"
      ]
     },
     "metadata": {},
     "output_type": "display_data"
    }
   ],
   "source": [
    "n = 0  # Index of key to plot\n",
    "shot = -1  # Index of shot to plot\n",
    "\n",
    "shot_data = data[list(data.keys())[shot]]\n",
    "keys_jet = ['IP', 'WMHD', 'RNT', 'DAI_EDG7']\n",
    "plot_data(shot_data, keys_jet[n])"
   ]
  },
  {
   "cell_type": "code",
   "execution_count": 78,
   "metadata": {},
   "outputs": [
    {
     "data": {
      "text/plain": [
       "dict_keys(['JETno80962', 'JETno80976', 'JETno80911', 'JETno80821', 'JETno81200', 'JETno80331', 'JETno80822', 'JETno80823', 'JETno80824', 'JETno81197'])"
      ]
     },
     "execution_count": 78,
     "metadata": {},
     "output_type": "execute_result"
    }
   ],
   "source": [
    "data.keys()"
   ]
  },
  {
   "cell_type": "markdown",
   "metadata": {},
   "source": [
    "## Installing extensions on server"
   ]
  },
  {
   "cell_type": "code",
   "execution_count": 69,
   "metadata": {},
   "outputs": [
    {
     "name": "stdout",
     "output_type": "stream",
     "text": [
      "SFTP session established!\n",
      "Uploaded C:\\Users\\Max Tost\\Desktop\\Notebooks\\SPC Neural Network Project\\Server_Scripts\\check_extensions.py to /home/tost/check_extensions.py\n",
      "scipy is installed.\n",
      "paramiko is installed.\n",
      "h5py is installed.\n",
      "numpy is installed.\n",
      "pickle is installed.\n",
      "torch is NOT installed.\n",
      "Missing packages: ['torch']\n",
      "\n",
      "/home/tost/.local/lib/python2.7/site-packages/paramiko/transport.py:33: CryptographyDeprecationWarning: Python 2 is no longer supported by the Python core team. Support for it is now deprecated in cryptography, and will be removed in the next release.\n",
      "  from cryptography.hazmat.backends import default_backend\n",
      "\n",
      "SFTP session closed.\n"
     ]
    }
   ],
   "source": [
    "# Define the paths for the check script\n",
    "remote_script_path = \"/home/tost/check_extensions.py\"\n",
    "local_script_path = r\"C:\\Users\\Max Tost\\Desktop\\Notebooks\\SPC Neural Network Project\\Server_Scripts\\check_extensions.py\"\n",
    "\n",
    "# Execute the remote script to check for necessary extensions\n",
    "execute_remote_script(local_script_path, remote_script_path)"
   ]
  },
  {
   "cell_type": "code",
   "execution_count": null,
   "metadata": {},
   "outputs": [],
   "source": [
    "# Define the paths for the install script\n",
    "remote_script_path = \"/home/tost/install_packages.py\"\n",
    "local_script_path = r\"C:\\Users\\Max Tost\\Desktop\\Notebooks\\SPC Neural Network Project\\Server_Scripts\\install_packages.py\"\n",
    "\n",
    "# Execute the remote script to install the missing packages\n",
    "execute_remote_script(local_script_path, remote_script_path)"
   ]
  },
  {
   "cell_type": "markdown",
   "metadata": {},
   "source": [
    "## Downloading pickle file on server if it exists"
   ]
  },
  {
   "cell_type": "code",
   "execution_count": 9,
   "metadata": {},
   "outputs": [
    {
     "name": "stdout",
     "output_type": "stream",
     "text": [
      "SFTP session established!\n",
      "Attempting to download /home/tost/all_JET_data.pkl to C:\\Users\\Max Tost\\Desktop\\Notebooks\\SPC Neural Network Project\\all_JET_data_existing.pkl\n",
      "Downloaded /home/tost/all_JET_data.pkl to C:\\Users\\Max Tost\\Desktop\\Notebooks\\SPC Neural Network Project\\all_JET_data_existing.pkl\n",
      "SFTP session closed.\n"
     ]
    }
   ],
   "source": [
    "# Example usage\n",
    "remote_file_path = \"/home/tost/all_JET_data.pkl\"\n",
    "local_file_path = r\"C:\\Users\\Max Tost\\Desktop\\Notebooks\\SPC Neural Network Project\\all_JET_data_existing.pkl\"\n",
    "\n",
    "# Download the existing Pickle file\n",
    "download_existing_pickle(remote_file_path, local_file_path)"
   ]
  },
  {
   "cell_type": "code",
   "execution_count": 10,
   "metadata": {},
   "outputs": [],
   "source": [
    "pickle_file_name = r\"C:\\Users\\Max Tost\\Desktop\\Notebooks\\SPC Neural Network Project\\all_JET_data_existing.pkl\"  # Example Pickle file name\n",
    "data = load_pickle(pickle_file_name)"
   ]
  },
  {
   "cell_type": "markdown",
   "metadata": {},
   "source": [
    "## Opening csv file with RE detected shots"
   ]
  },
  {
   "cell_type": "code",
   "execution_count": 15,
   "metadata": {},
   "outputs": [
    {
     "name": "stdout",
     "output_type": "stream",
     "text": [
      "689\n"
     ]
    }
   ],
   "source": [
    "import numpy as np\n",
    "import csv\n",
    "\n",
    "# Read the shot numbers from the CSV file\n",
    "shot_numbers = []\n",
    "with open(r'C:\\Users\\Max Tost\\Desktop\\Notebooks\\SPC Neural Network Project\\Data\\automatic_RE_numbers.csv', 'r') as csvfile:\n",
    "    reader = csv.reader(csvfile)\n",
    "    for row in reader:\n",
    "        shot_numbers.append(int(row[0]))\n",
    "\n",
    "# Convert the list of shot numbers to a NumPy array\n",
    "shot_numbers_array = np.array(shot_numbers)\n",
    "\n",
    "print(len(shot_numbers_array))"
   ]
  },
  {
   "cell_type": "code",
   "execution_count": null,
   "metadata": {},
   "outputs": [],
   "source": []
  }
 ],
 "metadata": {
  "kernelspec": {
   "display_name": "Python 3 (ipykernel)",
   "language": "python",
   "name": "python3"
  },
  "language_info": {
   "codemirror_mode": {
    "name": "ipython",
    "version": 3
   },
   "file_extension": ".py",
   "mimetype": "text/x-python",
   "name": "python",
   "nbconvert_exporter": "python",
   "pygments_lexer": "ipython3",
   "version": "3.11.5"
  }
 },
 "nbformat": 4,
 "nbformat_minor": 2
}
