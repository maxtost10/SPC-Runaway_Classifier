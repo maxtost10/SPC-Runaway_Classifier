{
 "cells": [
  {
   "cell_type": "code",
   "execution_count": 1,
   "metadata": {},
   "outputs": [
    {
     "name": "stderr",
     "output_type": "stream",
     "text": [
      "C:\\Users\\Max Tost\\anaconda3\\Lib\\site-packages\\paramiko\\transport.py:219: CryptographyDeprecationWarning: Blowfish has been deprecated\n",
      "  \"class\": algorithms.Blowfish,\n"
     ]
    }
   ],
   "source": [
    "import pickle\n",
    "import sys\n",
    "import csv\n",
    "import random\n",
    "sys.path.append(r'C:\\Users\\Max Tost\\Desktop\\Notebooks\\SPC Neural Network Project')\n",
    "from execute_remote_scripts import *\n",
    "# from Processing_Data.downsampling import *\n",
    "%matplotlib widget\n",
    "import matplotlib.pyplot as plt\n",
    "import pandas as pd\n",
    "from scipy.stats import gaussian_kde\n",
    "%load_ext autoreload\n",
    "%autoreload 2\n",
    "# from Server_Scripts.remote_processing_csv import *\n",
    "from Processing_Data.EDA import *\n",
    "\n",
    "# Enable LaTeX rendering\n",
    "plt.rcParams.update({\n",
    "    \"text.usetex\": False, \n",
    "    \"font.family\": \"serif\"\n",
    "})"
   ]
  },
  {
   "cell_type": "code",
   "execution_count": 4,
   "metadata": {},
   "outputs": [
    {
     "name": "stdout",
     "output_type": "stream",
     "text": [
      "DataFrame 84162: NaNs = 832, Infs = 0\n",
      "DataFrame 86646: NaNs = 232, Infs = 0\n",
      "DataFrame 99034: NaNs = 272, Infs = 0\n",
      "Dropped DataFrames: [84162, 86646, 99034]\n"
     ]
    },
    {
     "data": {
      "text/plain": [
       "['SSXcore', 'IPLA', 'DAO_EDG7', 'WMHD', 'RNT', 'DAI_EDG7']"
      ]
     },
     "execution_count": 4,
     "metadata": {},
     "output_type": "execute_result"
    }
   ],
   "source": [
    "# Loading Shot numbers\n",
    "base_path = r'C:\\Users\\Max Tost\\Desktop\\Notebooks\\SPC Neural Network Project\\CSV_Files_NO_RE'\n",
    "files = os.listdir(base_path)\n",
    "# Loading all csv files into a diciotnary\n",
    "# dataframes = {}\n",
    "for file in files:\n",
    "    dataframes[int(file.split('.')[0].split('no')[1])] = pd.read_csv(os.path.join(base_path, file))\n",
    "    \n",
    "RE_autom = list(pd.read_csv(r'C:\\Users\\Max Tost\\Desktop\\Notebooks\\SPC Neural Network Project\\Data\\automatic_RE_numbers.csv', header=None)[0])\n",
    "RE_valid = list(pd.read_csv(r'C:\\Users\\Max Tost\\Desktop\\Notebooks\\SPC Neural Network Project\\Data\\validated_RE_numbers.csv', header=None)[0])\n",
    "\n",
    "# Checking for NaNs and Infs and dropping them if necessary\n",
    "check_nans_infs(dataframes, drop=True)\n",
    "\n",
    "# Updating the shot lists\n",
    "RE_autom = [shot for shot in RE_autom if shot in dataframes.keys()]\n",
    "RE_valid = [shot for shot in RE_valid if shot in dataframes.keys()]\n",
    "NO_RE_probably = [key for key in dataframes.keys() if key not in RE_autom and key not in RE_valid]\n",
    "\n",
    "# Extracting the keys of the variables\n",
    "features = list(dataframes[NO_RE_probably[0]].keys()) #to_numpy()\n",
    "features.pop(features.index('time'))\n",
    "features"
   ]
  },
  {
   "cell_type": "code",
   "execution_count": 2,
   "metadata": {},
   "outputs": [
    {
     "ename": "NameError",
     "evalue": "name 'RE_autom' is not defined",
     "output_type": "error",
     "traceback": [
      "\u001b[1;31m---------------------------------------------------------------------------\u001b[0m",
      "\u001b[1;31mNameError\u001b[0m                                 Traceback (most recent call last)",
      "Cell \u001b[1;32mIn[2], line 2\u001b[0m\n\u001b[0;32m      1\u001b[0m random\u001b[38;5;241m.\u001b[39mseed(\u001b[38;5;241m42\u001b[39m) \u001b[38;5;66;03m# So that we always work with the same ones.\u001b[39;00m\n\u001b[1;32m----> 2\u001b[0m random_50_re \u001b[38;5;241m=\u001b[39m random\u001b[38;5;241m.\u001b[39msample(RE_autom, \u001b[38;5;241m50\u001b[39m)\n",
      "\u001b[1;31mNameError\u001b[0m: name 'RE_autom' is not defined"
     ]
    }
   ],
   "source": [
    "random.seed(42) # So that we always work with the same ones.\n",
    "random_50_re = random.sample(RE_autom, 50)  # Ensures no duplicates"
   ]
  },
  {
   "cell_type": "code",
   "execution_count": null,
   "metadata": {},
   "outputs": [],
   "source": []
  }
 ],
 "metadata": {
  "kernelspec": {
   "display_name": "Python 3 (ipykernel)",
   "language": "python",
   "name": "python3"
  },
  "language_info": {
   "codemirror_mode": {
    "name": "ipython",
    "version": 3
   },
   "file_extension": ".py",
   "mimetype": "text/x-python",
   "name": "python",
   "nbconvert_exporter": "python",
   "pygments_lexer": "ipython3",
   "version": "3.11.5"
  }
 },
 "nbformat": 4,
 "nbformat_minor": 2
}
