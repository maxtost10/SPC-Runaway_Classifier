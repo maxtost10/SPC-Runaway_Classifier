{
 "cells": [
  {
   "cell_type": "code",
   "execution_count": 5,
   "metadata": {},
   "outputs": [
    {
     "name": "stdout",
     "output_type": "stream",
     "text": [
      "The autoreload extension is already loaded. To reload it, use:\n",
      "  %reload_ext autoreload\n"
     ]
    }
   ],
   "source": [
    "import sys\n",
    "sys.path.append(r'C:\\Users\\Max Tost\\Desktop\\Notebooks\\SPC Neural Network Project')\n",
    "from execute_remote_scripts import *\n",
    "%matplotlib widget\n",
    "import matplotlib.pyplot as plt\n",
    "import random\n",
    "%load_ext autoreload\n",
    "%autoreload 2\n",
    "import shutil\n",
    "\n",
    "from Processing_Data.EDA import *\n",
    "from Processing_Data.create_labels import * # To load the data in dictionaries\n",
    "\n",
    "# Enable LaTeX rendering\n",
    "plt.rcParams.update({\n",
    "    \"text.usetex\": False, \n",
    "    \"font.family\": \"serif\"\n",
    "})"
   ]
  },
  {
   "cell_type": "code",
   "execution_count": 28,
   "metadata": {},
   "outputs": [
    {
     "name": "stdout",
     "output_type": "stream",
     "text": [
      "Replaced 4573 outlier values with capped thresholds.\n",
      "DataFrame 84162: 832 NaNs found. Replacing NaNs with 0.\n",
      "Replaced 6299 outlier values with capped thresholds.\n",
      "Replaced 4266 outlier values with capped thresholds.\n",
      "Replaced 6627 outlier values with capped thresholds.\n",
      "DataFrame 86646: 232 NaNs found. Replacing NaNs with 0.\n",
      "Replaced 6315 outlier values with capped thresholds.\n",
      "Replaced 7238 outlier values with capped thresholds.\n",
      "Replaced 10234 outlier values with capped thresholds.\n",
      "Replaced 7164 outlier values with capped thresholds.\n",
      "Replaced 6445 outlier values with capped thresholds.\n",
      "Replaced 4739 outlier values with capped thresholds.\n",
      "Replaced 6916 outlier values with capped thresholds.\n",
      "Replaced 7108 outlier values with capped thresholds.\n",
      "Replaced 4550 outlier values with capped thresholds.\n",
      "DataFrame 95732: 1408 NaNs found. Replacing NaNs with 0.\n",
      "Replaced 5148 outlier values with capped thresholds.\n",
      "DataFrame 95768: 1791 NaNs found. Replacing NaNs with 0.\n",
      "Replaced 7192 outlier values with capped thresholds.\n",
      "Replaced 5963 outlier values with capped thresholds.\n",
      "Replaced 6976 outlier values with capped thresholds.\n",
      "Replaced 7546 outlier values with capped thresholds.\n",
      "Replaced 5146 outlier values with capped thresholds.\n",
      "Replaced 9597 outlier values with capped thresholds.\n",
      "DataFrame 98150: 20 NaNs found. Replacing NaNs with 0.\n",
      "Replaced 4232 outlier values with capped thresholds.\n",
      "DataFrame 98169: 700 NaNs found. Replacing NaNs with 0.\n",
      "Replaced 6191 outlier values with capped thresholds.\n",
      "Replaced 3212 outlier values with capped thresholds.\n",
      "DataFrame 98176: 2719 NaNs found. Replacing NaNs with 0.\n",
      "Replaced 6056 outlier values with capped thresholds.\n",
      "DataFrame 99034: 272 NaNs found. Replacing NaNs with 0.\n",
      "Loaded 24 shots.\n",
      "Automatic RE shots: 11\n",
      "Validated RE shots: 11\n",
      "Probably NO RE shots: 13\n",
      "Features: ['SSXcore', 'IPLA', 'DAO_EDG7', 'WMHD', 'RNT', 'DAI_EDG7']\n"
     ]
    }
   ],
   "source": [
    "# Loading classified shots in dictionaries; time: 6min 27\n",
    "base_path = r'C:\\Users\\Max Tost\\Desktop\\Notebooks\\SPC Neural Network Project\\CSV_test' # Change this depending on purpose\n",
    "re_autom_path = r'C:\\Users\\Max Tost\\Desktop\\Notebooks\\SPC Neural Network Project\\Data\\automatic_RE_numbers.csv'\n",
    "re_valid_path = r'C:\\Users\\Max Tost\\Desktop\\Notebooks\\SPC Neural Network Project\\Data\\validated_RE_numbers.csv'\n",
    "\n",
    "dataframes, RE_autom, RE_valid, NO_RE_probably, features = load_and_process_data(\n",
    "    base_path, re_autom_path, re_valid_path, check_nans_infs\n",
    ")\n",
    "\n",
    "# Print results\n",
    "print(f\"Loaded {len(dataframes)} shots.\")\n",
    "print(f\"Automatic RE shots: {len(RE_autom)}\")\n",
    "print(f\"Validated RE shots: {len(RE_valid)}\")\n",
    "print(f\"Probably NO RE shots: {len(NO_RE_probably)}\")\n",
    "print(f\"Features: {features}\")"
   ]
  },
  {
   "cell_type": "code",
   "execution_count": 25,
   "metadata": {},
   "outputs": [
    {
     "data": {
      "text/plain": [
       "[84162,\n",
       " 84869,\n",
       " 84989,\n",
       " 86646,\n",
       " 89183,\n",
       " 89640,\n",
       " 89768,\n",
       " 90579,\n",
       " 90887,\n",
       " 93726,\n",
       " 94641,\n",
       " 96272,\n",
       " 99034]"
      ]
     },
     "execution_count": 25,
     "metadata": {},
     "output_type": "execute_result"
    }
   ],
   "source": [
    "NO_RE_probably"
   ]
  },
  {
   "cell_type": "code",
   "execution_count": 26,
   "metadata": {},
   "outputs": [],
   "source": [
    "random.seed(42) # So that we always work with the same ones.\n",
    "random_50_re = random.sample(RE_valid, 7)  # Ensures no duplicates"
   ]
  },
  {
   "cell_type": "code",
   "execution_count": 91,
   "metadata": {},
   "outputs": [],
   "source": [
    "# #In case we need to recreate the dictionary\n",
    "# RE_lifetimes = {}\n",
    "\n",
    "# np.savez(r\"C:\\Users\\Max Tost\\Desktop\\Notebooks\\SPC Neural Network Project\\Processing_Data\\RE_lifetime.npz\", **RE_lifetimes)\n"
   ]
  },
  {
   "cell_type": "code",
   "execution_count": 10,
   "metadata": {},
   "outputs": [
    {
     "data": {
      "text/html": [
       "<div>\n",
       "<style scoped>\n",
       "    .dataframe tbody tr th:only-of-type {\n",
       "        vertical-align: middle;\n",
       "    }\n",
       "\n",
       "    .dataframe tbody tr th {\n",
       "        vertical-align: top;\n",
       "    }\n",
       "\n",
       "    .dataframe thead th {\n",
       "        text-align: right;\n",
       "    }\n",
       "</style>\n",
       "<table border=\"1\" class=\"dataframe\">\n",
       "  <thead>\n",
       "    <tr style=\"text-align: right;\">\n",
       "      <th></th>\n",
       "      <th>SSXcore</th>\n",
       "      <th>time</th>\n",
       "      <th>IPLA</th>\n",
       "      <th>DAO_EDG7</th>\n",
       "      <th>WMHD</th>\n",
       "      <th>DAI_EDG7</th>\n",
       "      <th>ECE_PF</th>\n",
       "    </tr>\n",
       "  </thead>\n",
       "  <tbody>\n",
       "    <tr>\n",
       "      <th>0</th>\n",
       "      <td>0.003243</td>\n",
       "      <td>53.2662</td>\n",
       "      <td>-14773.960015</td>\n",
       "      <td>1.662650e+13</td>\n",
       "      <td>-1.0</td>\n",
       "      <td>7.235604e+13</td>\n",
       "      <td>2.642404</td>\n",
       "    </tr>\n",
       "    <tr>\n",
       "      <th>1</th>\n",
       "      <td>0.003243</td>\n",
       "      <td>53.2672</td>\n",
       "      <td>-14773.960015</td>\n",
       "      <td>1.662650e+13</td>\n",
       "      <td>-1.0</td>\n",
       "      <td>7.235604e+13</td>\n",
       "      <td>2.643238</td>\n",
       "    </tr>\n",
       "    <tr>\n",
       "      <th>2</th>\n",
       "      <td>0.003243</td>\n",
       "      <td>53.2682</td>\n",
       "      <td>-14773.960015</td>\n",
       "      <td>1.662650e+13</td>\n",
       "      <td>-1.0</td>\n",
       "      <td>7.235604e+13</td>\n",
       "      <td>2.645185</td>\n",
       "    </tr>\n",
       "    <tr>\n",
       "      <th>3</th>\n",
       "      <td>0.003243</td>\n",
       "      <td>53.2692</td>\n",
       "      <td>-14773.960015</td>\n",
       "      <td>1.662650e+13</td>\n",
       "      <td>-1.0</td>\n",
       "      <td>7.235604e+13</td>\n",
       "      <td>2.647874</td>\n",
       "    </tr>\n",
       "    <tr>\n",
       "      <th>4</th>\n",
       "      <td>0.003243</td>\n",
       "      <td>53.2702</td>\n",
       "      <td>-14773.960015</td>\n",
       "      <td>1.662650e+13</td>\n",
       "      <td>-1.0</td>\n",
       "      <td>7.235604e+13</td>\n",
       "      <td>2.651535</td>\n",
       "    </tr>\n",
       "    <tr>\n",
       "      <th>...</th>\n",
       "      <td>...</td>\n",
       "      <td>...</td>\n",
       "      <td>...</td>\n",
       "      <td>...</td>\n",
       "      <td>...</td>\n",
       "      <td>...</td>\n",
       "      <td>...</td>\n",
       "    </tr>\n",
       "    <tr>\n",
       "      <th>5995</th>\n",
       "      <td>0.002136</td>\n",
       "      <td>59.2612</td>\n",
       "      <td>-377.202434</td>\n",
       "      <td>-1.003228e+12</td>\n",
       "      <td>-1.0</td>\n",
       "      <td>1.848650e+13</td>\n",
       "      <td>0.000000</td>\n",
       "    </tr>\n",
       "    <tr>\n",
       "      <th>5996</th>\n",
       "      <td>0.001984</td>\n",
       "      <td>59.2622</td>\n",
       "      <td>-1456.609330</td>\n",
       "      <td>-4.901998e+12</td>\n",
       "      <td>-1.0</td>\n",
       "      <td>1.852758e+13</td>\n",
       "      <td>0.000000</td>\n",
       "    </tr>\n",
       "    <tr>\n",
       "      <th>5997</th>\n",
       "      <td>0.002213</td>\n",
       "      <td>59.2632</td>\n",
       "      <td>-3136.819484</td>\n",
       "      <td>9.472319e+11</td>\n",
       "      <td>-1.0</td>\n",
       "      <td>4.079275e+13</td>\n",
       "      <td>0.000000</td>\n",
       "    </tr>\n",
       "    <tr>\n",
       "      <th>5998</th>\n",
       "      <td>0.002899</td>\n",
       "      <td>59.2642</td>\n",
       "      <td>-2693.304118</td>\n",
       "      <td>-9.393658e+11</td>\n",
       "      <td>-1.0</td>\n",
       "      <td>3.313622e+13</td>\n",
       "      <td>0.000000</td>\n",
       "    </tr>\n",
       "    <tr>\n",
       "      <th>5999</th>\n",
       "      <td>0.002441</td>\n",
       "      <td>59.2652</td>\n",
       "      <td>-3355.024797</td>\n",
       "      <td>1.024747e+12</td>\n",
       "      <td>-1.0</td>\n",
       "      <td>4.038510e+13</td>\n",
       "      <td>0.000000</td>\n",
       "    </tr>\n",
       "  </tbody>\n",
       "</table>\n",
       "<p>6000 rows × 7 columns</p>\n",
       "</div>"
      ],
      "text/plain": [
       "       SSXcore     time          IPLA      DAO_EDG7  WMHD      DAI_EDG7  \\\n",
       "0     0.003243  53.2662 -14773.960015  1.662650e+13  -1.0  7.235604e+13   \n",
       "1     0.003243  53.2672 -14773.960015  1.662650e+13  -1.0  7.235604e+13   \n",
       "2     0.003243  53.2682 -14773.960015  1.662650e+13  -1.0  7.235604e+13   \n",
       "3     0.003243  53.2692 -14773.960015  1.662650e+13  -1.0  7.235604e+13   \n",
       "4     0.003243  53.2702 -14773.960015  1.662650e+13  -1.0  7.235604e+13   \n",
       "...        ...      ...           ...           ...   ...           ...   \n",
       "5995  0.002136  59.2612   -377.202434 -1.003228e+12  -1.0  1.848650e+13   \n",
       "5996  0.001984  59.2622  -1456.609330 -4.901998e+12  -1.0  1.852758e+13   \n",
       "5997  0.002213  59.2632  -3136.819484  9.472319e+11  -1.0  4.079275e+13   \n",
       "5998  0.002899  59.2642  -2693.304118 -9.393658e+11  -1.0  3.313622e+13   \n",
       "5999  0.002441  59.2652  -3355.024797  1.024747e+12  -1.0  4.038510e+13   \n",
       "\n",
       "        ECE_PF  \n",
       "0     2.642404  \n",
       "1     2.643238  \n",
       "2     2.645185  \n",
       "3     2.647874  \n",
       "4     2.651535  \n",
       "...        ...  \n",
       "5995  0.000000  \n",
       "5996  0.000000  \n",
       "5997  0.000000  \n",
       "5998  0.000000  \n",
       "5999  0.000000  \n",
       "\n",
       "[6000 rows x 7 columns]"
      ]
     },
     "execution_count": 10,
     "metadata": {},
     "output_type": "execute_result"
    }
   ],
   "source": [
    "dataframes[93936]"
   ]
  },
  {
   "cell_type": "code",
   "execution_count": 11,
   "metadata": {},
   "outputs": [],
   "source": [
    "# Turn usetex to true if you want to save the figure\n",
    "plt.rcParams.update({\n",
    "    \"text.usetex\": False, \n",
    "    \"font.family\": \"serif\"\n",
    "})"
   ]
  },
  {
   "cell_type": "code",
   "execution_count": 29,
   "metadata": {},
   "outputs": [
    {
     "name": "stdout",
     "output_type": "stream",
     "text": [
      "Stop, you are about to redo work!\n",
      "\n",
      "\n",
      "\n",
      "\n",
      "\n",
      "\n",
      "\n",
      "\n",
      "\n",
      "\n",
      "\n",
      "\n",
      "\n",
      "\n",
      "\n",
      "\n",
      "\n",
      "\n",
      "\n",
      "\n",
      "\n",
      "\n",
      "\n",
      "\n",
      "\n",
      "\n",
      "\n",
      "\n",
      "\n",
      "\n",
      "\n",
      "\n",
      "\n",
      "\n",
      "\n",
      "\n",
      "\n",
      "\n",
      "\n",
      "\n",
      "\n",
      "\n",
      "\n",
      "\n",
      "\n",
      "\n",
      "\n",
      "\n",
      "\n",
      "\n",
      "\n"
     ]
    },
    {
     "data": {
      "application/vnd.jupyter.widget-view+json": {
       "model_id": "8483259c62b446fda5b252bc3a5a1918",
       "version_major": 2,
       "version_minor": 0
      },
      "image/png": "[encoded data removed]",
      "text/html": [
       "\n",
       "            <div style=\"display: inline-block;\">\n",
       "                <div class=\"jupyter-widgets widget-label\" style=\"text-align: center;\">\n",
       "                    Figure\n",
       "                </div>\n",
       "                <img src='data:image/png;base64,iVBORw0KGgoAAAANSUhEUgAAAoAAAAHgCAYAAAA10dzkAAAAOXRFWHRTb2Z0d2FyZQBNYXRwbG90bGliIHZlcnNpb24zLjcuMiwgaHR0cHM6Ly9tYXRwbG90bGliLm9yZy8pXeV/AAAACXBIWXMAAA9hAAAPYQGoP6dpAABk/ElEQVR4nO3dd3wT9f8H8FfSRVvasimjUEAoypBZhpQGKCJDEZkyCw6+CII/EShDhorAV/yKAxVFpWgZigLKlkIZgpQhgmxp2ZRRoKW7Se73R2jaNDtNcknu9fQRubt87u6dy/Xunc/nPncyQRAEEBEREZFkyMUOgIiIiIiciwkgERERkcQwASQiIiKSGCaARERERBLDBJCIiIhIYpgAEhEREUkME0AiIiIiiWECSERERCQxTACJiIiIJIYJIBEREZHEMAEkIiIikhgmgEREREQSwwSQiIiISGKYABIRERFJDBNAIiIiIolhAkhEREQkMUwAiYiIiCSGCSARERGRxDABJCIiIpIYJoBEREREEsMEkIiIiEhimAASERERSQwTQCIiIiKJYQJIREREJDFMAImIiIgkhgkgERERkcQwASQiIiKSGCaARERERBLDBJCIiIhIYpgAEhEREUkME0AiIiIiiWECSERERCQxTACJiIiIJIYJIBEREZHEMAEkIiIikhgmgEREREQSwwSQiIiISGKYABIRERFJDBNAIiIiIolhAkhEREQkMUwAiYiIiCSGCSARERGRxDABJCIiIpIYJoBEREREEsMEkIiIiEhimAASERERSQwTQCIiIiKJYQJIREREJDFMAImIiIgkhgkgERERkcQwASQiIiKSGCaARERERBLDBJCIiIhIYpgAEhEREUkME0AiIiIiiWECSERERCQx3mIH4M7UajVu3LiBoKAgyGQyscMhIiIiCwiCgIcPH6JmzZqQy6VZF8YEsAxu3LiBsLAwscMgIiIiG1y9ehW1a9cWOwxRMAEsg6CgIACaHSg4OFjkaIiIiMgSmZmZCAsL057HpYgJYBkUNfsGBwczASQiInIzUr58S5oN30REREQSxgSQiIiISGKYABIRERFJDK8BJCIiyRAEAUqlEiqVSuxQyIG8vLzg7e0t6Wv8zGECSEREklBQUICbN28iJydH7FDICQICAlCjRg34+vqKHYpLYgJIREQeT61WIzU1FV5eXqhZsyZ8fX1ZO+ShBEFAQUEB7ty5g9TUVDRs2FCyN3s2hQkgERF5vIKCAqjVaoSFhSEgIEDscMjB/P394ePjg8uXL6OgoADlypUTOySXw5SYiIgkgzVB0sHv2jRuHSIiIiKJYQJIRETkwpKTk6FQKCCTydC4cWMoFAp06NABnTp1wtKlS1FYWKgtu2TJEvTr10/EaHVdunQJc+fO1Zver18/LFmyxOnxUDEmgERERC4sMjISSUlJAIC4uDgkJSXh4MGDWLlyJVavXo3u3bsjLy8PAFCtWjWEh4eLF2wply5dwrx58/Smh4eHo3r16iJEREWYABIREbmh+vXrY/PmzTh37hxmz54NABg6dCg++ugjkSMz76OPPsKLL74odhiSxgSQiIjITYWEhCA2NhbLli1DQkICWrRooXN7m/T0dAwcOBBPPfUUoqOj0bt3bxw6dAgA8PLLLyM0NBQjR45EXFwcunXrBh8fHyxZsgTt27eHTCbDpUuXAADTp09HaGgoYmNjAQDnzp3TNkt/9NFH6NWrF1q1aoWWLVvi6NGjAIBdu3bhjTfeAAAoFAooFAocPHgQU6dORXh4OBQKhc5n+f7779GiRQu0a9cOLVu2xE8//aR9r2Ss06ZNQ3R0NCIiIrB9+3bHbFgpEMhmGRkZAgAhIyND7FAMy8oSBEDzysoSOxoiItHk5uYKp0+fFnJzc/XfzMoy/ipd3lTZnBzLytoIgPDdd9/pTf/5558FAMKpU6eE3bt3CyVP7ePGjRNGjBihHZ85c6YwZ84c7fioUaOEChUqCH/99ZcgCILwzjvvCJs2bRJSU1MFAEJqaqpO2VGjRunF1L59eyHn0WefO3euUKtWLSEvL08QBEEvniJz5swRoqOjtePbt28XypcvL5w9e1YQBEE4ceKEUK5cOWH//v06669YsaJw5swZQRAE4eOPPxbq1KljdHuZ+s5d/vztBKwBJCIiaStf3virf3/dstWqGS/bs6du2fBww+XsLDg4GADw4MEDvfeuX7+O27dvIz8/HwAwadIkDB06VKdMixYt0KJFCwDA22+/jd69e1u1/pdffhn+/v7a5d+4cQM///yzVcuYP38++vbti4iICABAs2bN0KNHD7z//vs65Vq1aoXGjRsD0NQqXrlyBffv37dqXaTBBNCTyWRA3bqaF+94T0TkkTIyMgAAFStW1HsvLi4Of/31F8LCwjB+/Hhcu3YNjRo10ilTu3btMq2/bt262uEKFSqgcuXKOHPmjFXL+Oeff9CwYUOdaY899hj++ecfnWk1atTQDgcFBQEAMjMzrQ2ZwCeBeLaAAODR9RtERGREVpbx97y8dMdv3zZetvSNh510/D18+DBCQkLQqFEj3Lp1S+e9Dh064NKlS/jll1/w7bffonXr1vjss8/w2muvact4lf6MgMHH5KlUKoNlBUHQG7fXY/ZKL6fk+oveK71+sgxrAImISNoCA42/Sj9CzFTZR82gZsvaUUZGBuLj4zFu3DiDydn69evh6+uLYcOGITExEZMnT8YXX3xhdrlFtWtZJZLj69evGyx75coV7fCDBw9w7949bTNtyadxKJVK5ObmGlxG06ZNceHCBZ1p//77L5o2bWo2VrINE0AiIiI3lJKSgj59+uCJJ54weLNlAPj444+xc+dO7bhKpdJeZ2dKpUqVUKdOHfzxxx8AgLNnz+L48eMGyyYkJGgTu48//hg1a9ZE/0fXTlatWhUAcP/+ffzyyy/a29WUNnPmTGzcuBHnzp0DAJw8eRLbt2/HjBkzzMZKNhK5E4pbc/leRDk5gtCmjeZVuncaEZGEmOwF7OIOHTokREdHCwCEiIgIITo6Wmjfvr3QsWNHYenSpUJhYaEgCIKQkJAgPPnkkwIAITo6Wrhw4YLwww8/CB06dBCio6OFjh07Ci+88IJw48YNQRAEYdKkSUL16tWF6tWrC9HR0cLDhw911rtlyxYhIiJC6Ny5s/DWW28Jw4cPF6pXry689NJL2jIAhGXLlgl9+/YVWrZsKbRo0UI4fPiwznKGDh0qtGjRQujQoYNw9uxZYcqUKULdunWFkJAQoXfv3tpy8fHxQvPmzYXIyEihRYsWwtq1a7XvlYx1ypQpwtmzZ4V27doJAIR27doJJ06c0Ntu7AVsmkwQ2Hhuq8zMTISEhCAjI0PbC8ulZGcX9zjLyrJ70wMRkbvIy8tDamoq6tWrh3Klm3XJZjKZDLt379a7p58rMPWdu/z52wnYBExEREQkMUwAiYiIyCpFTwIBgDfeeAPr168XNyCyGm8DQ0RERFaJiIhAUlKS2GFQGbAGkIiIiEhimAASERERSQybgD1dlSpiR0BEREQuhgmgJwsMBO7cETsKIiIicjFsAiYiIiKSGCaARERERBLDBNCT5eYCCoXmZeQB3ERE5NqSk5OhUCggk8nQuHFjKBQKdOzYEREREZg4caL2ObzdunVDaGgoatSogbt37+osY/r06WjcuDHCw8MxbNgwrFixAuHh4VAoFFAoFAgNDUWFChW04y1atEBsbKwIn5achQmgJ1OrgT17NC+1WuxoiIjIBpGRkdp77sXFxSEpKQkHDhzA7t278cMPP+Ddd98FACQmJuKZZ55BWloaxo0bp7OMBQsWIC4uDrGxsUhISAAAxMbGIikpCUlJSXjmmWfQokUL7fiSJUuc+RFJBEwAiYiI3FDNmjWhUCiwfft2nen/+c9/sG7dOvzwww9G523RooXJ5/eGh4fj+eeft1Ok5IrYC5iIiMhNKZVKyOW6dTmDBw/Gw4cP8frrr0OhUKB27dp687Vo0cLkcsPDwxEeHm7HSMnVMAEkIiJJEgQBuYUqUdbt7+MFmUxWpmX8/fffSExMxMcff6z33tKlS7F//36MGTMG27dvL/O6yPN4VAJYUFCAOXPm4IMPPsC///5r9tfL/v378dZbb8HPzw/5+fn44IMPEBUV5ZxgiYhIVLmFKjwxe7v5gg5w+p0eCPC1/hS8cOFCrFixAlevXkV2djY2bNiA7t2765ULCQnBypUr0aVLFyxduhQTJkywR9jkQTzmGsBLly4hOjoaN27cgEpl/hfd5cuX0bt3byxcuBB79uzBokWL0KdPH1y+fNkJ0RIREVmvqBPI8ePHUatWLSxdutRo2c6dO2Pq1KmYNm0azp8/78QoyR14TA1gVlYWvv/+e1y7dg0rV640W/6TTz7RdqcHgOjoaERERODTTz/F4sWLHRytEwUEiB0BEZFL8vfxwul3eoi27rIICgrChx9+iC5duuDo0aNo3bq1wXLvvPMOduzYgZEjR+KVV14p0zrJs3hMAti0aVMAwLVr1ywqv3PnTr3m3rZt22Lnzp12j000gYFAdrbYURARuSSZTGZTM6yrUCgUaN26NT788EOsWrXKYBkfHx8kJCSgVatW+OijjzBgwAAnR0muyn33/DJKSUnBwIEDdaaFhoYiJSXF6mUdOvoVAsv72ys0h6pS9Qk0Cu8idhhERGQH//d//4fY2FgsWrQIYWFhBss0btwYH3zwASZMmMAEkLQkmwDm5OTAz89PZ5qfnx9ycnKMzpOfn4/8/HzteGZmJgBg0rlv4eVftup8Z1qJT9CSSSARkVtITk7G1KlTAWg6gezfvx/Lly8HAAwaNAjTpk1D9+7dUatWLZw6dQrHjx/HyJEj8eabb2qXMX78eGzZssXg8ocMGYKkpCTk5eVBoVBg06ZNKF++vOM/GIlKsglgQECATjIHaBK8ABPXzC1YsADz5s3Tm95QLYeP2gX70wgACgo0w76+uCpTIkcux/V7Z5kAEhG5iZJPAinNx8fH4kufNm/ebHD6mjVrbA2N3JhkE8D69esjLS1NZ1paWhrq169vdJ7p06fr/KLKzMxEWFgYvh9+AMHBwQ6L1WbZ2UDRr7isLIxdFYkDvoAg8LFwREREUibZBLBbt244cOCAzrQjR44gJibG6Dx+fn56zcbupOg2oGomgERERJLmgu2WjjF69GiMGDFCOz5p0iScOXMGe/fuBQDs27cPZ86cweuvvy5WiA5X9GWrIYgaBxEREYnLY2oACwoK8PTTT+PBgwcANBe1hoWF4aeffgIA5OXlobCwUFu+bt262LRpE6ZMmQJfX1/k5+dj8+bNqFu3rhjhO4U22xeYABIREUmZxySAvr6+Ri+SBYDVq1frTYuKisKff/7pwKhci+xR3qdmAkhERCRpkmkCJkD+6GHgavAaQCIiIiljAigh8kcVfwJrAImIiCTNY5qAyYDAQJ3r/bS9gFkDSEREJGmsAZQQbS9g3gaGiIhI0pgASkhxAsgmYCIid5GcnAyFQgGZTIbGjRtjzpw5eOGFFxAaGooKFSpAoVAgKioKTZs2xZgxY5Ceng4AeOedd9C4cWPIZDIoFAocPHjQ5HoEQUB4eDhefvllZ3wsEhmbgD1ZXh5QdO/D778v8QYTQCIid1H0KDiZTIa4uDjExsYCAGJjY3Hp0iXtHTCysrLQpUsXDBs2DNu2bcPs2bNRp04djB492uRdMor88ccfuHbtGn7++WcsXbrUrR98QOaxBtCTqVTAunWal0oldjRERORA5cuXx7Bhw7Bjxw5kZWVZPf+qVaswbdo0PHjwAFu2bHFAhORKmABKiqYbCHsBExF5psLCQsjlcnh7W9fAp1QqsXfvXsydOxe1a9fGqlWrHBQhuQo2AUuIzHwRIiLpEASgMEecdfsEADL7HpWvXbuGr7/+GkOGDEG5cuWsmnfHjh3o2rUrfHx8MHjwYCxduhSZmZkIDg62a4zkOpgAShDr/4iIoEn+3q8pzrpn3AB8A8u8mOPHj0OhUEClUkGtVmP48OGYMmWK1ctZtWoVxo8fDwAYOnQoPvzwQ6xfvx6jRo0qc4zkmpgASkjxb02mgEREnqBFixYWdfAwJScnBydOnECHDh0AAK1atUJERARWrVrFBNCDMQEkIiJp8gnQ1MSJtW4XsXHjRmRmZkKhUGin5efnIzExEbdu3UL16tXFC44chgmgBLETCBERNNfg2aEZ1h1t27YNaWlpiI2NxerVq7F9+3ZERERo37948SIee+wxrF27FhMnThQxUnIU9gL2ZAEBQFaW5hUQwE4gREQEAEhLS8OlS5dw7949pKen6yR/ANCgQQO0a9eOvYE9GGsAPZlMpnkesHa8aIA1gERE7iI5ORlTp04FACxcuBCpqak4efIkDhw4gLy8PCgUCsybNw/R0dE687399tvaBK59+/Y67925cweRkZHo0qUL0tPTMX/+fMycOVP7/vz583H9+nVcu3YNCoUCW7duhb+/v4M/KTmTTGB7oM0yMzMREhKCjIwMt+gqP+PrZvjNF3jrsUEY9dTbYodDROQ0eXl5SE1NRb169ay+RQq5J1Pfubudvx2BTcCeLD8fiI3VvPLzwTsBEhEREcAE0LMplUB8vOalVGons9KXiIhI2pgASgjr/4iIiAhgAihJAjuBEBERSRoTQCIiIiKJYQJIREREJDFMACVIENRih0BEREQiYgIoITJ2AyEiIiLwSSCeLSAAuH27ePgRdgIhIiKSNtYAejKZDKhaVfOSsf6PiMgdJScnQ6FQQCaToXHjxlAoFOjQoQM6deqEpUuXorCw0KLlnDt3TrucpKQki9c/a9YshIeHQ6FQ2PYByCWxBlCKWAFIROQ2IiMjkZSUBJlMhri4OMTGxgIAUlJSMHLkSPz000/Ytm2b2UfcRUREaJdjjffeew/e3t5WJY3k+lgD6Mny84Hx4zWv/HztZDYBExG5v/r162Pz5s04d+4cZs+eLXY45GaYAHoypRL4/HPNS6lkJxAiIg8TEhKC2NhYLFu2DCqVCj/99BM6duyILl26IDIyEm+++SbyS1QAlDZ9+nSEh4cjOjoa06dPR5cuXVCnTh1MnjwZarX+HSM++OADxMTEoGHDhli5cqXOe3PnzkXbtm2hUCjQtm1bLF++3O6fl+yHTcCSxBpAIiJBEJCrzBVl3f7e/lY3xRrTtm1bZGZm4ty5c1i7di3i4uLw3HPPobCwEM899xwWLVpktIZwwYIF8PPzw3vvvYcJEyZgwYIFSEtLQ8uWLVGvXj1MmDBBW/bo0aOYPXs2pkyZgk2bNmHIkCHo168fgoKCAADx8fHYv38/atWqhdu3b6NFixZo1KgROnfubJfPSfbFBFBCWP9HRFQsV5mLdqvaibLuQ0MPIcAnwHxBCwQHBwMAHjx4gMWLF6NOnToAAB8fHzz//PNYsWKF2SbiGjVqYODAgQCA0NBQvPjii/jkk090EsDq1auja9euAIDOnTsjOzsb//77L1q2bAkASExMRK1atQAA1apVQ3R0NLZu3coE0EUxAZQigTWARESeIiMjAwBQsWJFZGdnY9iwYbh8+TJ8fX2RlpZmsgm4SN26dXXGGzRogIsXL6KwsBA+Pj4ANElikaKkMzMzUzvt9OnTGDduHLKzs+Ht7Y2zZ8+iZ8+eZf585BhMACWI6R8RkaYZ9tDQQ6Kt214OHz6MkJAQ1KxZE40aNcLgwYORkJAAuVyOFStWYO7cuWaXIZSqGCg9DgBeXl5G5/vzzz/Rt29frF27FgMGDAAAxMbGGlwOuQYmgBJSfLkJ/yCJiGQymd2aYcWSkZGB+Ph4jBs3DhcuXMDt27cxcOBAyOWaPp4FBQUWLefq1as64ykpKWjQoIG29s+c/fv3QyaToX///tppBQUF8PX1tfCTkLOxF7AEMf0jInJ/KSkp6NOnD5544gnMnTsX9evXh7+/P3bu3AkAUKlU2Lhxo0XLSk9Px88//wwASEtLw5o1azBx4kSLY2nSpAlUKpX2XoHp6enYs2ePdR+InIoJoCfz9wdSUzUvf3+wGwgRkfspehIIACxcuFD7JJARI0bgxRdfxPbt2+Hn54dKlSph1apVWLNmDdq1a4cBAwagevXqSEtLQ7du3bRPAgGAN954A+vWrdOuo23btjh37hxiYmIQGRmJF198Ea+99pp2nStWrMDx48cxcuRIZGRk6Czn999/R8+ePTF37lzExsaiW7dumDRpEho3boxt27Zh8uTJztxcZCGZwAZ6m2VmZiIkJAQZGRnaC2Jd2dzlLfGzjxKv1+2DVxULxA6HiMhp8vLykJqainr16pl9YobUzJ07F0lJSR73pA9T37m7nb8dgTWAEsSMn4iISNqYAHqyggJgyhTNq6CgRAMwU0AiItI8CaSoebdv375ih0NOxF7AnqywEFi8WDNc4jYATP+IiAjQPAlkwQJeEiRFrAGUEO2zgHnZJxERkaQxASQiIiKSGCaAEiSwEZiIJEqtVosdAjkJv2vTPOoawPXr12P+/Pnw9/eHXC7H559/jiZNmhgsKwgC5s+fj59++gkVKlRAdnY2Xn31Vbz66qtOjtp5eBdAIpIqX19fyOVy3LhxA1WrVoWvry9kMh4VPZEgCCgoKMCdO3cgl8v5NBIjPCYBTE5OxsiRI3HkyBFERERg5cqV6NGjB86cOYOgoCC98t9++y0++OADnD59GrVq1cLVq1fRtGlT1KpVC7179xbhEzhD0cGONYBEJC1yuRz16tXDzZs3cePGDbHDIScICAhAnTp1tI/FI10ekwAuWrQIvXr1QkREBABg+PDhmDp1KuLj4zFhwgS98sePH0fjxo1Rq1YtAEBYWBgiIiKwY8cOj00A+ShgIpIyX19f1KlTB0qlEiqVSuxwyIG8vLzg7e3NWl4TPCYBTExMxKxZs7TjcrkcrVu3xs6dOw0mgH379kV8fDxOnjyJZs2a4e+//8Y///yD559/3olRO5i/P/DPP8XDwqMD3sOb4sVERCQimUwGHx8f+Pj4iB0Kkag8IgFMT09HRkYGQkNDdaaHhobi8OHDBueJiYnBd999h65du6Jq1ao4d+4coqKitM8+9AhyOVDyGsi8B4BvEITUvaKFREREROLziAQwJycHAODn56cz3c/PT/teaZs2bcKrr76KHTt2oHXr1khJScGPP/6IgIAAo+vJz89Hfn6+djwzM9MO0RMRERE5l0dcGVmUtJVMzorGjSV0M2fOxAsvvIDWrVsDAOrXr48LFy4YbC4usmDBAoSEhGhfYWFhdvoEDlJQoHkCyNy5muFHeAkgERGRtHlEAli5cmWEhIQgLS1NZ3paWhrq169vcJ4LFy4gPDxcZ1q9evWwbt06o+uZPn06MjIytK+rV6+WOXaHKiwE5s3TvAoLeRsYIiIiAuAhCSAAdO3aFUeOHNGOC4KAY8eOISYmxmD5WrVq4eZN3c4QN2/ehL+/v9F1+Pn5ITg4WOdFRERE5G48JgGMi4vDli1bcP78eQBAQkICvLy8MGrUKADA6NGjMWLECG35MWPGYO3atbhy5QoA4PLly1izZg0GDRrk/OCdjE3ARERE0uYRnUAAIDIyEvHx8Rg6dKj2SSDbt2/X3gQ6Ly8PhYWF2vJTpkyBTCbD888/j4CAAGRmZmLcuHE6t5LxNDJmfkRERARAJggC0wIbZWZmIiQkBBkZGa7ZHJydDZQvrxnOysL73zTB6pAgvHo/A6+/cUXc2IiIiETi8udvJ/CYJmAyj51AiIiICGACSERERCQ5HnMNIBlQrhyQnFw8/IjAqkAiIiJJYwLoyby8gLZttaPM+4iIiAhgEzARERGR5LAG0JMVFAAff6wZnjQJMt4BkIiIiMAE0LMVFgJTp2qGX3tN3FiIiIjIZbAJWIJYD0hERCRtTACJiIiIJIYJoASxBpCIiEjamABKCG8DQ0RERAATQCIiIiLJYQIoQWwCJiIikjbeBsaTlSsH7N6tHWYTMBEREQFMAD2blxegUOhNFpgKEhERSRqbgCWEaR8REREBrAH0bIWFwFdfaYZffVXcWIiIiMhlMAH0ZAUFwIQJmuHYWFFDISIiItfBJmAJkbH7LxEREYEJoCQxDyQiIpI2JoASwk4gREREBDABJCIiIpIcJoASJLAqkIiISNKYABIRERFJDG8D48n8/IBNm4qHH2EnECIiImljAujJvL2B3r3FjoKIiIhcDJuAJUTGuj8iIiICawA9W2EhkJCgGR42TDuZaSAREZG0MQH0ZAUFwOjRmuGBA3kfQCIiIgLAJmAiIiIiyWECKEFsAiYiIpI2JoASwiZgIiIiApgAEhEREUkOE0AJYQ0gERERAUwAiYiIiCSHt4HxZH5+wI8/Fg8/IrAukIiISNKYAHoyb29g4ECxoyAiIiIXwyZgCeJtYIiIiKSNNYCeTKkE1q/XDPfrBxkzPyIiIgITQM+Wnw8MGqQZzsoSNxYiIiJyGWwCliBWBBIREUkbE0AJYd9fIiIiApgASpLATJCIiEjSPCoBXL9+Pdq0aYOoqChER0fj1KlTJsvfvXsXL7/8MhQKBdq0aYOmTZti7dq1TorW+WTlq4kdAhEREbkAj0kAk5OTMXLkSCQkJGDfvn146aWX0KNHDzx8+NBg+YKCAsTExKBz585ISkrCkSNH0LNnTxw+fNjJkTtR0/5iR0BEREQuwGMSwEWLFqFXr16IiIgAAAwfPhxKpRLx8fEGyy9fvhzlypXDyJEjtdOmTZuGl156ySnxikKu6fQtAIDAriBERERS5TEJYGJiItq2basdl8vlaN26NXbu3Gmw/M8//4zo6GidaVWqVMHjjz/u0DidytcX+O47zcvXF7KS3UAEtXhxERERkag84j6A6enpyMjIQGhoqM700NBQo026J0+eRFRUFMaNG4cTJ07A19cXgwcPxtixYyGTGe4lkZ+fj/z8fO14Zmam/T6EI/j4ALGxxeMlPxdrAImIiCTLIxLAnJwcAICfn5/OdD8/P+17pd2/fx8LFizAhg0b8MUXX+DChQuIiopCRkYGpk2bZnCeBQsWYN68efYN3ol0E1smgERERFLlEU3AAQEBAKBTO1c0XvReaXK5HJGRkejZsycAoGHDhhgzZgw++ugjo+uZPn06MjIytK+rV6/a6RM4iFIJbN6seSmV0LkTIGsAiYiIJMsjagArV66MkJAQpKWl6UxPS0tD/fr1Dc4TFhaG2rVr60yrW7cubt26hdzcXPj7++vN4+fnp1fL6NLy84E+fTTDJR4FJ5T4PxEREUmPR9QAAkDXrl1x5MgR7bggCDh27BhiYmIMlo+KisLNmzd1pt26dQtVqlQxmPx5BF4DSERERPCgBDAuLg5btmzB+fPnAQAJCQnw8vLCqFGjAACjR4/GiBEjtOX/7//+D8nJydpOIvfu3cPKlSsxceJE5wfvNJoEUHMbGPYCJiIikiqPaAIGgMjISMTHx2Po0KHw9/eHXC7H9u3bERQUBADIy8tDYWGhtnzz5s2xfv16jB8/Hj4+PlAqlXj11VcxefJksT6Cw8lkJfN91gASERFJlcckgADQr18/9OvXz+B7q1ev1pvWo0cP9OjRw9FhuaZ7KUBoM7GjICIiIhF4TBMwmVd0Gxg1ZMCXnUSOhoiIiMTCBFBCZEVft+H7XBMREZFEeFQTMJXi6wt89pl2uKgGkFf/ERERSRsTQE/m4wOMH68dLeoEwgSQiIhI2tgELCmsASQiIiLWAHo2lQrYt08zHBUFuZw1gERERMQE0LPl5QFdumiGs7K0nUCYABIREUkbm4AlpLgTCLsBExERSRkTQAnRdgJh/kdERCRpTAAlRMZOIERERAQmgJJS/CQQIiIikjImgBIi47V/REREBCaAkqL3JBC1SrRYiIiISDy8DYwn8/EB/vvf4uFHtAmgMh/wDXB6WERERCQuJoCezNcXmDJFOyov/Sg4ZR4TQCIiIgliE7CEaHsBP2oKhlopYjREREQkFiaAnkylAg4f1rxUKv3bwPw+R7TQiIiISDxMAD1ZXh4QGal55eXpdwL5exWQcU208IiIiEgcTAAlSOdG0AXZYoVBREREImECKCF6nUAAQOBtoYmIiKSGCaCEGHwUnMAHwxEREUkNE0AJ0V4DKCv5RBAmgERERFLDBFBCDNcAsgmYiIhIapgAShCbgImIiKSNTwLxZD4+wJw52mGDnUCWRQHTLgH+FZ0dHREREYmECaAn8/UF5s7VjurdB7DIlilA/+VOC4uIiIjExSZgCTF4DSAAnNsGqJRA6j6gIMfpcREREZFzMQH0ZGo1cOqU5qUu7uwhyEqVK3gIJL0PxPcB1g53boxERETkdGwC9mS5uUDTpprhrCzjTcAAsO9Dzb8XE50SGhEREYmHNYASIkdRJ5DSVYBEREQkJUwAJcRkDWBJm/4PyMtweDxEREQkDiaAEmK0E0hpR74FEt9xeDxEREQkDiaAUvKo5VcIrmm+7N0Ljo2FiIiIRMMEUEK01wBWqgc8s9B0YT4ijoiIyGMxAZQQ7TWAggC0H2e6MB8RR0RE5LF4GxhP5uMDvPWWdrj4GkALkru75x0YGBEREYmJCaAn8/UFPvhAO6pNAC2p3cu+rakFlPGWMURERJ6GTcBSUtQJpKgGsNEzpst/15NNwURERB6ICaAnU6uBS5c0L7W6xI2gHyV1VSNMz3/lIKAqcGiIRERE5HxMAD1Zbi5Qr57mlZur2wkEAJ56w/wy1ErHxUdERESiYAIoIXrXAAZUAmLmmp5JVejYoIiIiMjpmABKSPGj4Epc19fp/0zPtDQSOP2rA6MiIiIiZ/OoBHD9+vVo06YNoqKiEB0djVOnTlk036ZNmyCTybBixQrHBugiLLoNTJGsW8CPI4CEgUDqPscFRURERE7jMQlgcnIyRo4ciYSEBOzbtw8vvfQSevTogYcPH5qcLzs7G7NmzXJSlOKSyx51ArGlZ++FHUB8HztHRERERGLwmARw0aJF6NWrFyIiND1bhw8fDqVSifj4eJPzzZ49G+PGmXkqhocweiPoUb8BIWEiRERERERi8JgEMDExEW3bttWOy+VytG7dGjt37jQ6z19//YXk5GS8+uqrzghRdEZvBF2vM/B//9i20IxrQO6DsgVGRERETuURTwJJT09HRkYGQkNDdaaHhobi8OHDBudRq9UYP348vvzyS23nCI/j7Q289lrxcOkbQZfVw1vAR000w3Mz7LNMIiIicjiPSABzcnIAAH5+fjrT/fz8tO+V9tlnn6FTp05o3ry5xevJz89Hfn6+djwzM9OGaJ3Izw9YulQ7atWzgI0RBM2tYbJvA2knyxohERERicAjEsCAgAAA0EnOisaL3ivp+vXrWL58OQ4ePGjVehYsWIB58+bZHqjIzHYCqRcNpO4xvZAPGgAhtYGbfwOdp9g5QiIiInIGj7gGsHLlyggJCUFaWprO9LS0NNSvX1+v/I4dOwAAvXv3hkKhgEKhAAAsXLgQCoUC+/fvN7ie6dOnIyMjQ/u6evWqfT+IvQkCcOeO5iUIxq8BLPLURPPLzEnXJH8A8PdaOwVKREREzuQRNYAA0LVrVxw5ckQ7LggCjh07hpkzZ+qVHT16NEaPHq0zTSaTIS4uDrGxsUbX4efnp9fM7NJycoBq1TTDWVmGbwRdpuXfLR7e81/gyReBCuxNTERE5Oo8ogYQAOLi4rBlyxacP38eAJCQkAAvLy+MGjUKgCbpGzFihJghugyjCWCNFtYtqLDE9ZW75wMretkcExERETmPx9QARkZGIj4+HkOHDoW/vz/kcjm2b9+OoKAgAEBeXh4KC/Wfa7tw4UJs27ZNO7xixQokJSU5M3SnMdsEHFgFePMs4Bugad7dauU1fg+u6E9Tq4CHNzXXDRIREZFLkAk2PRaCAE0v4JCQEGRkZCA4OFjscPRlZwPly2uGs7JwLOscRm0bhbrBdbGp3ybz85/4CfjlZevW+dxnQKsSNa2rBgPntwFDfwQa9bBuWURERA7g8udvJ/CYJmAyT3sNoKU5vy33R/x1ApCSBCzvDtw6rUn+AODPz61fFhERETmExzQBk3l2uQ+gJVb21fz7RQfHroeIiIhswhpACXJoDaDxhdlxWURERFQWrAH0ZN7ewKNe0PD2Lr4RtKU1gBG9gEoNNMP3LjogQCIiIhIDE0BP5ucHrFihHTXbC7g0H3/g9aOamsC5IQ4IkIiIiMTAJmAJselG0PZqBi7MBTa/BSR/bZ/lERERkc1YA+jJBEHzNBAACAhwXicQQ67+qXkBQNuX7Xx9IREREVmDNYCeLCdHcx/A8uU1w49yLtFv/Zi6R9z1ExERSRwTQAmRw8pOIMYEVivb/Fm3yzY/ERERlQkTQAmx+kbQhjQbBLxxsmyBXDloWbnEd4BP2wC5D8q2PiIiItLBBFBC7HINYNP+gE854NlPbF/GkW+B89vNl9v3IZB+ATi83PZ1ERERkR4mgBJkl2sAW48Cxh+2ff5VgywvK6htXw8RERHpYQIoITbdBsaUqo2AgfG2z/9+LSAv0z6xEBERkcWYAEqI3B5fd1B13fEmzwOz79u2rIIs4OeXNMM59wBlgXXzi92bmYiIyE0xAfRkXl7AgAGal5eXtgZQbUuT6pDVwDOLgJot9d+Ty4EeC2yL8cIO4NpR4L/1gPeqArmPkkm1mRiPrwY+bAzc+Mu29RIREUkYbwTtycqVA376STsqyytDE3DjXqbfbzcW2D7d+uUCwPKuxcPr/wN4+QJnfi2eZqimb8N/NP+uGwNMZBLo7lRqFbr+1BUV/Spifd/12h8rRETkGKwBlBJH3gha7gWM2Q70/waoGG77cs5v003+zFErbV8XuYxfL/6Ke3n3cDHjIpLTksUOh4jI47EGUEIc/ii4Ou01/+ZlAJvfdMw6yCPdyL6hHc4sYMcgIiJHYw2gJ8vO1jxzVyYDsrMhlz36uj2q7wSbCj2BrMT3KON3SkTkcEwAJaToxKoG76tHroVJHxGRczEBlBBtE7Cjb5/iiAv4M64BZzbpdwhhZwHPICs5yO+UiMjRmABKSVEnEHdrA87LAD5qAqwdBvy9RuxoiIiI3B4TQAlxXs1KifWERxUPz82wbXF/Li0eLrr9i6F1AcDlg8DOeYAy37Z1kShY60dE5FxMACWkqBOITTeCtkblx4qHQ8J03xv+i2PX/d0zwP7/AX9+4dj1kF0xASQici4mgBLitGsA60UBz34MjN6m/16DrvrTrLW8e/Fw1i3gwGeaR8mVlH6h7Oshp9G58TNzQSIih2MC6Mm8vIBevTSvEo+Cc8o1gK1jgbod9Dtp2KPTxrUSNwouzAF2zNQ8QeTC78XT//oBuLgbyE7XTDf3aDlyGawNJCJyPN4I2pOVKwds3lw8nq35x2U7gci8AEFl27wXtmteJX3/fPFwn4+ANmNsDo0ci0kfEZFzsQZQQsS5EbSZE7tvUPFwYFXHhXF2s/kyREREEsEEUEJEuRF0x9c1/zYfrP9eeBQQd6V43NbaP3tQFWpeJAoZ7+dIRORUTAA9WXY2EBioeWVnF18D6OhOICVVawzMuAH0W1Y8bXACENYOeO5TQC4HgmtrpjfoCgxc4Zg4su8af+/SfuDdKpoXrxUUHZuDiYgcj9cAerqcHL1JTr8G0DdQd/zxPppXkZe2A6c2AK1GAOVCgAp1ga+72DeGm8eBU+uBJv3031vRu3i44KEmBnIqnWcBszaQiMjhmABKiMvWrITUBjpOKB6v1QqYfQ94mAZ89IT91vNTLKBSAmol8PcqYGA8EFCpVCEX3UZERER2xCZgCdF2AoF1zcAn7pzAhfv699UrVBWiUG34ujljy7+Xdw8Hrh8wfzNquRfgXU53mZaFa5AaQGKAP25tHKt5mkjqXiBpgYEnhti+luzCbDwseKg3PSM/A7uv7EZGfoZe+YQzCUjLTrN5nYYo1Uq7Ls+UnMIcm+O/mnkV2y9thyAIOrV+9rhEQalW4q/bf6FAVaBd5rbUbbicednkfIXqQuy9tlfvexQEAX9c/wN3c3UvJbiVfcvqeAVBwO4ru3Er+5ZV86Vlp+FM+hmr5rHExQcXka+y/5NzLj64iHP3zpktV6guRMqDFDzIe4BCK67DPZ1+Gt+f/h4qddmuHd6Wug2bUjYZfV8QBKu+43P3zuHAjQNmyxk7djqKSq2y6nMcuH4Au67sMric0scyck9MACWkZA2gpU8DeVjwEMO2DMMLv76gc8BSqpXo9lM3PLPuGb1lHbhxAJ3XdsavF3/VW95zG57D2J1jTR5wtbx9tYN/PLsQijq1sMe/nIkZjNtYPhBvVK+KZ8JqFk/MSQc2valb0MbkQ6VWof2q9ui4uqM26QA0J8FOazph4u6JGLl1pM48QzcPxcLkhei+rrvO9PTcdOQqc22K4+CNg2j9Q2usPbvWbNm/7/yN5SeXG00YC9WFeH3X64g/FW90Gf1/7Y/u67rjRtYNvfduZd/CNye/wf28+wbn7bW+F97a8xZ2XtmpM33jxY1mYzfnk78+wcitI9H6h9YAgB2Xd2DK3inos76PyfmW/b0M4xPHY+zvY3Wmb0ndgv/s/A96/1J8ucA3J79BzLoYfHniS6ti25K6BRN3T0TMuhi8e/Bd/HnzT7PzzNo/C93XdcegTYNwJfOKwTJbU7ciMiESi5IXIU+ZZ1Esu6/sxvMbn8eILSOs+gwlbUvdhhn7Zujss0q1Es9vfB4DfhuAnEL9y1BKmpA4AX039kXU2ij03djXaLnSCeXgTYPx38P/LdP+kqfMw5S9UzB933SDSY1KrcLgTYPxWuJrOtM/OfYJPvvrM4PLHPDbAIz9fazJHxuf/vUpWn3fCv87+j+bY7dGrjIX3dd1x8RdEy0qr1KrMHbnWEzaPQmpGak67736+6votKYT/r3/r8F5d1zage9Pf1/mmMnxmABKiE4ti4U1XdmF2cXDBcXDt3Nu437+fdzOva13gF9waAEe5D/AzP0z9ZZXdJBNuppkfuUlagD/88/nuOflhQmh1SyKu7Q/HiWOypLXl/3zM3D8B92CRcmsIAD3TdcWlVTy5Hcvr/ipJCVPTikZKTrzlB4HgDs5d6D4UYFuP3azeN0lTdk7BWpBjfcOvWe27PAtw/HxsY/xywXDj+fbfmk7kq4mYfGRxUaXcS3rGgAYrPEY+/tYLDm2BNP2TjMZx1+3/9L5cZJ4JdFs7OZ898932mG1oMbx28ctmq/oR8vJuyd1pu+9thcAkKMs3teXHFsCAPj8+OdWxXbwxkHt8I/nf8QrO14xO0/J/ejMPcO1gFP3TkWuMhc/nPnBaHJS2oZ/N5hcpiWm7J2C31J+0/neSv4IepD/wOT8Jfedqw+vGiyjUqu0CWXJYxIAnL9/3oaoH8WpLo7T0I+ufx/8izP3zmD/9f3aaQ/yHuDrk19j2YllyCrIMrpsY4k6AHx14isAuvupI+2/vh93cu8g6VqSReVL3iliYfJCnfeS0zQ34l//73qD807eMxn/PfzfMn0v5BxMACXKlo4gJecxdT1hUVJgikXXI3r5ANFxQIcJ5svaS1ECuH0m8HFz4ODSMi3OmiYtADh66ygA4GGhflOyo1x8cNHgdHM1NyV5ybz0l5uhWe7Bmwf13itJEASHdkyyptnL2H7pbh1T9lzbY1E5e34ua5u0rVGy9aHkD6yyMrdvGGopKRmLysStq1xpnynL9d/GavDNeZD3wOZ1knOwE4gnk8uB6GjtsM4BycJzYskDh8UnaXuey7tM1/wbr9+cbA2LQzq1Hsh9APz5KPHb8TbQYbwFy3fRp6tYwFjszjyBOfLWRPb4buzZgcqVEgN7cuTfgC3HLqvX4cEdwDz5s5HtmAB6Mn9/IClJOyovKP61aunBumQ5p94/UCxb3tIdl1lWSW5p7ahZIhynxf5eBTi4BtDVEkCejK1m6oeoI7dn6eOfpybveoSSgxI47ksUm4AlpOTBy9JOICXpJDk2XE9oLBZnEGxdX1ECmHsfuHbUok4i7naSsMcB3qVPEnYIzd2+U0s5Ixm1xzqcsX8Z+o51EkBX3sfNKcNXYOwHIn/IuD8mgBJiS3OuLbVDTj9QTjiquaefI6jyNUnfp22A5V2Bfw13ULBXLZorHVSdFYujayDd+sTtpuy9zUvuI/ZcdsnlGtzfy7Aqd/5b9pjEl0xiAujJsrOBqlU1r2zdnnP2POnaVANYloPj2+m641UeAyrUKR5v+DRQqb7tyy9t4wQg59H9385t0fxbkAOc3wEU5unVCor5VAtbtqs99oWyfJ+OPsFYU9tt7PtypZO5JTytxtLUPlKW/cdYq4ah98W+VKIsypIAkudiAujp7t7VvGDbScGWA6DDDx5e3kDMPN1p1ZsUD1cMByb+Zb/1lbxVzJFvgFungPdrAKsGAvOrAx80AG79Y5dVuVKiYa9YzC3H2hvtWsvVTmaulJy5UiyWcuaPV0fVPDqbtd+zPT63O28vqWACKCE6TwKxpROIkXlE+WXcaiRQPhRoM0Yz7u0H9FkC1OkAKB71HA6u5Zh1f9FRdzwnHcKWqdpRdzupOvpAbW57OHr9dqnhtON3WtbE2pV+JDiLqYSkTLXPVuwbUk1o3Lnmk0zzqF7A69evx/z58+Hv7w+5XI7PP/8cTZo0MVh2586d+OSTT5CVlYXc3FwEBQVh0aJFaNmypZOjdh5bngSic+A1cr2MLQeIMp/EAioBb57R3OqmSJvRmpc2MOs7utjs9mmgbm3daZsnA/eOWDS7mD0MbekQJDXulnSJHa/OscLO+7VdrwE0VwOo2x3WKmJ/ByWV6RpAY51A3OyHLunzmBrA5ORkjBw5EgkJCdi3bx9eeukl9OjRAw8fGr6h7n/+8x88++yz2LVrFw4ePIj27duje/fuuH37tpMjdx6bOoFYUE60X8ZyM7uvExMbnS2gLARWDQEOLwfuX7Jwfs0SXOmgaq9YLDn5uPxtYFzoe3EHdu8E4qD9w9gPXEPrtehY6KK1ZWVpArZ5nS6UAJNhHpMALlq0CL169UJERAQAYPjw4VAqlYiPN9w7tE2bNnjppZe04xMnTkR6ejp27txpsLxHKHkv1TL27i3rbWCccmxw4sG45JpkZ38Dzm+1bn4P7EVcxFxMakHt0BOnPWo4XXG7ujJH9gK256JL7huGYrZ2v2RtOrkTj0kAExMT0bZtW+24XC5H69atjSZ0a9asgbxEDVK5cppnxRYUFBgs7wlsOolZcPxz1V+90Pn17qw1AcJW08++NTz/oxpAERINo08CsVcsIudO1txo2in3xXOh2kRHfV57HxMcdVsSazq5WZIguup1gq7cS5/E4xEJYHp6OjIyMhAaGqozPTQ0FCkpKRYt4+DBg/D390efPn0cEaI45HKgTRvNSy7X6QRi8TWARg6Qpi7KdpmE0FQcIzYALYfbb1WWHl9/mwQ80H/gfdE2M3ugTnwX2PNfzbBarbkVzZedgA2vaZZjw8Fa7O/L4U8CcbFOIM5g6Qnf3T4XYOdewFb0djXXRKxXxoU2rdVNwDYm3GIfS8g6HtEJJCdH89B6Pz8/nel+fn7a90wRBAHvvfce3n33XVSpUsVoufz8fOTn52vHMzMzbYzYSfz9gcOHtaMyG7r2GzsQlPX+WE6p6TKW5E67BPhXBM5ust+qSo6Y+mhHV2heDbqWmt+CbZh1G9i3WDPcYTxwagOwUZP4Ie0k8PznFsdr9brLwJLbwBCZ4qgaQDVM/xA2tF5TsbhqbZnVnUDMXBtpbJmu+vnJMI+oAQwICAAAneSsaLzoPVPmzp2LWrVqYfLkySbLLViwACEhIdpXWFiY7UGLQOe6PUvv6VeinEpQGZwvsyDT5vtGqdQqs/eBU6qVFi+vyL28exCMJYD+FTX/yr2hBHDN28vi5QooTvYKdaZbd4AtvLhLd7kqA5ceZFwvHlargWMrS4wroTy7WRuToS1kbLsKggCVuvi50Pmq4r+bktMNMfU9CYKgrVkuVBVvnaIThcl5Lf1BYmQZucpc5CpzAejXbrvTBe2CIKDA0L5QQtHfoVKthFpQQ6VW6WzvkmXUghqF6kIjSyq1XLUKDwv0O80JgoD03HSzrQYl15NTqPvDuyje0gxNK1QVWv0dFm23kvtgUUym5jX1mQRB0PkcOYU5UKqVRpMjlVpl9rsDYHAbG1q3ub/FIgWqAmTkZ1hUtrTSn8caKkE3PnPbmlyPR9QAVq5cGSEhIUhLS9OZnpaWhvr1TT8RYtmyZTh8+DA2bNhgdj3Tp0/Hm2++qR3PzMx0uySwSMkT7tFbR7H85HL4yn0xu8NsnE4/jc2pm7E5ZbPOPL1+6QUAeKHhC2hfo712+vMbnwcAbH1hK2oHlboVyiNqQY2Z+2dqx2UyGabvm45NKcW1cN/3/B4bL25EsG8wdlzagWtZ19C8SnOcuHtCZ1nPbXgOa3qvQYBPcXJfqCrEvIPzsPHixuKCNYIBBOO1+w+wM7C47Pw/5yO7MBu/pycir57mCSJLbt1Bt5xcbZnbXl5YXKkCXsx8CF9BwJBaNbTvPZ5fgHEPMjCxelVN3DfSdJZftGVzZTJ8HxKsE3uzenUw90465lWppDO9zeoOaCT3x3l1cQz49XVgxC/IKshCh9UdAADJMhn8BQFzkhfgl4KTqFu7Bi77+AAA3ruwAQ/yH2hnb76yuXY4LjIOa86uQZBvEE7ePamz7q2pW7E1dSsWRy/GzP0zERkaiX3X9+mUmbJnCqr4V8EPZ36AIbMPzMbsA7MNvieTybDt0jZM2TMF5X3KY2rbqTplf77ws948A34dgEYVG2Fa5DSsObsGe6/txYm7J1AzsCZuZN9AgHcAcpSak3Oraq1w7PYxAMDb7d/Gu3++q7Os0slls/hmCA8OR2X/ymhYoSHa1WiHlIwUvNLsFZ1yQzYNwan0Uzgx8oReAvjpX5/qjLdf1R7Zhdno91g/vPPUO8jIz8CyE8tQxb8K/rj+B5RqJaZGTsWQTUMMbqOxv49FeZ/y2HllJ9SCGmFBYfCV+2L4E8Mx76DuTc+n7p2KqXun6kzz9/bXGb+UeUnn+y/Sv2F/5KvyMaDRABxJO6KTALX4voV2uIJfBXSo0QFvtX0L3X7qpp3+XIPnMKPdDAR4B+gt//Pjn+No2lF0rdMVC5IXaKdPSJyAc/fPAQDeavMWdlzagTu5d3Az+6bBbdHqh1Z6034f8Lt2eOBvAxFVO0o7nnAmQW+/7BLWBeEh4fjun+/gLffGkWFHsObcGiReScThtOJWkUGNBmmHlxxbgoVRC6EW1Pi/3f+HXVd1f6QpflToxdXzl56axE9tPPH79K9P8dWJr7Cx70Z88fcX2HZpm16ZOzl3MPvAbAyJGILMgkzM2D8DADCt7TTkqfLw8bGP0axKM6TnpmPeU/O0x9/03HRtXKObjsZ3/3ynXWa7Gu2w/OnlAHR/wPT/tT+erf8sPjz6oXZak8pNcCr9FJYolkARpsB/D/9X+96lzEtoFt9MW6bIytMrsfL0SkxtOxXlvMvhnYPv4KWmxR0ryfXJBA9J2V944QX4+vpizZo1ADS/oGrWrImZM2diwoQJBudZvXo1vv76a2zevBn+/v5ISUlBSkoKYmJiLFpnZmYmQkJCkJGRgeDgYPMzOFtODvDEE5rh06eBgAA8ufJJqAU1dg/ajSr+mubuZvHN7LK6av7VkDgoUWd5J0dpko1T6ad0Tn696/fWSzCt8Xb7tzEoovjgnXglEW/sfsPm5bUuXxcrThYnPa9Vr4p9AZqTajWlEre9Lf+tlHjlOqqpVFgVVB4LSiV61jiZFQCMP4RPjn2Cr09+rYnr/gOMzniItuHu88PDz8sPXjIvbcJmjW51uiHxiuHnL1sqaVASvj75NRLOJJgs922PbzFlzxSk5+k+anBVr1XYeHEj1p5bC0CzT5v6mzk56iSm7p2KranW9QR3ReV9yiOrMEtn2uimo9G9TncM3TLUaXFMbj1ZJ2GxVq96vbAldYvZcidHncTBGwfx6u+v2ryuIl91/wptqrcxmNCWXuebSW/i98u/myxXpGnlpljdZzUAYHLSZOy4vMNo2R39d6BG+Ro4cOMAxv4+1qLl1ypfC9ezrpsvaMY3T3+DyBqRZV6Oo7j8+dsJPKIJGADi4uKwZcsWnD9/HgCQkJAALy8vjBo1CgAwevRojBgxQlt+06ZNiIuLw9tvv41Tp07hyJEj+P3337F//35R4ncIQQAuX9a8SnUycMTtCm7nGr+HYukmqrI2qZX+3XLt4bUyLQ+BVYDOU7SjV0skfDnm7jdoREFZL7BXFQD3UpGZd0876Z6XF3Lc7MJ9GWQ2JX8AkJyWXOb1W9q8nJ6bbrBsnirP6nWevXfW6nlcUenkDwBuZd/SNrc7S7Yy23whEyxJ/orkKa3/vg2RyWQW7zvpuenmCz1yNau4E5mp5A8Arj7U73Bmjj2SP4DXA7oDj2gCBoDIyEjEx8dj6NCh2ieBbN++HUFBQQCAvLw8FBYWJyGjR4/G3bt30bWr7sX4c+bMcWrczmbJ9VgOWa87JC2K6UDDp4GgUOCnp7WTrU2V7bZl76UAn7QAKlcEgoPsv3wncYvv3gxrf7B4+n0DeXK3jD1vuO/I9ZM0eUwCCAD9+vVDv379DL63evVqnfE7d+44IyTXIwMgOP/A4BYnRLkXEKbfZGHtlioqb69PLJQa5iHdOhb/2DHxhZXlNhqeyNmfz5k/WO16n0EHxG3NsdTT90MqG49pAibLiJWIlV6vWySEj6i9y4kdgg6L7znoCexw/rL0cgfZo/+MvUfFnP3EC3d9woarXGLP/ZcMYQIoMUU3g2YTsBk+xUmf2sV+RVt7yxmxif0UAgGmbzNUkjOff0yeTQaZ2fsM2rpcIntgAigx2k4gDjgwWbJe7birJ4RBNbWDtiYhjmgCNjTu6sryXbtKzY/L76/O5m47oRVcvgmY+yLZCRNATyaTaW4D88QTmmEUHzyc3jThZscsmVfx5bHWbivhJctu52Ardzv3il4DaMX3Z+zG2ax10eXsH5DuyJpHHDrqeOwqTdDkmpgAerKAAODUKc2r1BNR2AlEl6n4rN1WgkwGdJ1V1pBKrN/wsLsoUwJohxOYpd+fDDJeNG8hZycW7vi9lH4qiSgxiLjdXP2YT0wAJUf7R+l+x1OHMnWgtOkg/uRQOzYB6y5JLaHjqj1OoBZ3AjHRtMZmN12e3AvYXh/N3CMudVfp4Odxc/8lA5gASoy2EwhrAB1GEAQgpBZkMXPLthwj09wudy/DV2+PpkZ77Ou8D6Aup/cCdsMmZ2uagK3h6fsWOQ8TQE+WkwM0aaJ55WiexODIJ4FYw9UPYva4bk3m42+mpLnlWDfdVZXpu7bHh7XDMlx9f3U2laASOwSHsVfSZlXvcyv2L6tq89ztYEFO5VE3gqZSBEHzDOCiYQDFLcC8hqcklz7BlwrNtbekvjL1AnZiDaCxfcDV910xOL1zgRt+BYIgWLz/WrOP2XKsEuP4xr8b18caQInRPgqOCaDD2OuTGm8CduFk1ZAybBB7JBrW1HYbWx+vodLlyTWA9mJNDaAjYyAyhgmgxGhPZM4+LpRan6udUF3xQCmU+rf0dHchy8+0eV573QjaEqZqSVy6hlgEntwL2G5NwC7UCYTIECaAEiOHOJ1A3O0AV7YTvr2uIXLk0p1HplaKun67XIxv5e7gaj9w7M3Z1xA79VnAdlqXK3QCcbfjLjmXTBC7jtqNZWZmIiQkBBkZGQgODhY7HH3Z2UD58prhrCwgMBDN4psBAOIi4xDsG4yIShHo/2t/u62yVvlauJ51XTs+pukY1CpfC5/99Rnu59+323oc4avuX+HTvz5FsyrNsOrsKrHDwVM5uaimUmF9UHmd6e/dScesqpVFikp6uoZ1xa6ruywu365GOxy6eciBEZGjTGgxAZ8d/8xuy+tQowMO3jxot+W5k+VPL0e7Gu3EDsMolz9/OwETwDJw+R3IRAJIRETkKEwAXR97AXsymQyoW7d4mIiIiAhMAD1bQABw6ZLYURARkcTw+kPXx04gREREZFe8usz1MQEkIiIiu2INoOtjAujJcnOBtm01r9xcsaMhIiIiF8FrAD2ZWg0cOVI8TERE5AysAHR5rAEkIiIiu2ITsOtjAkhERER2xQTQ9TEBJCIiIrtiL2DXxwSQiIiI7Io1gK6PCSARERGRxLAXsKerUkXsCIiISGLYBOz6mAB6ssBA4M4dsaMgIiKJYROw62MTMBEREdkVawBdHxNAIiIisivWALo+JoCeLDcXUCg0Lz4KjoiInIQJoOvjNYCeTK0G9uwpHiYiInIG5n8ujzWAREREZFfCjWNih0BmMAGUmL2D94odAhEReThh34dih0BmMAGUmIrlKoodAhGRw1VSqcQOgcilMQEkIiIiu+IlgK6PCSARERHZlRBcS+wQyAz2AvZ0AQFiR0BE5HSsgRKX0GW62CGQGUwAPVlgIJCdLXYUREROxwRQZL7lxY6AzGATMBEReRwmgOLijaBdHxNAIiLyOEw/xMVnAbs+JoCeLC8P6N1b88rLEzsaIiKnEbx8xA5B0lgD6Pp4DaAnU6mALVuKh4mIpMInECh8KHYUksUE0PWxBpCIiDwOExBxsQnY9XlUArh+/Xq0adMGUVFRiI6OxqlTp0yW379/P9q3b4/o6Gi0b98e+/btc1KkRETkSEwAiUzzmCbg5ORkjBw5EkeOHEFERARWrlyJHj164MyZMwgKCtIrf/nyZfTu3RsbN26EQqHAnj170KdPH5w4cQJ169YV4RMQEZG9sAZKXEzAXZ/H1AAuWrQIvXr1QkREBABg+PDhUCqViI+PN1j+k08+QePGjaFQKAAA0dHRiIiIwKeffuqskImIyEGYgIiLCbjr85gEMDExEW3bttWOy+VytG7dGjt37jRYfufOnTrlAaBt27ZGyxMREZFlMvIzxA6BzPCIBDA9PR0ZGRkIDQ3VmR4aGoqUlBSD86SkpFhVHgDy8/ORmZmp8yIiIteTq8wVOwRJ23Bxg9ghkBkekQDm5OQAAPz8/HSm+/n5ad8zNI815QFgwYIFCAkJ0b7CwsLKGLmDBQYCgqB5BQaKHQ2RjlntZqFVtVY60/y9/UWKxvFCA0NR1b+q2GGI4vFKj9s8b7BvsB0jIXt5q81bJt+Prh3tpEjIVh6RAAYEBADQ1NCVlJ+fr33P0DzWlAeA6dOnIyMjQ/u6evVqGSMXR6CP/ZLBp2o9hbrBddG7fm+b5u9Ys6N2OMg3CDPazUBcZJxOmVeavWJyGY9VeMzg9FbVWmFH/x3o37A/lsUsQ7/H+kFRW4GdA3YiNDAUERUjMLb5WCQOTMTb7d/GgEYDTK4nLjIOPcJ7oH2N9mhTvQ0qlauEmDoxFn5SjSWKJXi7/dtG31/abSn6PdZPZ1r/hv3Nbt+l3ZbqTaseUN1sPM/WfxbHRxzHnsF7MOzxYViiWIJDQw8hoVcCGlZsaHLexdGLsX/Ifrz25GsIDQzF+53eR98GfY2Wf7v925jRbga+jPkSx0ccx+DGg/HeU+9heuR0xDaJxVM1n8KmfpsMzvtV96/MfpbSjH2fk1pNsnpZ5ihqK0zuPwMbDURCrwRsfmEzqvpXRY/wHlgQtUCvnAwyvf3fmGltp+GDzh9gbPOx2NB3A3YP2o1DQw/hw+gP8WnXT7Gki+a7fO3J1/BKs1ewud9mAMDopqPxkeIjAEDDig3RpHITneUa2j+XxSzDtv7bdKZt678Nk1pNwqZ+m/BOx3ewOHoxwoPDsbTbUuwdvBc96/XUlv085nOLPhMAzO80H591/Qw1A2sicWAifnnuF8xqNwvDHh+GVtVaoUFIAwBAvZB62nkq+lVE17Cu6N+wv86ydg7YiQ41OiA8OFxn+uLoxToJTIB3APo37I8XGr6AP4f+iXXPrsPrLV/HnA5z8EXMF3oxxkXG4e32b+Pzbp8b/N5/fu5nvWm+cl/M7TAXf434Cxv6btDZPqX3+9FNRmuH+4dr/va/7fGt3jIntpyIbnW6AQAGNRqEuoWFeO3+A3yWdhsz2s3QOzaOemKUdrjoc/Wp3weHhh7C/E7z9ZZfWr/H+mFSq0n4+umvMarJKKPlvn76a4f8nZF9eUQv4MqVKyMkJARpaWk609PS0lC/fn2D89SvX9+q8oCmhrB0raE7Cg8Ox6l007fIsdSXMV9qhzenbDZa7uSok2j5fUso1UrttI8UHyGmruEEamHyQu3wsw2exaCIQei+rrvBsuv7rkez+GY600L8QhDfU9MBaG7HuQCAjrWKk83fB/yuU35QxCAAwIO8B9h5xfB1oM2rNMewx4fpTc/Iz0CnNZ0MzlNSeHA4utXVHKx3XdmFP278ofP+zHYz0bl2Z3Su3RnNqjbDOwff0Yn/Ts4dJKcl6y336bpPo3PtznrTE3olIGad6QS1Q80O8JJ7oVK5SjqJR/OqzfHLc7/obdeSeoT3AACMazEO41qMA6D5rt5s8yai1+r/+i/axiWFBYdhaPBQkzEWxWktRW0F1p1fpzd9aOOheLnZyzqfbfeg3ejyYxcAmsSxaL6To04a3QZjmo7Bt/9oTsqfdtN0HjO0PgCY3WG2dnjXoF0AgJxC/daGb3p8g7ahbVEjsAYm7TZ9Ag0NDDX49/N0+NM640XfDaD5PIaGS37G2kG19ZZZ8m+nSK3ytfBys5cBAHWDNXdOKNonAGB65HRsTd1q8jMYUqVcFXSs1RHRYcX70ODGg/XK/XLhF8w5MAcA0Lt+b0yLnAYA2HZpG7ILswEA1QOr46unNT8eSn7GojgXH1kMAHj3qXd1tltEpQhEVNJ0KLybe1dnvb5yX53jQI3AGnrfu9xA3crREUe1ww0qNNB5Vl3R9gOA8j7l8UrzV/Ddqe8AAM8/PgRzo4uPhyWFBobileYlfiBvX1w83PhFvNj4ReQp89A2oa3evE/VfEpnH3iuwXN49+C7yFMZf2pU40qNMfTx4r/X2CaxWHFqhV659jXaG10GuQ6PqAEEgK5du+LIkSPacUEQcOzYMcTEGD4BduvWTac8ABw5csRoebKDMnQKk0FmvzhMrUdmfD3G3jM1jzGGeiiW/IyGPq+xXo32jMseDJ38xGDN9jK37R3B5L5mQQzOitNWJeNzRI9QZ/UytWU7y2Vl+xvQ2R8d9Hdsj+Wyp697c40jtR3ExcVhy5YtOH/+PAAgISEBXl5eGDVKU009evRojBgxQlt+0qRJOHPmDPbu3QsA2LdvH86cOYPXX3/d+cGTSQIE0ZKZkoydCOx1Ii75GQ0mgFYebC2JyxG3ynCF7wowvr0MbZeSJ2xLv8+ybjtT63GVbSgV1vzws+S7saSM0R8okFn8/VuyD1qzL1m7T6uhtqo8uRaPaAIGgMjISMTHx2Po0KHw9/eHXC7H9u3btTeBzsvLQ2FhobZ83bp1sWnTJkyZMgW+vr7Iz8/H5s2bJXETaFepObAmDmt/UTvkl6lrbDaLWXQScsB2cvXkxWwNoKXxl3HTufp2KiudHzQO+KymEih7Kr08e9XOqgXjyZM9a6Rd5XhPrsdjEkAA6NevH/r162fwvdWrV+tNi4qKwp9//unosFyOp594HMXRNYD2JlYNoKs3ARuKT4y/CZM1gC66T9nKqh8aFuff9ksATc1j7senoX3Hkh+sRv/2Si3O1LIs2a723JdKx8wmYPfmGkdqcipXObk48k79ti7blhOBTdcA2nDgtPYzSb0G0NITLGC++d2q5VvI0Hqs+tt0jc0sGqP7rg3bxdG1hlbPb8P+aCIYizGhkxYmgOQ07v5oJnvWAJrbFoaSKEdcA+gIrvIDw3j+V8bEy15MrNJVkmh7ccTfvtM6gdjwXdj1x5c1qx+5EQiqCQz9qcTsjtuX3P2YLnUe1QRMFnKRc4vFBybBhZIKB7Lrr34Ll+GQJuAy9oB0NHMJoLOSL4NxeFji5yxl3m6mkvHS1wBasK6yNAHLHv1nk/oKYPIZ2+Y1EZPR8qwxdGuufaQmesRpJ2Un3QbGnoz2dmUTsMHphk7ONjUBl3Hb8eL+sin5/Zb8Luy9XWz5QWPRjy8Tf7eW7o8W9QKW+H5CxjEBlCBJHBAc0glY5ETPEdcASrATiL16AZf5GsAy3gfQU5X1GkybmmxF6JBj6hYqlvYCtqgTiAN/kLEJ2L25xpGanMrtTi5ODNemTiAOuAbQGkZrJkVqAnaZGkAraujs3fxu0TrLeC2iq/8dO3o/0Kn1K+P3V5Ztac1N221ZZlm3o0OvAWQTsFtjAkhkIaOdQOx0ojN3oHbIjaAd0QTs4omJIWLEbMvlBu7KIU8CcVLtk96NoO31w8pUEVnJQfv1KDYXl9n3S32PrAF0b0wAJUisk4vNBwsnHmNMHmztudkMfCZ7d0QQ7VFwLtIJxJr9zdE3LbY2DndMosVkzyTJHsu2JOE11gRcpk4gRFZwjSM1kRnWHhAd0rRpJAZnNYNYfQ2gWDWALlJ75ejaCdZ+iKvkvlvyu3B0J5DS+7eh/cCSfcPUowoddS9Ks8vlLi0pTAAlyB1/XbpCzGLXbLlLJxB356xewPaIwROVtROOu3QCMfW35yo10ubwGkD3xgRQgsJDwh2y3McqPAYACPELMfj+tLbTdMb9vP2MLqtxpcba4WC/YAT4BJhct5fMS2c82DfYZHljwoLDjL5nrHert9yy22mW3C7NqzbXe9/Hy0c7HOQTpPd+/ZD6Bpf7eKXHbY7LWYlG/DPxZV5GWJDx78YQH7mP+UKPlPxuH6+s2Z6VylUyOU+jio2siscSgT6Bmn99A82WrVCugt3XDwB+Xsb/Lq1Rzqucdri8b3mL5wv0Nv/ZAcBX7qsdbl2ttdnyPev1BADUCaqj9171wOpG5yv9w696gG7ZsKAwyGVy+Hv7G53HkJqBNY2+V/Lv0lSvemN/+8bUr2D4GFKkYcWGJt9vUa2Fznhl/8pWrZ9cC28ELUHjnhyHQzcP4XrWdQDAh9Efws/LDwIEvL7rdYPzzOs4D0uOLsG8jvNQ3rc83j/0Pma1n6VT5rNun+Gbk99gxBMj8NyG57TTp0dOBwAMfXwoFiQv0E7vWLOj0Ri/7fEtPj/+OZ6s+iSq+FcBACzpsgRfHP8CmQWZ8PPyg5fMCy81ewkAsLbPWqw8vRJPVn0SP1/4Ge90fMeGLQO81PQlfHXiK4PvhZYPNTjdW+6Ndc+uw62cW5h3cB761O+DFxq+gKl7p6JQXYgL9y8AAN7v9L52nlebv4pg32B0rt0Zv6X8hsNph9EjvIf2fUWYAn3q90HTKk21095q8xb8vPyw9txaAEBMnRg0r9ocwx8fDgD4uMvHmLR7EjrV6oThjw/XS4AGNhqIJ6s+iVl/aL43L5kX+jToY3J79G/YHz9f+Fk7vvzp5fjhzA+IqhVlcr6S1vRegyZVmlhcfmPfjThy6wgSryTiwI0D2umre6/G9kvb0SWsC+7l3cOY7WOQWZAJQJMwPyx8iKGNh2LPtT3oEtYFnWt31s47te1UrPhnBSa3maydtixmGcbuHIsxTcfoJN8B3gE4NPSQdvtNajUJHx/7WPv+gEYD0K1ON3So0QHZhdloVb2V9r33nnoPs/6YhVeavQJAk/TH1I2x6HOPbT4WDStoTsDNqzTHsMeH4VLmJfxx/Q8AQEKvBBy9dRT/O/o/hAaGokXVFhYt11otq7VEz3o9sTV1KwDg826fa99boliCladX4oPoD8wux9fLF/HPxEMlqBDoE4gVz6zA75d/x8BGA5Gem44qAVWQmZ+Jf+7+g461OqLvhr6QQaazz5vS97G++OrEV6jsXxld63Q1W35Sq0moHlAdI54YoZ32ZcyXuJl9U+cHZ2leci8sUSzBwZsHcfXhVcRFxul9zkNDD8FL5oV3/nwH2YXZqBlYE/M7zcfM/TMBAB901t9eE1tNRLYyG8/Vf07vPZlMhu51u+N+3n2dpO3YiGOYuGsiCtWFGNN0jPbHijmfd/scDwseome9nkh5kIKIShEGyy3psgSfH/8cI54YgfTcdIQFhWHewXmoWb4mnn/seb3vZlDEIGxN3YoBjQZg8ZHFFsVCrkMmsA7XZpmZmQgJCUFGRgaCg22rcXI1gzcNxun003rTd/TfgdDAUIubI5rFNwMA/E/xP3Sv211vOgCcHHWyjNE6Tsk4i1gSryAIDm+yKYptboe56N+ov8n1F5UNDw7Hb/1+sylWWz7T2N/HapM3W7/ncTvHYf/1/UaXsTB5IRLOJAAATow8oY3R1u+gaFt93OVjvYSi6L3K5SojaXCS1cs2t84Poz/E0+FP672/99pejE8cD8Cxfy+u8Hdpr7+d6LXRuJd3D4BrHGMs/VxF30GlcpWwZ/AeR4dld66wD1nDE8/f1mITMOkw2tEBth2cXeWmwM7izOt1DN7Q2Ir1W1rW3tdU2YuxXtOO/A5c+Xosd+es2yk5G/cZclXSOjuTzWzuLMBjH9nIFTuouFpyQfqYcBFZhgkgkZvy+GTE9fI/z9/mHoDfEZFlmACSRWy9VJQHY2lyxdo7InfAYyY5CxNAsoitJ3QezMhWLplEOmh3dsnPSkQejQkg6TCasNl6CSCvxyEPwh80rs/dvyMeM8lZmAASuSlPP1GYu+xAjM/v6dvcI/ArIrIIE0CyCJuAydlcsVnU2fszb9NqPR5ziCzDBJAcijUm0uSMxIUnevJE3K/JWZgAkkVcsTaGPJsr7nOOOjm74mclIs/GBJB0GKux421gXA+3rfOxRtv1uft3xL9rchYmgGQR1lC4Hnc/0ZllZpeTwomSf3dE5ChMAEmHva/dksu4i0mRPZJTV0x+pJB0ujt+R0SW4dmZLMJewGQN9l4lsbj9McfNwyf3wQSQLOIj87HLcuoG1wUAdKzZ0S7LI8sUbXd3IlYNoKn1OqzZ3cgqa5av6Zj1EZHkMQEkHS81ewkAEFMnBs81eA4A8FyD5xAWHGbT8krPt/zp5ZjYciIWRi0sW6AONq/jPO3wqCdGYVnMMhGj0dW4UmMAQKdancyWTeiVgL4N+mJux7kOjkrXsw2eBQB0Ceti8zKGNR4GwPiPhZi6MQCAav7VbF5HST3r9UTd4LoGt+u0ttPgLfPGu0+9a5d1FQkL0vx9RNaINPh+o4qNsDBqIVY8s8Ku6y1t2OOabf38Y887dD3O0Lt+bwDA45UeFzkS68TU0ezPsU1ixQ3ERkXbvSx/8+RcMoFtNTbLzMxESEgIMjIyEBwcLHY4dnMz6yaqB1aHXCaHIAg21Xqcu3cOD/IfoF2Ndg6I0DkeFjyEt9wb/t7+YoeiQ6VWIV+VjwCfALFDMUoQBBxOO4yGFRuiYrmKNi/nauZV1ChfA95yb4PvpzxIQWhgqN22han9XalWGo3DVoXqQuQp8xDkG2TX5VpLqVbin7v/oEmVJvCR26e2XyyFqkLsu74Prau3RohfiNjhWKxQXYiUByloVLGRW3bwylXm4sD1A+hQs4NLH5uKeOr52xpMAMuAOxAREZH74fmbTcBEREREksMEkIiIiEhimAASERERSQwTQCIiIiKJYQJIREREJDFMAImIiIgkhgkgERERkcQwASQiIiKSGCaARERERBLDBJCIiIhIYpgAEhEREUkME0AiIiIiiWECSERERCQx3mIH4M4EQQAAZGZmihwJERERWarovF10HpciJoBl8PDhQwBAWFiYyJEQERGRtR4+fIiQkBCxwxCFTJBy+ltGarUaN27cQFBQEGQymdjh2CwzMxNhYWG4evUqgoODxQ7HrXFb2g+3pX1wO9oPt6X9iL0tBUHAw4cPUbNmTcjl0rwajjWAZSCXy1G7dm2xw7Cb4OBgHtTshNvSfrgt7YPb0X64Le1HzG0p1Zq/ItJMe4mIiIgkjAkgERERkcQwAST4+flhzpw58PPzEzsUt8dtaT/clvbB7Wg/3Jb2w20pPnYCISIiIpIY1gASERERSQwTQCIiIiKJYQJIREREJDG8D6CEzJ07Fxs2bECFChW000JCQrBx40a9spMnT8b//vc/pKamIjw83HlBugFz2zE2NhZnz55FuXLltO9HRERg2bJlzg7V5VmyT544cQIzZsxATk4O0tLSULFiRSxbtgxNmzYVIWLXZW5bVqhQAS1atNCZ599//0XXrl2xcuVKJ0bq2sxtx3v37mHy5Mn4+++/ERwcDKVSiffffx+dO3cWKWLXZW5bZmVlYfbs2Th48CBUKhUCAwPx6aef8m/bSZgASsySJUugUChMljl+/DhPCGaY245r1qxh4mwhU9vy/PnzePbZZ7Fp0yY0a9YMhYWFiI6OxqVLl3iSMMDUtmzRogWSkpJ0prVp0waDBw92fGBuxtR2nDRpEi5evIg///wTvr6+2LhxI/r06YPz588jNDTUuYG6AVPbcsyYMbh79y6SkpLg5+eHL7/8EjExMTh79qxO0kiOwSZg0qFWqzF+/HjMmTNH7FCIMGvWLLz44oto1qwZAMDHxwffffcdIiMjRY7M/Xz33Xc646dOncKNGzfwzDPPiBSRezp+/DiioqLg6+sLAOjevTsePnyIgwcPihyZe7l16xZ++uknTJgwQXsrmFdeeQU5OTl6+yo5BhNA0vHZZ58hKiqKtSskusLCQvz222+Ijo7WmR4REYFq1aqJFJX7qlevns74ihUrMHLkSHh5eYkUkXvq378/tm7divv37wMAfvjhBwBA9erVxQzL7Vy+fBmA7nbz8vJC9erVsXfvXrHCkhQmgBLz7bffQqFQ4KmnnsKoUaNw8eJF7XvXr1/HN998g9mzZ4sYoXswtR0BYMGCBVAoFOjUqRPGjx+PW7duiRSp6zO2LS9cuIC8vDzcv38f/fr1w1NPPYXevXvrNWNSMXP7ZRGVSoWEhATExsY6N0A3YWo7zp07F88++yzCw8PRsGFDvPbaa5gwYQI6duwoYsSuy9i2LLpE5sqVK9qySqUSt27dwrVr18QIVXKYAEpInTp10LJlS+zcuRP79u1DvXr10Lp1a1y/fh0A8Prrr2PBggUICAgQOVLXZm47NmrUCJ07d8auXbuwa9cu5Ofno3379sjKyhI5ctdjalsW1bDMmDEDH374If744w+MHTsW3bp1Y3ObAeb2y5K2b9+O8PBwNG7cWIRIXZu57Thjxgxs2rQJFy5cwIULF7Bjxw60adNG5Khdk6ltWa1aNQwZMgQffvih9m/9v//9L/Ly8qBSqUSOXCIEkiylUilUr15dmDFjhrBx40Zh4MCB2vd2794tABBSU1PFC9BNlNyOhmRkZAhyuVz46quvnByZ+ym5LQ8cOCAAEGbNmqVTpkOHDsLgwYNFitB9mNovBw4cyP3RQiW34+3btwUvLy/hhx9+0CnToEEDISEhQaQI3UfpfTInJ0eYOXOm0KFDByEqKkp47733hIEDBwpdu3YVOVJpYC9gCfPy8kJ4eDguXryIu3fv4tKlS9reWg8ePAAADBkyBOXKlcOmTZtQvnx58YJ1YSW3oyHBwcGoWrWq0fepWMltGRYWBgCoXbu2Tpm6desiJSVFjPDcirH98v79+9i5cyeWL18uUmTupeR2TE1NhUql0uvhHx4ejnXr1mHo0KHiBOkmSu+T/v7+eO+993TKKBQKvdsVkWOwCVhCJk2apDftxo0bCAsLw7Jly5CcnIykpCQkJSVhyZIlADS3M0lKSmLyV4Kp7Wjo/fz8fKSnp2vfp2KmtmXt2rVRr1493Lx5U+f9W7duoU6dOs4K0W2Y2y+LrFmzBn369EFwcLCzQnMrprZjrVq1AEBvn7x58yb8/f2dEp87MbdP/vnnn8jLy9O+l5OTgyNHjmDAgAFOi1HSxK6CJOcJDw8XNm7cqB3/+uuvBT8/P+H06dN6ZdkEbJy57ejr6yscPnxY+/6sWbOEypUrC7du3XJ6rK7O3Lb88ssvhXr16gl3794VBEEQjhw5Ivj4+AhJSUmixOvKLP37joyMFHbt2uXs8NyGue349NNPC507dxZyc3MFQRCEX3/9VQAgbNiwQZR4XZm5bdm7d2/hu+++EwRBENRqtfDmm28KAwYMECNUSZIJgiCInYSSc6xatQrLly+HIAjIz8+Hr68v3n33XURFRemUGzJkCM6ePYu///4b7dq1Q/v27bU1gmR+O3766af48ccf4e3tjZycHFSpUgULFy7U3suOilmyT/7vf/9DfHw8goODoVarMX36dPTp00fEqF2TJdvy7Nmz6NWrFy5evAiZTCZitK7L3HZMT09HXFwcjh07hnLlyiEvLw+TJk3CyJEjRY7c9ZjblosXL8aXX36JatWqQS6Xo1OnTpg7d67OU5TIcZgAEhEREUkMrwEkIiIikhgmgEREREQSwwSQiIiISGKYABIRERFJDBNAIiIiIolhAkhEREQkMUwAiYiIiCSGCSARERGRxDABJCIiIpIYJoBEREREEsMEkIiIiEhimAASERERSQwTQCIiIiKJYQJIREREJDFMAImIiIgkhgkgERERkcQwASQiIiKSGCaARERERBLDBJCIiIhIYpgAEhEREUkME0AiIiIiiWECSERERCQxTACJiIiIJIYJIBEREZHEMAEkIiIikhgmgEREREQSwwSQiIiISGKYABIRERFJDBNAIiIiIolhAkhEREQkMUwAiYiIiCTm/wEkYSY+K4Ym4QAAAABJRU5ErkJggg==' width=640.0/>\n",
       "            </div>\n",
       "        "
      ],
      "text/plain": [
       "Canvas(toolbar=Toolbar(toolitems=[('Home', 'Reset original view', 'home', 'home'), ('Back', 'Back to previous …"
      ]
     },
     "metadata": {},
     "output_type": "display_data"
    },
    {
     "name": "stdout",
     "output_type": "stream",
     "text": [
      "97085\n"
     ]
    }
   ],
   "source": [
    "# Shot that is currently processed\n",
    "k = 3\n",
    "shot_nr = random_50_re[k]\n",
    "if str(shot_nr) in list(RE_lifetimes.keys()):\n",
    "    print('Stop, you are about to redo work!')\n",
    "    print('\\n'*50)\n",
    "\n",
    "# Load the file and plot it\n",
    "file_path = os.path.join(base_path, 'JETno' + str(shot_nr)+'.csv')\n",
    "data = dataframes[shot_nr] # pd.read_csv(file_path)\n",
    "plt.close()\n",
    "\n",
    "# Find the first index where time is greater than the starting time + 1\n",
    "first_index = np.argmax(data['time'] > data['time'][0] + 1)  \n",
    "\n",
    "# Plot vertical line at this point\n",
    "plt.vlines(data['time'][first_index], ymin=0, ymax=1.1, color='r', linestyle='dashed', label='Disruption')\n",
    "\n",
    "#plt.plot(data['time'], data['SSXcore'] /max(data['SSXcore']), label='SSX')\n",
    "plt.plot(data['time'], data['RNT'] /max(data['RNT']), label='RNT')\n",
    "plt.plot(data['time'], -data['IPLA'] / max(-data['IPLA']), label='IPLA')\n",
    "plt.plot(data['time'], -data['DAI_EDG7'] / -max(data['DAI_EDG7']), label='Dalpha')\n",
    "#plt.plot(data['time'], -data['ECE_PF'] / -max(data['ECE_PF']), label='ECE_PF')\n",
    "\n",
    "# Show the plot\n",
    "plt.legend()\n",
    "plt.xlim(data['time'][first_index]-0.5, data['time'][first_index]+5.5)\n",
    "plt.show()\n",
    "\n",
    "print(shot_nr)"
   ]
  },
  {
   "cell_type": "code",
   "execution_count": 13,
   "metadata": {},
   "outputs": [
    {
     "ename": "NameError",
     "evalue": "name 'data' is not defined",
     "output_type": "error",
     "traceback": [
      "\u001b[1;31m---------------------------------------------------------------------------\u001b[0m",
      "\u001b[1;31mNameError\u001b[0m                                 Traceback (most recent call last)",
      "Cell \u001b[1;32mIn[13], line 11\u001b[0m\n\u001b[0;32m      9\u001b[0m RE_lifetimes \u001b[38;5;241m=\u001b[39m {key: RE_lifetimes[key] \u001b[38;5;28;01mfor\u001b[39;00m key \u001b[38;5;129;01min\u001b[39;00m RE_lifetimes\u001b[38;5;241m.\u001b[39mfiles}\n\u001b[0;32m     10\u001b[0m \u001b[38;5;66;03m# Set the new value and save\u001b[39;00m\n\u001b[1;32m---> 11\u001b[0m RE_lifetimes[\u001b[38;5;124mf\u001b[39m\u001b[38;5;124m'\u001b[39m\u001b[38;5;132;01m{\u001b[39;00mshot_nr\u001b[38;5;132;01m}\u001b[39;00m\u001b[38;5;124m'\u001b[39m] \u001b[38;5;241m=\u001b[39m np\u001b[38;5;241m.\u001b[39marray([data[\u001b[38;5;124m'\u001b[39m\u001b[38;5;124mtime\u001b[39m\u001b[38;5;124m'\u001b[39m][first_index], end_beam])\n\u001b[0;32m     12\u001b[0m np\u001b[38;5;241m.\u001b[39msavez(\u001b[38;5;124mr\u001b[39m\u001b[38;5;124m\"\u001b[39m\u001b[38;5;124mC:\u001b[39m\u001b[38;5;124m\\\u001b[39m\u001b[38;5;124mUsers\u001b[39m\u001b[38;5;124m\\\u001b[39m\u001b[38;5;124mMax Tost\u001b[39m\u001b[38;5;124m\\\u001b[39m\u001b[38;5;124mDesktop\u001b[39m\u001b[38;5;124m\\\u001b[39m\u001b[38;5;124mNotebooks\u001b[39m\u001b[38;5;124m\\\u001b[39m\u001b[38;5;124mSPC Neural Network Project\u001b[39m\u001b[38;5;124m\\\u001b[39m\u001b[38;5;124mProcessing_Data\u001b[39m\u001b[38;5;124m\\\u001b[39m\u001b[38;5;124mRE_lifetime.npz\u001b[39m\u001b[38;5;124m\"\u001b[39m, \u001b[38;5;241m*\u001b[39m\u001b[38;5;241m*\u001b[39mRE_lifetimes)\n\u001b[0;32m     14\u001b[0m \u001b[38;5;66;03m# Plot to verify\u001b[39;00m\n",
      "\u001b[1;31mNameError\u001b[0m: name 'data' is not defined"
     ]
    }
   ],
   "source": [
    "# Set time that is to be written as end of the beam time\n",
    "end_beam = 54.043\n",
    "\n",
    "# Setting shot number again in case I did something weird in between\n",
    "#shot_nr = random_50_re[k]\n",
    "\n",
    "# Load the dictionary\n",
    "RE_lifetimes = np.load(r\"C:\\Users\\Max Tost\\Desktop\\Notebooks\\SPC Neural Network Project\\Processing_Data\\RE_lifetime.npz\")\n",
    "RE_lifetimes = {key: RE_lifetimes[key] for key in RE_lifetimes.files}\n",
    "# Set the new value and save\n",
    "RE_lifetimes[f'{shot_nr}'] = np.array([data['time'][first_index], end_beam])\n",
    "np.savez(r\"C:\\Users\\Max Tost\\Desktop\\Notebooks\\SPC Neural Network Project\\Processing_Data\\RE_lifetime.npz\", **RE_lifetimes)\n",
    "\n",
    "# Plot to verify\n",
    "plt.close()\n",
    "plt.vlines(data['time'][first_index], ymin=0, ymax=1.1, color='r', linestyle='dashed', label='Disruption')\n",
    "plt.vlines(end_beam, ymin=0, ymax=1.1, linestyle='dashed', label='End Beam')\n",
    "plt.plot(data['time'], -data['IPLA']/max(-data['IPLA']), label='IPLA')\n",
    "plt.plot(data['time'], -data['RNT'] / -max(data['RNT']), label='RNT')\n",
    "plt.plot(data['time'], -data['DAI_EDG7'] / -max(data['DAI_EDG7']), label='DAI')\n",
    "#plt.plot(data['time'], -data['ECE_PF'] / -max(data['ECE_PF']), label='ECE')\n",
    "\n",
    "# Show the plot\n",
    "plt.legend()\n",
    "plt.xlim(data['time'][first_index]-0.02, end_beam+0.05)\n",
    "plt.title(f'Shot Nr. {shot_nr}')\n",
    "plt.ylabel('Normalised Observables')\n",
    "plt.xlabel('Time in s')\n",
    "#plt.savefig(fr'C:\\Users\\Max Tost\\Desktop\\Notebooks\\SPC Neural Network Project\\Processing_Data\\Interesting_Images\\RE_Window_{shot_nr}.svg', format='svg')\n",
    "plt.show()"
   ]
  },
  {
   "cell_type": "code",
   "execution_count": 166,
   "metadata": {},
   "outputs": [
    {
     "data": {
      "text/plain": [
       "60"
      ]
     },
     "execution_count": 166,
     "metadata": {},
     "output_type": "execute_result"
    }
   ],
   "source": [
    "len(RE_lifetimes)"
   ]
  },
  {
   "cell_type": "markdown",
   "metadata": {},
   "source": [
    "## Creating targets from beam durations"
   ]
  },
  {
   "cell_type": "code",
   "execution_count": 151,
   "metadata": {},
   "outputs": [],
   "source": [
    "save_path_targets = r'C:\\Users\\Max Tost\\Desktop\\Notebooks\\SPC Neural Network Project\\CSV_targets'\n",
    "targets = save_re_targets(RE_lifetimes, base_path, save_path_targets)\n",
    "\n",
    "# Creating train shots targets without runaways\n",
    "NO_RE_train = np.copy(NO_RE_probably)\n",
    "random.shuffle(NO_RE_train)\n",
    "NO_RE_train = NO_RE_train[:int(len(RE_lifetimes))] # Pick as much random ones as we have targets with runaways\n",
    "targets_no_re = save_no_re_targets(NO_RE_train, base_path, save_path_targets)"
   ]
  },
  {
   "cell_type": "code",
   "execution_count": 179,
   "metadata": {},
   "outputs": [],
   "source": [
    "# saving them for training\n",
    "path = r'C:\\Users\\Max Tost\\Desktop\\Notebooks\\SPC Neural Network Project\\CSV_Files'\n",
    "destination = r'C:\\Users\\Max Tost\\Desktop\\Notebooks\\SPC Neural Network Project\\Features'\n",
    "\n",
    "if not os.path.exists(destination):\n",
    "    os.mkdir(destination)\n",
    "\n",
    "for key in RE_lifetimes.keys(): \n",
    "    df = dataframes[int(key)]\n",
    "    df.to_csv(os.path.join(destination, 'JETno' + str(key) + '.csv'))\n",
    "    \n",
    "for key in NO_RE_train: \n",
    "    df = dataframes[int(key)]\n",
    "    df.to_csv(os.path.join(destination, 'JETno' + str(key) + '.csv'))\n"
   ]
  },
  {
   "cell_type": "code",
   "execution_count": null,
   "metadata": {},
   "outputs": [
    {
     "name": "stdout",
     "output_type": "stream",
     "text": [
      "True False\n"
     ]
    },
    {
     "data": {
      "application/vnd.jupyter.widget-view+json": {
       "model_id": "e119f62d208e44febf269f7ee496bbab",
       "version_major": 2,
       "version_minor": 0
      },
      "image/png": "[encoded data removed]",
      "text/html": [
       "\n",
       "            <div style=\"display: inline-block;\">\n",
       "                <div class=\"jupyter-widgets widget-label\" style=\"text-align: center;\">\n",
       "                    Figure\n",
       "                </div>\n",
       "                <img src='data:image/png;base64,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' width=640.0/>\n",
       "            </div>\n",
       "        "
      ],
      "text/plain": [
       "Canvas(toolbar=Toolbar(toolitems=[('Home', 'Reset original view', 'home', 'home'), ('Back', 'Back to previous …"
      ]
     },
     "metadata": {},
     "output_type": "display_data"
    }
   ],
   "source": [
    "# Plot random labeled shot for verification\n",
    "shot_nr = os.listdir(save_path_targets)[random.randint(0, len(os.listdir(save_path_targets)))].split('.')[0].split('no')[1]\n",
    "\n",
    "# Load the file and plot it\n",
    "feature_path = os.path.join(base_path, 'JETno' + str(shot_nr)+'.csv')\n",
    "target_path = os.path.join(save_path_targets, 'JETno' + str(shot_nr)+'.csv')\n",
    "feature = pd.read_csv(feature_path)\n",
    "target = pd.read_csv(target_path)\n",
    "\n",
    "plt.close()\n",
    "plt.plot(feature['time'], -feature['IPLA'] /max (-feature['IPLA']), '--', label='Feature')\n",
    "plt.plot(feature['time'], target['target'], label='Target')\n",
    "plt.legend()\n",
    "print(int(shot_nr) in RE_valid, int(shot_nr) in NO_RE_probably)"
   ]
  }
 ],
 "metadata": {
  "kernelspec": {
   "display_name": "Python 3 (ipykernel)",
   "language": "python",
   "name": "python3"
  },
  "language_info": {
   "codemirror_mode": {
    "name": "ipython",
    "version": 3
   },
   "file_extension": ".py",
   "mimetype": "text/x-python",
   "name": "python",
   "nbconvert_exporter": "python",
   "pygments_lexer": "ipython3",
   "version": "3.11.5"
  }
 },
 "nbformat": 4,
 "nbformat_minor": 2
}
