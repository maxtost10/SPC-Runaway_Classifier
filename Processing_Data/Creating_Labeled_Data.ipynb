{
 "cells": [
  {
   "cell_type": "code",
   "execution_count": null,
   "metadata": {
    "vscode": {
     "languageId": "plaintext"
    }
   },
   "outputs": [],
   "source": [
    "import pickle\n",
    "import sys\n",
    "import csv\n",
    "import random\n",
    "sys.path.append(r'C:\\Users\\Max Tost\\Desktop\\Notebooks\\SPC Neural Network Project')\n",
    "from execute_remote_scripts import *\n",
    "# from Processing_Data.downsampling import *\n",
    "%matplotlib widget\n",
    "import matplotlib.pyplot as plt\n",
    "import pandas as pd\n",
    "from scipy.stats import gaussian_kde\n",
    "%load_ext autoreload\n",
    "%autoreload 2\n",
    "# from Server_Scripts.remote_processing_csv import *\n",
    "from Processing_Data.EDA import *\n",
    "\n",
    "# Enable LaTeX rendering\n",
    "plt.rcParams.update({\n",
    "    \"text.usetex\": False, \n",
    "    \"font.family\": \"serif\"\n",
    "})"
   ]
  }
 ],
 "metadata": {
  "language_info": {
   "name": "python"
  }
 },
 "nbformat": 4,
 "nbformat_minor": 2
}
