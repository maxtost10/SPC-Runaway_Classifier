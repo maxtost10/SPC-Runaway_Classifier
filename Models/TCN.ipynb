{
 "cells": [
  {
   "cell_type": "code",
   "execution_count": 54,
   "metadata": {},
   "outputs": [
    {
     "name": "stdout",
     "output_type": "stream",
     "text": [
      "The autoreload extension is already loaded. To reload it, use:\n",
      "  %reload_ext autoreload\n"
     ]
    }
   ],
   "source": [
    "import numpy as np\n",
    "import os\n",
    "import sys\n",
    "sys.path.append(r'C:\\Users\\Max Tost\\Desktop\\Notebooks\\SPC Neural Network Project')\n",
    "\n",
    "import matplotlib.pyplot as plt # for plotting\n",
    "%matplotlib widget\n",
    "import pandas as pd # for data manipulation\n",
    "from Models.load_data import *\n",
    "from Models.helpers import *\n",
    "\n",
    "%load_ext autoreload\n",
    "%autoreload 2\n",
    "\n",
    "import torch\n",
    "\n",
    "path = r'C:\\Users\\Max Tost\\Desktop\\Notebooks\\SPC Neural Network Project\\Training_data'\n",
    "features_list = os.listdir(os.path.join(path, r'features'))"
   ]
  },
  {
   "cell_type": "code",
   "execution_count": 55,
   "metadata": {},
   "outputs": [
    {
     "name": "stdout",
     "output_type": "stream",
     "text": [
      "Skipping JETno97612.csv: sequence length 6001 is unexpected.\n",
      "Skipping JETno91071.csv: sequence length 6001 is unexpected.\n",
      "Skipping JETno99471.csv: sequence length 6001 is unexpected.\n",
      "Skipping JETno87125.csv: sequence length 6001 is unexpected.\n",
      "Global feature min (train set only): [ 0.0000000e+00 -3.2111890e+06 -6.1130988e+14  0.0000000e+00\n",
      " -3.1516222e+14  0.0000000e+00]\n",
      "Global feature max (train set only): [7.9738760e+00 7.2445923e+03 6.6292236e+17 8.5139590e+17 2.2450910e+18\n",
      " 1.6388709e+04]\n"
     ]
    }
   ],
   "source": [
    "# This cell takes 19s\n",
    "# Instantiate the dataset without transformations\n",
    "dataset = IndependentCSVDatasetTCN(path, features_list)\n",
    "\n",
    "# Split dataset into training and testing sets\n",
    "dataset_size = len(dataset)\n",
    "train_size = int(0.8 * dataset_size)\n",
    "test_size = dataset_size - train_size\n",
    "train_dataset, test_dataset = random_split(dataset, [train_size, test_size])\n",
    "\n",
    "feature_min, feature_max = compute_global_minmax(train_dataset)\n",
    "print(\"Global feature min (train set only):\", feature_min)\n",
    "print(\"Global feature max (train set only):\", feature_max)\n",
    "\n",
    "global_transform = GlobalMinMaxNormalize(feature_min, feature_max)\n",
    "train_dataset.dataset.transform = global_transform\n",
    "test_dataset.dataset.transform = global_transform  # Same transform to prevent data leakage\n",
    "\n",
    "train_loader = DataLoader(train_dataset, batch_size=32, shuffle=True, num_workers=0)\n",
    "test_loader = DataLoader(test_dataset, batch_size=32, shuffle=False, num_workers=0)\n",
    "\n"
   ]
  },
  {
   "cell_type": "code",
   "execution_count": 56,
   "metadata": {},
   "outputs": [
    {
     "name": "stdout",
     "output_type": "stream",
     "text": [
      "Inputs shape: torch.Size([32, 6000, 6])\n",
      "Targets shape: torch.Size([32, 6000])\n"
     ]
    },
    {
     "name": "stderr",
     "output_type": "stream",
     "text": [
      "C:\\Users\\Max Tost\\Desktop\\Notebooks\\SPC Neural Network Project\\Models\\helpers.py:83: UserWarning: To copy construct from a tensor, it is recommended to use sourceTensor.clone().detach() or sourceTensor.clone().detach().requires_grad_(True), rather than torch.tensor(sourceTensor).\n",
      "  sample = torch.tensor(sample, dtype=torch.float32)\n"
     ]
    }
   ],
   "source": [
    "# Create an iterator from the DataLoader\n",
    "train_iterator = iter(train_loader)\n",
    "\n",
    "# Get a single batch\n",
    "batch = next(train_iterator)\n",
    "\n",
    "# Unpack the batch (assuming your dataset returns (inputs, targets))\n",
    "inputs, targets = batch\n",
    "\n",
    "print(\"Inputs shape:\", inputs.shape)\n",
    "print(\"Targets shape:\", targets.shape)\n"
   ]
  },
  {
   "cell_type": "code",
   "execution_count": 57,
   "metadata": {},
   "outputs": [
    {
     "name": "stdout",
     "output_type": "stream",
     "text": [
      "Class counts: [1394455.0, 21545.0]\n",
      "Class ratio: 64.72290802001953\n"
     ]
    },
    {
     "name": "stderr",
     "output_type": "stream",
     "text": [
      "C:\\Users\\Max Tost\\Desktop\\Notebooks\\SPC Neural Network Project\\Models\\helpers.py:292: UserWarning: To copy construct from a tensor, it is recommended to use sourceTensor.clone().detach() or sourceTensor.clone().detach().requires_grad_(True), rather than torch.tensor(sourceTensor).\n",
      "  return torch.tensor(class_counts[0] / class_counts[1], dtype=torch.float32)\n"
     ]
    },
    {
     "name": "stdout",
     "output_type": "stream",
     "text": [
      "tensor(1.9389, grad_fn=<BinaryCrossEntropyWithLogitsBackward0>)\n"
     ]
    }
   ],
   "source": [
    "# Define model parameters\n",
    "input_size = 6  # Number of features per timestep\n",
    "output_size = 1  # Binary classification per timestep\n",
    "num_channels = [32, 64, 128]  # Number of channels in each TCN layer\n",
    "kernel_size = 51\n",
    "dropout = 0.1\n",
    "\n",
    "\n",
    "# Initialize the model\n",
    "device = \"cuda\" if torch.cuda.is_available() else \"cpu\"\n",
    "model = TCNModel(input_size, output_size, num_channels, kernel_size, dropout).to(device)\n",
    "\n",
    "# Define loss function and optimizer\n",
    "criterion = nn.BCEWithLogitsLoss(pos_weight=compute_class_weights(train_loader))\n",
    "optimizer = torch.optim.Adam(model.parameters(), lr=0.001, weight_decay=1e-5)\n",
    "\n",
    "output = model(inputs.to(device))\n",
    "print(criterion(output, targets.to(device)))"
   ]
  },
  {
   "cell_type": "code",
   "execution_count": 48,
   "metadata": {},
   "outputs": [
    {
     "name": "stdout",
     "output_type": "stream",
     "text": [
      "Epoch [1/1] Batch [1/8] - Train Loss: 0.8868\n",
      "Epoch [1/1] Batch [2/8] - Train Loss: 1.2126\n",
      "Epoch [1/1] Batch [3/8] - Train Loss: 1.1728\n",
      "Epoch [1/1] Batch [4/8] - Train Loss: 1.6300\n",
      "Epoch [1/1] Batch [5/8] - Train Loss: 2.7073\n",
      "Epoch [1/1] Batch [6/8] - Train Loss: 0.7399\n",
      "Epoch [1/1] Batch [7/8] - Train Loss: 0.8510\n",
      "Epoch [1/1] Batch [8/8] - Train Loss: 2.4645\n",
      "Epoch [1/1] | Train Loss: 1.4581, Train Acc: 98.6217% | Test Loss: 1.3207, Test Acc: 98.6633%, Test F1: 0.4966\n",
      "Training completed.\n"
     ]
    }
   ],
   "source": [
    "import torch\n",
    "from sklearn.metrics import f1_score\n",
    "\n",
    "# Number of epochs\n",
    "num_epochs = 1  \n",
    "\n",
    "# Move model to device\n",
    "device = \"cuda\" if torch.cuda.is_available() else \"cpu\"\n",
    "model.to(device)\n",
    "\n",
    "# Training loop\n",
    "for epoch in range(num_epochs):\n",
    "    model.train()  # Set model to training mode\n",
    "    train_loss = 0.0\n",
    "    train_correct, train_total = 0, 0\n",
    "    \n",
    "    for batch_idx, (X_batch, y_batch) in enumerate(train_loader):\n",
    "        X_batch, y_batch = X_batch.to(device), y_batch.to(device)\n",
    "\n",
    "        optimizer.zero_grad()\n",
    "        output = model(X_batch)  # Output shape: (batch_size, sequence_length)\n",
    "\n",
    "        # Compute loss\n",
    "        loss = criterion(output, y_batch)\n",
    "        loss.backward()\n",
    "        optimizer.step()\n",
    "\n",
    "        train_loss += loss.item()\n",
    "        \n",
    "        # Convert predictions to binary values (0 or 1)\n",
    "        predictions = (output > 0.5).int()\n",
    "        train_correct += (predictions == y_batch).sum().item()\n",
    "        train_total += y_batch.numel()  # Total number of timesteps\n",
    "\n",
    "        # Print loss update for each batch\n",
    "        print(f\"Epoch [{epoch+1}/{num_epochs}] Batch [{batch_idx+1}/{len(train_loader)}] - Train Loss: {loss.item():.4f}\")\n",
    "\n",
    "    # Compute average training loss and accuracy\n",
    "    avg_train_loss = train_loss / len(train_loader)\n",
    "    train_accuracy = train_correct / train_total\n",
    "\n",
    "    # --- Validation / Test Evaluation ---\n",
    "    model.eval()  # Set model to evaluation mode\n",
    "    test_loss = 0.0\n",
    "    test_correct, test_total = 0, 0\n",
    "    all_test_preds, all_test_targets = [], []\n",
    "\n",
    "    with torch.no_grad():\n",
    "        for X_test, y_test in test_loader:\n",
    "            X_test, y_test = X_test.to(device), y_test.to(device)\n",
    "            test_output = model(X_test)\n",
    "\n",
    "            # Compute loss\n",
    "            test_loss += criterion(test_output, y_test).item()\n",
    "            \n",
    "            # Convert predictions to binary values (0 or 1)\n",
    "            test_predictions = (test_output > 0.5).int()\n",
    "            test_correct += (test_predictions == y_test).sum().item()\n",
    "            test_total += y_test.numel() # Total number of timesteps\n",
    "            \n",
    "            # Store for F1-score computation\n",
    "            all_test_preds.append(test_predictions.cpu().numpy().flatten())\n",
    "            all_test_targets.append(y_test.cpu().numpy().flatten())\n",
    "    \n",
    "    # Compute average test loss and accuracy\n",
    "    avg_test_loss = test_loss / len(test_loader)\n",
    "    test_accuracy = test_correct / test_total\n",
    "    \n",
    "    # Compute F1-score\n",
    "    all_test_preds = np.concatenate(all_test_preds)\n",
    "    all_test_targets = np.concatenate(all_test_targets)\n",
    "    test_f1_score = f1_score(all_test_targets, all_test_preds, average='macro')\n",
    "\n",
    "    # Print progress\n",
    "    print(f\"Epoch [{epoch+1}/{num_epochs}] | \"\n",
    "          f\"Train Loss: {avg_train_loss:.4f}, Train Acc: {train_accuracy:.4%} | \"\n",
    "          f\"Test Loss: {avg_test_loss:.4f}, Test Acc: {test_accuracy:.4%}, Test F1: {test_f1_score:.4f}\")\n",
    "\n",
    "print(\"Training completed.\")\n"
   ]
  },
  {
   "cell_type": "code",
   "execution_count": 49,
   "metadata": {},
   "outputs": [
    {
     "name": "stderr",
     "output_type": "stream",
     "text": [
      "C:\\Users\\Max Tost\\Desktop\\Notebooks\\SPC Neural Network Project\\Models\\helpers.py:83: UserWarning: To copy construct from a tensor, it is recommended to use sourceTensor.clone().detach() or sourceTensor.clone().detach().requires_grad_(True), rather than torch.tensor(sourceTensor).\n",
      "  sample = torch.tensor(sample, dtype=torch.float32)\n"
     ]
    },
    {
     "name": "stdout",
     "output_type": "stream",
     "text": [
      "2\n",
      "10\n",
      "15\n",
      "18\n",
      "22\n",
      "23\n",
      "31\n"
     ]
    }
   ],
   "source": [
    "plt.close('all')\n",
    "# Create an iterator from the DataLoader\n",
    "train_iterator = iter(train_loader)\n",
    "\n",
    "# Get a single batch\n",
    "batch = next(train_iterator)\n",
    "\n",
    "# Unpack the batch (assuming your dataset returns (inputs, targets))\n",
    "inputs, targets = batch\n",
    "input = inputs[k].numpy().T\n",
    "target = targets[k].numpy().T\n",
    "outputs = model.predict(inputs.to(device))\n",
    "\n",
    "for k in range(len(targets)):\n",
    "    if targets[k].sum() > 0:\n",
    "        print(k)"
   ]
  },
  {
   "cell_type": "code",
   "execution_count": 52,
   "metadata": {},
   "outputs": [
    {
     "data": {
      "application/vnd.jupyter.widget-view+json": {
       "model_id": "b9cd7bde7dce4f27a5059029d6c5db79",
       "version_major": 2,
       "version_minor": 0
      },
      "image/png": "[encoded data removed]",
      "text/html": [
       "\n",
       "            <div style=\"display: inline-block;\">\n",
       "                <div class=\"jupyter-widgets widget-label\" style=\"text-align: center;\">\n",
       "                    Figure\n",
       "                </div>\n",
       "                <img src='data:image/png;base64,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' width=640.0/>\n",
       "            </div>\n",
       "        "
      ],
      "text/plain": [
       "Canvas(toolbar=Toolbar(toolitems=[('Home', 'Reset original view', 'home', 'home'), ('Back', 'Back to previous …"
      ]
     },
     "metadata": {},
     "output_type": "display_data"
    }
   ],
   "source": [
    "k = 0\n",
    "\n",
    "input = inputs[k].numpy().T\n",
    "\n",
    "target = targets[k].numpy().T\n",
    "output = outputs[0][k].detach().cpu().numpy().T\n",
    "\n",
    "# # Plot input features\n",
    "\n",
    "plt.close()\n",
    "for y in input:\n",
    "    plt.plot(y)\n",
    "plt.plot(target, label='Target', linestyle='--')\n",
    "plt.plot(output, label='Output', linestyle='--')\n",
    "\n",
    "plt.legend()\n",
    "plt.title(\"Sample Input Features, Target, and Output\")\n",
    "plt.show()"
   ]
  },
  {
   "cell_type": "code",
   "execution_count": 53,
   "metadata": {},
   "outputs": [
    {
     "name": "stdout",
     "output_type": "stream",
     "text": [
      "0\n",
      "1\n"
     ]
    }
   ],
   "source": [
    "for k in range(len(outputs)):\n",
    "    if outputs[0][k].sum() > 0:\n",
    "        print(k)"
   ]
  },
  {
   "cell_type": "code",
   "execution_count": 46,
   "metadata": {},
   "outputs": [
    {
     "data": {
      "text/plain": [
       "tensor(0)"
      ]
     },
     "execution_count": 46,
     "metadata": {},
     "output_type": "execute_result"
    }
   ],
   "source": [
    "outputs[0].sum()"
   ]
  }
 ],
 "metadata": {
  "kernelspec": {
   "display_name": "Python 3 (ipykernel)",
   "language": "python",
   "name": "python3"
  },
  "language_info": {
   "codemirror_mode": {
    "name": "ipython",
    "version": 3
   },
   "file_extension": ".py",
   "mimetype": "text/x-python",
   "name": "python",
   "nbconvert_exporter": "python",
   "pygments_lexer": "ipython3",
   "version": "3.11.5"
  }
 },
 "nbformat": 4,
 "nbformat_minor": 2
}
