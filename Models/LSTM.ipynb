{
 "cells": [
  {
   "cell_type": "code",
   "execution_count": 1,
   "metadata": {},
   "outputs": [],
   "source": [
    "import numpy as np\n",
    "import os\n",
    "import sys\n",
    "sys.path.append(r'C:\\Users\\Max Tost\\Desktop\\Notebooks\\SPC Neural Network Project')\n",
    "\n",
    "import matplotlib.pyplot as plt # for plotting\n",
    "%matplotlib widget\n",
    "import pandas as pd # for data manipulation\n",
    "from Models.load_data import *\n",
    "from Models.helpers import *\n",
    "import random\n",
    "\n",
    "%load_ext autoreload\n",
    "%autoreload 2\n",
    "\n",
    "import torch\n",
    "\n",
    "path = r'C:\\Users\\Max Tost\\Desktop\\Notebooks\\SPC Neural Network Project\\Data\\Training_data_NO_dtIPLA_conv'\n",
    "features_list = os.listdir(os.path.join(path, r'features'))\n",
    "\n",
    "random.seed(42)\n",
    "random.shuffle(features_list)\n",
    "# Split features list into training and validation\n",
    "train_features = features_list[:int(0.8*len(features_list))]\n",
    "val_features = features_list[int(0.8*len(features_list)):]"
   ]
  },
  {
   "cell_type": "code",
   "execution_count": 2,
   "metadata": {},
   "outputs": [
    {
     "name": "stdout",
     "output_type": "stream",
     "text": [
      "Skipping JETno91071.csv: sequence length 6001 is unexpected.\n",
      "Skipping JETno97612.csv: sequence length 6001 is unexpected.\n",
      "Total sliding window samples created: 56810\n",
      "Total sliding window samples created: 14950\n",
      "Global feature min (train set only): [ 0.0000000e+00 -3.5119230e+06 -4.2802272e+14  0.0000000e+00\n",
      " -2.2326936e+14  0.0000000e+00]\n",
      "Global feature max (train set only): [6.79704952e+00 5.01720166e+03 6.61599717e+17 8.42967459e+17\n",
      " 1.11507405e+18 1.01210303e+04]\n"
     ]
    }
   ],
   "source": [
    "# This cell takes 19s\n",
    "# Instantiate the dataset without transformations\n",
    "train_dataset = IndependentCSVDataset(path, train_features)\n",
    "val_dataset = IndependentCSVDataset(path, val_features)\n",
    "\n",
    "feature_min, feature_max = compute_global_minmax(train_dataset)\n",
    "print(\"Global feature min (train set only):\", feature_min)\n",
    "print(\"Global feature max (train set only):\", feature_max)\n",
    "\n",
    "global_transform = GlobalMinMaxNormalize(feature_min, feature_max)\n",
    "train_dataset.transform = global_transform\n",
    "val_dataset.transform = global_transform  # Same transform to prevent data leakage\n",
    "\n",
    "train_loader = DataLoader(train_dataset, batch_size=64, shuffle=True, num_workers=0)\n",
    "test_loader = DataLoader(val_dataset, batch_size=64, shuffle=False, num_workers=0)\n",
    "\n"
   ]
  },
  {
   "cell_type": "code",
   "execution_count": 3,
   "metadata": {},
   "outputs": [
    {
     "name": "stdout",
     "output_type": "stream",
     "text": [
      "Inputs shape: torch.Size([64, 30, 6])\n",
      "Targets shape: torch.Size([64, 30])\n"
     ]
    },
    {
     "name": "stderr",
     "output_type": "stream",
     "text": [
      "C:\\Users\\Max Tost\\Desktop\\Notebooks\\SPC Neural Network Project\\Models\\helpers.py:152: UserWarning: To copy construct from a tensor, it is recommended to use sourceTensor.clone().detach() or sourceTensor.clone().detach().requires_grad_(True), rather than torch.tensor(sourceTensor).\n",
      "  x = torch.tensor(x, dtype=torch.float32)  # Convert features to tensor\n"
     ]
    }
   ],
   "source": [
    "# Create an iterator from the DataLoader\n",
    "train_iterator = iter(train_loader)\n",
    "\n",
    "# Get a single batch\n",
    "batch = next(train_iterator)\n",
    "\n",
    "# Unpack the batch (assuming your dataset returns (inputs, targets))\n",
    "inputs, targets = batch\n",
    "\n",
    "print(\"Inputs shape:\", inputs.shape)\n",
    "print(\"Targets shape:\", targets.shape)\n"
   ]
  },
  {
   "cell_type": "markdown",
   "metadata": {},
   "source": [
    "## Training the model"
   ]
  },
  {
   "cell_type": "code",
   "execution_count": 15,
   "metadata": {},
   "outputs": [
    {
     "name": "stdout",
     "output_type": "stream",
     "text": [
      "Class counts: [1646280.0, 58020.0]\n",
      "Class ratio: 28.374353408813477\n",
      "LSTMModel(\n",
      "  (lstm): LSTM(6, 40, num_layers=2, batch_first=True, dropout=0.1)\n",
      "  (fc1): Linear(in_features=40, out_features=40, bias=True)\n",
      "  (fc2): Linear(in_features=40, out_features=1, bias=True)\n",
      "  (sigmoid): Sigmoid()\n",
      "  (relu): ReLU()\n",
      ")\n",
      "Input shape: torch.Size([64, 30, 6])\n",
      "Output shape: torch.Size([64, 30])\n",
      "Targets shape: torch.Size([64, 30])\n",
      "2.013542890548706\n"
     ]
    },
    {
     "name": "stderr",
     "output_type": "stream",
     "text": [
      "C:\\Users\\Max Tost\\Desktop\\Notebooks\\SPC Neural Network Project\\Models\\helpers.py:293: UserWarning: To copy construct from a tensor, it is recommended to use sourceTensor.clone().detach() or sourceTensor.clone().detach().requires_grad_(True), rather than torch.tensor(sourceTensor).\n",
      "  return torch.tensor(class_counts[0] / class_counts[1], dtype=torch.float32)\n"
     ]
    }
   ],
   "source": [
    "# Define loss and optimizer\n",
    "device = torch.device(\"cuda\" if torch.cuda.is_available() else \"cpu\")\n",
    "criterion = nn.BCEWithLogitsLoss(pos_weight=compute_class_weights(train_loader))# *3)\n",
    "# Define the model and print the architecture, example with dummy input shapes\n",
    "# [I 2025-02-07 01:30:51,832] Trial 37 finished with value: 1.143294748031732 and parameters: \n",
    "# {'hidden_size': 401, 'dropout': 0.31159803520368773, 'learning_rate': 0.0004282581786099833, \n",
    "# 'weight_decay': 3.0769712937166838e-06}. Best is trial 37 with value: 1.143294748031732.\n",
    "\n",
    "input_size = 6       # Number of features per time step\n",
    "hidden_size = 40     # Number of LSTM hidden units\n",
    "num_layers = 2       # Number of LSTM layers\n",
    "output_size = 1      # Binary classification\n",
    "dropout = 0.1       # Dropout rate\n",
    "\n",
    "# Instantiate the model\n",
    "model = LSTMModel(input_size, hidden_size, num_layers, output_size, dropout)\n",
    "\n",
    "# Print model architecture\n",
    "print(model)\n",
    "\n",
    "# Example dummy input: batch_size=32, sequence_length=6000, input_size=6\n",
    "dummy_input = inputs\n",
    "dummy_output = model(dummy_input)\n",
    "\n",
    "print(\"Input shape:\", dummy_input.shape)  # Expected: (32, 6000, 6) -> 6 features per timestep\n",
    "print(\"Output shape:\", dummy_output.shape)  # Expected: (32, 6000,) -> one binary value per timestep\n",
    "print(\"Targets shape:\", targets.shape)\n",
    "\n",
    "loss = criterion(dummy_output, targets)\n",
    "\n",
    "print(loss.item())"
   ]
  },
  {
   "cell_type": "code",
   "execution_count": null,
   "metadata": {},
   "outputs": [
    {
     "name": "stdout",
     "output_type": "stream",
     "text": [
      "Epoch [1/10], Train Loss: 0.84893.8102, batch_idx=887\n",
      "Epoch [1/10], Validation Loss: 0.7053\n",
      "Epoch [2/10], Train Loss: 0.63544.2743, batch_idx=887\n",
      "Epoch [2/10], Validation Loss: 0.3631\n",
      "Epoch [3/10], Train Loss: 0.59417.5491, batch_idx=887\n",
      "Epoch [3/10], Validation Loss: 0.4739\n",
      "Epoch [4/10], Train Loss: 0.59619.3575, batch_idx=887\n",
      "Epoch [4/10], Validation Loss: 0.3636\n",
      "Epoch [5/10], Train Loss: 0.57147.4281, batch_idx=887\n",
      "Epoch [5/10], Validation Loss: 0.4409\n",
      "Epoch [6/10], Train Loss: 0.57500.6158, batch_idx=887\n",
      "Epoch [6/10], Validation Loss: 0.3500\n",
      "Epoch [7/10], Train Loss: 0.54887.3134, batch_idx=887\n",
      "Epoch [7/10], Validation Loss: 0.4168\n",
      "Epoch [8/10], Train Loss: 0.51729.2973, batch_idx=887\n",
      "Epoch [8/10], Validation Loss: 0.3975\n",
      "Epoch [9/10], Train Loss: 0.54534.2391, batch_idx=887\n",
      "Epoch [9/10], Validation Loss: 0.8697\n",
      "Epoch [10/10], Train Loss: 0.5207.3562, batch_idx=887\n",
      "Epoch [10/10], Validation Loss: 0.4206\n",
      "Model saved at C:\\Users\\Max Tost\\Desktop\\Notebooks\\SPC Neural Network Project\\Models\\lstm_model.pth\n"
     ]
    },
    {
     "data": {
      "application/vnd.jupyter.widget-view+json": {
       "model_id": "881c232b545246c6ad3c0251cbc6fd74",
       "version_major": 2,
       "version_minor": 0
      },
      "image/png": "[encoded data removed]",
      "text/html": [
       "\n",
       "            <div style=\"display: inline-block;\">\n",
       "                <div class=\"jupyter-widgets widget-label\" style=\"text-align: center;\">\n",
       "                    Figure\n",
       "                </div>\n",
       "                <img src='data:image/png;base64,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' width=640.0/>\n",
       "            </div>\n",
       "        "
      ],
      "text/plain": [
       "Canvas(toolbar=Toolbar(toolitems=[('Home', 'Reset original view', 'home', 'home'), ('Back', 'Back to previous …"
      ]
     },
     "metadata": {},
     "output_type": "display_data"
    }
   ],
   "source": [
    "import torch\n",
    "import torch.optim as optim\n",
    "import matplotlib.pyplot as plt\n",
    "from sklearn.metrics import classification_report\n",
    "\n",
    "# Define the optimizer\n",
    "optimizer = optim.Adam(model.parameters(), lr=1e-3, weight_decay=1e-05)\n",
    "\n",
    "# Assume `train_loader` and `test_loader` are DataLoaders yielding batches of (input, target)\n",
    "num_epochs = 10\n",
    "\n",
    "train_losses = []\n",
    "val_losses = []\n",
    "\n",
    "model.train()\n",
    "for epoch in range(num_epochs):\n",
    "    epoch_train_loss = 0.0\n",
    "    for batch_idx, (inputs, targets) in enumerate(train_loader):\n",
    "        inputs, targets = inputs.to(device), targets.to(device)\n",
    "        \n",
    "        # Zero the parameter gradients\n",
    "        optimizer.zero_grad()\n",
    "        \n",
    "        # Forward pass\n",
    "        outputs = model(inputs)\n",
    "        loss = criterion(outputs, targets)\n",
    "        \n",
    "        # Backward pass and optimization\n",
    "        loss.backward()\n",
    "        torch.nn.utils.clip_grad_norm_(model.parameters(), max_norm=5)\n",
    "        optimizer.step()\n",
    "        \n",
    "        epoch_train_loss += loss.item()\n",
    "        print(f'Accumulated epoch train loss: {epoch_train_loss:.4f}, {batch_idx=}', end='\\r')\n",
    "    \n",
    "    avg_train_loss = epoch_train_loss / len(train_loader)\n",
    "    train_losses.append(avg_train_loss)\n",
    "    print(f\"Epoch [{epoch+1}/{num_epochs}], Train Loss: {avg_train_loss:.4f}\")\n",
    "\n",
    "    # Validation phase\n",
    "    model.eval()\n",
    "    epoch_val_loss = 0.0\n",
    "    with torch.no_grad():\n",
    "        for inputs, targets in test_loader:\n",
    "            inputs, targets = inputs.to(device), targets.to(device)\n",
    "            \n",
    "            outputs = model(inputs)\n",
    "            loss = criterion(outputs, targets)\n",
    "            \n",
    "            epoch_val_loss += loss.item()\n",
    "    \n",
    "    avg_val_loss = epoch_val_loss / len(test_loader)\n",
    "    val_losses.append(avg_val_loss)\n",
    "    print(f\"Epoch [{epoch+1}/{num_epochs}], Validation Loss: {avg_val_loss:.4f}\")\n",
    "    \n",
    "    model.train()\n",
    "\n",
    "# Save the model\n",
    "torch.save(model.state_dict(), r'C:\\Users\\Max Tost\\Desktop\\Notebooks\\SPC Neural Network Project\\Models\\lstm_model.pth')\n",
    "print('Model saved at C:\\\\Users\\\\Max Tost\\\\Desktop\\\\Notebooks\\\\SPC Neural Network Project\\\\Models\\\\lstm_model.pth')\n",
    "\n",
    "plt.close()\n",
    "# Plot the training and validation loss\n",
    "plt.plot(train_losses, label='Train Loss')\n",
    "plt.plot(val_losses, label='Validation Loss')\n",
    "plt.xlabel('Epoch')\n",
    "plt.ylabel('Loss')\n",
    "plt.title('Training and Validation Loss')\n",
    "plt.legend()\n",
    "plt.savefig(rf'C:\\Users\\Max Tost\\Desktop\\Notebooks\\SPC Neural Network Project\\Models\\losses_LSTM_{num_epochs}_epoch__{hidden_size}hidden.png')\n",
    "plt.show()"
   ]
  },
  {
   "cell_type": "code",
   "execution_count": 17,
   "metadata": {},
   "outputs": [
    {
     "name": "stdout",
     "output_type": "stream",
     "text": [
      "              precision    recall  f1-score   support\n",
      "\n",
      "         0.0       1.00      0.82      0.90    433485\n",
      "         1.0       0.15      0.97      0.26     15015\n",
      "\n",
      "    accuracy                           0.82    448500\n",
      "   macro avg       0.58      0.89      0.58    448500\n",
      "weighted avg       0.97      0.82      0.88    448500\n",
      "\n"
     ]
    }
   ],
   "source": [
    "# print the classification report for the test set\n",
    "model.eval()\n",
    "predictions = []\n",
    "true_labels = []\n",
    "with torch.no_grad():\n",
    "    for inputs, targets in test_loader:\n",
    "        inputs, targets = inputs.to(device), targets.to(device)\n",
    "        outputs, _ = model.predict(inputs)\n",
    "        predictions.extend(outputs.flatten().cpu().numpy())\n",
    "        true_labels.extend(targets.flatten().cpu().numpy())\n",
    "\n",
    "print(classification_report(true_labels, predictions))\n"
   ]
  },
  {
   "cell_type": "markdown",
   "metadata": {},
   "source": [
    "## Plotting outputs of model"
   ]
  },
  {
   "cell_type": "code",
   "execution_count": 34,
   "metadata": {},
   "outputs": [
    {
     "data": {
      "text/plain": [
       "LSTMModel(\n",
       "  (lstm): LSTM(600, 401, num_layers=2, batch_first=True, dropout=0.31159803520368773)\n",
       "  (fc1): Linear(in_features=401, out_features=401, bias=True)\n",
       "  (fc2): Linear(in_features=401, out_features=100, bias=True)\n",
       "  (sigmoid): Sigmoid()\n",
       ")"
      ]
     },
     "execution_count": 34,
     "metadata": {},
     "output_type": "execute_result"
    }
   ],
   "source": [
    "# Parameters:\n",
    "input_size = 600       # Number of features per time step\n",
    "hidden_size = 401     # Number of LSTM hidden units\n",
    "num_layers = 2       # Number of LSTM layers\n",
    "output_size = 100      # Binary classification\n",
    "dropout = 0.31159803520368773\n",
    "\n",
    "model = LSTMModel(input_size, hidden_size, num_layers, output_size, dropout)\n",
    "model.load_state_dict(torch.load(r'C:\\Users\\Max Tost\\Desktop\\Notebooks\\SPC Neural Network Project\\Models\\lstm_model.pth', weights_only=True))\n",
    "model.eval()"
   ]
  },
  {
   "cell_type": "code",
   "execution_count": 90,
   "metadata": {},
   "outputs": [
    {
     "name": "stdout",
     "output_type": "stream",
     "text": [
      "Inputs shape: torch.Size([40, 6])\n",
      "Targets shape: torch.Size([40])\n",
      "Outputs shape: torch.Size([40])\n"
     ]
    }
   ],
   "source": [
    "# Create an iterator from the DataLoader\n",
    "train_iterator = iter(train_loader)\n",
    "\n",
    "# Get a single batch\n",
    "batch = next(train_iterator)\n",
    "\n",
    "# Unpack the batch (assuming your dataset returns (inputs, targets))\n",
    "inputs, targets = batch\n",
    "input, target = inputs[0], targets[0]\n",
    "\n",
    "print(\"Inputs shape:\", input.shape)\n",
    "print(\"Targets shape:\", target.shape)\n",
    "\n",
    "output = model(input)\n",
    "\n",
    "print(\"Outputs shape:\", output.shape)"
   ]
  },
  {
   "cell_type": "code",
   "execution_count": 52,
   "metadata": {},
   "outputs": [
    {
     "data": {
      "text/plain": [
       "tensor(-39632.2656, grad_fn=<SumBackward0>)"
      ]
     },
     "execution_count": 52,
     "metadata": {},
     "output_type": "execute_result"
    }
   ],
   "source": [
    "torch.sum(outputs)"
   ]
  },
  {
   "cell_type": "code",
   "execution_count": 47,
   "metadata": {},
   "outputs": [
    {
     "name": "stdout",
     "output_type": "stream",
     "text": [
      "Inputs shape: torch.Size([60, 600])\n",
      "Targets shape: torch.Size([60, 100])\n",
      "Outputs shape: torch.Size([60, 100])\n"
     ]
    },
    {
     "data": {
      "text/plain": [
       "[<matplotlib.lines.Line2D at 0x23e59f554d0>,\n",
       " <matplotlib.lines.Line2D at 0x23e5a5212d0>,\n",
       " <matplotlib.lines.Line2D at 0x23e59f2d650>,\n",
       " <matplotlib.lines.Line2D at 0x23e59f2b350>,\n",
       " <matplotlib.lines.Line2D at 0x23e59f292d0>,\n",
       " <matplotlib.lines.Line2D at 0x23e59f2a090>,\n",
       " <matplotlib.lines.Line2D at 0x23e59f2a710>,\n",
       " <matplotlib.lines.Line2D at 0x23e59f29f50>,\n",
       " <matplotlib.lines.Line2D at 0x23e59f290d0>,\n",
       " <matplotlib.lines.Line2D at 0x23e59f2a3d0>,\n",
       " <matplotlib.lines.Line2D at 0x23e59f6a7d0>,\n",
       " <matplotlib.lines.Line2D at 0x23e5a50d3d0>,\n",
       " <matplotlib.lines.Line2D at 0x23e59f2a2d0>,\n",
       " <matplotlib.lines.Line2D at 0x23e59f29a10>,\n",
       " <matplotlib.lines.Line2D at 0x23e59f2ac10>,\n",
       " <matplotlib.lines.Line2D at 0x23e59f2bf50>,\n",
       " <matplotlib.lines.Line2D at 0x23e59f2bb10>,\n",
       " <matplotlib.lines.Line2D at 0x23e59fdb750>,\n",
       " <matplotlib.lines.Line2D at 0x23e59ef0c10>,\n",
       " <matplotlib.lines.Line2D at 0x23e59fd8990>,\n",
       " <matplotlib.lines.Line2D at 0x23e59fd9f90>,\n",
       " <matplotlib.lines.Line2D at 0x23e59f2a690>,\n",
       " <matplotlib.lines.Line2D at 0x23e59fd9e90>,\n",
       " <matplotlib.lines.Line2D at 0x23e59fd9990>,\n",
       " <matplotlib.lines.Line2D at 0x23e5a5235d0>,\n",
       " <matplotlib.lines.Line2D at 0x23e59ebb050>,\n",
       " <matplotlib.lines.Line2D at 0x23e59f6a810>,\n",
       " <matplotlib.lines.Line2D at 0x23e59feab50>,\n",
       " <matplotlib.lines.Line2D at 0x23e59fea350>,\n",
       " <matplotlib.lines.Line2D at 0x23e59ff27d0>,\n",
       " <matplotlib.lines.Line2D at 0x23e5a4b3550>,\n",
       " <matplotlib.lines.Line2D at 0x23e59fe8990>,\n",
       " <matplotlib.lines.Line2D at 0x23e5a4d3010>,\n",
       " <matplotlib.lines.Line2D at 0x23e5a520190>,\n",
       " <matplotlib.lines.Line2D at 0x23e59fd8390>,\n",
       " <matplotlib.lines.Line2D at 0x23e59ef03d0>,\n",
       " <matplotlib.lines.Line2D at 0x23e59ff8f50>,\n",
       " <matplotlib.lines.Line2D at 0x23e59ff9350>,\n",
       " <matplotlib.lines.Line2D at 0x23e59ff96d0>,\n",
       " <matplotlib.lines.Line2D at 0x23e59ff9a90>,\n",
       " <matplotlib.lines.Line2D at 0x23e59ff9e90>,\n",
       " <matplotlib.lines.Line2D at 0x23e5a522150>,\n",
       " <matplotlib.lines.Line2D at 0x23e59ffa4d0>,\n",
       " <matplotlib.lines.Line2D at 0x23e59fea810>,\n",
       " <matplotlib.lines.Line2D at 0x23e59ffac10>,\n",
       " <matplotlib.lines.Line2D at 0x23e59feaf90>,\n",
       " <matplotlib.lines.Line2D at 0x23e59ffb3d0>,\n",
       " <matplotlib.lines.Line2D at 0x23e59ffb7d0>,\n",
       " <matplotlib.lines.Line2D at 0x23e59ffbbd0>,\n",
       " <matplotlib.lines.Line2D at 0x23e5a4a3f90>,\n",
       " <matplotlib.lines.Line2D at 0x23e59f28390>,\n",
       " <matplotlib.lines.Line2D at 0x23e5a520750>,\n",
       " <matplotlib.lines.Line2D at 0x23e5a4e8ad0>,\n",
       " <matplotlib.lines.Line2D at 0x23e59fd8c90>,\n",
       " <matplotlib.lines.Line2D at 0x23e5a4e9210>,\n",
       " <matplotlib.lines.Line2D at 0x23e5a4e9610>,\n",
       " <matplotlib.lines.Line2D at 0x23e5a4e99d0>,\n",
       " <matplotlib.lines.Line2D at 0x23e59fd9d50>,\n",
       " <matplotlib.lines.Line2D at 0x23e59f6a890>,\n",
       " <matplotlib.lines.Line2D at 0x23e59ffa450>,\n",
       " <matplotlib.lines.Line2D at 0x23e59ffa810>,\n",
       " <matplotlib.lines.Line2D at 0x23e59ffab90>,\n",
       " <matplotlib.lines.Line2D at 0x23e5a4eafd0>,\n",
       " <matplotlib.lines.Line2D at 0x23e5a4eb390>,\n",
       " <matplotlib.lines.Line2D at 0x23e5a4eb710>,\n",
       " <matplotlib.lines.Line2D at 0x23e5a4eb890>,\n",
       " <matplotlib.lines.Line2D at 0x23e5a4ebe10>,\n",
       " <matplotlib.lines.Line2D at 0x23e5a4e8110>,\n",
       " <matplotlib.lines.Line2D at 0x23e5a4e84d0>,\n",
       " <matplotlib.lines.Line2D at 0x23e5a508710>,\n",
       " <matplotlib.lines.Line2D at 0x23e5a508cd0>,\n",
       " <matplotlib.lines.Line2D at 0x23e5a509090>,\n",
       " <matplotlib.lines.Line2D at 0x23e5a509490>,\n",
       " <matplotlib.lines.Line2D at 0x23e5a509850>,\n",
       " <matplotlib.lines.Line2D at 0x23e59f29b90>,\n",
       " <matplotlib.lines.Line2D at 0x23e5a509fd0>,\n",
       " <matplotlib.lines.Line2D at 0x23e59f2a310>,\n",
       " <matplotlib.lines.Line2D at 0x23e59f6ae90>,\n",
       " <matplotlib.lines.Line2D at 0x23e5a50ab10>,\n",
       " <matplotlib.lines.Line2D at 0x23e5a50ae90>,\n",
       " <matplotlib.lines.Line2D at 0x23e5a50b010>,\n",
       " <matplotlib.lines.Line2D at 0x23e59ddbdd0>,\n",
       " <matplotlib.lines.Line2D at 0x23e5a50b9d0>,\n",
       " <matplotlib.lines.Line2D at 0x23e5a50bdd0>,\n",
       " <matplotlib.lines.Line2D at 0x23e59fd80d0>,\n",
       " <matplotlib.lines.Line2D at 0x23e5a4c0550>,\n",
       " <matplotlib.lines.Line2D at 0x23e43190090>,\n",
       " <matplotlib.lines.Line2D at 0x23e5a4c0cd0>,\n",
       " <matplotlib.lines.Line2D at 0x23e5a4c1050>,\n",
       " <matplotlib.lines.Line2D at 0x23e5a4c1410>,\n",
       " <matplotlib.lines.Line2D at 0x23e5a4b2010>,\n",
       " <matplotlib.lines.Line2D at 0x23e5a521250>,\n",
       " <matplotlib.lines.Line2D at 0x23e59f21e90>,\n",
       " <matplotlib.lines.Line2D at 0x23e5a4b2b10>,\n",
       " <matplotlib.lines.Line2D at 0x23e5a4c2650>,\n",
       " <matplotlib.lines.Line2D at 0x23e5a4c29d0>,\n",
       " <matplotlib.lines.Line2D at 0x23e59ffad90>,\n",
       " <matplotlib.lines.Line2D at 0x23e5a4c3110>,\n",
       " <matplotlib.lines.Line2D at 0x23e59fdb450>,\n",
       " <matplotlib.lines.Line2D at 0x23e5a4c3850>]"
      ]
     },
     "execution_count": 47,
     "metadata": {},
     "output_type": "execute_result"
    },
    {
     "data": {
      "application/vnd.jupyter.widget-view+json": {
       "model_id": "d4906147fa1a401f85b7dcbaac8befdf",
       "version_major": 2,
       "version_minor": 0
      },
      "image/png": "[encoded data removed]",
      "text/html": [
       "\n",
       "            <div style=\"display: inline-block;\">\n",
       "                <div class=\"jupyter-widgets widget-label\" style=\"text-align: center;\">\n",
       "                    Figure\n",
       "                </div>\n",
       "                <img src='data:image/png;base64,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' width=640.0/>\n",
       "            </div>\n",
       "        "
      ],
      "text/plain": [
       "Canvas(toolbar=Toolbar(toolitems=[('Home', 'Reset original view', 'home', 'home'), ('Back', 'Back to previous …"
      ]
     },
     "metadata": {},
     "output_type": "display_data"
    }
   ],
   "source": [
    "k = 1\n",
    "# Unpack the batch (assuming your dataset returns (inputs, targets))\n",
    "inputs, targets = batch\n",
    "input, target = inputs[k], targets[k]\n",
    "\n",
    "print(\"Inputs shape:\", input.shape)\n",
    "print(\"Targets shape:\", target.shape)\n",
    "\n",
    "output = model(input)\n",
    "\n",
    "print(\"Outputs shape:\", output.shape)\n",
    "target_reshaped = target.reshape(60, 100)\n",
    "target_original = target_reshaped.reshape(6000)\n",
    "target_original\n",
    "plt.close()\n",
    "plt.plot(target, label=\"Target\")"
   ]
  },
  {
   "cell_type": "markdown",
   "metadata": {},
   "source": [
    "## Hyperparameter Tuning"
   ]
  },
  {
   "cell_type": "code",
   "execution_count": 18,
   "metadata": {},
   "outputs": [
    {
     "name": "stderr",
     "output_type": "stream",
     "text": [
      "[I 2025-02-06 19:12:12,255] A new study created in memory with name: no-name-7d42ee83-9fce-41ff-9fab-897202957042\n",
      "[I 2025-02-06 19:14:22,773] Trial 0 finished with value: 1.4831497163893161 and parameters: {'hidden_size': 68, 'dropout': 0.2796572278236362, 'learning_rate': 0.004450825657499489, 'weight_decay': 0.00027124720064343276}. Best is trial 0 with value: 1.4831497163893161.\n",
      "[I 2025-02-06 19:27:39,277] Trial 1 finished with value: 1.6296354915066404 and parameters: {'hidden_size': 364, 'dropout': 0.49295518977565567, 'learning_rate': 0.006043435602079738, 'weight_decay': 0.007852530176627527}. Best is trial 0 with value: 1.4831497163893161.\n",
      "[I 2025-02-06 19:41:36,139] Trial 2 finished with value: 1.2608569962645957 and parameters: {'hidden_size': 365, 'dropout': 0.4004909576509085, 'learning_rate': 0.0006279622666646788, 'weight_decay': 4.0703178450966685e-06}. Best is trial 2 with value: 1.2608569962645957.\n",
      "[I 2025-02-06 19:49:44,332] Trial 3 finished with value: 1.377703879061068 and parameters: {'hidden_size': 239, 'dropout': 0.25523196879007115, 'learning_rate': 0.0006703771045299565, 'weight_decay': 0.005099303717934173}. Best is trial 2 with value: 1.2608569962645957.\n",
      "[I 2025-02-06 19:59:50,084] Trial 4 finished with value: 1.1867264117939336 and parameters: {'hidden_size': 291, 'dropout': 0.19364281664263827, 'learning_rate': 0.0006865318950616603, 'weight_decay': 1.5849743422819565e-06}. Best is trial 4 with value: 1.1867264117939336.\n",
      "[I 2025-02-06 20:14:45,558] Trial 5 finished with value: 1.5464739893741448 and parameters: {'hidden_size': 383, 'dropout': 0.35655891667507134, 'learning_rate': 0.0010791654331135444, 'weight_decay': 5.632642949339343e-05}. Best is trial 4 with value: 1.1867264117939336.\n",
      "[I 2025-02-06 20:31:39,532] Trial 6 finished with value: 1.4043266576548616 and parameters: {'hidden_size': 424, 'dropout': 0.29520839882397754, 'learning_rate': 0.007300116681659483, 'weight_decay': 4.820065222672352e-05}. Best is trial 4 with value: 1.1867264117939336.\n",
      "[I 2025-02-06 20:39:03,536] Trial 7 finished with value: 1.4162979017563524 and parameters: {'hidden_size': 234, 'dropout': 0.46828539530573987, 'learning_rate': 0.000471375248076495, 'weight_decay': 2.0284562509155787e-06}. Best is trial 4 with value: 1.1867264117939336.\n",
      "[I 2025-02-06 20:43:04,474] Trial 8 finished with value: 1.3916922780989551 and parameters: {'hidden_size': 131, 'dropout': 0.21130225823390503, 'learning_rate': 0.000350828989639619, 'weight_decay': 1.3582661220648346e-06}. Best is trial 4 with value: 1.1867264117939336.\n",
      "[I 2025-02-06 20:57:53,224] Trial 9 finished with value: 1.9863161643074811 and parameters: {'hidden_size': 388, 'dropout': 0.4444613271627782, 'learning_rate': 0.0010716334859724543, 'weight_decay': 2.531461240576309e-06}. Best is trial 4 with value: 1.1867264117939336.\n",
      "[I 2025-02-06 21:18:34,304] Trial 10 finished with value: 1.529993732409863 and parameters: {'hidden_size': 489, 'dropout': 0.11049420527530682, 'learning_rate': 0.00011266595362344224, 'weight_decay': 1.193351584073423e-05}. Best is trial 4 with value: 1.1867264117939336.\n",
      "[I 2025-02-06 21:29:40,660] Trial 11 finished with value: 1.5377962602738753 and parameters: {'hidden_size': 302, 'dropout': 0.39013183529719253, 'learning_rate': 0.0027042732533020235, 'weight_decay': 8.40764641904512e-06}. Best is trial 4 with value: 1.1867264117939336.\n",
      "[I 2025-02-06 21:40:25,698] Trial 12 finished with value: 1.1958037031882163 and parameters: {'hidden_size': 305, 'dropout': 0.17967831202687243, 'learning_rate': 0.00032028752144588294, 'weight_decay': 9.51476883274433e-06}. Best is trial 4 with value: 1.1867264117939336.\n",
      "[I 2025-02-06 21:50:19,079] Trial 13 finished with value: 1.4743621980808923 and parameters: {'hidden_size': 289, 'dropout': 0.16022997818880944, 'learning_rate': 0.0001975179404995467, 'weight_decay': 1.7194929239216046e-05}. Best is trial 4 with value: 1.1867264117939336.\n",
      "[I 2025-02-06 21:56:34,232] Trial 14 finished with value: 1.1908392258413893 and parameters: {'hidden_size': 202, 'dropout': 0.19540239888523192, 'learning_rate': 0.0020725605545255134, 'weight_decay': 1.183548786399151e-06}. Best is trial 4 with value: 1.1867264117939336.\n",
      "[I 2025-02-06 22:02:09,850] Trial 15 finished with value: 2.6620272131938667 and parameters: {'hidden_size': 178, 'dropout': 0.10459915553775946, 'learning_rate': 0.002079839100612295, 'weight_decay': 0.0007903261945980043}. Best is trial 4 with value: 1.1867264117939336.\n",
      "[I 2025-02-06 22:08:24,199] Trial 16 finished with value: 1.314391192587628 and parameters: {'hidden_size': 202, 'dropout': 0.23149704771438512, 'learning_rate': 0.0017466164994190212, 'weight_decay': 1.0082056428120592e-06}. Best is trial 4 with value: 1.1867264117939336.\n",
      "[I 2025-02-06 22:12:32,849] Trial 17 finished with value: 1.4090086134088038 and parameters: {'hidden_size': 134, 'dropout': 0.1664708024501188, 'learning_rate': 0.0015166432904652127, 'weight_decay': 0.0004097597924542043}. Best is trial 4 with value: 1.1867264117939336.\n",
      "[I 2025-02-06 22:20:47,639] Trial 18 finished with value: 1.6273238800042666 and parameters: {'hidden_size': 245, 'dropout': 0.33362628620588053, 'learning_rate': 0.002740754383402328, 'weight_decay': 3.0497066268778455e-05}. Best is trial 4 with value: 1.1867264117939336.\n",
      "[I 2025-02-06 22:25:21,458] Trial 19 finished with value: 1.5643321734838433 and parameters: {'hidden_size': 147, 'dropout': 0.19898091761926945, 'learning_rate': 0.004020581737269553, 'weight_decay': 4.967307145055633e-06}. Best is trial 4 with value: 1.1867264117939336.\n",
      "[I 2025-02-06 22:37:02,847] Trial 20 finished with value: 1.3680042901465406 and parameters: {'hidden_size': 327, 'dropout': 0.14121203979528804, 'learning_rate': 0.00019552987284017213, 'weight_decay': 0.0023975786578493323}. Best is trial 4 with value: 1.1867264117939336.\n",
      "[I 2025-02-06 22:45:53,470] Trial 21 finished with value: 1.5243521167848115 and parameters: {'hidden_size': 264, 'dropout': 0.19135096425878514, 'learning_rate': 0.0003027092096832405, 'weight_decay': 5.036806914431397e-06}. Best is trial 4 with value: 1.1867264117939336.\n",
      "[I 2025-02-06 22:57:35,292] Trial 22 finished with value: 1.5703314289799801 and parameters: {'hidden_size': 329, 'dropout': 0.24576120326944453, 'learning_rate': 0.000764081514388741, 'weight_decay': 2.3474232023620535e-06}. Best is trial 4 with value: 1.1867264117939336.\n",
      "[I 2025-02-06 23:03:42,761] Trial 23 finished with value: 1.369413381209613 and parameters: {'hidden_size': 195, 'dropout': 0.14260601278802285, 'learning_rate': 0.0004085348926440025, 'weight_decay': 1.5759138930149353e-05}. Best is trial 4 with value: 1.1867264117939336.\n",
      "[I 2025-02-06 23:13:07,206] Trial 24 finished with value: 1.361975845324496 and parameters: {'hidden_size': 278, 'dropout': 0.18600871494103438, 'learning_rate': 0.00021988846989253168, 'weight_decay': 1.0468020471234891e-06}. Best is trial 4 with value: 1.1867264117939336.\n",
      "[I 2025-02-06 23:30:57,962] Trial 25 finished with value: 1.439107374645939 and parameters: {'hidden_size': 440, 'dropout': 0.2684794695979295, 'learning_rate': 0.00010378885108671855, 'weight_decay': 6.489923601041209e-06}. Best is trial 4 with value: 1.1867264117939336.\n",
      "[I 2025-02-06 23:42:32,997] Trial 26 finished with value: 1.3793749774410775 and parameters: {'hidden_size': 330, 'dropout': 0.22174650879093105, 'learning_rate': 0.0013756800666160363, 'weight_decay': 2.8854777607586505e-06}. Best is trial 4 with value: 1.1867264117939336.\n",
      "[I 2025-02-06 23:45:08,480] Trial 27 finished with value: 1.3442471728761982 and parameters: {'hidden_size': 88, 'dropout': 0.31833357949709085, 'learning_rate': 0.0006114630422983282, 'weight_decay': 0.00011840208200263025}. Best is trial 4 with value: 1.1867264117939336.\n",
      "[I 2025-02-06 23:52:32,323] Trial 28 finished with value: 2.021361284361896 and parameters: {'hidden_size': 233, 'dropout': 0.13005618991433382, 'learning_rate': 0.0009251902828206253, 'weight_decay': 2.7350667241296795e-05}. Best is trial 4 with value: 1.1867264117939336.\n",
      "[I 2025-02-06 23:54:55,797] Trial 29 finished with value: 1.3747405245166 and parameters: {'hidden_size': 75, 'dropout': 0.16575218713031473, 'learning_rate': 0.00028687650228158767, 'weight_decay': 1.946680281877131e-06}. Best is trial 4 with value: 1.1867264117939336.\n",
      "[I 2025-02-06 23:59:53,495] Trial 30 finished with value: 1.421878374541149 and parameters: {'hidden_size': 169, 'dropout': 0.2890679755560639, 'learning_rate': 0.0032986929509432376, 'weight_decay': 0.00011825709947222332}. Best is trial 4 with value: 1.1867264117939336.\n",
      "[I 2025-02-07 00:13:20,467] Trial 31 finished with value: 1.3190291822867926 and parameters: {'hidden_size': 360, 'dropout': 0.3954955521195662, 'learning_rate': 0.0005248569721903933, 'weight_decay': 4.183907582635691e-06}. Best is trial 4 with value: 1.1867264117939336.\n",
      "[I 2025-02-07 00:24:00,245] Trial 32 finished with value: 1.2703883833166971 and parameters: {'hidden_size': 310, 'dropout': 0.2330557200395165, 'learning_rate': 0.0008151687050746021, 'weight_decay': 8.850129185980588e-06}. Best is trial 4 with value: 1.1867264117939336.\n",
      "[I 2025-02-07 00:40:43,943] Trial 33 finished with value: 1.4980719494531305 and parameters: {'hidden_size': 423, 'dropout': 0.42615643576458045, 'learning_rate': 0.005386392209217655, 'weight_decay': 3.465636411965794e-06}. Best is trial 4 with value: 1.1867264117939336.\n",
      "[I 2025-02-07 00:53:58,099] Trial 34 finished with value: 1.2230548169582904 and parameters: {'hidden_size': 363, 'dropout': 0.3484978358927232, 'learning_rate': 0.0005947327829179757, 'weight_decay': 1.631361815308677e-06}. Best is trial 4 with value: 1.1867264117939336.\n",
      "[I 2025-02-07 01:07:07,741] Trial 35 finished with value: 1.3612183806929468 and parameters: {'hidden_size': 362, 'dropout': 0.35274076232536977, 'learning_rate': 0.0012215275512285175, 'weight_decay': 1.5353185137594975e-06}. Best is trial 4 with value: 1.1867264117939336.\n",
      "[I 2025-02-07 01:15:40,441] Trial 36 finished with value: 1.674701767355472 and parameters: {'hidden_size': 262, 'dropout': 0.2689722992911363, 'learning_rate': 0.0005905254847199388, 'weight_decay': 1.029057863621153e-06}. Best is trial 4 with value: 1.1867264117939336.\n",
      "[I 2025-02-07 01:30:51,832] Trial 37 finished with value: 1.143294748031732 and parameters: {'hidden_size': 401, 'dropout': 0.31159803520368773, 'learning_rate': 0.0004282581786099833, 'weight_decay': 3.0769712937166838e-06}. Best is trial 37 with value: 1.143294748031732.\n",
      "[I 2025-02-07 02:10:40,598] Trial 38 finished with value: 1.3947310707237044 and parameters: {'hidden_size': 504, 'dropout': 0.31242338218575777, 'learning_rate': 0.009306346334746435, 'weight_decay': 3.358049173318259e-06}. Best is trial 37 with value: 1.143294748031732.\n",
      "[I 2025-02-07 02:29:11,755] Trial 39 finished with value: 1.3920473868737293 and parameters: {'hidden_size': 453, 'dropout': 0.2583776435124376, 'learning_rate': 0.0002505860996226516, 'weight_decay': 7.002029634047581e-05}. Best is trial 37 with value: 1.143294748031732.\n",
      "[I 2025-02-07 02:36:00,821] Trial 40 finished with value: 1.4137555239971074 and parameters: {'hidden_size': 218, 'dropout': 0.21367530512133023, 'learning_rate': 0.0001427106108823811, 'weight_decay': 7.37559975536793e-06}. Best is trial 37 with value: 1.143294748031732.\n",
      "[I 2025-02-07 02:49:16,946] Trial 41 finished with value: 1.261903355422728 and parameters: {'hidden_size': 349, 'dropout': 0.3225831104140998, 'learning_rate': 0.00041586759967466176, 'weight_decay': 1.9255567115059455e-06}. Best is trial 37 with value: 1.143294748031732.\n",
      "[I 2025-02-07 03:03:59,401] Trial 42 finished with value: 1.3187062183802933 and parameters: {'hidden_size': 392, 'dropout': 0.36465954265380257, 'learning_rate': 0.00037121332090870885, 'weight_decay': 1.4870008495012522e-06}. Best is trial 37 with value: 1.143294748031732.\n",
      "[I 2025-02-07 03:19:20,458] Trial 43 finished with value: 1.3289466678076394 and parameters: {'hidden_size': 402, 'dropout': 0.3658789086881166, 'learning_rate': 0.0006957000046275352, 'weight_decay': 2.6521369751136786e-06}. Best is trial 37 with value: 1.143294748031732.\n",
      "[I 2025-02-07 03:29:10,012] Trial 44 finished with value: 1.321812079639719 and parameters: {'hidden_size': 296, 'dropout': 0.29273376188803335, 'learning_rate': 0.00046776192919060973, 'weight_decay': 1.1682795339198051e-05}. Best is trial 37 with value: 1.143294748031732.\n",
      "[I 2025-02-07 03:43:07,841] Trial 45 finished with value: 1.3567763275603104 and parameters: {'hidden_size': 375, 'dropout': 0.337402971476798, 'learning_rate': 0.0020772807591206144, 'weight_decay': 1.5445614624735244e-06}. Best is trial 37 with value: 1.143294748031732.\n",
      "[I 2025-02-07 04:03:11,278] Trial 46 finished with value: 2.8648619529281962 and parameters: {'hidden_size': 473, 'dropout': 0.18259655907079123, 'learning_rate': 0.0009763869608333691, 'weight_decay': 4.586976992176073e-06}. Best is trial 37 with value: 1.143294748031732.\n",
      "[I 2025-02-07 04:18:45,597] Trial 47 finished with value: 1.2158096700830983 and parameters: {'hidden_size': 404, 'dropout': 0.48242513216182703, 'learning_rate': 0.0003052938593739495, 'weight_decay': 2.166093795510628e-05}. Best is trial 37 with value: 1.143294748031732.\n",
      "[I 2025-02-07 04:28:09,551] Trial 48 finished with value: 1.1502202582803287 and parameters: {'hidden_size': 274, 'dropout': 0.4945340206702563, 'learning_rate': 0.0003079644372180521, 'weight_decay': 2.201519817682633e-05}. Best is trial 37 with value: 1.143294748031732.\n",
      "[I 2025-02-07 04:36:49,830] Trial 49 finished with value: 1.2319097618773935 and parameters: {'hidden_size': 265, 'dropout': 0.12295355744311892, 'learning_rate': 0.000490180711722974, 'weight_decay': 1.2136144612825782e-05}. Best is trial 37 with value: 1.143294748031732.\n",
      "[I 2025-02-07 04:43:30,980] Trial 50 finished with value: 1.380485304281047 and parameters: {'hidden_size': 217, 'dropout': 0.441677797307589, 'learning_rate': 0.00015219029318168988, 'weight_decay': 4.902867494774783e-05}. Best is trial 37 with value: 1.143294748031732.\n",
      "[I 2025-02-07 04:59:39,661] Trial 51 finished with value: 1.7510233364657815 and parameters: {'hidden_size': 418, 'dropout': 0.49166908881276383, 'learning_rate': 0.0003169360339278325, 'weight_decay': 2.4680278305992622e-05}. Best is trial 37 with value: 1.143294748031732.\n",
      "[I 2025-02-07 05:10:33,841] Trial 52 finished with value: 1.3960905238655288 and parameters: {'hidden_size': 309, 'dropout': 0.4866347055191302, 'learning_rate': 0.0002622905398293453, 'weight_decay': 2.0923532619115224e-05}. Best is trial 37 with value: 1.143294748031732.\n",
      "[I 2025-02-07 05:22:38,006] Trial 53 finished with value: 1.6777779815500564 and parameters: {'hidden_size': 338, 'dropout': 0.45409433389287956, 'learning_rate': 0.00016381515944061264, 'weight_decay': 3.199161609948116e-05}. Best is trial 37 with value: 1.143294748031732.\n",
      "[I 2025-02-07 05:30:25,963] Trial 54 finished with value: 1.3314066529314943 and parameters: {'hidden_size': 241, 'dropout': 0.41807421625982044, 'learning_rate': 0.00022119536868029727, 'weight_decay': 6.2271826994985275e-06}. Best is trial 37 with value: 1.143294748031732.\n",
      "[I 2025-02-07 05:40:01,968] Trial 55 finished with value: 1.3223265847053625 and parameters: {'hidden_size': 283, 'dropout': 0.4667966970923503, 'learning_rate': 0.0003540746339929561, 'weight_decay': 0.00020538614756887265}. Best is trial 37 with value: 1.143294748031732.\n",
      "[I 2025-02-07 05:43:25,085] Trial 56 finished with value: 1.3303418512779486 and parameters: {'hidden_size': 111, 'dropout': 0.20537376397545049, 'learning_rate': 0.00039089650305699976, 'weight_decay': 1.0033974343019895e-05}. Best is trial 37 with value: 1.143294748031732.\n",
      "[I 2025-02-07 05:48:40,493] Trial 57 finished with value: 1.455707084802486 and parameters: {'hidden_size': 170, 'dropout': 0.4743946076802414, 'learning_rate': 0.0003349549501872126, 'weight_decay': 1.8005105764306175e-05}. Best is trial 37 with value: 1.143294748031732.\n",
      "[I 2025-02-07 05:59:58,765] Trial 58 finished with value: 1.4071418239489901 and parameters: {'hidden_size': 317, 'dropout': 0.17826608646791003, 'learning_rate': 0.0001897518291034035, 'weight_decay': 8.4475149435852e-05}. Best is trial 37 with value: 1.143294748031732.\n",
      "[I 2025-02-07 06:19:16,652] Trial 59 finished with value: 2.992252331606172 and parameters: {'hidden_size': 462, 'dropout': 0.499596999849549, 'learning_rate': 0.0004412834745592446, 'weight_decay': 5.5052365377444955e-06}. Best is trial 37 with value: 1.143294748031732.\n"
     ]
    },
    {
     "name": "stdout",
     "output_type": "stream",
     "text": [
      "Best trial:\n",
      "  Validation Loss: 1.1433\n",
      "  Params: {'hidden_size': 401, 'dropout': 0.31159803520368773, 'learning_rate': 0.0004282581786099833, 'weight_decay': 3.0769712937166838e-06}\n"
     ]
    }
   ],
   "source": [
    "import optuna\n",
    "import torch\n",
    "import torch.nn as nn\n",
    "import torch.optim as optim\n",
    "from torch.utils.data import DataLoader, Subset\n",
    "from sklearn.model_selection import KFold\n",
    "\n",
    "# Your dataset should be defined before running Optuna\n",
    "dataset = ...  # Your dataset should be a PyTorch Dataset object\n",
    "device = torch.device(\"cuda\" if torch.cuda.is_available() else \"cpu\")\n",
    "\n",
    "# **Step 1: Define K-Fold Cross-Validation**\n",
    "def get_kfold_splits(dataset, k=3):\n",
    "    \"\"\"\n",
    "    Splits dataset into k folds for cross-validation.\n",
    "    \"\"\"\n",
    "    kf = KFold(n_splits=k, shuffle=True, random_state=42)\n",
    "    indices = list(range(len(dataset)))\n",
    "    return [(list(train_idx), list(val_idx)) for train_idx, val_idx in kf.split(indices)]\n",
    "\n",
    "# **Step 2: Define Optuna Objective Function**\n",
    "def objective(trial):\n",
    "    \"\"\"\n",
    "    Objective function for Optuna hyperparameter tuning with K-Fold cross-validation.\n",
    "    \"\"\"\n",
    "    # **Suggest Hyperparameters**\n",
    "    hidden_size = trial.suggest_int(\"hidden_size\", 64, 512)\n",
    "    num_layers = 2\n",
    "    dropout = trial.suggest_float(\"dropout\", 0.1, 0.5)\n",
    "    learning_rate = trial.suggest_float(\"learning_rate\", 1e-4, 1e-2, log=True)\n",
    "    \n",
    "    # **Cross-Validation Setup**\n",
    "    k = 3  # Number of folds\n",
    "    path = r'C:\\Users\\Max Tost\\Desktop\\Notebooks\\SPC Neural Network Project\\Training_data'\n",
    "    features_list = os.listdir(os.path.join(path, r'features'))\n",
    "    # Loading the dataset for this fold\n",
    "    dataset = IndependentCSVDataset(path, features_list)\n",
    "    splits = get_kfold_splits(dataset, k)\n",
    "    fold_losses = []  # Store loss for each fold\n",
    "\n",
    "    for fold, (train_idx, val_idx) in enumerate(splits):\n",
    "        # print(f\"Training Fold {fold+1}/{k}\")\n",
    "        \n",
    "\n",
    "        # **Subset datasets for this fold**\n",
    "        train_subset = Subset(dataset, train_idx)\n",
    "        val_subset = Subset(dataset, val_idx)\n",
    "\n",
    "        feature_min, feature_max = compute_global_minmax(train_subset)\n",
    "\n",
    "        global_transform = GlobalMinMaxNormalize(feature_min, feature_max)\n",
    "        train_subset.dataset.transform = global_transform\n",
    "        val_subset.dataset.transform = global_transform  # Same transform to prevent data leakage\n",
    "\n",
    "        train_loader = DataLoader(train_subset, batch_size=32, shuffle=True, num_workers=0)\n",
    "        val_loader = DataLoader(val_subset, batch_size=32, shuffle=False, num_workers=0)\n",
    "\n",
    "\n",
    "        # **Create LSTM Model**\n",
    "        model = LSTMModel(input_size=600, hidden_size=hidden_size, num_layers=num_layers, output_size=100, dropout=dropout)\n",
    "        model.to(device)\n",
    "\n",
    "        # **Loss & Optimizer**\n",
    "        criterion = nn.BCEWithLogitsLoss(pos_weight=compute_class_weights(train_loader))\n",
    "        optimizer = optim.Adam(\n",
    "            model.parameters(),\n",
    "            lr=learning_rate,\n",
    "            weight_decay=trial.suggest_float(\"weight_decay\", 1e-6, 1e-2, log=True)\n",
    "        )\n",
    "\n",
    "        # **Training Loop**\n",
    "        num_epochs = 10\n",
    "        for epoch in range(num_epochs):\n",
    "            model.train()\n",
    "            for inputs, targets in train_loader:\n",
    "                inputs, targets = inputs.to(device), targets.to(device)\n",
    "\n",
    "                optimizer.zero_grad()\n",
    "                outputs = model(inputs)\n",
    "                loss = criterion(outputs, targets.float())\n",
    "                loss.backward()\n",
    "                optimizer.step()\n",
    "\n",
    "        # **Validation Loss for Fold**\n",
    "        model.eval()\n",
    "        val_loss = 0.0\n",
    "        total_samples = 0\n",
    "        with torch.no_grad():\n",
    "            for inputs, targets in val_loader:\n",
    "                inputs, targets = inputs.to(device), targets.to(device)\n",
    "\n",
    "                outputs = model(inputs).squeeze()\n",
    "                loss = criterion(outputs, targets.float())\n",
    "\n",
    "                val_loss += loss.item() * inputs.size(0)\n",
    "                total_samples += inputs.size(0)\n",
    "\n",
    "        avg_val_loss = val_loss / total_samples\n",
    "        fold_losses.append(avg_val_loss)\n",
    "\n",
    "    # **Return the mean validation loss across all folds**\n",
    "    mean_loss = sum(fold_losses) / len(fold_losses)\n",
    "    return mean_loss\n",
    "\n",
    "# **Step 3: Run Optuna Optimization**\n",
    "study = optuna.create_study(direction=\"minimize\")  # Minimize validation loss\n",
    "study.optimize(objective, n_trials=60)\n",
    "\n",
    "# **Step 4: Best Hyperparameters**\n",
    "print(\"Best trial:\")\n",
    "print(f\"  Validation Loss: {study.best_trial.value:.4f}\")\n",
    "print(\"  Params:\", study.best_trial.params)\n"
   ]
  },
  {
   "cell_type": "code",
   "execution_count": null,
   "metadata": {},
   "outputs": [],
   "source": [
    "# Bayesian optimization\n",
    "import BayesianOptimization as bo"
   ]
  },
  {
   "cell_type": "code",
   "execution_count": null,
   "metadata": {},
   "outputs": [],
   "source": []
  },
  {
   "cell_type": "code",
   "execution_count": 32,
   "metadata": {},
   "outputs": [
    {
     "name": "stdout",
     "output_type": "stream",
     "text": [
      "Test Loss: 8.1832\n",
      "F1 Score: 0.0170\n"
     ]
    }
   ],
   "source": [
    "import torch\n",
    "import torch.nn.functional as F\n",
    "from sklearn.metrics import f1_score\n",
    "\n",
    "def evaluate_test_metrics(model, test_loader, criterion, device, threshold=0.5):\n",
    "    \"\"\"\n",
    "    Evaluates the test loss, F1-score, and ROC-AUC of a trained model.\n",
    "\n",
    "    Parameters:\n",
    "    - model: The trained PyTorch model.\n",
    "    - test_loader: DataLoader for the test dataset.\n",
    "    - criterion: Loss function (e.g., nn.BCEWithLogitsLoss).\n",
    "    - device: The device ('cuda' or 'cpu').\n",
    "    - threshold: Decision threshold for binary classification (default=0.5).\n",
    "\n",
    "    Returns:\n",
    "    - Average test loss\n",
    "    - F1-score\n",
    "    - ROC-AUC score\n",
    "    \"\"\"\n",
    "    model.eval()  # Set model to evaluation mode\n",
    "    test_loss = 0.0\n",
    "    total_samples = 0\n",
    "    all_targets = []\n",
    "    all_predictions = []\n",
    "\n",
    "    with torch.no_grad():  # Disable gradient calculation for efficiency\n",
    "        for inputs, targets in test_loader:\n",
    "            inputs, targets = inputs.to(device), targets.to(device)  # Move data to device\n",
    "\n",
    "            # Forward pass\n",
    "            outputs = model(inputs)  # (batch_size, 6000) -> raw logits\n",
    "\n",
    "            # Compute loss\n",
    "            loss = criterion(outputs, targets)  # BCEWithLogitsLoss expects raw logits\n",
    "            test_loss += loss.item() * inputs.size(0)\n",
    "            total_samples += inputs.size(0)\n",
    "\n",
    "            # Convert logits to probabilities using Sigmoid\n",
    "            probs = torch.sigmoid(outputs)  # (batch_size, 6000) -> probabilities in [0,1]\n",
    "\n",
    "            # Apply threshold to get binary predictions\n",
    "            preds = (probs > threshold).int()  # Convert to 0 or 1\n",
    "\n",
    "            # Flatten for metric calculations\n",
    "            all_targets.extend(targets.cpu().numpy().flatten())  # Convert to 1D list\n",
    "            all_predictions.extend(preds.cpu().numpy().flatten())  # Convert to 1D list\n",
    "\n",
    "    # Compute average loss\n",
    "    avg_test_loss = test_loss / total_samples\n",
    "\n",
    "    # Compute F1-score\n",
    "    f1 = f1_score(all_targets, all_predictions, average='macro')\n",
    "\n",
    "    return avg_test_loss, f1\n",
    "\n",
    "# Example Usage:\n",
    "device = torch.device(\"cuda\" if torch.cuda.is_available() else \"cpu\")\n",
    "test_loss, test_f1 = evaluate_test_metrics(model, test_loader, criterion, device)\n",
    "\n",
    "print(f\"Test Loss: {test_loss:.4f}\")\n",
    "print(f\"F1 Score: {test_f1:.4f}\")\n"
   ]
  }
 ],
 "metadata": {
  "kernelspec": {
   "display_name": "Python 3 (ipykernel)",
   "language": "python",
   "name": "python3"
  },
  "language_info": {
   "codemirror_mode": {
    "name": "ipython",
    "version": 3
   },
   "file_extension": ".py",
   "mimetype": "text/x-python",
   "name": "python",
   "nbconvert_exporter": "python",
   "pygments_lexer": "ipython3",
   "version": "3.11.5"
  }
 },
 "nbformat": 4,
 "nbformat_minor": 2
}
