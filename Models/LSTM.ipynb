{
 "cells": [
  {
   "cell_type": "code",
   "execution_count": 49,
   "metadata": {},
   "outputs": [
    {
     "name": "stdout",
     "output_type": "stream",
     "text": [
      "The autoreload extension is already loaded. To reload it, use:\n",
      "  %reload_ext autoreload\n"
     ]
    }
   ],
   "source": [
    "import numpy as np\n",
    "import os\n",
    "import sys\n",
    "sys.path.append(r'C:\\Users\\Max Tost\\Desktop\\Notebooks\\SPC Neural Network Project')\n",
    "\n",
    "import matplotlib.pyplot as plt # for plotting\n",
    "%matplotlib widget\n",
    "import pandas as pd # for data manipulation\n",
    "from Models.load_data import *\n",
    "from Models.helpers import *\n",
    "import random\n",
    "\n",
    "%load_ext autoreload\n",
    "%autoreload 2\n",
    "\n",
    "import torch\n",
    "\n",
    "path = r'C:\\Users\\Max Tost\\Desktop\\Notebooks\\SPC Neural Network Project\\Data\\Training_data_no_dtIPLA'\n",
    "features_list = os.listdir(os.path.join(path, r'features'))\n",
    "\n",
    "random.seed(42)\n",
    "random.shuffle(features_list)\n",
    "# Split features list into training and validation\n",
    "train_features = features_list[:int(0.8*len(features_list))]\n",
    "val_features = features_list[int(0.8*len(features_list)):]"
   ]
  },
  {
   "cell_type": "code",
   "execution_count": 50,
   "metadata": {},
   "outputs": [
    {
     "name": "stdout",
     "output_type": "stream",
     "text": [
      "Skipping JETno91071.csv: sequence length 6001 is unexpected.\n",
      "Total sliding window samples created: 57216\n",
      "Total sliding window samples created: 14900\n",
      "Global feature min (train set only): [ 1.4648083e-10 -3.5137018e+06 -6.1130988e+14  0.0000000e+00\n",
      " -3.1516222e+14  0.0000000e+00]\n",
      "Global feature max (train set only): [8.8354902e+00 7.0496821e+03 6.6798080e+17 8.5139590e+17 9.7797326e+17\n",
      " 4.0046399e+02]\n"
     ]
    }
   ],
   "source": [
    "# This cell takes 19s\n",
    "# Instantiate the dataset without transformations\n",
    "train_dataset = IndependentCSVDataset(path, train_features)\n",
    "val_dataset = IndependentCSVDataset(path, val_features)\n",
    "\n",
    "feature_min, feature_max = compute_global_minmax(train_dataset)\n",
    "print(\"Global feature min (train set only):\", feature_min)\n",
    "print(\"Global feature max (train set only):\", feature_max)\n",
    "\n",
    "global_transform = GlobalMinMaxNormalize(feature_min, feature_max)\n",
    "train_dataset.transform = global_transform\n",
    "val_dataset.transform = global_transform  # Same transform to prevent data leakage\n",
    "\n",
    "train_loader = DataLoader(train_dataset, batch_size=64, shuffle=True, num_workers=0)\n",
    "test_loader = DataLoader(val_dataset, batch_size=64, shuffle=False, num_workers=0)\n",
    "\n"
   ]
  },
  {
   "cell_type": "code",
   "execution_count": 51,
   "metadata": {},
   "outputs": [
    {
     "name": "stdout",
     "output_type": "stream",
     "text": [
      "Inputs shape: torch.Size([64, 50, 6])\n",
      "Targets shape: torch.Size([64, 50])\n"
     ]
    },
    {
     "name": "stderr",
     "output_type": "stream",
     "text": [
      "C:\\Users\\Max Tost\\Desktop\\Notebooks\\SPC Neural Network Project\\Models\\helpers.py:152: UserWarning: To copy construct from a tensor, it is recommended to use sourceTensor.clone().detach() or sourceTensor.clone().detach().requires_grad_(True), rather than torch.tensor(sourceTensor).\n",
      "  x = torch.tensor(x, dtype=torch.float32)  # Convert features to tensor\n"
     ]
    }
   ],
   "source": [
    "# Create an iterator from the DataLoader\n",
    "train_iterator = iter(train_loader)\n",
    "\n",
    "# Get a single batch\n",
    "batch = next(train_iterator)\n",
    "\n",
    "# Unpack the batch (assuming your dataset returns (inputs, targets))\n",
    "inputs, targets = batch\n",
    "\n",
    "print(\"Inputs shape:\", inputs.shape)\n",
    "print(\"Targets shape:\", targets.shape)\n"
   ]
  },
  {
   "cell_type": "markdown",
   "metadata": {},
   "source": [
    "## Training the model"
   ]
  },
  {
   "cell_type": "code",
   "execution_count": 83,
   "metadata": {},
   "outputs": [
    {
     "name": "stderr",
     "output_type": "stream",
     "text": [
      "C:\\Users\\Max Tost\\Desktop\\Notebooks\\SPC Neural Network Project\\Models\\helpers.py:152: UserWarning: To copy construct from a tensor, it is recommended to use sourceTensor.clone().detach() or sourceTensor.clone().detach().requires_grad_(True), rather than torch.tensor(sourceTensor).\n",
      "  x = torch.tensor(x, dtype=torch.float32)  # Convert features to tensor\n"
     ]
    },
    {
     "name": "stdout",
     "output_type": "stream",
     "text": [
      "Class counts: [2764750.0, 96050.0]\n",
      "Class ratio: 28.784486770629883\n",
      "LSTMModel(\n",
      "  (lstm): LSTM(6, 40, num_layers=2, batch_first=True, dropout=0.15)\n",
      "  (fc1): Linear(in_features=40, out_features=40, bias=True)\n",
      "  (fc2): Linear(in_features=40, out_features=1, bias=True)\n",
      "  (sigmoid): Sigmoid()\n",
      ")\n",
      "Input shape: torch.Size([64, 50, 6])\n",
      "Output shape: torch.Size([64, 50])\n",
      "Targets shape: torch.Size([64, 50])\n",
      "0.9654159545898438\n"
     ]
    },
    {
     "name": "stderr",
     "output_type": "stream",
     "text": [
      "C:\\Users\\Max Tost\\Desktop\\Notebooks\\SPC Neural Network Project\\Models\\helpers.py:292: UserWarning: To copy construct from a tensor, it is recommended to use sourceTensor.clone().detach() or sourceTensor.clone().detach().requires_grad_(True), rather than torch.tensor(sourceTensor).\n",
      "  return torch.tensor(class_counts[0] / class_counts[1], dtype=torch.float32)\n"
     ]
    }
   ],
   "source": [
    "# Define loss and optimizer\n",
    "device = torch.device(\"cuda\" if torch.cuda.is_available() else \"cpu\")\n",
    "criterion = nn.BCEWithLogitsLoss(pos_weight=compute_class_weights(train_loader)*1.1)\n",
    "# Define the model and print the architecture, example with dummy input shapes\n",
    "# [I 2025-02-07 01:30:51,832] Trial 37 finished with value: 1.143294748031732 and parameters: \n",
    "# {'hidden_size': 401, 'dropout': 0.31159803520368773, 'learning_rate': 0.0004282581786099833, \n",
    "# 'weight_decay': 3.0769712937166838e-06}. Best is trial 37 with value: 1.143294748031732.\n",
    "\n",
    "input_size = 6       # Number of features per time step\n",
    "hidden_size = 40     # Number of LSTM hidden units\n",
    "num_layers = 2       # Number of LSTM layers\n",
    "output_size = 1      # Binary classification\n",
    "dropout = 0.15       # Dropout rate\n",
    "\n",
    "# Instantiate the model\n",
    "model = LSTMModel(input_size, hidden_size, num_layers, output_size, dropout)\n",
    "\n",
    "# Print model architecture\n",
    "print(model)\n",
    "\n",
    "# Example dummy input: batch_size=32, sequence_length=6000, input_size=6\n",
    "dummy_input = inputs\n",
    "dummy_output = model(dummy_input)\n",
    "\n",
    "print(\"Input shape:\", dummy_input.shape)  # Expected: (32, 6000, 6) -> 6 features per timestep\n",
    "print(\"Output shape:\", dummy_output.shape)  # Expected: (32, 6000,) -> one binary value per timestep\n",
    "print(\"Targets shape:\", targets.shape)\n",
    "\n",
    "loss = criterion(dummy_output, targets)\n",
    "\n",
    "print(loss.item())"
   ]
  },
  {
   "cell_type": "code",
   "execution_count": 84,
   "metadata": {},
   "outputs": [
    {
     "name": "stdout",
     "output_type": "stream",
     "text": [
      "Epoch [1/1], Train Loss: 1.3146175.2515, batch_idx=893\n",
      "Epoch [1/1], Validation Loss: 1.4352\n",
      "Model saved at C:\\Users\\Max Tost\\Desktop\\Notebooks\\SPC Neural Network Project\\Models\\lstm_model.pth\n"
     ]
    },
    {
     "data": {
      "application/vnd.jupyter.widget-view+json": {
       "model_id": "21b2ae49ec66454f99a5d185db7ce2bc",
       "version_major": 2,
       "version_minor": 0
      },
      "image/png": "[encoded data removed]",
      "text/html": [
       "\n",
       "            <div style=\"display: inline-block;\">\n",
       "                <div class=\"jupyter-widgets widget-label\" style=\"text-align: center;\">\n",
       "                    Figure\n",
       "                </div>\n",
       "                <img src='data:image/png;base64,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' width=640.0/>\n",
       "            </div>\n",
       "        "
      ],
      "text/plain": [
       "Canvas(toolbar=Toolbar(toolitems=[('Home', 'Reset original view', 'home', 'home'), ('Back', 'Back to previous …"
      ]
     },
     "metadata": {},
     "output_type": "display_data"
    }
   ],
   "source": [
    "import torch\n",
    "import torch.optim as optim\n",
    "import matplotlib.pyplot as plt\n",
    "from sklearn.metrics import classification_report\n",
    "\n",
    "# Define the optimizer\n",
    "optimizer = optim.Adam(model.parameters(), lr=1e-3, weight_decay=1e-05)\n",
    "\n",
    "# Assume `train_loader` and `test_loader` are DataLoaders yielding batches of (input, target)\n",
    "num_epochs = 1\n",
    "\n",
    "train_losses = []\n",
    "val_losses = []\n",
    "\n",
    "model.train()\n",
    "for epoch in range(num_epochs):\n",
    "    epoch_train_loss = 0.0\n",
    "    for batch_idx, (inputs, targets) in enumerate(train_loader):\n",
    "        inputs, targets = inputs.to(device), targets.to(device)\n",
    "        \n",
    "        # Zero the parameter gradients\n",
    "        optimizer.zero_grad()\n",
    "        \n",
    "        # Forward pass\n",
    "        outputs = model(inputs)\n",
    "        loss = criterion(outputs, targets)\n",
    "        \n",
    "        # Backward pass and optimization\n",
    "        loss.backward()\n",
    "        optimizer.step()\n",
    "        \n",
    "        epoch_train_loss += loss.item()\n",
    "        print(f'Accumulated epoch train loss: {epoch_train_loss:.4f}, {batch_idx=}', end='\\r')\n",
    "    \n",
    "    avg_train_loss = epoch_train_loss / len(train_loader)\n",
    "    train_losses.append(avg_train_loss)\n",
    "    print(f\"Epoch [{epoch+1}/{num_epochs}], Train Loss: {avg_train_loss:.4f}\")\n",
    "\n",
    "    # Validation phase\n",
    "    model.eval()\n",
    "    epoch_val_loss = 0.0\n",
    "    with torch.no_grad():\n",
    "        for inputs, targets in test_loader:\n",
    "            inputs, targets = inputs.to(device), targets.to(device)\n",
    "            \n",
    "            outputs = model(inputs)\n",
    "            loss = criterion(outputs, targets)\n",
    "            \n",
    "            epoch_val_loss += loss.item()\n",
    "    \n",
    "    avg_val_loss = epoch_val_loss / len(test_loader)\n",
    "    val_losses.append(avg_val_loss)\n",
    "    print(f\"Epoch [{epoch+1}/{num_epochs}], Validation Loss: {avg_val_loss:.4f}\")\n",
    "    \n",
    "    model.train()\n",
    "\n",
    "# Save the model\n",
    "torch.save(model.state_dict(), r'C:\\Users\\Max Tost\\Desktop\\Notebooks\\SPC Neural Network Project\\Models\\lstm_model.pth')\n",
    "print('Model saved at C:\\\\Users\\\\Max Tost\\\\Desktop\\\\Notebooks\\\\SPC Neural Network Project\\\\Models\\\\lstm_model.pth')\n",
    "\n",
    "plt.close()\n",
    "# Plot the training and validation loss\n",
    "plt.plot(train_losses, label='Train Loss')\n",
    "plt.plot(val_losses, label='Validation Loss')\n",
    "plt.xlabel('Epoch')\n",
    "plt.ylabel('Loss')\n",
    "plt.title('Training and Validation Loss')\n",
    "plt.legend()\n",
    "plt.savefig(rf'C:\\Users\\Max Tost\\Desktop\\Notebooks\\SPC Neural Network Project\\Models\\losses_LSTM_{num_epochs}_epoch__{hidden_size}hidden.png')\n",
    "plt.show()"
   ]
  },
  {
   "cell_type": "code",
   "execution_count": 82,
   "metadata": {},
   "outputs": [
    {
     "name": "stderr",
     "output_type": "stream",
     "text": [
      "C:\\Users\\Max Tost\\Desktop\\Notebooks\\SPC Neural Network Project\\Models\\helpers.py:152: UserWarning: To copy construct from a tensor, it is recommended to use sourceTensor.clone().detach() or sourceTensor.clone().detach().requires_grad_(True), rather than torch.tensor(sourceTensor).\n",
      "  x = torch.tensor(x, dtype=torch.float32)  # Convert features to tensor\n",
      "C:\\Users\\Max Tost\\anaconda3\\Lib\\site-packages\\sklearn\\metrics\\_classification.py:1565: UndefinedMetricWarning: Precision is ill-defined and being set to 0.0 in labels with no predicted samples. Use `zero_division` parameter to control this behavior.\n",
      "  _warn_prf(average, modifier, f\"{metric.capitalize()} is\", len(result))\n",
      "C:\\Users\\Max Tost\\anaconda3\\Lib\\site-packages\\sklearn\\metrics\\_classification.py:1565: UndefinedMetricWarning: Precision is ill-defined and being set to 0.0 in labels with no predicted samples. Use `zero_division` parameter to control this behavior.\n",
      "  _warn_prf(average, modifier, f\"{metric.capitalize()} is\", len(result))\n"
     ]
    },
    {
     "name": "stdout",
     "output_type": "stream",
     "text": [
      "              precision    recall  f1-score   support\n",
      "\n",
      "         0.0       0.00      0.00      0.00   2764750\n",
      "         1.0       0.03      1.00      0.06     96050\n",
      "\n",
      "    accuracy                           0.03   2860800\n",
      "   macro avg       0.02      0.50      0.03   2860800\n",
      "weighted avg       0.00      0.03      0.00   2860800\n",
      "\n"
     ]
    },
    {
     "name": "stderr",
     "output_type": "stream",
     "text": [
      "C:\\Users\\Max Tost\\anaconda3\\Lib\\site-packages\\sklearn\\metrics\\_classification.py:1565: UndefinedMetricWarning: Precision is ill-defined and being set to 0.0 in labels with no predicted samples. Use `zero_division` parameter to control this behavior.\n",
      "  _warn_prf(average, modifier, f\"{metric.capitalize()} is\", len(result))\n"
     ]
    }
   ],
   "source": [
    "# print the classification report for the test set\n",
    "model.eval()\n",
    "predictions = []\n",
    "true_labels = []\n",
    "with torch.no_grad():\n",
    "    for inputs, targets in train_loader:\n",
    "        inputs, targets = inputs.to(device), targets.to(device)\n",
    "        outputs, _ = model.predict(inputs)\n",
    "        predictions.extend(outputs.flatten().cpu().numpy())\n",
    "        true_labels.extend(targets.flatten().cpu().numpy())\n",
    "\n",
    "print(classification_report(true_labels, predictions))\n"
   ]
  },
  {
   "cell_type": "markdown",
   "metadata": {},
   "source": [
    "## Plotting outputs of model"
   ]
  },
  {
   "cell_type": "code",
   "execution_count": 34,
   "metadata": {},
   "outputs": [
    {
     "data": {
      "text/plain": [
       "LSTMModel(\n",
       "  (lstm): LSTM(600, 401, num_layers=2, batch_first=True, dropout=0.31159803520368773)\n",
       "  (fc1): Linear(in_features=401, out_features=401, bias=True)\n",
       "  (fc2): Linear(in_features=401, out_features=100, bias=True)\n",
       "  (sigmoid): Sigmoid()\n",
       ")"
      ]
     },
     "execution_count": 34,
     "metadata": {},
     "output_type": "execute_result"
    }
   ],
   "source": [
    "# Parameters:\n",
    "input_size = 600       # Number of features per time step\n",
    "hidden_size = 401     # Number of LSTM hidden units\n",
    "num_layers = 2       # Number of LSTM layers\n",
    "output_size = 100      # Binary classification\n",
    "dropout = 0.31159803520368773\n",
    "\n",
    "model = LSTMModel(input_size, hidden_size, num_layers, output_size, dropout)\n",
    "model.load_state_dict(torch.load(r'C:\\Users\\Max Tost\\Desktop\\Notebooks\\SPC Neural Network Project\\Models\\lstm_model.pth', weights_only=True))\n",
    "model.eval()"
   ]
  },
  {
   "cell_type": "code",
   "execution_count": 90,
   "metadata": {},
   "outputs": [
    {
     "name": "stdout",
     "output_type": "stream",
     "text": [
      "Inputs shape: torch.Size([40, 6])\n",
      "Targets shape: torch.Size([40])\n",
      "Outputs shape: torch.Size([40])\n"
     ]
    }
   ],
   "source": [
    "# Create an iterator from the DataLoader\n",
    "train_iterator = iter(train_loader)\n",
    "\n",
    "# Get a single batch\n",
    "batch = next(train_iterator)\n",
    "\n",
    "# Unpack the batch (assuming your dataset returns (inputs, targets))\n",
    "inputs, targets = batch\n",
    "input, target = inputs[0], targets[0]\n",
    "\n",
    "print(\"Inputs shape:\", input.shape)\n",
    "print(\"Targets shape:\", target.shape)\n",
    "\n",
    "output = model(input)\n",
    "\n",
    "print(\"Outputs shape:\", output.shape)"
   ]
  },
  {
   "cell_type": "code",
   "execution_count": 52,
   "metadata": {},
   "outputs": [
    {
     "data": {
      "text/plain": [
       "tensor(-39632.2656, grad_fn=<SumBackward0>)"
      ]
     },
     "execution_count": 52,
     "metadata": {},
     "output_type": "execute_result"
    }
   ],
   "source": [
    "torch.sum(outputs)"
   ]
  },
  {
   "cell_type": "code",
   "execution_count": 47,
   "metadata": {},
   "outputs": [
    {
     "name": "stdout",
     "output_type": "stream",
     "text": [
      "Inputs shape: torch.Size([60, 600])\n",
      "Targets shape: torch.Size([60, 100])\n",
      "Outputs shape: torch.Size([60, 100])\n"
     ]
    },
    {
     "data": {
      "text/plain": [
       "[<matplotlib.lines.Line2D at 0x23e59f554d0>,\n",
       " <matplotlib.lines.Line2D at 0x23e5a5212d0>,\n",
       " <matplotlib.lines.Line2D at 0x23e59f2d650>,\n",
       " <matplotlib.lines.Line2D at 0x23e59f2b350>,\n",
       " <matplotlib.lines.Line2D at 0x23e59f292d0>,\n",
       " <matplotlib.lines.Line2D at 0x23e59f2a090>,\n",
       " <matplotlib.lines.Line2D at 0x23e59f2a710>,\n",
       " <matplotlib.lines.Line2D at 0x23e59f29f50>,\n",
       " <matplotlib.lines.Line2D at 0x23e59f290d0>,\n",
       " <matplotlib.lines.Line2D at 0x23e59f2a3d0>,\n",
       " <matplotlib.lines.Line2D at 0x23e59f6a7d0>,\n",
       " <matplotlib.lines.Line2D at 0x23e5a50d3d0>,\n",
       " <matplotlib.lines.Line2D at 0x23e59f2a2d0>,\n",
       " <matplotlib.lines.Line2D at 0x23e59f29a10>,\n",
       " <matplotlib.lines.Line2D at 0x23e59f2ac10>,\n",
       " <matplotlib.lines.Line2D at 0x23e59f2bf50>,\n",
       " <matplotlib.lines.Line2D at 0x23e59f2bb10>,\n",
       " <matplotlib.lines.Line2D at 0x23e59fdb750>,\n",
       " <matplotlib.lines.Line2D at 0x23e59ef0c10>,\n",
       " <matplotlib.lines.Line2D at 0x23e59fd8990>,\n",
       " <matplotlib.lines.Line2D at 0x23e59fd9f90>,\n",
       " <matplotlib.lines.Line2D at 0x23e59f2a690>,\n",
       " <matplotlib.lines.Line2D at 0x23e59fd9e90>,\n",
       " <matplotlib.lines.Line2D at 0x23e59fd9990>,\n",
       " <matplotlib.lines.Line2D at 0x23e5a5235d0>,\n",
       " <matplotlib.lines.Line2D at 0x23e59ebb050>,\n",
       " <matplotlib.lines.Line2D at 0x23e59f6a810>,\n",
       " <matplotlib.lines.Line2D at 0x23e59feab50>,\n",
       " <matplotlib.lines.Line2D at 0x23e59fea350>,\n",
       " <matplotlib.lines.Line2D at 0x23e59ff27d0>,\n",
       " <matplotlib.lines.Line2D at 0x23e5a4b3550>,\n",
       " <matplotlib.lines.Line2D at 0x23e59fe8990>,\n",
       " <matplotlib.lines.Line2D at 0x23e5a4d3010>,\n",
       " <matplotlib.lines.Line2D at 0x23e5a520190>,\n",
       " <matplotlib.lines.Line2D at 0x23e59fd8390>,\n",
       " <matplotlib.lines.Line2D at 0x23e59ef03d0>,\n",
       " <matplotlib.lines.Line2D at 0x23e59ff8f50>,\n",
       " <matplotlib.lines.Line2D at 0x23e59ff9350>,\n",
       " <matplotlib.lines.Line2D at 0x23e59ff96d0>,\n",
       " <matplotlib.lines.Line2D at 0x23e59ff9a90>,\n",
       " <matplotlib.lines.Line2D at 0x23e59ff9e90>,\n",
       " <matplotlib.lines.Line2D at 0x23e5a522150>,\n",
       " <matplotlib.lines.Line2D at 0x23e59ffa4d0>,\n",
       " <matplotlib.lines.Line2D at 0x23e59fea810>,\n",
       " <matplotlib.lines.Line2D at 0x23e59ffac10>,\n",
       " <matplotlib.lines.Line2D at 0x23e59feaf90>,\n",
       " <matplotlib.lines.Line2D at 0x23e59ffb3d0>,\n",
       " <matplotlib.lines.Line2D at 0x23e59ffb7d0>,\n",
       " <matplotlib.lines.Line2D at 0x23e59ffbbd0>,\n",
       " <matplotlib.lines.Line2D at 0x23e5a4a3f90>,\n",
       " <matplotlib.lines.Line2D at 0x23e59f28390>,\n",
       " <matplotlib.lines.Line2D at 0x23e5a520750>,\n",
       " <matplotlib.lines.Line2D at 0x23e5a4e8ad0>,\n",
       " <matplotlib.lines.Line2D at 0x23e59fd8c90>,\n",
       " <matplotlib.lines.Line2D at 0x23e5a4e9210>,\n",
       " <matplotlib.lines.Line2D at 0x23e5a4e9610>,\n",
       " <matplotlib.lines.Line2D at 0x23e5a4e99d0>,\n",
       " <matplotlib.lines.Line2D at 0x23e59fd9d50>,\n",
       " <matplotlib.lines.Line2D at 0x23e59f6a890>,\n",
       " <matplotlib.lines.Line2D at 0x23e59ffa450>,\n",
       " <matplotlib.lines.Line2D at 0x23e59ffa810>,\n",
       " <matplotlib.lines.Line2D at 0x23e59ffab90>,\n",
       " <matplotlib.lines.Line2D at 0x23e5a4eafd0>,\n",
       " <matplotlib.lines.Line2D at 0x23e5a4eb390>,\n",
       " <matplotlib.lines.Line2D at 0x23e5a4eb710>,\n",
       " <matplotlib.lines.Line2D at 0x23e5a4eb890>,\n",
       " <matplotlib.lines.Line2D at 0x23e5a4ebe10>,\n",
       " <matplotlib.lines.Line2D at 0x23e5a4e8110>,\n",
       " <matplotlib.lines.Line2D at 0x23e5a4e84d0>,\n",
       " <matplotlib.lines.Line2D at 0x23e5a508710>,\n",
       " <matplotlib.lines.Line2D at 0x23e5a508cd0>,\n",
       " <matplotlib.lines.Line2D at 0x23e5a509090>,\n",
       " <matplotlib.lines.Line2D at 0x23e5a509490>,\n",
       " <matplotlib.lines.Line2D at 0x23e5a509850>,\n",
       " <matplotlib.lines.Line2D at 0x23e59f29b90>,\n",
       " <matplotlib.lines.Line2D at 0x23e5a509fd0>,\n",
       " <matplotlib.lines.Line2D at 0x23e59f2a310>,\n",
       " <matplotlib.lines.Line2D at 0x23e59f6ae90>,\n",
       " <matplotlib.lines.Line2D at 0x23e5a50ab10>,\n",
       " <matplotlib.lines.Line2D at 0x23e5a50ae90>,\n",
       " <matplotlib.lines.Line2D at 0x23e5a50b010>,\n",
       " <matplotlib.lines.Line2D at 0x23e59ddbdd0>,\n",
       " <matplotlib.lines.Line2D at 0x23e5a50b9d0>,\n",
       " <matplotlib.lines.Line2D at 0x23e5a50bdd0>,\n",
       " <matplotlib.lines.Line2D at 0x23e59fd80d0>,\n",
       " <matplotlib.lines.Line2D at 0x23e5a4c0550>,\n",
       " <matplotlib.lines.Line2D at 0x23e43190090>,\n",
       " <matplotlib.lines.Line2D at 0x23e5a4c0cd0>,\n",
       " <matplotlib.lines.Line2D at 0x23e5a4c1050>,\n",
       " <matplotlib.lines.Line2D at 0x23e5a4c1410>,\n",
       " <matplotlib.lines.Line2D at 0x23e5a4b2010>,\n",
       " <matplotlib.lines.Line2D at 0x23e5a521250>,\n",
       " <matplotlib.lines.Line2D at 0x23e59f21e90>,\n",
       " <matplotlib.lines.Line2D at 0x23e5a4b2b10>,\n",
       " <matplotlib.lines.Line2D at 0x23e5a4c2650>,\n",
       " <matplotlib.lines.Line2D at 0x23e5a4c29d0>,\n",
       " <matplotlib.lines.Line2D at 0x23e59ffad90>,\n",
       " <matplotlib.lines.Line2D at 0x23e5a4c3110>,\n",
       " <matplotlib.lines.Line2D at 0x23e59fdb450>,\n",
       " <matplotlib.lines.Line2D at 0x23e5a4c3850>]"
      ]
     },
     "execution_count": 47,
     "metadata": {},
     "output_type": "execute_result"
    },
    {
     "data": {
      "application/vnd.jupyter.widget-view+json": {
       "model_id": "d4906147fa1a401f85b7dcbaac8befdf",
       "version_major": 2,
       "version_minor": 0
      },
      "image/png": "[encoded data removed]",
      "text/html": [
       "\n",
       "            <div style=\"display: inline-block;\">\n",
       "                <div class=\"jupyter-widgets widget-label\" style=\"text-align: center;\">\n",
       "                    Figure\n",
       "                </div>\n",
       "                <img src='data:image/png;base64,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' width=640.0/>\n",
       "            </div>\n",
       "        "
      ],
      "text/plain": [
       "Canvas(toolbar=Toolbar(toolitems=[('Home', 'Reset original view', 'home', 'home'), ('Back', 'Back to previous …"
      ]
     },
     "metadata": {},
     "output_type": "display_data"
    }
   ],
   "source": [
    "k = 1\n",
    "# Unpack the batch (assuming your dataset returns (inputs, targets))\n",
    "inputs, targets = batch\n",
    "input, target = inputs[k], targets[k]\n",
    "\n",
    "print(\"Inputs shape:\", input.shape)\n",
    "print(\"Targets shape:\", target.shape)\n",
    "\n",
    "output = model(input)\n",
    "\n",
    "print(\"Outputs shape:\", output.shape)\n",
    "target_reshaped = target.reshape(60, 100)\n",
    "target_original = target_reshaped.reshape(6000)\n",
    "target_original\n",
    "plt.close()\n",
    "plt.plot(target, label=\"Target\")"
   ]
  },
  {
   "cell_type": "markdown",
   "metadata": {},
   "source": [
    "## Hyperparameter Tuning"
   ]
  },
  {
   "cell_type": "code",
   "execution_count": 18,
   "metadata": {},
   "outputs": [
    {
     "name": "stderr",
     "output_type": "stream",
     "text": [
      "[I 2025-02-06 19:12:12,255] A new study created in memory with name: no-name-7d42ee83-9fce-41ff-9fab-897202957042\n",
      "[I 2025-02-06 19:14:22,773] Trial 0 finished with value: 1.4831497163893161 and parameters: {'hidden_size': 68, 'dropout': 0.2796572278236362, 'learning_rate': 0.004450825657499489, 'weight_decay': 0.00027124720064343276}. Best is trial 0 with value: 1.4831497163893161.\n",
      "[I 2025-02-06 19:27:39,277] Trial 1 finished with value: 1.6296354915066404 and parameters: {'hidden_size': 364, 'dropout': 0.49295518977565567, 'learning_rate': 0.006043435602079738, 'weight_decay': 0.007852530176627527}. Best is trial 0 with value: 1.4831497163893161.\n",
      "[I 2025-02-06 19:41:36,139] Trial 2 finished with value: 1.2608569962645957 and parameters: {'hidden_size': 365, 'dropout': 0.4004909576509085, 'learning_rate': 0.0006279622666646788, 'weight_decay': 4.0703178450966685e-06}. Best is trial 2 with value: 1.2608569962645957.\n",
      "[I 2025-02-06 19:49:44,332] Trial 3 finished with value: 1.377703879061068 and parameters: {'hidden_size': 239, 'dropout': 0.25523196879007115, 'learning_rate': 0.0006703771045299565, 'weight_decay': 0.005099303717934173}. Best is trial 2 with value: 1.2608569962645957.\n",
      "[I 2025-02-06 19:59:50,084] Trial 4 finished with value: 1.1867264117939336 and parameters: {'hidden_size': 291, 'dropout': 0.19364281664263827, 'learning_rate': 0.0006865318950616603, 'weight_decay': 1.5849743422819565e-06}. Best is trial 4 with value: 1.1867264117939336.\n",
      "[I 2025-02-06 20:14:45,558] Trial 5 finished with value: 1.5464739893741448 and parameters: {'hidden_size': 383, 'dropout': 0.35655891667507134, 'learning_rate': 0.0010791654331135444, 'weight_decay': 5.632642949339343e-05}. Best is trial 4 with value: 1.1867264117939336.\n",
      "[I 2025-02-06 20:31:39,532] Trial 6 finished with value: 1.4043266576548616 and parameters: {'hidden_size': 424, 'dropout': 0.29520839882397754, 'learning_rate': 0.007300116681659483, 'weight_decay': 4.820065222672352e-05}. Best is trial 4 with value: 1.1867264117939336.\n",
      "[I 2025-02-06 20:39:03,536] Trial 7 finished with value: 1.4162979017563524 and parameters: {'hidden_size': 234, 'dropout': 0.46828539530573987, 'learning_rate': 0.000471375248076495, 'weight_decay': 2.0284562509155787e-06}. Best is trial 4 with value: 1.1867264117939336.\n",
      "[I 2025-02-06 20:43:04,474] Trial 8 finished with value: 1.3916922780989551 and parameters: {'hidden_size': 131, 'dropout': 0.21130225823390503, 'learning_rate': 0.000350828989639619, 'weight_decay': 1.3582661220648346e-06}. Best is trial 4 with value: 1.1867264117939336.\n",
      "[I 2025-02-06 20:57:53,224] Trial 9 finished with value: 1.9863161643074811 and parameters: {'hidden_size': 388, 'dropout': 0.4444613271627782, 'learning_rate': 0.0010716334859724543, 'weight_decay': 2.531461240576309e-06}. Best is trial 4 with value: 1.1867264117939336.\n",
      "[I 2025-02-06 21:18:34,304] Trial 10 finished with value: 1.529993732409863 and parameters: {'hidden_size': 489, 'dropout': 0.11049420527530682, 'learning_rate': 0.00011266595362344224, 'weight_decay': 1.193351584073423e-05}. Best is trial 4 with value: 1.1867264117939336.\n",
      "[I 2025-02-06 21:29:40,660] Trial 11 finished with value: 1.5377962602738753 and parameters: {'hidden_size': 302, 'dropout': 0.39013183529719253, 'learning_rate': 0.0027042732533020235, 'weight_decay': 8.40764641904512e-06}. Best is trial 4 with value: 1.1867264117939336.\n",
      "[I 2025-02-06 21:40:25,698] Trial 12 finished with value: 1.1958037031882163 and parameters: {'hidden_size': 305, 'dropout': 0.17967831202687243, 'learning_rate': 0.00032028752144588294, 'weight_decay': 9.51476883274433e-06}. Best is trial 4 with value: 1.1867264117939336.\n",
      "[I 2025-02-06 21:50:19,079] Trial 13 finished with value: 1.4743621980808923 and parameters: {'hidden_size': 289, 'dropout': 0.16022997818880944, 'learning_rate': 0.0001975179404995467, 'weight_decay': 1.7194929239216046e-05}. Best is trial 4 with value: 1.1867264117939336.\n",
      "[I 2025-02-06 21:56:34,232] Trial 14 finished with value: 1.1908392258413893 and parameters: {'hidden_size': 202, 'dropout': 0.19540239888523192, 'learning_rate': 0.0020725605545255134, 'weight_decay': 1.183548786399151e-06}. Best is trial 4 with value: 1.1867264117939336.\n",
      "[I 2025-02-06 22:02:09,850] Trial 15 finished with value: 2.6620272131938667 and parameters: {'hidden_size': 178, 'dropout': 0.10459915553775946, 'learning_rate': 0.002079839100612295, 'weight_decay': 0.0007903261945980043}. Best is trial 4 with value: 1.1867264117939336.\n",
      "[I 2025-02-06 22:08:24,199] Trial 16 finished with value: 1.314391192587628 and parameters: {'hidden_size': 202, 'dropout': 0.23149704771438512, 'learning_rate': 0.0017466164994190212, 'weight_decay': 1.0082056428120592e-06}. Best is trial 4 with value: 1.1867264117939336.\n",
      "[I 2025-02-06 22:12:32,849] Trial 17 finished with value: 1.4090086134088038 and parameters: {'hidden_size': 134, 'dropout': 0.1664708024501188, 'learning_rate': 0.0015166432904652127, 'weight_decay': 0.0004097597924542043}. Best is trial 4 with value: 1.1867264117939336.\n",
      "[I 2025-02-06 22:20:47,639] Trial 18 finished with value: 1.6273238800042666 and parameters: {'hidden_size': 245, 'dropout': 0.33362628620588053, 'learning_rate': 0.002740754383402328, 'weight_decay': 3.0497066268778455e-05}. Best is trial 4 with value: 1.1867264117939336.\n",
      "[I 2025-02-06 22:25:21,458] Trial 19 finished with value: 1.5643321734838433 and parameters: {'hidden_size': 147, 'dropout': 0.19898091761926945, 'learning_rate': 0.004020581737269553, 'weight_decay': 4.967307145055633e-06}. Best is trial 4 with value: 1.1867264117939336.\n",
      "[I 2025-02-06 22:37:02,847] Trial 20 finished with value: 1.3680042901465406 and parameters: {'hidden_size': 327, 'dropout': 0.14121203979528804, 'learning_rate': 0.00019552987284017213, 'weight_decay': 0.0023975786578493323}. Best is trial 4 with value: 1.1867264117939336.\n",
      "[I 2025-02-06 22:45:53,470] Trial 21 finished with value: 1.5243521167848115 and parameters: {'hidden_size': 264, 'dropout': 0.19135096425878514, 'learning_rate': 0.0003027092096832405, 'weight_decay': 5.036806914431397e-06}. Best is trial 4 with value: 1.1867264117939336.\n",
      "[I 2025-02-06 22:57:35,292] Trial 22 finished with value: 1.5703314289799801 and parameters: {'hidden_size': 329, 'dropout': 0.24576120326944453, 'learning_rate': 0.000764081514388741, 'weight_decay': 2.3474232023620535e-06}. Best is trial 4 with value: 1.1867264117939336.\n",
      "[I 2025-02-06 23:03:42,761] Trial 23 finished with value: 1.369413381209613 and parameters: {'hidden_size': 195, 'dropout': 0.14260601278802285, 'learning_rate': 0.0004085348926440025, 'weight_decay': 1.5759138930149353e-05}. Best is trial 4 with value: 1.1867264117939336.\n",
      "[I 2025-02-06 23:13:07,206] Trial 24 finished with value: 1.361975845324496 and parameters: {'hidden_size': 278, 'dropout': 0.18600871494103438, 'learning_rate': 0.00021988846989253168, 'weight_decay': 1.0468020471234891e-06}. Best is trial 4 with value: 1.1867264117939336.\n",
      "[I 2025-02-06 23:30:57,962] Trial 25 finished with value: 1.439107374645939 and parameters: {'hidden_size': 440, 'dropout': 0.2684794695979295, 'learning_rate': 0.00010378885108671855, 'weight_decay': 6.489923601041209e-06}. Best is trial 4 with value: 1.1867264117939336.\n",
      "[I 2025-02-06 23:42:32,997] Trial 26 finished with value: 1.3793749774410775 and parameters: {'hidden_size': 330, 'dropout': 0.22174650879093105, 'learning_rate': 0.0013756800666160363, 'weight_decay': 2.8854777607586505e-06}. Best is trial 4 with value: 1.1867264117939336.\n",
      "[I 2025-02-06 23:45:08,480] Trial 27 finished with value: 1.3442471728761982 and parameters: {'hidden_size': 88, 'dropout': 0.31833357949709085, 'learning_rate': 0.0006114630422983282, 'weight_decay': 0.00011840208200263025}. Best is trial 4 with value: 1.1867264117939336.\n",
      "[I 2025-02-06 23:52:32,323] Trial 28 finished with value: 2.021361284361896 and parameters: {'hidden_size': 233, 'dropout': 0.13005618991433382, 'learning_rate': 0.0009251902828206253, 'weight_decay': 2.7350667241296795e-05}. Best is trial 4 with value: 1.1867264117939336.\n",
      "[I 2025-02-06 23:54:55,797] Trial 29 finished with value: 1.3747405245166 and parameters: {'hidden_size': 75, 'dropout': 0.16575218713031473, 'learning_rate': 0.00028687650228158767, 'weight_decay': 1.946680281877131e-06}. Best is trial 4 with value: 1.1867264117939336.\n",
      "[I 2025-02-06 23:59:53,495] Trial 30 finished with value: 1.421878374541149 and parameters: {'hidden_size': 169, 'dropout': 0.2890679755560639, 'learning_rate': 0.0032986929509432376, 'weight_decay': 0.00011825709947222332}. Best is trial 4 with value: 1.1867264117939336.\n",
      "[I 2025-02-07 00:13:20,467] Trial 31 finished with value: 1.3190291822867926 and parameters: {'hidden_size': 360, 'dropout': 0.3954955521195662, 'learning_rate': 0.0005248569721903933, 'weight_decay': 4.183907582635691e-06}. Best is trial 4 with value: 1.1867264117939336.\n",
      "[I 2025-02-07 00:24:00,245] Trial 32 finished with value: 1.2703883833166971 and parameters: {'hidden_size': 310, 'dropout': 0.2330557200395165, 'learning_rate': 0.0008151687050746021, 'weight_decay': 8.850129185980588e-06}. Best is trial 4 with value: 1.1867264117939336.\n",
      "[I 2025-02-07 00:40:43,943] Trial 33 finished with value: 1.4980719494531305 and parameters: {'hidden_size': 423, 'dropout': 0.42615643576458045, 'learning_rate': 0.005386392209217655, 'weight_decay': 3.465636411965794e-06}. Best is trial 4 with value: 1.1867264117939336.\n",
      "[I 2025-02-07 00:53:58,099] Trial 34 finished with value: 1.2230548169582904 and parameters: {'hidden_size': 363, 'dropout': 0.3484978358927232, 'learning_rate': 0.0005947327829179757, 'weight_decay': 1.631361815308677e-06}. Best is trial 4 with value: 1.1867264117939336.\n",
      "[I 2025-02-07 01:07:07,741] Trial 35 finished with value: 1.3612183806929468 and parameters: {'hidden_size': 362, 'dropout': 0.35274076232536977, 'learning_rate': 0.0012215275512285175, 'weight_decay': 1.5353185137594975e-06}. Best is trial 4 with value: 1.1867264117939336.\n",
      "[I 2025-02-07 01:15:40,441] Trial 36 finished with value: 1.674701767355472 and parameters: {'hidden_size': 262, 'dropout': 0.2689722992911363, 'learning_rate': 0.0005905254847199388, 'weight_decay': 1.029057863621153e-06}. Best is trial 4 with value: 1.1867264117939336.\n",
      "[I 2025-02-07 01:30:51,832] Trial 37 finished with value: 1.143294748031732 and parameters: {'hidden_size': 401, 'dropout': 0.31159803520368773, 'learning_rate': 0.0004282581786099833, 'weight_decay': 3.0769712937166838e-06}. Best is trial 37 with value: 1.143294748031732.\n",
      "[I 2025-02-07 02:10:40,598] Trial 38 finished with value: 1.3947310707237044 and parameters: {'hidden_size': 504, 'dropout': 0.31242338218575777, 'learning_rate': 0.009306346334746435, 'weight_decay': 3.358049173318259e-06}. Best is trial 37 with value: 1.143294748031732.\n",
      "[I 2025-02-07 02:29:11,755] Trial 39 finished with value: 1.3920473868737293 and parameters: {'hidden_size': 453, 'dropout': 0.2583776435124376, 'learning_rate': 0.0002505860996226516, 'weight_decay': 7.002029634047581e-05}. Best is trial 37 with value: 1.143294748031732.\n",
      "[I 2025-02-07 02:36:00,821] Trial 40 finished with value: 1.4137555239971074 and parameters: {'hidden_size': 218, 'dropout': 0.21367530512133023, 'learning_rate': 0.0001427106108823811, 'weight_decay': 7.37559975536793e-06}. Best is trial 37 with value: 1.143294748031732.\n",
      "[I 2025-02-07 02:49:16,946] Trial 41 finished with value: 1.261903355422728 and parameters: {'hidden_size': 349, 'dropout': 0.3225831104140998, 'learning_rate': 0.00041586759967466176, 'weight_decay': 1.9255567115059455e-06}. Best is trial 37 with value: 1.143294748031732.\n",
      "[I 2025-02-07 03:03:59,401] Trial 42 finished with value: 1.3187062183802933 and parameters: {'hidden_size': 392, 'dropout': 0.36465954265380257, 'learning_rate': 0.00037121332090870885, 'weight_decay': 1.4870008495012522e-06}. Best is trial 37 with value: 1.143294748031732.\n",
      "[I 2025-02-07 03:19:20,458] Trial 43 finished with value: 1.3289466678076394 and parameters: {'hidden_size': 402, 'dropout': 0.3658789086881166, 'learning_rate': 0.0006957000046275352, 'weight_decay': 2.6521369751136786e-06}. Best is trial 37 with value: 1.143294748031732.\n",
      "[I 2025-02-07 03:29:10,012] Trial 44 finished with value: 1.321812079639719 and parameters: {'hidden_size': 296, 'dropout': 0.29273376188803335, 'learning_rate': 0.00046776192919060973, 'weight_decay': 1.1682795339198051e-05}. Best is trial 37 with value: 1.143294748031732.\n",
      "[I 2025-02-07 03:43:07,841] Trial 45 finished with value: 1.3567763275603104 and parameters: {'hidden_size': 375, 'dropout': 0.337402971476798, 'learning_rate': 0.0020772807591206144, 'weight_decay': 1.5445614624735244e-06}. Best is trial 37 with value: 1.143294748031732.\n",
      "[I 2025-02-07 04:03:11,278] Trial 46 finished with value: 2.8648619529281962 and parameters: {'hidden_size': 473, 'dropout': 0.18259655907079123, 'learning_rate': 0.0009763869608333691, 'weight_decay': 4.586976992176073e-06}. Best is trial 37 with value: 1.143294748031732.\n",
      "[I 2025-02-07 04:18:45,597] Trial 47 finished with value: 1.2158096700830983 and parameters: {'hidden_size': 404, 'dropout': 0.48242513216182703, 'learning_rate': 0.0003052938593739495, 'weight_decay': 2.166093795510628e-05}. Best is trial 37 with value: 1.143294748031732.\n",
      "[I 2025-02-07 04:28:09,551] Trial 48 finished with value: 1.1502202582803287 and parameters: {'hidden_size': 274, 'dropout': 0.4945340206702563, 'learning_rate': 0.0003079644372180521, 'weight_decay': 2.201519817682633e-05}. Best is trial 37 with value: 1.143294748031732.\n",
      "[I 2025-02-07 04:36:49,830] Trial 49 finished with value: 1.2319097618773935 and parameters: {'hidden_size': 265, 'dropout': 0.12295355744311892, 'learning_rate': 0.000490180711722974, 'weight_decay': 1.2136144612825782e-05}. Best is trial 37 with value: 1.143294748031732.\n",
      "[I 2025-02-07 04:43:30,980] Trial 50 finished with value: 1.380485304281047 and parameters: {'hidden_size': 217, 'dropout': 0.441677797307589, 'learning_rate': 0.00015219029318168988, 'weight_decay': 4.902867494774783e-05}. Best is trial 37 with value: 1.143294748031732.\n",
      "[I 2025-02-07 04:59:39,661] Trial 51 finished with value: 1.7510233364657815 and parameters: {'hidden_size': 418, 'dropout': 0.49166908881276383, 'learning_rate': 0.0003169360339278325, 'weight_decay': 2.4680278305992622e-05}. Best is trial 37 with value: 1.143294748031732.\n",
      "[I 2025-02-07 05:10:33,841] Trial 52 finished with value: 1.3960905238655288 and parameters: {'hidden_size': 309, 'dropout': 0.4866347055191302, 'learning_rate': 0.0002622905398293453, 'weight_decay': 2.0923532619115224e-05}. Best is trial 37 with value: 1.143294748031732.\n",
      "[I 2025-02-07 05:22:38,006] Trial 53 finished with value: 1.6777779815500564 and parameters: {'hidden_size': 338, 'dropout': 0.45409433389287956, 'learning_rate': 0.00016381515944061264, 'weight_decay': 3.199161609948116e-05}. Best is trial 37 with value: 1.143294748031732.\n",
      "[I 2025-02-07 05:30:25,963] Trial 54 finished with value: 1.3314066529314943 and parameters: {'hidden_size': 241, 'dropout': 0.41807421625982044, 'learning_rate': 0.00022119536868029727, 'weight_decay': 6.2271826994985275e-06}. Best is trial 37 with value: 1.143294748031732.\n",
      "[I 2025-02-07 05:40:01,968] Trial 55 finished with value: 1.3223265847053625 and parameters: {'hidden_size': 283, 'dropout': 0.4667966970923503, 'learning_rate': 0.0003540746339929561, 'weight_decay': 0.00020538614756887265}. Best is trial 37 with value: 1.143294748031732.\n",
      "[I 2025-02-07 05:43:25,085] Trial 56 finished with value: 1.3303418512779486 and parameters: {'hidden_size': 111, 'dropout': 0.20537376397545049, 'learning_rate': 0.00039089650305699976, 'weight_decay': 1.0033974343019895e-05}. Best is trial 37 with value: 1.143294748031732.\n",
      "[I 2025-02-07 05:48:40,493] Trial 57 finished with value: 1.455707084802486 and parameters: {'hidden_size': 170, 'dropout': 0.4743946076802414, 'learning_rate': 0.0003349549501872126, 'weight_decay': 1.8005105764306175e-05}. Best is trial 37 with value: 1.143294748031732.\n",
      "[I 2025-02-07 05:59:58,765] Trial 58 finished with value: 1.4071418239489901 and parameters: {'hidden_size': 317, 'dropout': 0.17826608646791003, 'learning_rate': 0.0001897518291034035, 'weight_decay': 8.4475149435852e-05}. Best is trial 37 with value: 1.143294748031732.\n",
      "[I 2025-02-07 06:19:16,652] Trial 59 finished with value: 2.992252331606172 and parameters: {'hidden_size': 462, 'dropout': 0.499596999849549, 'learning_rate': 0.0004412834745592446, 'weight_decay': 5.5052365377444955e-06}. Best is trial 37 with value: 1.143294748031732.\n"
     ]
    },
    {
     "name": "stdout",
     "output_type": "stream",
     "text": [
      "Best trial:\n",
      "  Validation Loss: 1.1433\n",
      "  Params: {'hidden_size': 401, 'dropout': 0.31159803520368773, 'learning_rate': 0.0004282581786099833, 'weight_decay': 3.0769712937166838e-06}\n"
     ]
    }
   ],
   "source": [
    "import optuna\n",
    "import torch\n",
    "import torch.nn as nn\n",
    "import torch.optim as optim\n",
    "from torch.utils.data import DataLoader, Subset\n",
    "from sklearn.model_selection import KFold\n",
    "\n",
    "# Your dataset should be defined before running Optuna\n",
    "dataset = ...  # Your dataset should be a PyTorch Dataset object\n",
    "device = torch.device(\"cuda\" if torch.cuda.is_available() else \"cpu\")\n",
    "\n",
    "# **Step 1: Define K-Fold Cross-Validation**\n",
    "def get_kfold_splits(dataset, k=3):\n",
    "    \"\"\"\n",
    "    Splits dataset into k folds for cross-validation.\n",
    "    \"\"\"\n",
    "    kf = KFold(n_splits=k, shuffle=True, random_state=42)\n",
    "    indices = list(range(len(dataset)))\n",
    "    return [(list(train_idx), list(val_idx)) for train_idx, val_idx in kf.split(indices)]\n",
    "\n",
    "# **Step 2: Define Optuna Objective Function**\n",
    "def objective(trial):\n",
    "    \"\"\"\n",
    "    Objective function for Optuna hyperparameter tuning with K-Fold cross-validation.\n",
    "    \"\"\"\n",
    "    # **Suggest Hyperparameters**\n",
    "    hidden_size = trial.suggest_int(\"hidden_size\", 64, 512)\n",
    "    num_layers = 2\n",
    "    dropout = trial.suggest_float(\"dropout\", 0.1, 0.5)\n",
    "    learning_rate = trial.suggest_float(\"learning_rate\", 1e-4, 1e-2, log=True)\n",
    "    \n",
    "    # **Cross-Validation Setup**\n",
    "    k = 3  # Number of folds\n",
    "    path = r'C:\\Users\\Max Tost\\Desktop\\Notebooks\\SPC Neural Network Project\\Training_data'\n",
    "    features_list = os.listdir(os.path.join(path, r'features'))\n",
    "    # Loading the dataset for this fold\n",
    "    dataset = IndependentCSVDataset(path, features_list)\n",
    "    splits = get_kfold_splits(dataset, k)\n",
    "    fold_losses = []  # Store loss for each fold\n",
    "\n",
    "    for fold, (train_idx, val_idx) in enumerate(splits):\n",
    "        # print(f\"Training Fold {fold+1}/{k}\")\n",
    "        \n",
    "\n",
    "        # **Subset datasets for this fold**\n",
    "        train_subset = Subset(dataset, train_idx)\n",
    "        val_subset = Subset(dataset, val_idx)\n",
    "\n",
    "        feature_min, feature_max = compute_global_minmax(train_subset)\n",
    "\n",
    "        global_transform = GlobalMinMaxNormalize(feature_min, feature_max)\n",
    "        train_subset.dataset.transform = global_transform\n",
    "        val_subset.dataset.transform = global_transform  # Same transform to prevent data leakage\n",
    "\n",
    "        train_loader = DataLoader(train_subset, batch_size=32, shuffle=True, num_workers=0)\n",
    "        val_loader = DataLoader(val_subset, batch_size=32, shuffle=False, num_workers=0)\n",
    "\n",
    "\n",
    "        # **Create LSTM Model**\n",
    "        model = LSTMModel(input_size=600, hidden_size=hidden_size, num_layers=num_layers, output_size=100, dropout=dropout)\n",
    "        model.to(device)\n",
    "\n",
    "        # **Loss & Optimizer**\n",
    "        criterion = nn.BCEWithLogitsLoss(pos_weight=compute_class_weights(train_loader))\n",
    "        optimizer = optim.Adam(\n",
    "            model.parameters(),\n",
    "            lr=learning_rate,\n",
    "            weight_decay=trial.suggest_float(\"weight_decay\", 1e-6, 1e-2, log=True)\n",
    "        )\n",
    "\n",
    "        # **Training Loop**\n",
    "        num_epochs = 10\n",
    "        for epoch in range(num_epochs):\n",
    "            model.train()\n",
    "            for inputs, targets in train_loader:\n",
    "                inputs, targets = inputs.to(device), targets.to(device)\n",
    "\n",
    "                optimizer.zero_grad()\n",
    "                outputs = model(inputs)\n",
    "                loss = criterion(outputs, targets.float())\n",
    "                loss.backward()\n",
    "                optimizer.step()\n",
    "\n",
    "        # **Validation Loss for Fold**\n",
    "        model.eval()\n",
    "        val_loss = 0.0\n",
    "        total_samples = 0\n",
    "        with torch.no_grad():\n",
    "            for inputs, targets in val_loader:\n",
    "                inputs, targets = inputs.to(device), targets.to(device)\n",
    "\n",
    "                outputs = model(inputs).squeeze()\n",
    "                loss = criterion(outputs, targets.float())\n",
    "\n",
    "                val_loss += loss.item() * inputs.size(0)\n",
    "                total_samples += inputs.size(0)\n",
    "\n",
    "        avg_val_loss = val_loss / total_samples\n",
    "        fold_losses.append(avg_val_loss)\n",
    "\n",
    "    # **Return the mean validation loss across all folds**\n",
    "    mean_loss = sum(fold_losses) / len(fold_losses)\n",
    "    return mean_loss\n",
    "\n",
    "# **Step 3: Run Optuna Optimization**\n",
    "study = optuna.create_study(direction=\"minimize\")  # Minimize validation loss\n",
    "study.optimize(objective, n_trials=60)\n",
    "\n",
    "# **Step 4: Best Hyperparameters**\n",
    "print(\"Best trial:\")\n",
    "print(f\"  Validation Loss: {study.best_trial.value:.4f}\")\n",
    "print(\"  Params:\", study.best_trial.params)\n"
   ]
  },
  {
   "cell_type": "code",
   "execution_count": null,
   "metadata": {},
   "outputs": [],
   "source": [
    "# Bayesian optimization\n",
    "import BayesianOptimization as bo"
   ]
  },
  {
   "cell_type": "code",
   "execution_count": null,
   "metadata": {},
   "outputs": [],
   "source": []
  },
  {
   "cell_type": "code",
   "execution_count": 32,
   "metadata": {},
   "outputs": [
    {
     "name": "stdout",
     "output_type": "stream",
     "text": [
      "Test Loss: 8.1832\n",
      "F1 Score: 0.0170\n"
     ]
    }
   ],
   "source": [
    "import torch\n",
    "import torch.nn.functional as F\n",
    "from sklearn.metrics import f1_score\n",
    "\n",
    "def evaluate_test_metrics(model, test_loader, criterion, device, threshold=0.5):\n",
    "    \"\"\"\n",
    "    Evaluates the test loss, F1-score, and ROC-AUC of a trained model.\n",
    "\n",
    "    Parameters:\n",
    "    - model: The trained PyTorch model.\n",
    "    - test_loader: DataLoader for the test dataset.\n",
    "    - criterion: Loss function (e.g., nn.BCEWithLogitsLoss).\n",
    "    - device: The device ('cuda' or 'cpu').\n",
    "    - threshold: Decision threshold for binary classification (default=0.5).\n",
    "\n",
    "    Returns:\n",
    "    - Average test loss\n",
    "    - F1-score\n",
    "    - ROC-AUC score\n",
    "    \"\"\"\n",
    "    model.eval()  # Set model to evaluation mode\n",
    "    test_loss = 0.0\n",
    "    total_samples = 0\n",
    "    all_targets = []\n",
    "    all_predictions = []\n",
    "\n",
    "    with torch.no_grad():  # Disable gradient calculation for efficiency\n",
    "        for inputs, targets in test_loader:\n",
    "            inputs, targets = inputs.to(device), targets.to(device)  # Move data to device\n",
    "\n",
    "            # Forward pass\n",
    "            outputs = model(inputs)  # (batch_size, 6000) -> raw logits\n",
    "\n",
    "            # Compute loss\n",
    "            loss = criterion(outputs, targets)  # BCEWithLogitsLoss expects raw logits\n",
    "            test_loss += loss.item() * inputs.size(0)\n",
    "            total_samples += inputs.size(0)\n",
    "\n",
    "            # Convert logits to probabilities using Sigmoid\n",
    "            probs = torch.sigmoid(outputs)  # (batch_size, 6000) -> probabilities in [0,1]\n",
    "\n",
    "            # Apply threshold to get binary predictions\n",
    "            preds = (probs > threshold).int()  # Convert to 0 or 1\n",
    "\n",
    "            # Flatten for metric calculations\n",
    "            all_targets.extend(targets.cpu().numpy().flatten())  # Convert to 1D list\n",
    "            all_predictions.extend(preds.cpu().numpy().flatten())  # Convert to 1D list\n",
    "\n",
    "    # Compute average loss\n",
    "    avg_test_loss = test_loss / total_samples\n",
    "\n",
    "    # Compute F1-score\n",
    "    f1 = f1_score(all_targets, all_predictions, average='macro')\n",
    "\n",
    "    return avg_test_loss, f1\n",
    "\n",
    "# Example Usage:\n",
    "device = torch.device(\"cuda\" if torch.cuda.is_available() else \"cpu\")\n",
    "test_loss, test_f1 = evaluate_test_metrics(model, test_loader, criterion, device)\n",
    "\n",
    "print(f\"Test Loss: {test_loss:.4f}\")\n",
    "print(f\"F1 Score: {test_f1:.4f}\")\n"
   ]
  }
 ],
 "metadata": {
  "kernelspec": {
   "display_name": "Python 3 (ipykernel)",
   "language": "python",
   "name": "python3"
  },
  "language_info": {
   "codemirror_mode": {
    "name": "ipython",
    "version": 3
   },
   "file_extension": ".py",
   "mimetype": "text/x-python",
   "name": "python",
   "nbconvert_exporter": "python",
   "pygments_lexer": "ipython3",
   "version": "3.11.5"
  }
 },
 "nbformat": 4,
 "nbformat_minor": 2
}
