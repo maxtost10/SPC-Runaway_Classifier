{
 "cells": [
  {
   "cell_type": "code",
   "execution_count": 2,
   "metadata": {},
   "outputs": [],
   "source": [
    "import numpy as np\n",
    "import os\n",
    "import sys\n",
    "sys.path.append(r'C:\\Users\\Max Tost\\Desktop\\Notebooks\\SPC Neural Network Project')\n",
    "\n",
    "import matplotlib.pyplot as plt # for plotting\n",
    "%matplotlib widget\n",
    "import pandas as pd # for data manipulation\n",
    "from Models.load_data import *\n",
    "from Models.helpers import *\n",
    "\n",
    "%load_ext autoreload\n",
    "%autoreload 2\n",
    "\n",
    "import torch"
   ]
  },
  {
   "cell_type": "code",
   "execution_count": 3,
   "metadata": {},
   "outputs": [],
   "source": [
    "import os\n",
    "import pandas as pd\n",
    "import numpy as np\n",
    "from pathlib import Path\n",
    "import torch\n",
    "from torch.utils.data import Dataset, DataLoader, random_split\n",
    "import torch.nn.functional as F  # Import for one-hot encoding\n",
    "\n",
    "class IndependentCSVDataset(Dataset):\n",
    "    def __init__(self, data_path, features_list, features_sequence=None, transform=None, seq_length=6000, num_classes=2):\n",
    "        \"\"\"\n",
    "        Loads each CSV file and stores individual samples (row-wise) as tuples of (x, y), \n",
    "        while ensuring targets are one-hot encoded.\n",
    "\n",
    "        Parameters:\n",
    "        - data_path (str or Path): Base directory containing 'features' and 'targets' subdirectories.\n",
    "        - features_list (list of str): List of CSV file names to process.\n",
    "        - features_sequence (list of str): List of feature names to extract from each CSV.\n",
    "          Defaults to ['SSXcore', 'IPLA', 'DAO_EDG7', 'RNT', 'DAI_EDG7', 'ECE_PF'] if not provided.\n",
    "        - transform (callable, optional): Optional transform to be applied on the feature data.\n",
    "        - seq_length (int): Ensures all sequences have the same length.\n",
    "        - num_classes (int): Number of classes for one-hot encoding.\n",
    "        \"\"\"\n",
    "        if features_sequence is None:\n",
    "            features_sequence = ['SSXcore', 'IPLA', 'DAO_EDG7', 'RNT', 'DAI_EDG7', 'ECE_PF']\n",
    "        \n",
    "        self.samples = []  # List to hold individual (x, y) tuples\n",
    "        self.transform = transform\n",
    "        self.num_classes = num_classes  # Store number of classes for one-hot encoding\n",
    "        \n",
    "        # Define directories using pathlib\n",
    "        features_dir = Path(data_path) / \"features\"\n",
    "        targets_dir  = Path(data_path) / \"targets\"\n",
    "        \n",
    "        # Process each CSV file in the provided list\n",
    "        for feature_id in features_list:\n",
    "            feature_file = features_dir / feature_id\n",
    "            target_file  = targets_dir / feature_id\n",
    "            \n",
    "            # Load the features CSV\n",
    "            df_features = pd.read_csv(feature_file)\n",
    "            time_length = len(df_features['time'])\n",
    "\n",
    "            # Drop sequences with a length different from the desired one\n",
    "            if time_length != seq_length:\n",
    "                print(f'Skipping {feature_id}: sequence length {time_length} is unexpected.')\n",
    "                continue\n",
    "            \n",
    "            # Build the feature matrix for the file.\n",
    "            # For each key in features_sequence, use the column if available, otherwise use zeros.\n",
    "            x_list = []\n",
    "            for key in features_sequence:\n",
    "                if key in df_features.columns:\n",
    "                    x_list.append(df_features[key].to_numpy())\n",
    "                else:\n",
    "                    x_list.append(np.zeros(time_length))\n",
    "            \n",
    "            # x_file is a 2D array with shape (time_length, number_of_features)\n",
    "            x_file = np.column_stack(x_list)\n",
    "            \n",
    "            # Load the targets CSV and extract the 'target' column\n",
    "            y_file = pd.read_csv(target_file)['target'].to_numpy()  # shape: (time_length,)\n",
    "            \n",
    "            # Append each shot to the samples list.\n",
    "            self.samples.append((x_file, y_file))\n",
    "    \n",
    "    def __len__(self):\n",
    "        \"\"\"Return the total number of samples.\"\"\"\n",
    "        return len(self.samples)\n",
    "    \n",
    "    def __getitem__(self, idx):\n",
    "        \"\"\"Return a single sample as a tuple (x, y) with one-hot encoded target.\"\"\"\n",
    "        sample, target = self.samples[idx]\n",
    "        \n",
    "        if self.transform:\n",
    "            sample = self.transform(sample)\n",
    "        \n",
    "        # Convert the sample to PyTorch tensor\n",
    "        sample = torch.tensor(sample, dtype=torch.float32)\n",
    "\n",
    "        # Convert target to tensor and apply one-hot encoding\n",
    "        target = torch.tensor(target, dtype=torch.long)  # Ensure integer values\n",
    "        target = F.one_hot(target, num_classes=self.num_classes).float()  # One-hot encode to (seq_length, num_classes)\n",
    "        \n",
    "        return sample, target\n"
   ]
  },
  {
   "cell_type": "code",
   "execution_count": 4,
   "metadata": {},
   "outputs": [],
   "source": [
    "# Load the shot data and replace nans with zeros to get arrays of equal length\n",
    "path = r'C:\\Users\\Max Tost\\Desktop\\Notebooks\\SPC Neural Network Project\\Training_data'\n",
    "features_list = os.listdir(os.path.join(path, r'features'))\n"
   ]
  },
  {
   "cell_type": "code",
   "execution_count": 5,
   "metadata": {},
   "outputs": [],
   "source": [
    "import numpy as np\n",
    "import torch\n"
   ]
  },
  {
   "cell_type": "code",
   "execution_count": 6,
   "metadata": {},
   "outputs": [
    {
     "name": "stdout",
     "output_type": "stream",
     "text": [
      "Skipping JETno87125.csv: sequence length 6001 is unexpected.\n",
      "Skipping JETno91071.csv: sequence length 6001 is unexpected.\n",
      "Skipping JETno97612.csv: sequence length 6001 is unexpected.\n",
      "Skipping JETno99471.csv: sequence length 6001 is unexpected.\n",
      "Global feature min (train set only): [ 0.0000000e+00 -3.5154782e+06 -6.1130988e+14  0.0000000e+00\n",
      " -3.1516222e+14  0.0000000e+00]\n",
      "Global feature max (train set only): [7.9738760e+00 7.0496821e+03 6.6544650e+17 4.9767345e+16 2.2450910e+18\n",
      " 5.2325842e+02]\n"
     ]
    }
   ],
   "source": [
    "# This cell takes 15s\n",
    "# Instantiate the dataset without transformations\n",
    "dataset = IndependentCSVDataset(path, features_list)\n",
    "\n",
    "# Split dataset into training and testing sets\n",
    "dataset_size = len(dataset)\n",
    "train_size = int(0.8 * dataset_size)\n",
    "test_size = dataset_size - train_size\n",
    "train_dataset, test_dataset = random_split(dataset, [train_size, test_size])\n",
    "\n",
    "feature_min, feature_max = compute_global_minmax(train_dataset)\n",
    "print(\"Global feature min (train set only):\", feature_min)\n",
    "print(\"Global feature max (train set only):\", feature_max)\n",
    "\n",
    "global_transform = GlobalMinMaxNormalize(feature_min, feature_max)\n",
    "train_dataset.dataset.transform = global_transform\n",
    "test_dataset.dataset.transform = global_transform  # Same transform to prevent data leakage\n",
    "\n",
    "train_loader = DataLoader(train_dataset, batch_size=32, shuffle=True, num_workers=0)\n",
    "test_loader = DataLoader(test_dataset, batch_size=32, shuffle=False, num_workers=0)\n",
    "\n"
   ]
  },
  {
   "cell_type": "code",
   "execution_count": 8,
   "metadata": {},
   "outputs": [
    {
     "name": "stderr",
     "output_type": "stream",
     "text": [
      "C:\\Users\\Max Tost\\AppData\\Local\\Temp\\ipykernel_8232\\2283652191.py:79: UserWarning: To copy construct from a tensor, it is recommended to use sourceTensor.clone().detach() or sourceTensor.clone().detach().requires_grad_(True), rather than torch.tensor(sourceTensor).\n",
      "  sample = torch.tensor(sample, dtype=torch.float32)\n"
     ]
    },
    {
     "name": "stdout",
     "output_type": "stream",
     "text": [
      "Min values after normalization: [0.0000000e+00 5.0432532e-04 7.7963463e-04 0.0000000e+00 8.5053791e-05\n",
      " 0.0000000e+00]\n",
      "Max values after normalization: [ 0.6190294   1.0000553   0.99965125 17.107521    0.83535004 31.320488  ]\n"
     ]
    }
   ],
   "source": [
    "# Check the min and max values across the dataset\n",
    "normalized_samples = []\n",
    "for sample, _ in test_dataset:\n",
    "    normalized_samples.append(sample.numpy())  # Convert to NumPy array\n",
    "\n",
    "normalized_data = np.concatenate(normalized_samples, axis=0)\n",
    "\n",
    "# Check min and max for each feature\n",
    "print(\"Min values after normalization:\", np.min(normalized_data, axis=0))\n",
    "print(\"Max values after normalization:\", np.max(normalized_data, axis=0))\n"
   ]
  },
  {
   "cell_type": "code",
   "execution_count": 9,
   "metadata": {},
   "outputs": [],
   "source": [
    "import torch\n",
    "import torch.nn as nn\n",
    "\n",
    "\n"
   ]
  },
  {
   "cell_type": "code",
   "execution_count": 10,
   "metadata": {},
   "outputs": [
    {
     "name": "stdout",
     "output_type": "stream",
     "text": [
      "Inputs shape: torch.Size([32, 6000, 6])\n",
      "Targets shape: torch.Size([32, 6000, 2])\n"
     ]
    },
    {
     "name": "stderr",
     "output_type": "stream",
     "text": [
      "C:\\Users\\Max Tost\\AppData\\Local\\Temp\\ipykernel_8232\\2283652191.py:79: UserWarning: To copy construct from a tensor, it is recommended to use sourceTensor.clone().detach() or sourceTensor.clone().detach().requires_grad_(True), rather than torch.tensor(sourceTensor).\n",
      "  sample = torch.tensor(sample, dtype=torch.float32)\n"
     ]
    }
   ],
   "source": [
    "# Create an iterator from the DataLoader\n",
    "train_iterator = iter(train_loader)\n",
    "\n",
    "# Get a single batch\n",
    "batch = next(train_iterator)\n",
    "\n",
    "# Unpack the batch (assuming your dataset returns (inputs, targets))\n",
    "inputs, targets = batch\n",
    "\n",
    "print(\"Inputs shape:\", inputs.shape)\n",
    "print(\"Targets shape:\", targets.shape)\n"
   ]
  },
  {
   "cell_type": "code",
   "execution_count": 11,
   "metadata": {},
   "outputs": [
    {
     "name": "stderr",
     "output_type": "stream",
     "text": [
      "C:\\Users\\Max Tost\\AppData\\Local\\Temp\\ipykernel_8232\\2283652191.py:79: UserWarning: To copy construct from a tensor, it is recommended to use sourceTensor.clone().detach() or sourceTensor.clone().detach().requires_grad_(True), rather than torch.tensor(sourceTensor).\n",
      "  sample = torch.tensor(sample, dtype=torch.float32)\n"
     ]
    },
    {
     "name": "stdout",
     "output_type": "stream",
     "text": [
      "Class counts: [1392640.0, 23360.0]\n",
      "Class weights: [0.01649717427790165, 0.9835028052330017]\n"
     ]
    }
   ],
   "source": [
    "device = torch.device(\"cuda\" if torch.cuda.is_available() else \"cpu\")\n",
    "class_weights = compute_class_weights(train_loader)\n",
    "criterion = torch.nn.CrossEntropyLoss(weight=class_weights.to(device))"
   ]
  },
  {
   "cell_type": "code",
   "execution_count": 12,
   "metadata": {},
   "outputs": [
    {
     "name": "stdout",
     "output_type": "stream",
     "text": [
      "LSTMModel(\n",
      "  (lstm): LSTM(6, 64, num_layers=2, batch_first=True, dropout=0.2)\n",
      "  (fc): Linear(in_features=64, out_features=2, bias=True)\n",
      "  (sigmoid): Sigmoid()\n",
      ")\n",
      "Output shape: torch.Size([6000, 2])\n",
      "torch.Size([6000, 2]) torch.Size([6000, 2])\n",
      "torch.Size([6000, 2]) torch.Size([6000, 2])\n",
      "torch.Size([6000, 2]) torch.Size([6000, 2])\n",
      "torch.Size([6000, 2]) torch.Size([6000, 2])\n",
      "torch.Size([6000, 2]) torch.Size([6000, 2])\n",
      "torch.Size([6000, 2]) torch.Size([6000, 2])\n",
      "torch.Size([6000, 2]) torch.Size([6000, 2])\n",
      "torch.Size([6000, 2]) torch.Size([6000, 2])\n",
      "torch.Size([6000, 2]) torch.Size([6000, 2])\n",
      "torch.Size([6000, 2]) torch.Size([6000, 2])\n",
      "torch.Size([6000, 2]) torch.Size([6000, 2])\n",
      "torch.Size([6000, 2]) torch.Size([6000, 2])\n",
      "torch.Size([6000, 2]) torch.Size([6000, 2])\n",
      "torch.Size([6000, 2]) torch.Size([6000, 2])\n",
      "torch.Size([6000, 2]) torch.Size([6000, 2])\n",
      "torch.Size([6000, 2]) torch.Size([6000, 2])\n",
      "torch.Size([6000, 2]) torch.Size([6000, 2])\n",
      "torch.Size([6000, 2]) torch.Size([6000, 2])\n",
      "torch.Size([6000, 2]) torch.Size([6000, 2])\n",
      "torch.Size([6000, 2]) torch.Size([6000, 2])\n",
      "torch.Size([6000, 2]) torch.Size([6000, 2])\n",
      "torch.Size([6000, 2]) torch.Size([6000, 2])\n",
      "torch.Size([6000, 2]) torch.Size([6000, 2])\n",
      "torch.Size([6000, 2]) torch.Size([6000, 2])\n",
      "torch.Size([6000, 2]) torch.Size([6000, 2])\n",
      "torch.Size([6000, 2]) torch.Size([6000, 2])\n",
      "torch.Size([6000, 2]) torch.Size([6000, 2])\n",
      "torch.Size([6000, 2]) torch.Size([6000, 2])\n",
      "torch.Size([6000, 2]) torch.Size([6000, 2])\n",
      "torch.Size([6000, 2]) torch.Size([6000, 2])\n",
      "torch.Size([6000, 2]) torch.Size([6000, 2])\n",
      "torch.Size([6000, 2]) torch.Size([6000, 2])\n",
      "0.4242573380470276\n"
     ]
    },
    {
     "ename": "NameError",
     "evalue": "name 'optimizer' is not defined",
     "output_type": "error",
     "traceback": [
      "\u001b[1;31m---------------------------------------------------------------------------\u001b[0m",
      "\u001b[1;31mNameError\u001b[0m                                 Traceback (most recent call last)",
      "Cell \u001b[1;32mIn[12], line 26\u001b[0m\n\u001b[0;32m     24\u001b[0m \u001b[38;5;28mprint\u001b[39m(loss\u001b[38;5;241m.\u001b[39mitem())\n\u001b[0;32m     25\u001b[0m loss\u001b[38;5;241m.\u001b[39mbackward()\n\u001b[1;32m---> 26\u001b[0m optimizer\u001b[38;5;241m.\u001b[39mstep()\n",
      "\u001b[1;31mNameError\u001b[0m: name 'optimizer' is not defined"
     ]
    }
   ],
   "source": [
    "\n",
    "input_size = 6       # Number of features per time step\n",
    "hidden_size = 64     # Number of LSTM hidden units\n",
    "num_layers = 2       # Number of LSTM layers\n",
    "output_size = 2      # Binary classification\n",
    "dropout = 0.2\n",
    "\n",
    "# Instantiate the model\n",
    "model = LSTMModel(input_size, hidden_size, num_layers, output_size, dropout)\n",
    "\n",
    "# Print model architecture\n",
    "print(model)\n",
    "\n",
    "# Example dummy input: batch_size=32, sequence_length=6000, input_size=6\n",
    "dummy_input = inputs\n",
    "dummy_output = model(dummy_input)\n",
    "\n",
    "print(\"Output shape:\", dummy_output[0].shape)  # Expected: (32, 6000, 2) -> one binary value per timestep\n",
    "\n",
    "loss = 0\n",
    "for output, target in zip(dummy_output, targets):\n",
    "    print(output.shape, target.shape)\n",
    "    loss += criterion(output, target)\n",
    "\n",
    "print(loss.item())\n",
    "loss.backward()\n",
    "optimizer.step()"
   ]
  },
  {
   "cell_type": "code",
   "execution_count": 7,
   "metadata": {},
   "outputs": [],
   "source": [
    "import torch\n"
   ]
  },
  {
   "cell_type": "code",
   "execution_count": 13,
   "metadata": {},
   "outputs": [
    {
     "name": "stderr",
     "output_type": "stream",
     "text": [
      "C:\\Users\\Max Tost\\AppData\\Local\\Temp\\ipykernel_8232\\2283652191.py:79: UserWarning: To copy construct from a tensor, it is recommended to use sourceTensor.clone().detach() or sourceTensor.clone().detach().requires_grad_(True), rather than torch.tensor(sourceTensor).\n",
      "  sample = torch.tensor(sample, dtype=torch.float32)\n"
     ]
    },
    {
     "name": "stdout",
     "output_type": "stream",
     "text": [
      "Class counts: [1392640.0, 23360.0]\n",
      "Class weights: [0.01649717427790165, 0.9835028052330017]\n"
     ]
    },
    {
     "name": "stderr",
     "output_type": "stream",
     "text": [
      "C:\\Users\\Max Tost\\AppData\\Local\\Temp\\ipykernel_8232\\2283652191.py:79: UserWarning: To copy construct from a tensor, it is recommended to use sourceTensor.clone().detach() or sourceTensor.clone().detach().requires_grad_(True), rather than torch.tensor(sourceTensor).\n",
      "  sample = torch.tensor(sample, dtype=torch.float32)\n"
     ]
    },
    {
     "name": "stdout",
     "output_type": "stream",
     "text": [
      "Epoch [1/1], Loss: 0.6643\n"
     ]
    }
   ],
   "source": [
    "# With 10 rounds of optimisation, this tkes roughly 30 min on my laptop\n",
    "import torch\n",
    "import torch.optim as optim\n",
    "\n",
    "# Define loss and optimizer\n",
    "device = torch.device(\"cuda\" if torch.cuda.is_available() else \"cpu\")\n",
    "class_weights = compute_class_weights(train_loader)\n",
    "criterion = torch.nn.CrossEntropyLoss(weight=class_weights.to(device))  # For regression; use CrossEntropyLoss for classification\n",
    "optimizer = optim.Adam(model.parameters(), lr=1e-3)\n",
    "\n",
    "# Assume `train_loader` is a DataLoader yielding batches of (input, target)\n",
    "num_epochs = 1\n",
    "\n",
    "model.train()\n",
    "for epoch in range(num_epochs):\n",
    "    epoch_loss = 0.0\n",
    "    for batch_idx, (inputs, targets) in enumerate(train_loader):\n",
    "        # inputs should have shape: [batch_size, seq_length, input_size]\n",
    "        # targets should have shape: [batch_size, output_size] or [batch_size] (depending on your problem)\n",
    "        \n",
    "        # Zero the parameter gradients\n",
    "        optimizer.zero_grad()\n",
    "        \n",
    "        # Forward pass\n",
    "        outputs = model(inputs)\n",
    "\n",
    "        # Manually sum up losses from batches, annoying but necessary for structure\n",
    "        loss = torch.tensor(0.0, device=device, requires_grad=True)\n",
    "\n",
    "        # Loop through the whole batch\n",
    "        for output, target in zip(outputs, targets):\n",
    "            batch_loss = criterion(output, target)  # Compute loss for this sample\n",
    "            loss = loss + batch_loss  # Accumulate loss correctly\n",
    "        \n",
    "        # Backward pass and optimization\n",
    "        loss.backward()\n",
    "        optimizer.step()\n",
    "        \n",
    "        epoch_loss += loss.item()\n",
    "    \n",
    "    print(f\"Epoch [{epoch+1}/{num_epochs}], Loss: {epoch_loss/len(train_loader):.4f}\")\n"
   ]
  },
  {
   "cell_type": "code",
   "execution_count": 16,
   "metadata": {},
   "outputs": [
    {
     "name": "stderr",
     "output_type": "stream",
     "text": [
      "C:\\Users\\Max Tost\\AppData\\Local\\Temp\\ipykernel_8232\\2283652191.py:79: UserWarning: To copy construct from a tensor, it is recommended to use sourceTensor.clone().detach() or sourceTensor.clone().detach().requires_grad_(True), rather than torch.tensor(sourceTensor).\n",
      "  sample = torch.tensor(sample, dtype=torch.float32)\n"
     ]
    },
    {
     "name": "stdout",
     "output_type": "stream",
     "text": [
      "Test Loss: 0.0136\n",
      "F1 Score: 0.0027\n",
      "AUC-ROC: 0.5000\n"
     ]
    }
   ],
   "source": [
    "import torch\n",
    "import torch.nn.functional as F\n",
    "from sklearn.metrics import f1_score, roc_auc_score\n",
    "\n",
    "def evaluate_test_metrics(model, test_loader, criterion, device, threshold=0.5):\n",
    "    \"\"\"\n",
    "    Evaluates the test loss, F1-score, and ROC-AUC of a trained model.\n",
    "\n",
    "    Parameters:\n",
    "    - model: The trained PyTorch model.\n",
    "    - test_loader: DataLoader for the test dataset.\n",
    "    - criterion: Loss function (e.g., nn.CrossEntropyLoss, nn.BCELoss).\n",
    "    - device: The device ('cuda' or 'cpu').\n",
    "    - threshold: Decision threshold for binary classification (default=0.5).\n",
    "\n",
    "    Returns:\n",
    "    - Average test loss\n",
    "    - F1-score\n",
    "    - ROC-AUC score\n",
    "    \"\"\"\n",
    "    model.eval()  # Set model to evaluation mode\n",
    "    test_loss = 0.0\n",
    "    total_samples = 0\n",
    "    all_targets = []\n",
    "    all_predictions = []\n",
    "\n",
    "    with torch.no_grad():  # Disable gradient calculation for efficiency\n",
    "        for inputs, targets in test_loader:\n",
    "            inputs, targets = inputs.to(device), targets.to(device)  # Move data to device\n",
    "\n",
    "            # Forward pass\n",
    "            outputs = model(inputs)  # (batch_size, 6000, 2) -> logits\n",
    "\n",
    "            # Compute loss for batch\n",
    "            loss = criterion(outputs.view(-1, 2), targets.view(-1, 2))  # Flatten for loss function\n",
    "            test_loss += loss.item() * inputs.size(0)\n",
    "            total_samples += inputs.size(0)\n",
    "\n",
    "            # Convert model outputs (logits) to probabilities\n",
    "            probs = F.softmax(outputs, dim=-1)  # (batch_size, 6000, 2)\n",
    "\n",
    "            # Get predicted class labels\n",
    "            preds = torch.argmax(probs, dim=-1)  # (batch_size, 6000) -> class indices\n",
    "\n",
    "            # Convert one-hot targets to class indices\n",
    "            if targets.ndim > 2 and targets.shape[-1] > 1:  # One-hot case\n",
    "                targets = torch.argmax(targets, dim=-1)  # (batch_size, 6000) -> class indices\n",
    "\n",
    "            # Flatten for metric calculations\n",
    "            all_targets.extend(targets.cpu().numpy().flatten())  # Convert to 1D list\n",
    "            all_predictions.extend(preds.cpu().numpy().flatten())  # Convert to 1D list\n",
    "\n",
    "    # Compute average loss\n",
    "    avg_test_loss = test_loss / total_samples\n",
    "\n",
    "    # Compute F1-score (use 'macro' for balanced classes)\n",
    "    f1 = f1_score(all_targets, all_predictions, average='macro')\n",
    "\n",
    "    # Compute ROC-AUC Score\n",
    "    auc = roc_auc_score(all_targets, all_predictions)\n",
    "\n",
    "    return avg_test_loss, f1, auc\n",
    "\n",
    "# Example Usage:\n",
    "device = torch.device(\"cuda\" if torch.cuda.is_available() else \"cpu\")\n",
    "test_loss, test_f1, auc = evaluate_test_metrics(model, test_loader, criterion, device)\n",
    "\n",
    "print(f\"Test Loss: {test_loss:.4f}\")\n",
    "print(f\"F1 Score: {test_f1:.4f}\")\n",
    "print(f\"AUC-ROC: {auc:.4f}\")\n"
   ]
  },
  {
   "cell_type": "code",
   "execution_count": 18,
   "metadata": {},
   "outputs": [
    {
     "data": {
      "text/plain": [
       "300"
      ]
     },
     "execution_count": 18,
     "metadata": {},
     "output_type": "execute_result"
    }
   ],
   "source": [
    "len(dataset)"
   ]
  },
  {
   "cell_type": "code",
   "execution_count": 31,
   "metadata": {},
   "outputs": [
    {
     "name": "stderr",
     "output_type": "stream",
     "text": [
      "C:\\Users\\Max Tost\\AppData\\Local\\Temp\\ipykernel_11916\\620318237.py:74: UserWarning: To copy construct from a tensor, it is recommended to use sourceTensor.clone().detach() or sourceTensor.clone().detach().requires_grad_(True), rather than torch.tensor(sourceTensor).\n",
      "  sample = torch.tensor(sample, dtype=torch.float32)\n"
     ]
    }
   ],
   "source": [
    "for batch_idx, (inputs, targets) in enumerate(train_loader):\n",
    "    if len(targets[0])!=6000:\n",
    "        print('Still an array that has wrong length', )"
   ]
  },
  {
   "cell_type": "code",
   "execution_count": null,
   "metadata": {},
   "outputs": [],
   "source": []
  }
 ],
 "metadata": {
  "kernelspec": {
   "display_name": "Python 3 (ipykernel)",
   "language": "python",
   "name": "python3"
  },
  "language_info": {
   "codemirror_mode": {
    "name": "ipython",
    "version": 3
   },
   "file_extension": ".py",
   "mimetype": "text/x-python",
   "name": "python",
   "nbconvert_exporter": "python",
   "pygments_lexer": "ipython3",
   "version": "3.11.5"
  }
 },
 "nbformat": 4,
 "nbformat_minor": 2
}
