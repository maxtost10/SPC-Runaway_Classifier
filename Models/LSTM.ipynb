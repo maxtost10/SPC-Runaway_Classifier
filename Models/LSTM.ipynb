{
 "cells": [
  {
   "cell_type": "code",
   "execution_count": 109,
   "metadata": {},
   "outputs": [
    {
     "name": "stdout",
     "output_type": "stream",
     "text": [
      "The autoreload extension is already loaded. To reload it, use:\n",
      "  %reload_ext autoreload\n"
     ]
    }
   ],
   "source": [
    "import numpy as np\n",
    "import os\n",
    "import sys\n",
    "sys.path.append(r'C:\\Users\\Max Tost\\Desktop\\Notebooks\\SPC Neural Network Project')\n",
    "\n",
    "import matplotlib.pyplot as plt # for plotting\n",
    "%matplotlib widget\n",
    "import pandas as pd # for data manipulation\n",
    "from Models.load_data import *\n",
    "from Models.helpers import *\n",
    "import random\n",
    "\n",
    "%load_ext autoreload\n",
    "%autoreload 2\n",
    "\n",
    "import torch\n",
    "\n",
    "path = r'C:\\Users\\Max Tost\\Desktop\\Notebooks\\SPC Neural Network Project\\Data\\Training_data_no_dtIPLA'\n",
    "features_list = os.listdir(os.path.join(path, r'features'))\n",
    "\n",
    "random.seed(42)\n",
    "random.shuffle(features_list)\n",
    "# Split features list into training and validation\n",
    "train_features = features_list[:int(0.8*len(features_list))]\n",
    "val_features = features_list[int(0.8*len(features_list)):]"
   ]
  },
  {
   "cell_type": "code",
   "execution_count": 110,
   "metadata": {},
   "outputs": [
    {
     "name": "stdout",
     "output_type": "stream",
     "text": [
      "Skipping JETno91071.csv: sequence length 6001 is unexpected.\n",
      "Total sliding window samples created: 57408\n",
      "Total sliding window samples created: 14950\n",
      "Global feature min (train set only): [ 1.4648083e-10 -3.5137018e+06 -6.1130988e+14  0.0000000e+00\n",
      " -3.1516222e+14  0.0000000e+00]\n",
      "Global feature max (train set only): [8.8354902e+00 7.0496821e+03 6.6798080e+17 8.5139590e+17 9.7797326e+17\n",
      " 4.0046399e+02]\n"
     ]
    }
   ],
   "source": [
    "# This cell takes 19s\n",
    "# Instantiate the dataset without transformations\n",
    "train_dataset = IndependentCSVDataset(path, train_features)\n",
    "val_dataset = IndependentCSVDataset(path, val_features)\n",
    "\n",
    "feature_min, feature_max = compute_global_minmax(train_dataset)\n",
    "print(\"Global feature min (train set only):\", feature_min)\n",
    "print(\"Global feature max (train set only):\", feature_max)\n",
    "\n",
    "global_transform = GlobalMinMaxNormalize(feature_min, feature_max)\n",
    "train_dataset.transform = global_transform\n",
    "val_dataset.transform = global_transform  # Same transform to prevent data leakage\n",
    "\n",
    "train_loader = DataLoader(train_dataset, batch_size=64, shuffle=True, num_workers=0)\n",
    "test_loader = DataLoader(val_dataset, batch_size=64, shuffle=False, num_workers=0)\n",
    "\n"
   ]
  },
  {
   "cell_type": "code",
   "execution_count": 111,
   "metadata": {},
   "outputs": [
    {
     "name": "stdout",
     "output_type": "stream",
     "text": [
      "Inputs shape: torch.Size([64, 30, 6])\n",
      "Targets shape: torch.Size([64, 30])\n"
     ]
    },
    {
     "name": "stderr",
     "output_type": "stream",
     "text": [
      "C:\\Users\\Max Tost\\Desktop\\Notebooks\\SPC Neural Network Project\\Models\\helpers.py:152: UserWarning: To copy construct from a tensor, it is recommended to use sourceTensor.clone().detach() or sourceTensor.clone().detach().requires_grad_(True), rather than torch.tensor(sourceTensor).\n",
      "  x = torch.tensor(x, dtype=torch.float32)  # Convert features to tensor\n"
     ]
    }
   ],
   "source": [
    "# Create an iterator from the DataLoader\n",
    "train_iterator = iter(train_loader)\n",
    "\n",
    "# Get a single batch\n",
    "batch = next(train_iterator)\n",
    "\n",
    "# Unpack the batch (assuming your dataset returns (inputs, targets))\n",
    "inputs, targets = batch\n",
    "\n",
    "print(\"Inputs shape:\", inputs.shape)\n",
    "print(\"Targets shape:\", targets.shape)\n"
   ]
  },
  {
   "cell_type": "markdown",
   "metadata": {},
   "source": [
    "## Training the model"
   ]
  },
  {
   "cell_type": "code",
   "execution_count": 112,
   "metadata": {},
   "outputs": [
    {
     "name": "stdout",
     "output_type": "stream",
     "text": [
      "Class counts: [1664580.0, 57660.0]\n",
      "Class ratio: 28.868886947631836\n",
      "LSTMModel(\n",
      "  (lstm): LSTM(6, 40, num_layers=2, batch_first=True, dropout=0.15)\n",
      "  (fc1): Linear(in_features=40, out_features=40, bias=True)\n",
      "  (fc2): Linear(in_features=40, out_features=1, bias=True)\n",
      "  (sigmoid): Sigmoid()\n",
      "  (relu): ReLU()\n",
      ")\n",
      "Input shape: torch.Size([64, 30, 6])\n",
      "Output shape: torch.Size([64, 30])\n",
      "Targets shape: torch.Size([64, 30])\n",
      "1.606396198272705\n"
     ]
    },
    {
     "name": "stderr",
     "output_type": "stream",
     "text": [
      "C:\\Users\\Max Tost\\Desktop\\Notebooks\\SPC Neural Network Project\\Models\\helpers.py:293: UserWarning: To copy construct from a tensor, it is recommended to use sourceTensor.clone().detach() or sourceTensor.clone().detach().requires_grad_(True), rather than torch.tensor(sourceTensor).\n",
      "  \n"
     ]
    }
   ],
   "source": [
    "# Define loss and optimizer\n",
    "device = torch.device(\"cuda\" if torch.cuda.is_available() else \"cpu\")\n",
    "criterion = nn.BCEWithLogitsLoss(pos_weight=compute_class_weights(train_loader))# *3)\n",
    "# Define the model and print the architecture, example with dummy input shapes\n",
    "# [I 2025-02-07 01:30:51,832] Trial 37 finished with value: 1.143294748031732 and parameters: \n",
    "# {'hidden_size': 401, 'dropout': 0.31159803520368773, 'learning_rate': 0.0004282581786099833, \n",
    "# 'weight_decay': 3.0769712937166838e-06}. Best is trial 37 with value: 1.143294748031732.\n",
    "\n",
    "input_size = 6       # Number of features per time step\n",
    "hidden_size = 40     # Number of LSTM hidden units\n",
    "num_layers = 2       # Number of LSTM layers\n",
    "output_size = 1      # Binary classification\n",
    "dropout = 0.15       # Dropout rate\n",
    "\n",
    "# Instantiate the model\n",
    "model = LSTMModel(input_size, hidden_size, num_layers, output_size, dropout)\n",
    "\n",
    "# Print model architecture\n",
    "print(model)\n",
    "\n",
    "# Example dummy input: batch_size=32, sequence_length=6000, input_size=6\n",
    "dummy_input = inputs\n",
    "dummy_output = model(dummy_input)\n",
    "\n",
    "print(\"Input shape:\", dummy_input.shape)  # Expected: (32, 6000, 6) -> 6 features per timestep\n",
    "print(\"Output shape:\", dummy_output.shape)  # Expected: (32, 6000,) -> one binary value per timestep\n",
    "print(\"Targets shape:\", targets.shape)\n",
    "\n",
    "loss = criterion(dummy_output, targets)\n",
    "\n",
    "print(loss.item())"
   ]
  },
  {
   "cell_type": "code",
   "execution_count": 113,
   "metadata": {},
   "outputs": [
    {
     "name": "stdout",
     "output_type": "stream",
     "text": [
      "Epoch [1/10], Train Loss: 0.79765.4406, batch_idx=896\n",
      "Epoch [1/10], Validation Loss: 0.5370\n",
      "Epoch [2/10], Train Loss: 0.56093.1702, batch_idx=896\n",
      "Epoch [2/10], Validation Loss: 0.4990\n",
      "Epoch [3/10], Train Loss: 0.53247.5689, batch_idx=896\n",
      "Epoch [3/10], Validation Loss: 0.4448\n",
      "Epoch [4/10], Train Loss: 0.50180.0873, batch_idx=896\n",
      "Epoch [4/10], Validation Loss: 0.3973\n",
      "Epoch [5/10], Train Loss: 0.47909.6456, batch_idx=896\n",
      "Epoch [5/10], Validation Loss: 0.3764\n",
      "Epoch [6/10], Train Loss: 0.47001.6304, batch_idx=896\n",
      "Epoch [6/10], Validation Loss: 0.3875\n",
      "Epoch [7/10], Train Loss: 0.44256.8843, batch_idx=896\n",
      "Epoch [7/10], Validation Loss: 0.3477\n",
      "Epoch [8/10], Train Loss: 0.42773.6289, batch_idx=896\n",
      "Epoch [8/10], Validation Loss: 0.3250\n",
      "Epoch [9/10], Train Loss: 0.43116.7145, batch_idx=896\n",
      "Epoch [9/10], Validation Loss: 0.3251\n",
      "Epoch [10/10], Train Loss: 0.3829.4291, batch_idx=896\n",
      "Epoch [10/10], Validation Loss: 0.3209\n",
      "Model saved at C:\\Users\\Max Tost\\Desktop\\Notebooks\\SPC Neural Network Project\\Models\\lstm_model.pth\n"
     ]
    },
    {
     "data": {
      "application/vnd.jupyter.widget-view+json": {
       "model_id": "578516b0dfe04bacab158cec33c5998d",
       "version_major": 2,
       "version_minor": 0
      },
      "image/png": "[encoded data removed]",
      "text/html": [
       "\n",
       "            <div style=\"display: inline-block;\">\n",
       "                <div class=\"jupyter-widgets widget-label\" style=\"text-align: center;\">\n",
       "                    Figure\n",
       "                </div>\n",
       "                <img src='data:image/png;base64,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' width=640.0/>\n",
       "            </div>\n",
       "        "
      ],
      "text/plain": [
       "Canvas(toolbar=Toolbar(toolitems=[('Home', 'Reset original view', 'home', 'home'), ('Back', 'Back to previous …"
      ]
     },
     "metadata": {},
     "output_type": "display_data"
    }
   ],
   "source": [
    "import torch\n",
    "import torch.optim as optim\n",
    "import matplotlib.pyplot as plt\n",
    "from sklearn.metrics import classification_report\n",
    "\n",
    "# Define the optimizer\n",
    "optimizer = optim.Adam(model.parameters(), lr=1e-3, weight_decay=1e-05)\n",
    "\n",
    "# Assume `train_loader` and `test_loader` are DataLoaders yielding batches of (input, target)\n",
    "num_epochs = 10\n",
    "\n",
    "train_losses = []\n",
    "val_losses = []\n",
    "\n",
    "model.train()\n",
    "for epoch in range(num_epochs):\n",
    "    epoch_train_loss = 0.0\n",
    "    for batch_idx, (inputs, targets) in enumerate(train_loader):\n",
    "        inputs, targets = inputs.to(device), targets.to(device)\n",
    "        \n",
    "        # Zero the parameter gradients\n",
    "        optimizer.zero_grad()\n",
    "        \n",
    "        # Forward pass\n",
    "        outputs = model(inputs)\n",
    "        loss = criterion(outputs, targets)\n",
    "        \n",
    "        # Backward pass and optimization\n",
    "        loss.backward()\n",
    "        torch.nn.utils.clip_grad_norm_(model.parameters(), max_norm=5)\n",
    "        optimizer.step()\n",
    "        \n",
    "        epoch_train_loss += loss.item()\n",
    "        print(f'Accumulated epoch train loss: {epoch_train_loss:.4f}, {batch_idx=}', end='\\r')\n",
    "    \n",
    "    avg_train_loss = epoch_train_loss / len(train_loader)\n",
    "    train_losses.append(avg_train_loss)\n",
    "    print(f\"Epoch [{epoch+1}/{num_epochs}], Train Loss: {avg_train_loss:.4f}\")\n",
    "\n",
    "    # Validation phase\n",
    "    model.eval()\n",
    "    epoch_val_loss = 0.0\n",
    "    with torch.no_grad():\n",
    "        for inputs, targets in test_loader:\n",
    "            inputs, targets = inputs.to(device), targets.to(device)\n",
    "            \n",
    "            outputs = model(inputs)\n",
    "            loss = criterion(outputs, targets)\n",
    "            \n",
    "            epoch_val_loss += loss.item()\n",
    "    \n",
    "    avg_val_loss = epoch_val_loss / len(test_loader)\n",
    "    val_losses.append(avg_val_loss)\n",
    "    print(f\"Epoch [{epoch+1}/{num_epochs}], Validation Loss: {avg_val_loss:.4f}\")\n",
    "    \n",
    "    model.train()\n",
    "\n",
    "# Save the model\n",
    "torch.save(model.state_dict(), r'C:\\Users\\Max Tost\\Desktop\\Notebooks\\SPC Neural Network Project\\Models\\lstm_model.pth')\n",
    "print('Model saved at C:\\\\Users\\\\Max Tost\\\\Desktop\\\\Notebooks\\\\SPC Neural Network Project\\\\Models\\\\lstm_model.pth')\n",
    "\n",
    "plt.close()\n",
    "# Plot the training and validation loss\n",
    "plt.plot(train_losses, label='Train Loss')\n",
    "plt.plot(val_losses, label='Validation Loss')\n",
    "plt.xlabel('Epoch')\n",
    "plt.ylabel('Loss')\n",
    "plt.title('Training and Validation Loss')\n",
    "plt.legend()\n",
    "plt.savefig(rf'C:\\Users\\Max Tost\\Desktop\\Notebooks\\SPC Neural Network Project\\Models\\losses_LSTM_{num_epochs}_epoch__{hidden_size}hidden.png')\n",
    "plt.show()"
   ]
  },
  {
   "cell_type": "code",
   "execution_count": 115,
   "metadata": {},
   "outputs": [
    {
     "name": "stderr",
     "output_type": "stream",
     "text": [
      "C:\\Users\\Max Tost\\Desktop\\Notebooks\\SPC Neural Network Project\\Models\\helpers.py:152: UserWarning: To copy construct from a tensor, it is recommended to use sourceTensor.clone().detach() or sourceTensor.clone().detach().requires_grad_(True), rather than torch.tensor(sourceTensor).\n",
      "  x = torch.tensor(x, dtype=torch.float32)  # Convert features to tensor\n"
     ]
    },
    {
     "name": "stdout",
     "output_type": "stream",
     "text": [
      "              precision    recall  f1-score   support\n",
      "\n",
      "         0.0       1.00      0.88      0.94    433125\n",
      "         1.0       0.23      0.98      0.37     15375\n",
      "\n",
      "    accuracy                           0.89    448500\n",
      "   macro avg       0.61      0.93      0.66    448500\n",
      "weighted avg       0.97      0.89      0.92    448500\n",
      "\n"
     ]
    }
   ],
   "source": [
    "# print the classification report for the test set\n",
    "model.eval()\n",
    "predictions = []\n",
    "true_labels = []\n",
    "with torch.no_grad():\n",
    "    for inputs, targets in test_loader:\n",
    "        inputs, targets = inputs.to(device), targets.to(device)\n",
    "        outputs, _ = model.predict(inputs)\n",
    "        predictions.extend(outputs.flatten().cpu().numpy())\n",
    "        true_labels.extend(targets.flatten().cpu().numpy())\n",
    "\n",
    "print(classification_report(true_labels, predictions))\n"
   ]
  },
  {
   "cell_type": "markdown",
   "metadata": {},
   "source": [
    "## Plotting outputs of model"
   ]
  },
  {
   "cell_type": "code",
   "execution_count": 34,
   "metadata": {},
   "outputs": [
    {
     "data": {
      "text/plain": [
       "LSTMModel(\n",
       "  (lstm): LSTM(600, 401, num_layers=2, batch_first=True, dropout=0.31159803520368773)\n",
       "  (fc1): Linear(in_features=401, out_features=401, bias=True)\n",
       "  (fc2): Linear(in_features=401, out_features=100, bias=True)\n",
       "  (sigmoid): Sigmoid()\n",
       ")"
      ]
     },
     "execution_count": 34,
     "metadata": {},
     "output_type": "execute_result"
    }
   ],
   "source": [
    "# Parameters:\n",
    "input_size = 600       # Number of features per time step\n",
    "hidden_size = 401     # Number of LSTM hidden units\n",
    "num_layers = 2       # Number of LSTM layers\n",
    "output_size = 100      # Binary classification\n",
    "dropout = 0.31159803520368773\n",
    "\n",
    "model = LSTMModel(input_size, hidden_size, num_layers, output_size, dropout)\n",
    "model.load_state_dict(torch.load(r'C:\\Users\\Max Tost\\Desktop\\Notebooks\\SPC Neural Network Project\\Models\\lstm_model.pth', weights_only=True))\n",
    "model.eval()"
   ]
  },
  {
   "cell_type": "code",
   "execution_count": 90,
   "metadata": {},
   "outputs": [
    {
     "name": "stdout",
     "output_type": "stream",
     "text": [
      "Inputs shape: torch.Size([40, 6])\n",
      "Targets shape: torch.Size([40])\n",
      "Outputs shape: torch.Size([40])\n"
     ]
    }
   ],
   "source": [
    "# Create an iterator from the DataLoader\n",
    "train_iterator = iter(train_loader)\n",
    "\n",
    "# Get a single batch\n",
    "batch = next(train_iterator)\n",
    "\n",
    "# Unpack the batch (assuming your dataset returns (inputs, targets))\n",
    "inputs, targets = batch\n",
    "input, target = inputs[0], targets[0]\n",
    "\n",
    "print(\"Inputs shape:\", input.shape)\n",
    "print(\"Targets shape:\", target.shape)\n",
    "\n",
    "output = model(input)\n",
    "\n",
    "print(\"Outputs shape:\", output.shape)"
   ]
  },
  {
   "cell_type": "code",
   "execution_count": 52,
   "metadata": {},
   "outputs": [
    {
     "data": {
      "text/plain": [
       "tensor(-39632.2656, grad_fn=<SumBackward0>)"
      ]
     },
     "execution_count": 52,
     "metadata": {},
     "output_type": "execute_result"
    }
   ],
   "source": [
    "torch.sum(outputs)"
   ]
  },
  {
   "cell_type": "code",
   "execution_count": 47,
   "metadata": {},
   "outputs": [
    {
     "name": "stdout",
     "output_type": "stream",
     "text": [
      "Inputs shape: torch.Size([60, 600])\n",
      "Targets shape: torch.Size([60, 100])\n",
      "Outputs shape: torch.Size([60, 100])\n"
     ]
    },
    {
     "data": {
      "text/plain": [
       "[<matplotlib.lines.Line2D at 0x23e59f554d0>,\n",
       " <matplotlib.lines.Line2D at 0x23e5a5212d0>,\n",
       " <matplotlib.lines.Line2D at 0x23e59f2d650>,\n",
       " <matplotlib.lines.Line2D at 0x23e59f2b350>,\n",
       " <matplotlib.lines.Line2D at 0x23e59f292d0>,\n",
       " <matplotlib.lines.Line2D at 0x23e59f2a090>,\n",
       " <matplotlib.lines.Line2D at 0x23e59f2a710>,\n",
       " <matplotlib.lines.Line2D at 0x23e59f29f50>,\n",
       " <matplotlib.lines.Line2D at 0x23e59f290d0>,\n",
       " <matplotlib.lines.Line2D at 0x23e59f2a3d0>,\n",
       " <matplotlib.lines.Line2D at 0x23e59f6a7d0>,\n",
       " <matplotlib.lines.Line2D at 0x23e5a50d3d0>,\n",
       " <matplotlib.lines.Line2D at 0x23e59f2a2d0>,\n",
       " <matplotlib.lines.Line2D at 0x23e59f29a10>,\n",
       " <matplotlib.lines.Line2D at 0x23e59f2ac10>,\n",
       " <matplotlib.lines.Line2D at 0x23e59f2bf50>,\n",
       " <matplotlib.lines.Line2D at 0x23e59f2bb10>,\n",
       " <matplotlib.lines.Line2D at 0x23e59fdb750>,\n",
       " <matplotlib.lines.Line2D at 0x23e59ef0c10>,\n",
       " <matplotlib.lines.Line2D at 0x23e59fd8990>,\n",
       " <matplotlib.lines.Line2D at 0x23e59fd9f90>,\n",
       " <matplotlib.lines.Line2D at 0x23e59f2a690>,\n",
       " <matplotlib.lines.Line2D at 0x23e59fd9e90>,\n",
       " <matplotlib.lines.Line2D at 0x23e59fd9990>,\n",
       " <matplotlib.lines.Line2D at 0x23e5a5235d0>,\n",
       " <matplotlib.lines.Line2D at 0x23e59ebb050>,\n",
       " <matplotlib.lines.Line2D at 0x23e59f6a810>,\n",
       " <matplotlib.lines.Line2D at 0x23e59feab50>,\n",
       " <matplotlib.lines.Line2D at 0x23e59fea350>,\n",
       " <matplotlib.lines.Line2D at 0x23e59ff27d0>,\n",
       " <matplotlib.lines.Line2D at 0x23e5a4b3550>,\n",
       " <matplotlib.lines.Line2D at 0x23e59fe8990>,\n",
       " <matplotlib.lines.Line2D at 0x23e5a4d3010>,\n",
       " <matplotlib.lines.Line2D at 0x23e5a520190>,\n",
       " <matplotlib.lines.Line2D at 0x23e59fd8390>,\n",
       " <matplotlib.lines.Line2D at 0x23e59ef03d0>,\n",
       " <matplotlib.lines.Line2D at 0x23e59ff8f50>,\n",
       " <matplotlib.lines.Line2D at 0x23e59ff9350>,\n",
       " <matplotlib.lines.Line2D at 0x23e59ff96d0>,\n",
       " <matplotlib.lines.Line2D at 0x23e59ff9a90>,\n",
       " <matplotlib.lines.Line2D at 0x23e59ff9e90>,\n",
       " <matplotlib.lines.Line2D at 0x23e5a522150>,\n",
       " <matplotlib.lines.Line2D at 0x23e59ffa4d0>,\n",
       " <matplotlib.lines.Line2D at 0x23e59fea810>,\n",
       " <matplotlib.lines.Line2D at 0x23e59ffac10>,\n",
       " <matplotlib.lines.Line2D at 0x23e59feaf90>,\n",
       " <matplotlib.lines.Line2D at 0x23e59ffb3d0>,\n",
       " <matplotlib.lines.Line2D at 0x23e59ffb7d0>,\n",
       " <matplotlib.lines.Line2D at 0x23e59ffbbd0>,\n",
       " <matplotlib.lines.Line2D at 0x23e5a4a3f90>,\n",
       " <matplotlib.lines.Line2D at 0x23e59f28390>,\n",
       " <matplotlib.lines.Line2D at 0x23e5a520750>,\n",
       " <matplotlib.lines.Line2D at 0x23e5a4e8ad0>,\n",
       " <matplotlib.lines.Line2D at 0x23e59fd8c90>,\n",
       " <matplotlib.lines.Line2D at 0x23e5a4e9210>,\n",
       " <matplotlib.lines.Line2D at 0x23e5a4e9610>,\n",
       " <matplotlib.lines.Line2D at 0x23e5a4e99d0>,\n",
       " <matplotlib.lines.Line2D at 0x23e59fd9d50>,\n",
       " <matplotlib.lines.Line2D at 0x23e59f6a890>,\n",
       " <matplotlib.lines.Line2D at 0x23e59ffa450>,\n",
       " <matplotlib.lines.Line2D at 0x23e59ffa810>,\n",
       " <matplotlib.lines.Line2D at 0x23e59ffab90>,\n",
       " <matplotlib.lines.Line2D at 0x23e5a4eafd0>,\n",
       " <matplotlib.lines.Line2D at 0x23e5a4eb390>,\n",
       " <matplotlib.lines.Line2D at 0x23e5a4eb710>,\n",
       " <matplotlib.lines.Line2D at 0x23e5a4eb890>,\n",
       " <matplotlib.lines.Line2D at 0x23e5a4ebe10>,\n",
       " <matplotlib.lines.Line2D at 0x23e5a4e8110>,\n",
       " <matplotlib.lines.Line2D at 0x23e5a4e84d0>,\n",
       " <matplotlib.lines.Line2D at 0x23e5a508710>,\n",
       " <matplotlib.lines.Line2D at 0x23e5a508cd0>,\n",
       " <matplotlib.lines.Line2D at 0x23e5a509090>,\n",
       " <matplotlib.lines.Line2D at 0x23e5a509490>,\n",
       " <matplotlib.lines.Line2D at 0x23e5a509850>,\n",
       " <matplotlib.lines.Line2D at 0x23e59f29b90>,\n",
       " <matplotlib.lines.Line2D at 0x23e5a509fd0>,\n",
       " <matplotlib.lines.Line2D at 0x23e59f2a310>,\n",
       " <matplotlib.lines.Line2D at 0x23e59f6ae90>,\n",
       " <matplotlib.lines.Line2D at 0x23e5a50ab10>,\n",
       " <matplotlib.lines.Line2D at 0x23e5a50ae90>,\n",
       " <matplotlib.lines.Line2D at 0x23e5a50b010>,\n",
       " <matplotlib.lines.Line2D at 0x23e59ddbdd0>,\n",
       " <matplotlib.lines.Line2D at 0x23e5a50b9d0>,\n",
       " <matplotlib.lines.Line2D at 0x23e5a50bdd0>,\n",
       " <matplotlib.lines.Line2D at 0x23e59fd80d0>,\n",
       " <matplotlib.lines.Line2D at 0x23e5a4c0550>,\n",
       " <matplotlib.lines.Line2D at 0x23e43190090>,\n",
       " <matplotlib.lines.Line2D at 0x23e5a4c0cd0>,\n",
       " <matplotlib.lines.Line2D at 0x23e5a4c1050>,\n",
       " <matplotlib.lines.Line2D at 0x23e5a4c1410>,\n",
       " <matplotlib.lines.Line2D at 0x23e5a4b2010>,\n",
       " <matplotlib.lines.Line2D at 0x23e5a521250>,\n",
       " <matplotlib.lines.Line2D at 0x23e59f21e90>,\n",
       " <matplotlib.lines.Line2D at 0x23e5a4b2b10>,\n",
       " <matplotlib.lines.Line2D at 0x23e5a4c2650>,\n",
       " <matplotlib.lines.Line2D at 0x23e5a4c29d0>,\n",
       " <matplotlib.lines.Line2D at 0x23e59ffad90>,\n",
       " <matplotlib.lines.Line2D at 0x23e5a4c3110>,\n",
       " <matplotlib.lines.Line2D at 0x23e59fdb450>,\n",
       " <matplotlib.lines.Line2D at 0x23e5a4c3850>]"
      ]
     },
     "execution_count": 47,
     "metadata": {},
     "output_type": "execute_result"
    },
    {
     "data": {
      "application/vnd.jupyter.widget-view+json": {
       "model_id": "d4906147fa1a401f85b7dcbaac8befdf",
       "version_major": 2,
       "version_minor": 0
      },
      "image/png": "[encoded data removed]",
      "text/html": [
       "\n",
       "            <div style=\"display: inline-block;\">\n",
       "                <div class=\"jupyter-widgets widget-label\" style=\"text-align: center;\">\n",
       "                    Figure\n",
       "                </div>\n",
       "                <img src='data:image/png;base64,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' width=640.0/>\n",
       "            </div>\n",
       "        "
      ],
      "text/plain": [
       "Canvas(toolbar=Toolbar(toolitems=[('Home', 'Reset original view', 'home', 'home'), ('Back', 'Back to previous …"
      ]
     },
     "metadata": {},
     "output_type": "display_data"
    }
   ],
   "source": [
    "k = 1\n",
    "# Unpack the batch (assuming your dataset returns (inputs, targets))\n",
    "inputs, targets = batch\n",
    "input, target = inputs[k], targets[k]\n",
    "\n",
    "print(\"Inputs shape:\", input.shape)\n",
    "print(\"Targets shape:\", target.shape)\n",
    "\n",
    "output = model(input)\n",
    "\n",
    "print(\"Outputs shape:\", output.shape)\n",
    "target_reshaped = target.reshape(60, 100)\n",
    "target_original = target_reshaped.reshape(6000)\n",
    "target_original\n",
    "plt.close()\n",
    "plt.plot(target, label=\"Target\")"
   ]
  },
  {
   "cell_type": "markdown",
   "metadata": {},
   "source": [
    "## Hyperparameter Tuning"
   ]
  },
  {
   "cell_type": "code",
   "execution_count": 18,
   "metadata": {},
   "outputs": [
    {
     "name": "stderr",
     "output_type": "stream",
     "text": [
      "[I 2025-02-06 19:12:12,255] A new study created in memory with name: no-name-7d42ee83-9fce-41ff-9fab-897202957042\n",
      "[I 2025-02-06 19:14:22,773] Trial 0 finished with value: 1.4831497163893161 and parameters: {'hidden_size': 68, 'dropout': 0.2796572278236362, 'learning_rate': 0.004450825657499489, 'weight_decay': 0.00027124720064343276}. Best is trial 0 with value: 1.4831497163893161.\n",
      "[I 2025-02-06 19:27:39,277] Trial 1 finished with value: 1.6296354915066404 and parameters: {'hidden_size': 364, 'dropout': 0.49295518977565567, 'learning_rate': 0.006043435602079738, 'weight_decay': 0.007852530176627527}. Best is trial 0 with value: 1.4831497163893161.\n",
      "[I 2025-02-06 19:41:36,139] Trial 2 finished with value: 1.2608569962645957 and parameters: {'hidden_size': 365, 'dropout': 0.4004909576509085, 'learning_rate': 0.0006279622666646788, 'weight_decay': 4.0703178450966685e-06}. Best is trial 2 with value: 1.2608569962645957.\n",
      "[I 2025-02-06 19:49:44,332] Trial 3 finished with value: 1.377703879061068 and parameters: {'hidden_size': 239, 'dropout': 0.25523196879007115, 'learning_rate': 0.0006703771045299565, 'weight_decay': 0.005099303717934173}. Best is trial 2 with value: 1.2608569962645957.\n",
      "[I 2025-02-06 19:59:50,084] Trial 4 finished with value: 1.1867264117939336 and parameters: {'hidden_size': 291, 'dropout': 0.19364281664263827, 'learning_rate': 0.0006865318950616603, 'weight_decay': 1.5849743422819565e-06}. Best is trial 4 with value: 1.1867264117939336.\n",
      "[I 2025-02-06 20:14:45,558] Trial 5 finished with value: 1.5464739893741448 and parameters: {'hidden_size': 383, 'dropout': 0.35655891667507134, 'learning_rate': 0.0010791654331135444, 'weight_decay': 5.632642949339343e-05}. Best is trial 4 with value: 1.1867264117939336.\n",
      "[I 2025-02-06 20:31:39,532] Trial 6 finished with value: 1.4043266576548616 and parameters: {'hidden_size': 424, 'dropout': 0.29520839882397754, 'learning_rate': 0.007300116681659483, 'weight_decay': 4.820065222672352e-05}. Best is trial 4 with value: 1.1867264117939336.\n",
      "[I 2025-02-06 20:39:03,536] Trial 7 finished with value: 1.4162979017563524 and parameters: {'hidden_size': 234, 'dropout': 0.46828539530573987, 'learning_rate': 0.000471375248076495, 'weight_decay': 2.0284562509155787e-06}. Best is trial 4 with value: 1.1867264117939336.\n",
      "[I 2025-02-06 20:43:04,474] Trial 8 finished with value: 1.3916922780989551 and parameters: {'hidden_size': 131, 'dropout': 0.21130225823390503, 'learning_rate': 0.000350828989639619, 'weight_decay': 1.3582661220648346e-06}. Best is trial 4 with value: 1.1867264117939336.\n",
      "[I 2025-02-06 20:57:53,224] Trial 9 finished with value: 1.9863161643074811 and parameters: {'hidden_size': 388, 'dropout': 0.4444613271627782, 'learning_rate': 0.0010716334859724543, 'weight_decay': 2.531461240576309e-06}. Best is trial 4 with value: 1.1867264117939336.\n",
      "[I 2025-02-06 21:18:34,304] Trial 10 finished with value: 1.529993732409863 and parameters: {'hidden_size': 489, 'dropout': 0.11049420527530682, 'learning_rate': 0.00011266595362344224, 'weight_decay': 1.193351584073423e-05}. Best is trial 4 with value: 1.1867264117939336.\n",
      "[I 2025-02-06 21:29:40,660] Trial 11 finished with value: 1.5377962602738753 and parameters: {'hidden_size': 302, 'dropout': 0.39013183529719253, 'learning_rate': 0.0027042732533020235, 'weight_decay': 8.40764641904512e-06}. Best is trial 4 with value: 1.1867264117939336.\n",
      "[I 2025-02-06 21:40:25,698] Trial 12 finished with value: 1.1958037031882163 and parameters: {'hidden_size': 305, 'dropout': 0.17967831202687243, 'learning_rate': 0.00032028752144588294, 'weight_decay': 9.51476883274433e-06}. Best is trial 4 with value: 1.1867264117939336.\n",
      "[I 2025-02-06 21:50:19,079] Trial 13 finished with value: 1.4743621980808923 and parameters: {'hidden_size': 289, 'dropout': 0.16022997818880944, 'learning_rate': 0.0001975179404995467, 'weight_decay': 1.7194929239216046e-05}. Best is trial 4 with value: 1.1867264117939336.\n",
      "[I 2025-02-06 21:56:34,232] Trial 14 finished with value: 1.1908392258413893 and parameters: {'hidden_size': 202, 'dropout': 0.19540239888523192, 'learning_rate': 0.0020725605545255134, 'weight_decay': 1.183548786399151e-06}. Best is trial 4 with value: 1.1867264117939336.\n",
      "[I 2025-02-06 22:02:09,850] Trial 15 finished with value: 2.6620272131938667 and parameters: {'hidden_size': 178, 'dropout': 0.10459915553775946, 'learning_rate': 0.002079839100612295, 'weight_decay': 0.0007903261945980043}. Best is trial 4 with value: 1.1867264117939336.\n",
      "[I 2025-02-06 22:08:24,199] Trial 16 finished with value: 1.314391192587628 and parameters: {'hidden_size': 202, 'dropout': 0.23149704771438512, 'learning_rate': 0.0017466164994190212, 'weight_decay': 1.0082056428120592e-06}. Best is trial 4 with value: 1.1867264117939336.\n",
      "[I 2025-02-06 22:12:32,849] Trial 17 finished with value: 1.4090086134088038 and parameters: {'hidden_size': 134, 'dropout': 0.1664708024501188, 'learning_rate': 0.0015166432904652127, 'weight_decay': 0.0004097597924542043}. Best is trial 4 with value: 1.1867264117939336.\n",
      "[I 2025-02-06 22:20:47,639] Trial 18 finished with value: 1.6273238800042666 and parameters: {'hidden_size': 245, 'dropout': 0.33362628620588053, 'learning_rate': 0.002740754383402328, 'weight_decay': 3.0497066268778455e-05}. Best is trial 4 with value: 1.1867264117939336.\n",
      "[I 2025-02-06 22:25:21,458] Trial 19 finished with value: 1.5643321734838433 and parameters: {'hidden_size': 147, 'dropout': 0.19898091761926945, 'learning_rate': 0.004020581737269553, 'weight_decay': 4.967307145055633e-06}. Best is trial 4 with value: 1.1867264117939336.\n",
      "[I 2025-02-06 22:37:02,847] Trial 20 finished with value: 1.3680042901465406 and parameters: {'hidden_size': 327, 'dropout': 0.14121203979528804, 'learning_rate': 0.00019552987284017213, 'weight_decay': 0.0023975786578493323}. Best is trial 4 with value: 1.1867264117939336.\n",
      "[I 2025-02-06 22:45:53,470] Trial 21 finished with value: 1.5243521167848115 and parameters: {'hidden_size': 264, 'dropout': 0.19135096425878514, 'learning_rate': 0.0003027092096832405, 'weight_decay': 5.036806914431397e-06}. Best is trial 4 with value: 1.1867264117939336.\n",
      "[I 2025-02-06 22:57:35,292] Trial 22 finished with value: 1.5703314289799801 and parameters: {'hidden_size': 329, 'dropout': 0.24576120326944453, 'learning_rate': 0.000764081514388741, 'weight_decay': 2.3474232023620535e-06}. Best is trial 4 with value: 1.1867264117939336.\n",
      "[I 2025-02-06 23:03:42,761] Trial 23 finished with value: 1.369413381209613 and parameters: {'hidden_size': 195, 'dropout': 0.14260601278802285, 'learning_rate': 0.0004085348926440025, 'weight_decay': 1.5759138930149353e-05}. Best is trial 4 with value: 1.1867264117939336.\n",
      "[I 2025-02-06 23:13:07,206] Trial 24 finished with value: 1.361975845324496 and parameters: {'hidden_size': 278, 'dropout': 0.18600871494103438, 'learning_rate': 0.00021988846989253168, 'weight_decay': 1.0468020471234891e-06}. Best is trial 4 with value: 1.1867264117939336.\n",
      "[I 2025-02-06 23:30:57,962] Trial 25 finished with value: 1.439107374645939 and parameters: {'hidden_size': 440, 'dropout': 0.2684794695979295, 'learning_rate': 0.00010378885108671855, 'weight_decay': 6.489923601041209e-06}. Best is trial 4 with value: 1.1867264117939336.\n",
      "[I 2025-02-06 23:42:32,997] Trial 26 finished with value: 1.3793749774410775 and parameters: {'hidden_size': 330, 'dropout': 0.22174650879093105, 'learning_rate': 0.0013756800666160363, 'weight_decay': 2.8854777607586505e-06}. Best is trial 4 with value: 1.1867264117939336.\n",
      "[I 2025-02-06 23:45:08,480] Trial 27 finished with value: 1.3442471728761982 and parameters: {'hidden_size': 88, 'dropout': 0.31833357949709085, 'learning_rate': 0.0006114630422983282, 'weight_decay': 0.00011840208200263025}. Best is trial 4 with value: 1.1867264117939336.\n",
      "[I 2025-02-06 23:52:32,323] Trial 28 finished with value: 2.021361284361896 and parameters: {'hidden_size': 233, 'dropout': 0.13005618991433382, 'learning_rate': 0.0009251902828206253, 'weight_decay': 2.7350667241296795e-05}. Best is trial 4 with value: 1.1867264117939336.\n",
      "[I 2025-02-06 23:54:55,797] Trial 29 finished with value: 1.3747405245166 and parameters: {'hidden_size': 75, 'dropout': 0.16575218713031473, 'learning_rate': 0.00028687650228158767, 'weight_decay': 1.946680281877131e-06}. Best is trial 4 with value: 1.1867264117939336.\n",
      "[I 2025-02-06 23:59:53,495] Trial 30 finished with value: 1.421878374541149 and parameters: {'hidden_size': 169, 'dropout': 0.2890679755560639, 'learning_rate': 0.0032986929509432376, 'weight_decay': 0.00011825709947222332}. Best is trial 4 with value: 1.1867264117939336.\n",
      "[I 2025-02-07 00:13:20,467] Trial 31 finished with value: 1.3190291822867926 and parameters: {'hidden_size': 360, 'dropout': 0.3954955521195662, 'learning_rate': 0.0005248569721903933, 'weight_decay': 4.183907582635691e-06}. Best is trial 4 with value: 1.1867264117939336.\n",
      "[I 2025-02-07 00:24:00,245] Trial 32 finished with value: 1.2703883833166971 and parameters: {'hidden_size': 310, 'dropout': 0.2330557200395165, 'learning_rate': 0.0008151687050746021, 'weight_decay': 8.850129185980588e-06}. Best is trial 4 with value: 1.1867264117939336.\n",
      "[I 2025-02-07 00:40:43,943] Trial 33 finished with value: 1.4980719494531305 and parameters: {'hidden_size': 423, 'dropout': 0.42615643576458045, 'learning_rate': 0.005386392209217655, 'weight_decay': 3.465636411965794e-06}. Best is trial 4 with value: 1.1867264117939336.\n",
      "[I 2025-02-07 00:53:58,099] Trial 34 finished with value: 1.2230548169582904 and parameters: {'hidden_size': 363, 'dropout': 0.3484978358927232, 'learning_rate': 0.0005947327829179757, 'weight_decay': 1.631361815308677e-06}. Best is trial 4 with value: 1.1867264117939336.\n",
      "[I 2025-02-07 01:07:07,741] Trial 35 finished with value: 1.3612183806929468 and parameters: {'hidden_size': 362, 'dropout': 0.35274076232536977, 'learning_rate': 0.0012215275512285175, 'weight_decay': 1.5353185137594975e-06}. Best is trial 4 with value: 1.1867264117939336.\n",
      "[I 2025-02-07 01:15:40,441] Trial 36 finished with value: 1.674701767355472 and parameters: {'hidden_size': 262, 'dropout': 0.2689722992911363, 'learning_rate': 0.0005905254847199388, 'weight_decay': 1.029057863621153e-06}. Best is trial 4 with value: 1.1867264117939336.\n",
      "[I 2025-02-07 01:30:51,832] Trial 37 finished with value: 1.143294748031732 and parameters: {'hidden_size': 401, 'dropout': 0.31159803520368773, 'learning_rate': 0.0004282581786099833, 'weight_decay': 3.0769712937166838e-06}. Best is trial 37 with value: 1.143294748031732.\n",
      "[I 2025-02-07 02:10:40,598] Trial 38 finished with value: 1.3947310707237044 and parameters: {'hidden_size': 504, 'dropout': 0.31242338218575777, 'learning_rate': 0.009306346334746435, 'weight_decay': 3.358049173318259e-06}. Best is trial 37 with value: 1.143294748031732.\n",
      "[I 2025-02-07 02:29:11,755] Trial 39 finished with value: 1.3920473868737293 and parameters: {'hidden_size': 453, 'dropout': 0.2583776435124376, 'learning_rate': 0.0002505860996226516, 'weight_decay': 7.002029634047581e-05}. Best is trial 37 with value: 1.143294748031732.\n",
      "[I 2025-02-07 02:36:00,821] Trial 40 finished with value: 1.4137555239971074 and parameters: {'hidden_size': 218, 'dropout': 0.21367530512133023, 'learning_rate': 0.0001427106108823811, 'weight_decay': 7.37559975536793e-06}. Best is trial 37 with value: 1.143294748031732.\n",
      "[I 2025-02-07 02:49:16,946] Trial 41 finished with value: 1.261903355422728 and parameters: {'hidden_size': 349, 'dropout': 0.3225831104140998, 'learning_rate': 0.00041586759967466176, 'weight_decay': 1.9255567115059455e-06}. Best is trial 37 with value: 1.143294748031732.\n",
      "[I 2025-02-07 03:03:59,401] Trial 42 finished with value: 1.3187062183802933 and parameters: {'hidden_size': 392, 'dropout': 0.36465954265380257, 'learning_rate': 0.00037121332090870885, 'weight_decay': 1.4870008495012522e-06}. Best is trial 37 with value: 1.143294748031732.\n",
      "[I 2025-02-07 03:19:20,458] Trial 43 finished with value: 1.3289466678076394 and parameters: {'hidden_size': 402, 'dropout': 0.3658789086881166, 'learning_rate': 0.0006957000046275352, 'weight_decay': 2.6521369751136786e-06}. Best is trial 37 with value: 1.143294748031732.\n",
      "[I 2025-02-07 03:29:10,012] Trial 44 finished with value: 1.321812079639719 and parameters: {'hidden_size': 296, 'dropout': 0.29273376188803335, 'learning_rate': 0.00046776192919060973, 'weight_decay': 1.1682795339198051e-05}. Best is trial 37 with value: 1.143294748031732.\n",
      "[I 2025-02-07 03:43:07,841] Trial 45 finished with value: 1.3567763275603104 and parameters: {'hidden_size': 375, 'dropout': 0.337402971476798, 'learning_rate': 0.0020772807591206144, 'weight_decay': 1.5445614624735244e-06}. Best is trial 37 with value: 1.143294748031732.\n",
      "[I 2025-02-07 04:03:11,278] Trial 46 finished with value: 2.8648619529281962 and parameters: {'hidden_size': 473, 'dropout': 0.18259655907079123, 'learning_rate': 0.0009763869608333691, 'weight_decay': 4.586976992176073e-06}. Best is trial 37 with value: 1.143294748031732.\n",
      "[I 2025-02-07 04:18:45,597] Trial 47 finished with value: 1.2158096700830983 and parameters: {'hidden_size': 404, 'dropout': 0.48242513216182703, 'learning_rate': 0.0003052938593739495, 'weight_decay': 2.166093795510628e-05}. Best is trial 37 with value: 1.143294748031732.\n",
      "[I 2025-02-07 04:28:09,551] Trial 48 finished with value: 1.1502202582803287 and parameters: {'hidden_size': 274, 'dropout': 0.4945340206702563, 'learning_rate': 0.0003079644372180521, 'weight_decay': 2.201519817682633e-05}. Best is trial 37 with value: 1.143294748031732.\n",
      "[I 2025-02-07 04:36:49,830] Trial 49 finished with value: 1.2319097618773935 and parameters: {'hidden_size': 265, 'dropout': 0.12295355744311892, 'learning_rate': 0.000490180711722974, 'weight_decay': 1.2136144612825782e-05}. Best is trial 37 with value: 1.143294748031732.\n",
      "[I 2025-02-07 04:43:30,980] Trial 50 finished with value: 1.380485304281047 and parameters: {'hidden_size': 217, 'dropout': 0.441677797307589, 'learning_rate': 0.00015219029318168988, 'weight_decay': 4.902867494774783e-05}. Best is trial 37 with value: 1.143294748031732.\n",
      "[I 2025-02-07 04:59:39,661] Trial 51 finished with value: 1.7510233364657815 and parameters: {'hidden_size': 418, 'dropout': 0.49166908881276383, 'learning_rate': 0.0003169360339278325, 'weight_decay': 2.4680278305992622e-05}. Best is trial 37 with value: 1.143294748031732.\n",
      "[I 2025-02-07 05:10:33,841] Trial 52 finished with value: 1.3960905238655288 and parameters: {'hidden_size': 309, 'dropout': 0.4866347055191302, 'learning_rate': 0.0002622905398293453, 'weight_decay': 2.0923532619115224e-05}. Best is trial 37 with value: 1.143294748031732.\n",
      "[I 2025-02-07 05:22:38,006] Trial 53 finished with value: 1.6777779815500564 and parameters: {'hidden_size': 338, 'dropout': 0.45409433389287956, 'learning_rate': 0.00016381515944061264, 'weight_decay': 3.199161609948116e-05}. Best is trial 37 with value: 1.143294748031732.\n",
      "[I 2025-02-07 05:30:25,963] Trial 54 finished with value: 1.3314066529314943 and parameters: {'hidden_size': 241, 'dropout': 0.41807421625982044, 'learning_rate': 0.00022119536868029727, 'weight_decay': 6.2271826994985275e-06}. Best is trial 37 with value: 1.143294748031732.\n",
      "[I 2025-02-07 05:40:01,968] Trial 55 finished with value: 1.3223265847053625 and parameters: {'hidden_size': 283, 'dropout': 0.4667966970923503, 'learning_rate': 0.0003540746339929561, 'weight_decay': 0.00020538614756887265}. Best is trial 37 with value: 1.143294748031732.\n",
      "[I 2025-02-07 05:43:25,085] Trial 56 finished with value: 1.3303418512779486 and parameters: {'hidden_size': 111, 'dropout': 0.20537376397545049, 'learning_rate': 0.00039089650305699976, 'weight_decay': 1.0033974343019895e-05}. Best is trial 37 with value: 1.143294748031732.\n",
      "[I 2025-02-07 05:48:40,493] Trial 57 finished with value: 1.455707084802486 and parameters: {'hidden_size': 170, 'dropout': 0.4743946076802414, 'learning_rate': 0.0003349549501872126, 'weight_decay': 1.8005105764306175e-05}. Best is trial 37 with value: 1.143294748031732.\n",
      "[I 2025-02-07 05:59:58,765] Trial 58 finished with value: 1.4071418239489901 and parameters: {'hidden_size': 317, 'dropout': 0.17826608646791003, 'learning_rate': 0.0001897518291034035, 'weight_decay': 8.4475149435852e-05}. Best is trial 37 with value: 1.143294748031732.\n",
      "[I 2025-02-07 06:19:16,652] Trial 59 finished with value: 2.992252331606172 and parameters: {'hidden_size': 462, 'dropout': 0.499596999849549, 'learning_rate': 0.0004412834745592446, 'weight_decay': 5.5052365377444955e-06}. Best is trial 37 with value: 1.143294748031732.\n"
     ]
    },
    {
     "name": "stdout",
     "output_type": "stream",
     "text": [
      "Best trial:\n",
      "  Validation Loss: 1.1433\n",
      "  Params: {'hidden_size': 401, 'dropout': 0.31159803520368773, 'learning_rate': 0.0004282581786099833, 'weight_decay': 3.0769712937166838e-06}\n"
     ]
    }
   ],
   "source": [
    "import optuna\n",
    "import torch\n",
    "import torch.nn as nn\n",
    "import torch.optim as optim\n",
    "from torch.utils.data import DataLoader, Subset\n",
    "from sklearn.model_selection import KFold\n",
    "\n",
    "# Your dataset should be defined before running Optuna\n",
    "dataset = ...  # Your dataset should be a PyTorch Dataset object\n",
    "device = torch.device(\"cuda\" if torch.cuda.is_available() else \"cpu\")\n",
    "\n",
    "# **Step 1: Define K-Fold Cross-Validation**\n",
    "def get_kfold_splits(dataset, k=3):\n",
    "    \"\"\"\n",
    "    Splits dataset into k folds for cross-validation.\n",
    "    \"\"\"\n",
    "    kf = KFold(n_splits=k, shuffle=True, random_state=42)\n",
    "    indices = list(range(len(dataset)))\n",
    "    return [(list(train_idx), list(val_idx)) for train_idx, val_idx in kf.split(indices)]\n",
    "\n",
    "# **Step 2: Define Optuna Objective Function**\n",
    "def objective(trial):\n",
    "    \"\"\"\n",
    "    Objective function for Optuna hyperparameter tuning with K-Fold cross-validation.\n",
    "    \"\"\"\n",
    "    # **Suggest Hyperparameters**\n",
    "    hidden_size = trial.suggest_int(\"hidden_size\", 64, 512)\n",
    "    num_layers = 2\n",
    "    dropout = trial.suggest_float(\"dropout\", 0.1, 0.5)\n",
    "    learning_rate = trial.suggest_float(\"learning_rate\", 1e-4, 1e-2, log=True)\n",
    "    \n",
    "    # **Cross-Validation Setup**\n",
    "    k = 3  # Number of folds\n",
    "    path = r'C:\\Users\\Max Tost\\Desktop\\Notebooks\\SPC Neural Network Project\\Training_data'\n",
    "    features_list = os.listdir(os.path.join(path, r'features'))\n",
    "    # Loading the dataset for this fold\n",
    "    dataset = IndependentCSVDataset(path, features_list)\n",
    "    splits = get_kfold_splits(dataset, k)\n",
    "    fold_losses = []  # Store loss for each fold\n",
    "\n",
    "    for fold, (train_idx, val_idx) in enumerate(splits):\n",
    "        # print(f\"Training Fold {fold+1}/{k}\")\n",
    "        \n",
    "\n",
    "        # **Subset datasets for this fold**\n",
    "        train_subset = Subset(dataset, train_idx)\n",
    "        val_subset = Subset(dataset, val_idx)\n",
    "\n",
    "        feature_min, feature_max = compute_global_minmax(train_subset)\n",
    "\n",
    "        global_transform = GlobalMinMaxNormalize(feature_min, feature_max)\n",
    "        train_subset.dataset.transform = global_transform\n",
    "        val_subset.dataset.transform = global_transform  # Same transform to prevent data leakage\n",
    "\n",
    "        train_loader = DataLoader(train_subset, batch_size=32, shuffle=True, num_workers=0)\n",
    "        val_loader = DataLoader(val_subset, batch_size=32, shuffle=False, num_workers=0)\n",
    "\n",
    "\n",
    "        # **Create LSTM Model**\n",
    "        model = LSTMModel(input_size=600, hidden_size=hidden_size, num_layers=num_layers, output_size=100, dropout=dropout)\n",
    "        model.to(device)\n",
    "\n",
    "        # **Loss & Optimizer**\n",
    "        criterion = nn.BCEWithLogitsLoss(pos_weight=compute_class_weights(train_loader))\n",
    "        optimizer = optim.Adam(\n",
    "            model.parameters(),\n",
    "            lr=learning_rate,\n",
    "            weight_decay=trial.suggest_float(\"weight_decay\", 1e-6, 1e-2, log=True)\n",
    "        )\n",
    "\n",
    "        # **Training Loop**\n",
    "        num_epochs = 10\n",
    "        for epoch in range(num_epochs):\n",
    "            model.train()\n",
    "            for inputs, targets in train_loader:\n",
    "                inputs, targets = inputs.to(device), targets.to(device)\n",
    "\n",
    "                optimizer.zero_grad()\n",
    "                outputs = model(inputs)\n",
    "                loss = criterion(outputs, targets.float())\n",
    "                loss.backward()\n",
    "                optimizer.step()\n",
    "\n",
    "        # **Validation Loss for Fold**\n",
    "        model.eval()\n",
    "        val_loss = 0.0\n",
    "        total_samples = 0\n",
    "        with torch.no_grad():\n",
    "            for inputs, targets in val_loader:\n",
    "                inputs, targets = inputs.to(device), targets.to(device)\n",
    "\n",
    "                outputs = model(inputs).squeeze()\n",
    "                loss = criterion(outputs, targets.float())\n",
    "\n",
    "                val_loss += loss.item() * inputs.size(0)\n",
    "                total_samples += inputs.size(0)\n",
    "\n",
    "        avg_val_loss = val_loss / total_samples\n",
    "        fold_losses.append(avg_val_loss)\n",
    "\n",
    "    # **Return the mean validation loss across all folds**\n",
    "    mean_loss = sum(fold_losses) / len(fold_losses)\n",
    "    return mean_loss\n",
    "\n",
    "# **Step 3: Run Optuna Optimization**\n",
    "study = optuna.create_study(direction=\"minimize\")  # Minimize validation loss\n",
    "study.optimize(objective, n_trials=60)\n",
    "\n",
    "# **Step 4: Best Hyperparameters**\n",
    "print(\"Best trial:\")\n",
    "print(f\"  Validation Loss: {study.best_trial.value:.4f}\")\n",
    "print(\"  Params:\", study.best_trial.params)\n"
   ]
  },
  {
   "cell_type": "code",
   "execution_count": null,
   "metadata": {},
   "outputs": [],
   "source": [
    "# Bayesian optimization\n",
    "import BayesianOptimization as bo"
   ]
  },
  {
   "cell_type": "code",
   "execution_count": null,
   "metadata": {},
   "outputs": [],
   "source": []
  },
  {
   "cell_type": "code",
   "execution_count": 32,
   "metadata": {},
   "outputs": [
    {
     "name": "stdout",
     "output_type": "stream",
     "text": [
      "Test Loss: 8.1832\n",
      "F1 Score: 0.0170\n"
     ]
    }
   ],
   "source": [
    "import torch\n",
    "import torch.nn.functional as F\n",
    "from sklearn.metrics import f1_score\n",
    "\n",
    "def evaluate_test_metrics(model, test_loader, criterion, device, threshold=0.5):\n",
    "    \"\"\"\n",
    "    Evaluates the test loss, F1-score, and ROC-AUC of a trained model.\n",
    "\n",
    "    Parameters:\n",
    "    - model: The trained PyTorch model.\n",
    "    - test_loader: DataLoader for the test dataset.\n",
    "    - criterion: Loss function (e.g., nn.BCEWithLogitsLoss).\n",
    "    - device: The device ('cuda' or 'cpu').\n",
    "    - threshold: Decision threshold for binary classification (default=0.5).\n",
    "\n",
    "    Returns:\n",
    "    - Average test loss\n",
    "    - F1-score\n",
    "    - ROC-AUC score\n",
    "    \"\"\"\n",
    "    model.eval()  # Set model to evaluation mode\n",
    "    test_loss = 0.0\n",
    "    total_samples = 0\n",
    "    all_targets = []\n",
    "    all_predictions = []\n",
    "\n",
    "    with torch.no_grad():  # Disable gradient calculation for efficiency\n",
    "        for inputs, targets in test_loader:\n",
    "            inputs, targets = inputs.to(device), targets.to(device)  # Move data to device\n",
    "\n",
    "            # Forward pass\n",
    "            outputs = model(inputs)  # (batch_size, 6000) -> raw logits\n",
    "\n",
    "            # Compute loss\n",
    "            loss = criterion(outputs, targets)  # BCEWithLogitsLoss expects raw logits\n",
    "            test_loss += loss.item() * inputs.size(0)\n",
    "            total_samples += inputs.size(0)\n",
    "\n",
    "            # Convert logits to probabilities using Sigmoid\n",
    "            probs = torch.sigmoid(outputs)  # (batch_size, 6000) -> probabilities in [0,1]\n",
    "\n",
    "            # Apply threshold to get binary predictions\n",
    "            preds = (probs > threshold).int()  # Convert to 0 or 1\n",
    "\n",
    "            # Flatten for metric calculations\n",
    "            all_targets.extend(targets.cpu().numpy().flatten())  # Convert to 1D list\n",
    "            all_predictions.extend(preds.cpu().numpy().flatten())  # Convert to 1D list\n",
    "\n",
    "    # Compute average loss\n",
    "    avg_test_loss = test_loss / total_samples\n",
    "\n",
    "    # Compute F1-score\n",
    "    f1 = f1_score(all_targets, all_predictions, average='macro')\n",
    "\n",
    "    return avg_test_loss, f1\n",
    "\n",
    "# Example Usage:\n",
    "device = torch.device(\"cuda\" if torch.cuda.is_available() else \"cpu\")\n",
    "test_loss, test_f1 = evaluate_test_metrics(model, test_loader, criterion, device)\n",
    "\n",
    "print(f\"Test Loss: {test_loss:.4f}\")\n",
    "print(f\"F1 Score: {test_f1:.4f}\")\n"
   ]
  }
 ],
 "metadata": {
  "kernelspec": {
   "display_name": "Python 3 (ipykernel)",
   "language": "python",
   "name": "python3"
  },
  "language_info": {
   "codemirror_mode": {
    "name": "ipython",
    "version": 3
   },
   "file_extension": ".py",
   "mimetype": "text/x-python",
   "name": "python",
   "nbconvert_exporter": "python",
   "pygments_lexer": "ipython3",
   "version": "3.11.5"
  }
 },
 "nbformat": 4,
 "nbformat_minor": 2
}
