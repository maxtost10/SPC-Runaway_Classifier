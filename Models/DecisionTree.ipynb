{
 "cells": [
  {
   "cell_type": "code",
   "execution_count": 1,
   "metadata": {},
   "outputs": [],
   "source": [
    "import numpy as np\n",
    "import os\n",
    "import sys\n",
    "sys.path.append(r'C:\\Users\\Max Tost\\Desktop\\Notebooks\\SPC Neural Network Project')\n",
    "from sklearn.datasets import load_iris\n",
    "from sklearn.model_selection import train_test_split\n",
    "from sklearn.metrics import accuracy_score\n",
    "import xgboost as xgb\n",
    "import matplotlib.pyplot as plt # for plotting\n",
    "import seaborn as sns # for plotting\n",
    "import pandas as pd # for data manipulation\n",
    "from Models.load_data import *\n",
    "\n",
    "%load_ext autoreload\n",
    "%autoreload 2"
   ]
  },
  {
   "cell_type": "code",
   "execution_count": 4,
   "metadata": {},
   "outputs": [],
   "source": [
    "# Load the Iris dataset\n",
    "iris = load_iris()\n",
    "X = iris.data  # Features\n",
    "y = iris.target  # Labels\n",
    "\n",
    "# Split the dataset into training and testing sets\n",
    "X_train, X_test, y_train, y_test = train_test_split(X, y, test_size=0.2, random_state=42)\n"
   ]
  },
  {
   "cell_type": "code",
   "execution_count": 2,
   "metadata": {},
   "outputs": [
    {
     "name": "stdout",
     "output_type": "stream",
     "text": [
      "Key ECE_PF not in JETno100176.csv. Filling it with zeros.\n",
      "Key RNT not in JETno100184.csv. Filling it with zeros.\n",
      "Key ECE_PF not in JETno100198.csv. Filling it with zeros.\n",
      "Key RNT not in JETno100228.csv. Filling it with zeros.\n",
      "Key ECE_PF not in JETno100535.csv. Filling it with zeros.\n",
      "Key DAI_EDG7 not in JETno80609.csv. Filling it with zeros.\n",
      "Key DAI_EDG7 not in JETno80848.csv. Filling it with zeros.\n",
      "Key DAI_EDG7 not in JETno80853.csv. Filling it with zeros.\n",
      "Key DAI_EDG7 not in JETno81187.csv. Filling it with zeros.\n",
      "Key DAI_EDG7 not in JETno81568.csv. Filling it with zeros.\n",
      "Key DAI_EDG7 not in JETno81586.csv. Filling it with zeros.\n",
      "Key ECE_PF not in JETno81929.csv. Filling it with zeros.\n",
      "Key DAI_EDG7 not in JETno82017.csv. Filling it with zeros.\n",
      "Key DAI_EDG7 not in JETno82257.csv. Filling it with zeros.\n",
      "Key DAI_EDG7 not in JETno82466.csv. Filling it with zeros.\n",
      "Key ECE_PF not in JETno82811.csv. Filling it with zeros.\n",
      "Key DAI_EDG7 not in JETno82826.csv. Filling it with zeros.\n",
      "Key DAI_EDG7 not in JETno82874.csv. Filling it with zeros.\n",
      "Key ECE_PF not in JETno82874.csv. Filling it with zeros.\n",
      "Key ECE_PF not in JETno82963.csv. Filling it with zeros.\n",
      "Key DAI_EDG7 not in JETno83143.csv. Filling it with zeros.\n",
      "Key DAI_EDG7 not in JETno83235.csv. Filling it with zeros.\n",
      "Key DAI_EDG7 not in JETno83611.csv. Filling it with zeros.\n",
      "Key RNT not in JETno83619.csv. Filling it with zeros.\n",
      "Key RNT not in JETno84142.csv. Filling it with zeros.\n",
      "Key ECE_PF not in JETno84142.csv. Filling it with zeros.\n",
      "Key RNT not in JETno84165.csv. Filling it with zeros.\n",
      "Key DAO_EDG7 not in JETno85548.csv. Filling it with zeros.\n",
      "Key DAI_EDG7 not in JETno85548.csv. Filling it with zeros.\n",
      "Key ECE_PF not in JETno85548.csv. Filling it with zeros.\n",
      "Key RNT not in JETno85605.csv. Filling it with zeros.\n",
      "Key DAI_EDG7 not in JETno85824.csv. Filling it with zeros.\n",
      "Key ECE_PF not in JETno86337.csv. Filling it with zeros.\n",
      "Key RNT not in JETno86670.csv. Filling it with zeros.\n",
      "Key RNT not in JETno89081.csv. Filling it with zeros.\n",
      "Key ECE_PF not in JETno89214.csv. Filling it with zeros.\n",
      "Key RNT not in JETno89317.csv. Filling it with zeros.\n",
      "Key ECE_PF not in JETno89421.csv. Filling it with zeros.\n",
      "Key ECE_PF not in JETno89439.csv. Filling it with zeros.\n",
      "Key ECE_PF not in JETno89744.csv. Filling it with zeros.\n",
      "Key RNT not in JETno89795.csv. Filling it with zeros.\n",
      "Key ECE_PF not in JETno90644.csv. Filling it with zeros.\n",
      "Key ECE_PF not in JETno91888.csv. Filling it with zeros.\n",
      "Key RNT not in JETno94219.csv. Filling it with zeros.\n",
      "Key ECE_PF not in JETno94357.csv. Filling it with zeros.\n",
      "Key RNT not in JETno94450.csv. Filling it with zeros.\n",
      "Key ECE_PF not in JETno94496.csv. Filling it with zeros.\n",
      "Key ECE_PF not in JETno94507.csv. Filling it with zeros.\n",
      "Key RNT not in JETno94586.csv. Filling it with zeros.\n",
      "Key ECE_PF not in JETno94633.csv. Filling it with zeros.\n",
      "Key ECE_PF not in JETno94680.csv. Filling it with zeros.\n",
      "Key RNT not in JETno95072.csv. Filling it with zeros.\n",
      "Key ECE_PF not in JETno95136.csv. Filling it with zeros.\n",
      "Key ECE_PF not in JETno95205.csv. Filling it with zeros.\n",
      "Key ECE_PF not in JETno95360.csv. Filling it with zeros.\n",
      "Key ECE_PF not in JETno95867.csv. Filling it with zeros.\n",
      "Key IPLA not in JETno95927.csv. Filling it with zeros.\n",
      "Key ECE_PF not in JETno95986.csv. Filling it with zeros.\n",
      "Key ECE_PF not in JETno96002.csv. Filling it with zeros.\n",
      "Key RNT not in JETno96912.csv. Filling it with zeros.\n",
      "Key ECE_PF not in JETno97441.csv. Filling it with zeros.\n",
      "Key RNT not in JETno97561.csv. Filling it with zeros.\n",
      "Key DAO_EDG7 not in JETno97683.csv. Filling it with zeros.\n",
      "Key DAI_EDG7 not in JETno97683.csv. Filling it with zeros.\n",
      "Key RNT not in JETno97986.csv. Filling it with zeros.\n",
      "Key ECE_PF not in JETno98083.csv. Filling it with zeros.\n",
      "Key RNT not in JETno98938.csv. Filling it with zeros.\n",
      "Key ECE_PF not in JETno98982.csv. Filling it with zeros.\n",
      "Key ECE_PF not in JETno99010.csv. Filling it with zeros.\n",
      "Key RNT not in JETno99134.csv. Filling it with zeros.\n",
      "Key ECE_PF not in JETno99138.csv. Filling it with zeros.\n",
      "Key DAO_EDG7 not in JETno99243.csv. Filling it with zeros.\n",
      "Key DAI_EDG7 not in JETno99243.csv. Filling it with zeros.\n",
      "Key ECE_PF not in JETno99275.csv. Filling it with zeros.\n",
      "Key RNT not in JETno99738.csv. Filling it with zeros.\n",
      "Key RNT not in JETno99751.csv. Filling it with zeros.\n",
      "Key RNT not in JETno99776.csv. Filling it with zeros.\n",
      "Key RNT not in JETno99868.csv. Filling it with zeros.\n",
      "Combined features shape: (1800004, 6)\n",
      "Combined targets shape: (1800004,)\n"
     ]
    }
   ],
   "source": [
    "path = r'C:\\Users\\Max Tost\\Desktop\\Notebooks\\SPC Neural Network Project\\Training_data'\n",
    "features_list = os.listdir(os.path.join(path, r'features'))\n",
    "\n",
    "# Replace 'path' and 'features_list' with your actual base path and list of feature file names.\n",
    "X, y = load_all_data(path, features_list)\n",
    "\n",
    "print(\"Combined features shape:\", X.shape)\n",
    "print(\"Combined targets shape:\", y.shape)"
   ]
  },
  {
   "cell_type": "code",
   "execution_count": 3,
   "metadata": {},
   "outputs": [],
   "source": [
    "X_train, X_test, y_train, y_test = train_test_split(X, y, test_size=0.2, random_state=42)"
   ]
  },
  {
   "cell_type": "code",
   "execution_count": 9,
   "metadata": {},
   "outputs": [],
   "source": [
    "features_sequence = ['SSXcore', 'IPLA', 'DAO_EDG7', 'RNT', 'DAI_EDG7', 'ECE_PF']\n",
    "\n",
    "data = pd.DataFrame(X, columns=features_sequence)\n",
    "data['label']=y\n",
    "data['label'] = data['label'].map({0: 'No RE', 1: 'RE'})"
   ]
  },
  {
   "cell_type": "code",
   "execution_count": null,
   "metadata": {},
   "outputs": [
    {
     "ename": "KeyboardInterrupt",
     "evalue": "",
     "output_type": "error",
     "traceback": [
      "\u001b[1;31m---------------------------------------------------------------------------\u001b[0m",
      "\u001b[1;31mKeyboardInterrupt\u001b[0m                         Traceback (most recent call last)",
      "Cell \u001b[1;32mIn[89], line 1\u001b[0m\n\u001b[1;32m----> 1\u001b[0m sns\u001b[38;5;241m.\u001b[39mpairplot(data, hue\u001b[38;5;241m=\u001b[39m\u001b[38;5;124m'\u001b[39m\u001b[38;5;124mlabel\u001b[39m\u001b[38;5;124m'\u001b[39m)\n\u001b[0;32m      2\u001b[0m plt\u001b[38;5;241m.\u001b[39mshow()\n",
      "File \u001b[1;32m~\\anaconda3\\Lib\\site-packages\\seaborn\\axisgrid.py:2158\u001b[0m, in \u001b[0;36mpairplot\u001b[1;34m(data, hue, hue_order, palette, vars, x_vars, y_vars, kind, diag_kind, markers, height, aspect, corner, dropna, plot_kws, diag_kws, grid_kws, size)\u001b[0m\n\u001b[0;32m   2156\u001b[0m \u001b[38;5;28;01mif\u001b[39;00m kind \u001b[38;5;241m==\u001b[39m \u001b[38;5;124m\"\u001b[39m\u001b[38;5;124mscatter\u001b[39m\u001b[38;5;124m\"\u001b[39m:\n\u001b[0;32m   2157\u001b[0m     \u001b[38;5;28;01mfrom\u001b[39;00m \u001b[38;5;21;01m.\u001b[39;00m\u001b[38;5;21;01mrelational\u001b[39;00m \u001b[38;5;28;01mimport\u001b[39;00m scatterplot  \u001b[38;5;66;03m# Avoid circular import\u001b[39;00m\n\u001b[1;32m-> 2158\u001b[0m     plotter(scatterplot, \u001b[38;5;241m*\u001b[39m\u001b[38;5;241m*\u001b[39mplot_kws)\n\u001b[0;32m   2159\u001b[0m \u001b[38;5;28;01melif\u001b[39;00m kind \u001b[38;5;241m==\u001b[39m \u001b[38;5;124m\"\u001b[39m\u001b[38;5;124mreg\u001b[39m\u001b[38;5;124m\"\u001b[39m:\n\u001b[0;32m   2160\u001b[0m     \u001b[38;5;28;01mfrom\u001b[39;00m \u001b[38;5;21;01m.\u001b[39;00m\u001b[38;5;21;01mregression\u001b[39;00m \u001b[38;5;28;01mimport\u001b[39;00m regplot  \u001b[38;5;66;03m# Avoid circular import\u001b[39;00m\n",
      "File \u001b[1;32m~\\anaconda3\\Lib\\site-packages\\seaborn\\axisgrid.py:1419\u001b[0m, in \u001b[0;36mPairGrid.map_offdiag\u001b[1;34m(self, func, **kwargs)\u001b[0m\n\u001b[0;32m   1408\u001b[0m \u001b[38;5;250m\u001b[39m\u001b[38;5;124;03m\"\"\"Plot with a bivariate function on the off-diagonal subplots.\u001b[39;00m\n\u001b[0;32m   1409\u001b[0m \n\u001b[0;32m   1410\u001b[0m \u001b[38;5;124;03mParameters\u001b[39;00m\n\u001b[1;32m   (...)\u001b[0m\n\u001b[0;32m   1416\u001b[0m \n\u001b[0;32m   1417\u001b[0m \u001b[38;5;124;03m\"\"\"\u001b[39;00m\n\u001b[0;32m   1418\u001b[0m \u001b[38;5;28;01mif\u001b[39;00m \u001b[38;5;28mself\u001b[39m\u001b[38;5;241m.\u001b[39msquare_grid:\n\u001b[1;32m-> 1419\u001b[0m     \u001b[38;5;28mself\u001b[39m\u001b[38;5;241m.\u001b[39mmap_lower(func, \u001b[38;5;241m*\u001b[39m\u001b[38;5;241m*\u001b[39mkwargs)\n\u001b[0;32m   1420\u001b[0m     \u001b[38;5;28;01mif\u001b[39;00m \u001b[38;5;129;01mnot\u001b[39;00m \u001b[38;5;28mself\u001b[39m\u001b[38;5;241m.\u001b[39m_corner:\n\u001b[0;32m   1421\u001b[0m         \u001b[38;5;28mself\u001b[39m\u001b[38;5;241m.\u001b[39mmap_upper(func, \u001b[38;5;241m*\u001b[39m\u001b[38;5;241m*\u001b[39mkwargs)\n",
      "File \u001b[1;32m~\\anaconda3\\Lib\\site-packages\\seaborn\\axisgrid.py:1389\u001b[0m, in \u001b[0;36mPairGrid.map_lower\u001b[1;34m(self, func, **kwargs)\u001b[0m\n\u001b[0;32m   1378\u001b[0m \u001b[38;5;250m\u001b[39m\u001b[38;5;124;03m\"\"\"Plot with a bivariate function on the lower diagonal subplots.\u001b[39;00m\n\u001b[0;32m   1379\u001b[0m \n\u001b[0;32m   1380\u001b[0m \u001b[38;5;124;03mParameters\u001b[39;00m\n\u001b[1;32m   (...)\u001b[0m\n\u001b[0;32m   1386\u001b[0m \n\u001b[0;32m   1387\u001b[0m \u001b[38;5;124;03m\"\"\"\u001b[39;00m\n\u001b[0;32m   1388\u001b[0m indices \u001b[38;5;241m=\u001b[39m \u001b[38;5;28mzip\u001b[39m(\u001b[38;5;241m*\u001b[39mnp\u001b[38;5;241m.\u001b[39mtril_indices_from(\u001b[38;5;28mself\u001b[39m\u001b[38;5;241m.\u001b[39maxes, \u001b[38;5;241m-\u001b[39m\u001b[38;5;241m1\u001b[39m))\n\u001b[1;32m-> 1389\u001b[0m \u001b[38;5;28mself\u001b[39m\u001b[38;5;241m.\u001b[39m_map_bivariate(func, indices, \u001b[38;5;241m*\u001b[39m\u001b[38;5;241m*\u001b[39mkwargs)\n\u001b[0;32m   1390\u001b[0m \u001b[38;5;28;01mreturn\u001b[39;00m \u001b[38;5;28mself\u001b[39m\n",
      "File \u001b[1;32m~\\anaconda3\\Lib\\site-packages\\seaborn\\axisgrid.py:1568\u001b[0m, in \u001b[0;36mPairGrid._map_bivariate\u001b[1;34m(self, func, indices, **kwargs)\u001b[0m\n\u001b[0;32m   1566\u001b[0m     \u001b[38;5;28;01mif\u001b[39;00m ax \u001b[38;5;129;01mis\u001b[39;00m \u001b[38;5;28;01mNone\u001b[39;00m:  \u001b[38;5;66;03m# i.e. we are in corner mode\u001b[39;00m\n\u001b[0;32m   1567\u001b[0m         \u001b[38;5;28;01mcontinue\u001b[39;00m\n\u001b[1;32m-> 1568\u001b[0m     \u001b[38;5;28mself\u001b[39m\u001b[38;5;241m.\u001b[39m_plot_bivariate(x_var, y_var, ax, func, \u001b[38;5;241m*\u001b[39m\u001b[38;5;241m*\u001b[39mkws)\n\u001b[0;32m   1569\u001b[0m \u001b[38;5;28mself\u001b[39m\u001b[38;5;241m.\u001b[39m_add_axis_labels()\n\u001b[0;32m   1571\u001b[0m \u001b[38;5;28;01mif\u001b[39;00m \u001b[38;5;124m\"\u001b[39m\u001b[38;5;124mhue\u001b[39m\u001b[38;5;124m\"\u001b[39m \u001b[38;5;129;01min\u001b[39;00m signature(func)\u001b[38;5;241m.\u001b[39mparameters:\n",
      "File \u001b[1;32m~\\anaconda3\\Lib\\site-packages\\seaborn\\axisgrid.py:1609\u001b[0m, in \u001b[0;36mPairGrid._plot_bivariate\u001b[1;34m(self, x_var, y_var, ax, func, **kwargs)\u001b[0m\n\u001b[0;32m   1605\u001b[0m \u001b[38;5;28;01mif\u001b[39;00m \u001b[38;5;124m\"\u001b[39m\u001b[38;5;124mhue\u001b[39m\u001b[38;5;124m\"\u001b[39m \u001b[38;5;129;01mnot\u001b[39;00m \u001b[38;5;129;01min\u001b[39;00m kwargs:\n\u001b[0;32m   1606\u001b[0m     kwargs\u001b[38;5;241m.\u001b[39mupdate({\n\u001b[0;32m   1607\u001b[0m         \u001b[38;5;124m\"\u001b[39m\u001b[38;5;124mhue\u001b[39m\u001b[38;5;124m\"\u001b[39m: hue, \u001b[38;5;124m\"\u001b[39m\u001b[38;5;124mhue_order\u001b[39m\u001b[38;5;124m\"\u001b[39m: \u001b[38;5;28mself\u001b[39m\u001b[38;5;241m.\u001b[39m_hue_order, \u001b[38;5;124m\"\u001b[39m\u001b[38;5;124mpalette\u001b[39m\u001b[38;5;124m\"\u001b[39m: \u001b[38;5;28mself\u001b[39m\u001b[38;5;241m.\u001b[39m_orig_palette,\n\u001b[0;32m   1608\u001b[0m     })\n\u001b[1;32m-> 1609\u001b[0m func(x\u001b[38;5;241m=\u001b[39mx, y\u001b[38;5;241m=\u001b[39my, \u001b[38;5;241m*\u001b[39m\u001b[38;5;241m*\u001b[39mkwargs)\n\u001b[0;32m   1611\u001b[0m \u001b[38;5;28mself\u001b[39m\u001b[38;5;241m.\u001b[39m_update_legend_data(ax)\n",
      "File \u001b[1;32m~\\anaconda3\\Lib\\site-packages\\seaborn\\relational.py:761\u001b[0m, in \u001b[0;36mscatterplot\u001b[1;34m(data, x, y, hue, size, style, palette, hue_order, hue_norm, sizes, size_order, size_norm, markers, style_order, legend, ax, **kwargs)\u001b[0m\n\u001b[0;32m    758\u001b[0m color \u001b[38;5;241m=\u001b[39m kwargs\u001b[38;5;241m.\u001b[39mpop(\u001b[38;5;124m\"\u001b[39m\u001b[38;5;124mcolor\u001b[39m\u001b[38;5;124m\"\u001b[39m, \u001b[38;5;28;01mNone\u001b[39;00m)\n\u001b[0;32m    759\u001b[0m kwargs[\u001b[38;5;124m\"\u001b[39m\u001b[38;5;124mcolor\u001b[39m\u001b[38;5;124m\"\u001b[39m] \u001b[38;5;241m=\u001b[39m _default_color(ax\u001b[38;5;241m.\u001b[39mscatter, hue, color, kwargs)\n\u001b[1;32m--> 761\u001b[0m p\u001b[38;5;241m.\u001b[39mplot(ax, kwargs)\n\u001b[0;32m    763\u001b[0m \u001b[38;5;28;01mreturn\u001b[39;00m ax\n",
      "File \u001b[1;32m~\\anaconda3\\Lib\\site-packages\\seaborn\\relational.py:578\u001b[0m, in \u001b[0;36m_ScatterPlotter.plot\u001b[1;34m(self, ax, kws)\u001b[0m\n\u001b[0;32m    575\u001b[0m \u001b[38;5;66;03m# Apply the mapping from semantic variables to artist attributes\u001b[39;00m\n\u001b[0;32m    577\u001b[0m \u001b[38;5;28;01mif\u001b[39;00m \u001b[38;5;124m\"\u001b[39m\u001b[38;5;124mhue\u001b[39m\u001b[38;5;124m\"\u001b[39m \u001b[38;5;129;01min\u001b[39;00m \u001b[38;5;28mself\u001b[39m\u001b[38;5;241m.\u001b[39mvariables:\n\u001b[1;32m--> 578\u001b[0m     points\u001b[38;5;241m.\u001b[39mset_facecolors(\u001b[38;5;28mself\u001b[39m\u001b[38;5;241m.\u001b[39m_hue_map(data[\u001b[38;5;124m\"\u001b[39m\u001b[38;5;124mhue\u001b[39m\u001b[38;5;124m\"\u001b[39m]))\n\u001b[0;32m    580\u001b[0m \u001b[38;5;28;01mif\u001b[39;00m \u001b[38;5;124m\"\u001b[39m\u001b[38;5;124msize\u001b[39m\u001b[38;5;124m\"\u001b[39m \u001b[38;5;129;01min\u001b[39;00m \u001b[38;5;28mself\u001b[39m\u001b[38;5;241m.\u001b[39mvariables:\n\u001b[0;32m    581\u001b[0m     points\u001b[38;5;241m.\u001b[39mset_sizes(\u001b[38;5;28mself\u001b[39m\u001b[38;5;241m.\u001b[39m_size_map(data[\u001b[38;5;124m\"\u001b[39m\u001b[38;5;124msize\u001b[39m\u001b[38;5;124m\"\u001b[39m]))\n",
      "File \u001b[1;32m~\\anaconda3\\Lib\\site-packages\\matplotlib\\_api\\__init__.py:256\u001b[0m, in \u001b[0;36mdefine_aliases.<locals>.make_alias.<locals>.method\u001b[1;34m(self, *args, **kwargs)\u001b[0m\n\u001b[0;32m    254\u001b[0m \u001b[38;5;129m@functools\u001b[39m\u001b[38;5;241m.\u001b[39mwraps(\u001b[38;5;28mgetattr\u001b[39m(\u001b[38;5;28mcls\u001b[39m, name))\n\u001b[0;32m    255\u001b[0m \u001b[38;5;28;01mdef\u001b[39;00m \u001b[38;5;21mmethod\u001b[39m(\u001b[38;5;28mself\u001b[39m, \u001b[38;5;241m*\u001b[39margs, \u001b[38;5;241m*\u001b[39m\u001b[38;5;241m*\u001b[39mkwargs):\n\u001b[1;32m--> 256\u001b[0m     \u001b[38;5;28;01mreturn\u001b[39;00m \u001b[38;5;28mgetattr\u001b[39m(\u001b[38;5;28mself\u001b[39m, name)(\u001b[38;5;241m*\u001b[39margs, \u001b[38;5;241m*\u001b[39m\u001b[38;5;241m*\u001b[39mkwargs)\n",
      "File \u001b[1;32m~\\anaconda3\\Lib\\site-packages\\matplotlib\\collections.py:751\u001b[0m, in \u001b[0;36mCollection.set_facecolor\u001b[1;34m(self, c)\u001b[0m\n\u001b[0;32m    749\u001b[0m     c \u001b[38;5;241m=\u001b[39m c\u001b[38;5;241m.\u001b[39mlower()\n\u001b[0;32m    750\u001b[0m \u001b[38;5;28mself\u001b[39m\u001b[38;5;241m.\u001b[39m_original_facecolor \u001b[38;5;241m=\u001b[39m c\n\u001b[1;32m--> 751\u001b[0m \u001b[38;5;28mself\u001b[39m\u001b[38;5;241m.\u001b[39m_set_facecolor(c)\n",
      "File \u001b[1;32m~\\anaconda3\\Lib\\site-packages\\matplotlib\\collections.py:733\u001b[0m, in \u001b[0;36mCollection._set_facecolor\u001b[1;34m(self, c)\u001b[0m\n\u001b[0;32m    730\u001b[0m \u001b[38;5;28;01mif\u001b[39;00m c \u001b[38;5;129;01mis\u001b[39;00m \u001b[38;5;28;01mNone\u001b[39;00m:\n\u001b[0;32m    731\u001b[0m     c \u001b[38;5;241m=\u001b[39m \u001b[38;5;28mself\u001b[39m\u001b[38;5;241m.\u001b[39m_get_default_facecolor()\n\u001b[1;32m--> 733\u001b[0m \u001b[38;5;28mself\u001b[39m\u001b[38;5;241m.\u001b[39m_facecolors \u001b[38;5;241m=\u001b[39m mcolors\u001b[38;5;241m.\u001b[39mto_rgba_array(c, \u001b[38;5;28mself\u001b[39m\u001b[38;5;241m.\u001b[39m_alpha)\n\u001b[0;32m    734\u001b[0m \u001b[38;5;28mself\u001b[39m\u001b[38;5;241m.\u001b[39mstale \u001b[38;5;241m=\u001b[39m \u001b[38;5;28;01mTrue\u001b[39;00m\n",
      "File \u001b[1;32m~\\anaconda3\\Lib\\site-packages\\matplotlib\\colors.py:481\u001b[0m, in \u001b[0;36mto_rgba_array\u001b[1;34m(c, alpha)\u001b[0m\n\u001b[0;32m    479\u001b[0m lens \u001b[38;5;241m=\u001b[39m {\u001b[38;5;28mlen\u001b[39m(cc) \u001b[38;5;28;01mif\u001b[39;00m \u001b[38;5;28misinstance\u001b[39m(cc, (\u001b[38;5;28mlist\u001b[39m, \u001b[38;5;28mtuple\u001b[39m)) \u001b[38;5;28;01melse\u001b[39;00m \u001b[38;5;241m-\u001b[39m\u001b[38;5;241m1\u001b[39m \u001b[38;5;28;01mfor\u001b[39;00m cc \u001b[38;5;129;01min\u001b[39;00m c}\n\u001b[0;32m    480\u001b[0m \u001b[38;5;28;01mif\u001b[39;00m lens \u001b[38;5;241m==\u001b[39m {\u001b[38;5;241m3\u001b[39m}:\n\u001b[1;32m--> 481\u001b[0m     rgba \u001b[38;5;241m=\u001b[39m np\u001b[38;5;241m.\u001b[39mcolumn_stack([c, np\u001b[38;5;241m.\u001b[39mones(\u001b[38;5;28mlen\u001b[39m(c))])\n\u001b[0;32m    482\u001b[0m \u001b[38;5;28;01melif\u001b[39;00m lens \u001b[38;5;241m==\u001b[39m {\u001b[38;5;241m4\u001b[39m}:\n\u001b[0;32m    483\u001b[0m     rgba \u001b[38;5;241m=\u001b[39m np\u001b[38;5;241m.\u001b[39marray(c)\n",
      "File \u001b[1;32m~\\anaconda3\\Lib\\site-packages\\numpy\\lib\\shape_base.py:651\u001b[0m, in \u001b[0;36mcolumn_stack\u001b[1;34m(tup)\u001b[0m\n\u001b[0;32m    649\u001b[0m     \u001b[38;5;28;01mif\u001b[39;00m arr\u001b[38;5;241m.\u001b[39mndim \u001b[38;5;241m<\u001b[39m \u001b[38;5;241m2\u001b[39m:\n\u001b[0;32m    650\u001b[0m         arr \u001b[38;5;241m=\u001b[39m array(arr, copy\u001b[38;5;241m=\u001b[39m\u001b[38;5;28;01mFalse\u001b[39;00m, subok\u001b[38;5;241m=\u001b[39m\u001b[38;5;28;01mTrue\u001b[39;00m, ndmin\u001b[38;5;241m=\u001b[39m\u001b[38;5;241m2\u001b[39m)\u001b[38;5;241m.\u001b[39mT\n\u001b[1;32m--> 651\u001b[0m     arrays\u001b[38;5;241m.\u001b[39mappend(arr)\n\u001b[0;32m    652\u001b[0m \u001b[38;5;28;01mreturn\u001b[39;00m _nx\u001b[38;5;241m.\u001b[39mconcatenate(arrays, \u001b[38;5;241m1\u001b[39m)\n",
      "\u001b[1;31mKeyboardInterrupt\u001b[0m: "
     ]
    },
    {
     "name": "stdout",
     "output_type": "stream",
     "text": [
      "Error in callback <function _draw_all_if_interactive at 0x0000020BA0E57880> (for post_execute):\n"
     ]
    }
   ],
   "source": [
    "sns.pairplot(data, hue='label')\n",
    "plt.show()"
   ]
  },
  {
   "cell_type": "code",
   "execution_count": null,
   "metadata": {},
   "outputs": [],
   "source": []
  },
  {
   "cell_type": "code",
   "execution_count": 4,
   "metadata": {},
   "outputs": [],
   "source": [
    "from imblearn.over_sampling import SMOTE\n",
    "\n",
    "# Instantiate SMOTE with a fixed random_state for reproducibility\n",
    "smote = SMOTE(random_state=42)\n",
    "\n",
    "# Apply SMOTE only on the training data\n",
    "X_train_res, y_train_res = smote.fit_resample(X_train, y_train)"
   ]
  },
  {
   "cell_type": "code",
   "execution_count": 9,
   "metadata": {},
   "outputs": [
    {
     "data": {
      "text/plain": [
       "(1420571, 1420571)"
      ]
     },
     "execution_count": 9,
     "metadata": {},
     "output_type": "execute_result"
    }
   ],
   "source": [
    "len(np.where(y_train_res==1)[0]), len(np.where(y_train_res==0)[0])"
   ]
  },
  {
   "cell_type": "code",
   "execution_count": 11,
   "metadata": {},
   "outputs": [],
   "source": [
    "# Convert the data into DMatrix\n",
    "dtrain = xgb.DMatrix(X_train_res, label=y_train_res)\n",
    "dtest = xgb.DMatrix(X_test, label=y_test)"
   ]
  },
  {
   "cell_type": "code",
   "execution_count": 12,
   "metadata": {},
   "outputs": [],
   "source": [
    "# Set parameters for binary classification (with 6 features in your dataset)\n",
    "params = {\n",
    "    \"objective\": \"binary:logistic\",  # Binary classification using logistic regression\n",
    "    \"eval_metric\": \"logloss\",        # Evaluation metric suitable for binary classification\n",
    "    \"eta\": 0.3,                      # Learning rate\n",
    "    \"max_depth\": 4                   # Maximum tree depth\n",
    "}"
   ]
  },
  {
   "cell_type": "code",
   "execution_count": 13,
   "metadata": {},
   "outputs": [],
   "source": [
    "num_rounds = 100\n",
    "bst = xgb.train(params, dtrain, num_rounds)"
   ]
  },
  {
   "cell_type": "code",
   "execution_count": 15,
   "metadata": {},
   "outputs": [],
   "source": [
    "# Predict on the test set\n",
    "y_pred = bst.predict(dtest)\n",
    "\n",
    "# Convert predictions to integers\n",
    "y_pred = y_pred.astype(int)"
   ]
  },
  {
   "cell_type": "code",
   "execution_count": 16,
   "metadata": {},
   "outputs": [
    {
     "name": "stdout",
     "output_type": "stream",
     "text": [
      "Accuracy: 0.99\n"
     ]
    }
   ],
   "source": [
    "# Calculate accuracy\n",
    "accuracy = accuracy_score(y_test, y_pred)\n",
    "print(f\"Accuracy: {accuracy:.2f}\")\n",
    "#"
   ]
  },
  {
   "cell_type": "code",
   "execution_count": 17,
   "metadata": {},
   "outputs": [
    {
     "name": "stderr",
     "output_type": "stream",
     "text": [
      "C:\\Users\\Max Tost\\anaconda3\\Lib\\site-packages\\sklearn\\metrics\\_classification.py:1565: UndefinedMetricWarning: Precision is ill-defined and being set to 0.0 in labels with no predicted samples. Use `zero_division` parameter to control this behavior.\n",
      "  _warn_prf(average, modifier, f\"{metric.capitalize()} is\", len(result))\n",
      "C:\\Users\\Max Tost\\anaconda3\\Lib\\site-packages\\sklearn\\metrics\\_classification.py:1565: UndefinedMetricWarning: Precision is ill-defined and being set to 0.0 in labels with no predicted samples. Use `zero_division` parameter to control this behavior.\n",
      "  _warn_prf(average, modifier, f\"{metric.capitalize()} is\", len(result))\n"
     ]
    },
    {
     "name": "stdout",
     "output_type": "stream",
     "text": [
      "              precision    recall  f1-score   support\n",
      "\n",
      "         0.0       0.99      1.00      0.99    355047\n",
      "         1.0       0.00      0.00      0.00      4954\n",
      "\n",
      "    accuracy                           0.99    360001\n",
      "   macro avg       0.49      0.50      0.50    360001\n",
      "weighted avg       0.97      0.99      0.98    360001\n",
      "\n"
     ]
    },
    {
     "name": "stderr",
     "output_type": "stream",
     "text": [
      "C:\\Users\\Max Tost\\anaconda3\\Lib\\site-packages\\sklearn\\metrics\\_classification.py:1565: UndefinedMetricWarning: Precision is ill-defined and being set to 0.0 in labels with no predicted samples. Use `zero_division` parameter to control this behavior.\n",
      "  _warn_prf(average, modifier, f\"{metric.capitalize()} is\", len(result))\n"
     ]
    }
   ],
   "source": [
    "from sklearn.metrics import classification_report\n",
    "\n",
    "# Assuming you have predictions from your model\n",
    "print(classification_report(y_test, y_pred))"
   ]
  },
  {
   "cell_type": "code",
   "execution_count": null,
   "metadata": {},
   "outputs": [],
   "source": []
  }
 ],
 "metadata": {
  "kernelspec": {
   "display_name": "Python 3 (ipykernel)",
   "language": "python",
   "name": "python3"
  },
  "language_info": {
   "codemirror_mode": {
    "name": "ipython",
    "version": 3
   },
   "file_extension": ".py",
   "mimetype": "text/x-python",
   "name": "python",
   "nbconvert_exporter": "python",
   "pygments_lexer": "ipython3",
   "version": "3.11.5"
  }
 },
 "nbformat": 4,
 "nbformat_minor": 2
}
