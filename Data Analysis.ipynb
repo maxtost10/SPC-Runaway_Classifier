{
 "cells": [
  {
   "cell_type": "code",
   "execution_count": 1,
   "id": "03190fec",
   "metadata": {},
   "outputs": [],
   "source": [
    "import numpy as np\n",
    "import matplotlib.pyplot as plt\n",
    "import pandas as pd\n",
    "\n",
    "from load_json import *\n",
    "from PDF import *"
   ]
  },
  {
   "cell_type": "code",
   "execution_count": 2,
   "id": "7d52c34d",
   "metadata": {},
   "outputs": [],
   "source": [
    "# Loading disruption data\n",
    "path_disr = 'Data\\DB_TCV_DISR.json'\n",
    "data_disr = load_json(path_disr)"
   ]
  },
  {
   "cell_type": "code",
   "execution_count": 3,
   "id": "3de5cbdf",
   "metadata": {},
   "outputs": [],
   "source": [
    "# Loading shot data\n",
    "path_shot = 'Data\\TCV_DATAno63847.parquet'\n",
    "data_shot = pd.read_parquet(path_shot, engine='fastparquet')"
   ]
  },
  {
   "cell_type": "code",
   "execution_count": 4,
   "id": "729424b7",
   "metadata": {},
   "outputs": [
    {
     "data": {
      "text/plain": [
       "Index(['time', 'FIR_core', 'PD', 'DML', 'IP'], dtype='object')"
      ]
     },
     "execution_count": 4,
     "metadata": {},
     "output_type": "execute_result"
    }
   ],
   "source": [
    "t = data_shot['time']\n",
    "FIR_core = data_shot['FIR_core']\n",
    "PD = data_shot['PD']\n",
    "DML = data_shot['DML']\n",
    "IP = data_shot['IP']\n",
    "data_shot.keys()"
   ]
  },
  {
   "cell_type": "code",
   "execution_count": 5,
   "id": "0988e4bf",
   "metadata": {},
   "outputs": [
    {
     "data": {
      "text/plain": [
       "[0     6.571712e+18\n",
       " 1     6.633536e+18\n",
       " 2     6.653260e+18\n",
       " 3     6.652922e+18\n",
       " 4     6.639021e+18\n",
       " 5     6.674802e+18\n",
       " 6     6.731327e+18\n",
       " 7     6.721150e+18\n",
       " 8     6.680691e+18\n",
       " 9     6.786087e+18\n",
       " 10    6.797292e+18\n",
       " 11    6.788832e+18\n",
       " 12    6.816076e+18\n",
       " 13    6.895448e+18\n",
       " 14    6.894365e+18\n",
       " 15    6.924014e+18\n",
       " 16    7.061762e+18\n",
       " 17    6.981383e+18\n",
       " 18    6.989344e+18\n",
       " 19    6.964199e+18\n",
       " 20    6.977918e+18\n",
       " 21    7.021741e+18\n",
       " 22    6.998631e+18\n",
       " 23    7.003586e+18\n",
       " 24    7.030968e+18\n",
       " 25    6.979598e+18\n",
       " 26    7.058821e+18\n",
       " 27    6.976048e+18\n",
       " 28    6.848912e+18\n",
       " 29    6.684872e+18\n",
       " 30    6.609776e+18\n",
       " 31    6.625936e+18\n",
       " 32    6.617830e+18\n",
       " 33    6.358414e+18\n",
       " 34    6.305303e+18\n",
       " 35    6.320135e+18\n",
       " Name: FIR_core, dtype: float32,\n",
       " 36       6.314224e+18\n",
       " 37       6.208477e+18\n",
       " 38       6.099845e+18\n",
       " 39       5.883664e+18\n",
       " 40       5.832195e+18\n",
       "              ...     \n",
       " 17219    2.426994e+19\n",
       " 17220    2.442966e+19\n",
       " 17221    2.357740e+19\n",
       " 17222    2.402695e+19\n",
       " 17223    2.370883e+19\n",
       " Name: FIR_core, Length: 17188, dtype: float32,\n",
       " 17224    2.710138e+19\n",
       " 17225    2.731912e+19\n",
       " 17226    2.610667e+19\n",
       " 17227    2.586331e+19\n",
       " 17228    2.558274e+19\n",
       "              ...     \n",
       " 17315    7.063922e+16\n",
       " 17316    9.692222e+16\n",
       " 17317             NaN\n",
       " 17318             NaN\n",
       " 17319             NaN\n",
       " Name: FIR_core, Length: 96, dtype: float32]"
      ]
     },
     "execution_count": 5,
     "metadata": {},
     "output_type": "execute_result"
    }
   ],
   "source": [
    "Edward(FIR_core, t, [0.017399998807907102, 1.7362001192092895]) # Ramp up upper limit and disruption time, cpy pasted from below\n",
    "# To do next: The function clean data needs to be adapted such that also from the corresponding t array the values are removed"
   ]
  },
  {
   "cell_type": "code",
   "execution_count": null,
   "id": "81b46775",
   "metadata": {},
   "outputs": [],
   "source": []
  },
  {
   "cell_type": "code",
   "execution_count": null,
   "id": "049e6fb4",
   "metadata": {},
   "outputs": [],
   "source": []
  },
  {
   "cell_type": "code",
   "execution_count": null,
   "id": "a82f9829",
   "metadata": {},
   "outputs": [],
   "source": [
    "IP_segments = data_disr['no63847']['Discharge']['IP_segments']\n",
    "#print_dict_structure(IP_segments, 2)\n",
    "Ramp_up = IP_segments['Ramp_up']\n",
    "Flat_top = IP_segments['Flat_top']\n",
    "Ramp_down = IP_segments['Ramp_down']\n",
    "#plt.plot(Ramp_up)\n",
    "#plt.plot(Flat_top)\n",
    "#plt.plot(Ramp_down)"
   ]
  },
  {
   "cell_type": "code",
   "execution_count": null,
   "id": "a7eac0ba",
   "metadata": {},
   "outputs": [],
   "source": [
    "Ramp_up"
   ]
  },
  {
   "cell_type": "code",
   "execution_count": null,
   "id": "7d94da72",
   "metadata": {},
   "outputs": [],
   "source": [
    "Flat_top"
   ]
  },
  {
   "cell_type": "code",
   "execution_count": null,
   "id": "f5c3abbd",
   "metadata": {},
   "outputs": [],
   "source": [
    "Ramp_down"
   ]
  },
  {
   "cell_type": "code",
   "execution_count": null,
   "id": "1d5f98fe",
   "metadata": {},
   "outputs": [],
   "source": [
    "print_dict_structure(data_disr)"
   ]
  },
  {
   "cell_type": "code",
   "execution_count": null,
   "id": "dc69c739",
   "metadata": {},
   "outputs": [],
   "source": [
    "data_disr['no63847']['Disruptions']['tD']"
   ]
  },
  {
   "cell_type": "code",
   "execution_count": null,
   "id": "b7611312",
   "metadata": {},
   "outputs": [],
   "source": [
    "fig, axs = plt.subplots(2, 2)\n",
    "axs[0, 0].plot(t, FIR_core)\n",
    "axs[0, 0].set_title('FIR_core')\n",
    "axs[0, 1].plot(t, PD, 'tab:orange')\n",
    "axs[0, 1].set_title('PD')\n",
    "axs[1, 0].plot(t, DML, 'tab:green')\n",
    "axs[1, 0].set_title('DML')\n",
    "axs[1, 1].plot(t, IP, 'tab:red')\n",
    "axs[1, 1].set_title('IP')\n",
    "fig.tight_layout()"
   ]
  }
 ],
 "metadata": {
  "kernelspec": {
   "display_name": "Python 3 (ipykernel)",
   "language": "python",
   "name": "python3"
  },
  "language_info": {
   "codemirror_mode": {
    "name": "ipython",
    "version": 3
   },
   "file_extension": ".py",
   "mimetype": "text/x-python",
   "name": "python",
   "nbconvert_exporter": "python",
   "pygments_lexer": "ipython3",
   "version": "3.11.5"
  }
 },
 "nbformat": 4,
 "nbformat_minor": 5
}
