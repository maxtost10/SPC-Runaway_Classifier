{
 "cells": [
  {
   "cell_type": "code",
   "execution_count": 1,
   "id": "03190fec",
   "metadata": {},
   "outputs": [],
   "source": [
    "import numpy as np\n",
    "import matplotlib.pyplot as plt\n",
    "import pandas as pd\n",
    "\n",
    "from load_json import *\n",
    "from PDF import *"
   ]
  },
  {
   "cell_type": "code",
   "execution_count": 2,
   "id": "7d52c34d",
   "metadata": {},
   "outputs": [],
   "source": [
    "# Loading disruption data\n",
    "path_disr = 'Data\\DB_TCV_DISR.json'\n",
    "data_disr = load_json(path_disr)"
   ]
  },
  {
   "cell_type": "code",
   "execution_count": 4,
   "id": "3de5cbdf",
   "metadata": {},
   "outputs": [],
   "source": [
    "# Loading shot data\n",
    "path_shot = 'Data\\TCV_DATAno63847.parquet'\n",
    "data_shot = pd.read_parquet(path_shot, engine='fastparquet')"
   ]
  },
  {
   "cell_type": "code",
   "execution_count": 6,
   "id": "1b1594ab",
   "metadata": {},
   "outputs": [
    {
     "data": {
      "text/plain": [
       "Index(['time', 'FIR_core', 'PD', 'DML', 'IP'], dtype='object')"
      ]
     },
     "execution_count": 6,
     "metadata": {},
     "output_type": "execute_result"
    }
   ],
   "source": [
    "t = data_shot['time']\n",
    "FIR_core = data_shot['FIR_core']\n",
    "PD = data_shot['PD']\n",
    "DML = data_shot['DML']\n",
    "IP = data_shot['IP']\n",
    "data_shot.keys()"
   ]
  },
  {
   "cell_type": "code",
   "execution_count": null,
   "id": "7a9d764f",
   "metadata": {},
   "outputs": [],
   "source": []
  },
  {
   "cell_type": "code",
   "execution_count": null,
   "id": "1ec47cc6",
   "metadata": {},
   "outputs": [],
   "source": []
  },
  {
   "cell_type": "code",
   "execution_count": null,
   "id": "4d799bfb",
   "metadata": {},
   "outputs": [],
   "source": []
  },
  {
   "cell_type": "code",
   "execution_count": 12,
   "id": "a82f9829",
   "metadata": {},
   "outputs": [],
   "source": [
    "IP_segments = data_disr['no63847']['Discharge']['IP_segments']\n",
    "#print_dict_structure(IP_segments, 2)\n",
    "Ramp_up = IP_segments['Ramp_up']\n",
    "Flat_top = IP_segments['Flat_top']\n",
    "Ramp_down = IP_segments['Ramp_down']\n",
    "#plt.plot(Ramp_up)\n",
    "#plt.plot(Flat_top)\n",
    "#plt.plot(Ramp_down)"
   ]
  },
  {
   "cell_type": "code",
   "execution_count": 13,
   "id": "fc95315f",
   "metadata": {},
   "outputs": [
    {
     "data": {
      "text/plain": [
       "[0.017399998807907102, 0.1050999988079071]"
      ]
     },
     "execution_count": 13,
     "metadata": {},
     "output_type": "execute_result"
    }
   ],
   "source": [
    "Ramp_up"
   ]
  },
  {
   "cell_type": "code",
   "execution_count": null,
   "id": "cb8bef12",
   "metadata": {},
   "outputs": [],
   "source": [
    "Flat_top"
   ]
  },
  {
   "cell_type": "code",
   "execution_count": null,
   "id": "07d04ec3",
   "metadata": {},
   "outputs": [],
   "source": [
    "Ramp_down"
   ]
  },
  {
   "cell_type": "code",
   "execution_count": null,
   "id": "fa924f6f",
   "metadata": {},
   "outputs": [],
   "source": [
    "print_dict_structure(data_disr)"
   ]
  },
  {
   "cell_type": "code",
   "execution_count": 15,
   "id": "6f71e5e0",
   "metadata": {},
   "outputs": [
    {
     "data": {
      "text/plain": [
       "1.7362001192092895"
      ]
     },
     "execution_count": 15,
     "metadata": {},
     "output_type": "execute_result"
    }
   ],
   "source": [
    "data_disr['no63847']['Disruptions']['tD']"
   ]
  },
  {
   "cell_type": "code",
   "execution_count": null,
   "id": "18d0e403",
   "metadata": {},
   "outputs": [],
   "source": [
    "fig, axs = plt.subplots(2, 2)\n",
    "axs[0, 0].plot(t, FIR_core)\n",
    "axs[0, 0].set_title('FIR_core')\n",
    "axs[0, 1].plot(t, PD, 'tab:orange')\n",
    "axs[0, 1].set_title('PD')\n",
    "axs[1, 0].plot(t, DML, 'tab:green')\n",
    "axs[1, 0].set_title('DML')\n",
    "axs[1, 1].plot(t, IP, 'tab:red')\n",
    "axs[1, 1].set_title('IP')\n",
    "fig.tight_layout()"
   ]
  }
 ],
 "metadata": {
  "kernelspec": {
   "display_name": "Python 3 (ipykernel)",
   "language": "python",
   "name": "python3"
  },
  "language_info": {
   "codemirror_mode": {
    "name": "ipython",
    "version": 3
   },
   "file_extension": ".py",
   "mimetype": "text/x-python",
   "name": "python",
   "nbconvert_exporter": "python",
   "pygments_lexer": "ipython3",
   "version": "3.11.5"
  }
 },
 "nbformat": 4,
 "nbformat_minor": 5
}
